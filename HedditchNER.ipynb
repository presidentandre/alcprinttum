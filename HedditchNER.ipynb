{
  "nbformat": 4,
  "nbformat_minor": 0,
  "metadata": {
    "colab": {
      "provenance": [],
      "toc_visible": true
    },
    "kernelspec": {
      "name": "python3",
      "display_name": "Python 3"
    },
    "language_info": {
      "name": "python"
    },
    "widgets": {
      "application/vnd.jupyter.widget-state+json": {
        "1af89151a1c248e3bf2e3cdf1607ad73": {
          "model_module": "@jupyter-widgets/controls",
          "model_name": "HBoxModel",
          "model_module_version": "1.5.0",
          "state": {
            "_dom_classes": [],
            "_model_module": "@jupyter-widgets/controls",
            "_model_module_version": "1.5.0",
            "_model_name": "HBoxModel",
            "_view_count": null,
            "_view_module": "@jupyter-widgets/controls",
            "_view_module_version": "1.5.0",
            "_view_name": "HBoxView",
            "box_style": "",
            "children": [
              "IPY_MODEL_64446431b4b149a69151a4f29cc84798",
              "IPY_MODEL_d2d5df47ac8d4c7a9417d5e302e01ca2",
              "IPY_MODEL_4e8bb9305c234e22b508b0e2f2314c1f"
            ],
            "layout": "IPY_MODEL_cd0dce6a6b4448dcad60d0d03762c225"
          }
        },
        "64446431b4b149a69151a4f29cc84798": {
          "model_module": "@jupyter-widgets/controls",
          "model_name": "HTMLModel",
          "model_module_version": "1.5.0",
          "state": {
            "_dom_classes": [],
            "_model_module": "@jupyter-widgets/controls",
            "_model_module_version": "1.5.0",
            "_model_name": "HTMLModel",
            "_view_count": null,
            "_view_module": "@jupyter-widgets/controls",
            "_view_module_version": "1.5.0",
            "_view_name": "HTMLView",
            "description": "",
            "description_tooltip": null,
            "layout": "IPY_MODEL_90d2ca6b2ff14312ad36067bbd59c56b",
            "placeholder": "​",
            "style": "IPY_MODEL_89188d95200243499558a87b927a80d6",
            "value": "Downloading: 100%"
          }
        },
        "d2d5df47ac8d4c7a9417d5e302e01ca2": {
          "model_module": "@jupyter-widgets/controls",
          "model_name": "FloatProgressModel",
          "model_module_version": "1.5.0",
          "state": {
            "_dom_classes": [],
            "_model_module": "@jupyter-widgets/controls",
            "_model_module_version": "1.5.0",
            "_model_name": "FloatProgressModel",
            "_view_count": null,
            "_view_module": "@jupyter-widgets/controls",
            "_view_module_version": "1.5.0",
            "_view_name": "ProgressView",
            "bar_style": "success",
            "description": "",
            "description_tooltip": null,
            "layout": "IPY_MODEL_14cb8f42bb024c799cb9a4b8d9b01657",
            "max": 1331379415,
            "min": 0,
            "orientation": "horizontal",
            "style": "IPY_MODEL_19f4858f7f95457588ac21a646e5e9a2",
            "value": 1331379415
          }
        },
        "4e8bb9305c234e22b508b0e2f2314c1f": {
          "model_module": "@jupyter-widgets/controls",
          "model_name": "HTMLModel",
          "model_module_version": "1.5.0",
          "state": {
            "_dom_classes": [],
            "_model_module": "@jupyter-widgets/controls",
            "_model_module_version": "1.5.0",
            "_model_name": "HTMLModel",
            "_view_count": null,
            "_view_module": "@jupyter-widgets/controls",
            "_view_module_version": "1.5.0",
            "_view_name": "HTMLView",
            "description": "",
            "description_tooltip": null,
            "layout": "IPY_MODEL_df684fc2e6dc47058297a1868894839b",
            "placeholder": "​",
            "style": "IPY_MODEL_ae515ad5ed09479bb93b1a939b9f38f5",
            "value": " 1.33G/1.33G [00:36&lt;00:00, 44.8MB/s]"
          }
        },
        "cd0dce6a6b4448dcad60d0d03762c225": {
          "model_module": "@jupyter-widgets/base",
          "model_name": "LayoutModel",
          "model_module_version": "1.2.0",
          "state": {
            "_model_module": "@jupyter-widgets/base",
            "_model_module_version": "1.2.0",
            "_model_name": "LayoutModel",
            "_view_count": null,
            "_view_module": "@jupyter-widgets/base",
            "_view_module_version": "1.2.0",
            "_view_name": "LayoutView",
            "align_content": null,
            "align_items": null,
            "align_self": null,
            "border": null,
            "bottom": null,
            "display": null,
            "flex": null,
            "flex_flow": null,
            "grid_area": null,
            "grid_auto_columns": null,
            "grid_auto_flow": null,
            "grid_auto_rows": null,
            "grid_column": null,
            "grid_gap": null,
            "grid_row": null,
            "grid_template_areas": null,
            "grid_template_columns": null,
            "grid_template_rows": null,
            "height": null,
            "justify_content": null,
            "justify_items": null,
            "left": null,
            "margin": null,
            "max_height": null,
            "max_width": null,
            "min_height": null,
            "min_width": null,
            "object_fit": null,
            "object_position": null,
            "order": null,
            "overflow": null,
            "overflow_x": null,
            "overflow_y": null,
            "padding": null,
            "right": null,
            "top": null,
            "visibility": null,
            "width": null
          }
        },
        "90d2ca6b2ff14312ad36067bbd59c56b": {
          "model_module": "@jupyter-widgets/base",
          "model_name": "LayoutModel",
          "model_module_version": "1.2.0",
          "state": {
            "_model_module": "@jupyter-widgets/base",
            "_model_module_version": "1.2.0",
            "_model_name": "LayoutModel",
            "_view_count": null,
            "_view_module": "@jupyter-widgets/base",
            "_view_module_version": "1.2.0",
            "_view_name": "LayoutView",
            "align_content": null,
            "align_items": null,
            "align_self": null,
            "border": null,
            "bottom": null,
            "display": null,
            "flex": null,
            "flex_flow": null,
            "grid_area": null,
            "grid_auto_columns": null,
            "grid_auto_flow": null,
            "grid_auto_rows": null,
            "grid_column": null,
            "grid_gap": null,
            "grid_row": null,
            "grid_template_areas": null,
            "grid_template_columns": null,
            "grid_template_rows": null,
            "height": null,
            "justify_content": null,
            "justify_items": null,
            "left": null,
            "margin": null,
            "max_height": null,
            "max_width": null,
            "min_height": null,
            "min_width": null,
            "object_fit": null,
            "object_position": null,
            "order": null,
            "overflow": null,
            "overflow_x": null,
            "overflow_y": null,
            "padding": null,
            "right": null,
            "top": null,
            "visibility": null,
            "width": null
          }
        },
        "89188d95200243499558a87b927a80d6": {
          "model_module": "@jupyter-widgets/controls",
          "model_name": "DescriptionStyleModel",
          "model_module_version": "1.5.0",
          "state": {
            "_model_module": "@jupyter-widgets/controls",
            "_model_module_version": "1.5.0",
            "_model_name": "DescriptionStyleModel",
            "_view_count": null,
            "_view_module": "@jupyter-widgets/base",
            "_view_module_version": "1.2.0",
            "_view_name": "StyleView",
            "description_width": ""
          }
        },
        "14cb8f42bb024c799cb9a4b8d9b01657": {
          "model_module": "@jupyter-widgets/base",
          "model_name": "LayoutModel",
          "model_module_version": "1.2.0",
          "state": {
            "_model_module": "@jupyter-widgets/base",
            "_model_module_version": "1.2.0",
            "_model_name": "LayoutModel",
            "_view_count": null,
            "_view_module": "@jupyter-widgets/base",
            "_view_module_version": "1.2.0",
            "_view_name": "LayoutView",
            "align_content": null,
            "align_items": null,
            "align_self": null,
            "border": null,
            "bottom": null,
            "display": null,
            "flex": null,
            "flex_flow": null,
            "grid_area": null,
            "grid_auto_columns": null,
            "grid_auto_flow": null,
            "grid_auto_rows": null,
            "grid_column": null,
            "grid_gap": null,
            "grid_row": null,
            "grid_template_areas": null,
            "grid_template_columns": null,
            "grid_template_rows": null,
            "height": null,
            "justify_content": null,
            "justify_items": null,
            "left": null,
            "margin": null,
            "max_height": null,
            "max_width": null,
            "min_height": null,
            "min_width": null,
            "object_fit": null,
            "object_position": null,
            "order": null,
            "overflow": null,
            "overflow_x": null,
            "overflow_y": null,
            "padding": null,
            "right": null,
            "top": null,
            "visibility": null,
            "width": null
          }
        },
        "19f4858f7f95457588ac21a646e5e9a2": {
          "model_module": "@jupyter-widgets/controls",
          "model_name": "ProgressStyleModel",
          "model_module_version": "1.5.0",
          "state": {
            "_model_module": "@jupyter-widgets/controls",
            "_model_module_version": "1.5.0",
            "_model_name": "ProgressStyleModel",
            "_view_count": null,
            "_view_module": "@jupyter-widgets/base",
            "_view_module_version": "1.2.0",
            "_view_name": "StyleView",
            "bar_color": null,
            "description_width": ""
          }
        },
        "df684fc2e6dc47058297a1868894839b": {
          "model_module": "@jupyter-widgets/base",
          "model_name": "LayoutModel",
          "model_module_version": "1.2.0",
          "state": {
            "_model_module": "@jupyter-widgets/base",
            "_model_module_version": "1.2.0",
            "_model_name": "LayoutModel",
            "_view_count": null,
            "_view_module": "@jupyter-widgets/base",
            "_view_module_version": "1.2.0",
            "_view_name": "LayoutView",
            "align_content": null,
            "align_items": null,
            "align_self": null,
            "border": null,
            "bottom": null,
            "display": null,
            "flex": null,
            "flex_flow": null,
            "grid_area": null,
            "grid_auto_columns": null,
            "grid_auto_flow": null,
            "grid_auto_rows": null,
            "grid_column": null,
            "grid_gap": null,
            "grid_row": null,
            "grid_template_areas": null,
            "grid_template_columns": null,
            "grid_template_rows": null,
            "height": null,
            "justify_content": null,
            "justify_items": null,
            "left": null,
            "margin": null,
            "max_height": null,
            "max_width": null,
            "min_height": null,
            "min_width": null,
            "object_fit": null,
            "object_position": null,
            "order": null,
            "overflow": null,
            "overflow_x": null,
            "overflow_y": null,
            "padding": null,
            "right": null,
            "top": null,
            "visibility": null,
            "width": null
          }
        },
        "ae515ad5ed09479bb93b1a939b9f38f5": {
          "model_module": "@jupyter-widgets/controls",
          "model_name": "DescriptionStyleModel",
          "model_module_version": "1.5.0",
          "state": {
            "_model_module": "@jupyter-widgets/controls",
            "_model_module_version": "1.5.0",
            "_model_name": "DescriptionStyleModel",
            "_view_count": null,
            "_view_module": "@jupyter-widgets/base",
            "_view_module_version": "1.2.0",
            "_view_name": "StyleView",
            "description_width": ""
          }
        },
        "d2601b29de73415280bbf6d943441f2f": {
          "model_module": "@jupyter-widgets/controls",
          "model_name": "HBoxModel",
          "model_module_version": "1.5.0",
          "state": {
            "_dom_classes": [],
            "_model_module": "@jupyter-widgets/controls",
            "_model_module_version": "1.5.0",
            "_model_name": "HBoxModel",
            "_view_count": null,
            "_view_module": "@jupyter-widgets/controls",
            "_view_module_version": "1.5.0",
            "_view_name": "HBoxView",
            "box_style": "",
            "children": [
              "IPY_MODEL_12419c15cd974763ab3dc87e5f8353cb",
              "IPY_MODEL_496910e10d18483db9e4b612271ee179",
              "IPY_MODEL_6b64f052c01f474aa267f7f0a072c209"
            ],
            "layout": "IPY_MODEL_0a3cb5483d854268a8e82959784435fe"
          }
        },
        "12419c15cd974763ab3dc87e5f8353cb": {
          "model_module": "@jupyter-widgets/controls",
          "model_name": "HTMLModel",
          "model_module_version": "1.5.0",
          "state": {
            "_dom_classes": [],
            "_model_module": "@jupyter-widgets/controls",
            "_model_module_version": "1.5.0",
            "_model_name": "HTMLModel",
            "_view_count": null,
            "_view_module": "@jupyter-widgets/controls",
            "_view_module_version": "1.5.0",
            "_view_name": "HTMLView",
            "description": "",
            "description_tooltip": null,
            "layout": "IPY_MODEL_6dcde1ba680247918bef0cc026ac4001",
            "placeholder": "​",
            "style": "IPY_MODEL_4db938acc8444260a3456e34cdc187f8",
            "value": "Downloading: 100%"
          }
        },
        "496910e10d18483db9e4b612271ee179": {
          "model_module": "@jupyter-widgets/controls",
          "model_name": "FloatProgressModel",
          "model_module_version": "1.5.0",
          "state": {
            "_dom_classes": [],
            "_model_module": "@jupyter-widgets/controls",
            "_model_module_version": "1.5.0",
            "_model_name": "FloatProgressModel",
            "_view_count": null,
            "_view_module": "@jupyter-widgets/controls",
            "_view_module_version": "1.5.0",
            "_view_name": "ProgressView",
            "bar_style": "success",
            "description": "",
            "description_tooltip": null,
            "layout": "IPY_MODEL_b48dd3a69dc3468199333525b0276278",
            "max": 59,
            "min": 0,
            "orientation": "horizontal",
            "style": "IPY_MODEL_8162b11362004c90804fecf9c4f2fc84",
            "value": 59
          }
        },
        "6b64f052c01f474aa267f7f0a072c209": {
          "model_module": "@jupyter-widgets/controls",
          "model_name": "HTMLModel",
          "model_module_version": "1.5.0",
          "state": {
            "_dom_classes": [],
            "_model_module": "@jupyter-widgets/controls",
            "_model_module_version": "1.5.0",
            "_model_name": "HTMLModel",
            "_view_count": null,
            "_view_module": "@jupyter-widgets/controls",
            "_view_module_version": "1.5.0",
            "_view_name": "HTMLView",
            "description": "",
            "description_tooltip": null,
            "layout": "IPY_MODEL_5a76d9c9df2944998cf2d38922553a7b",
            "placeholder": "​",
            "style": "IPY_MODEL_d0afde2d873940e38f8a3cdf0d898838",
            "value": " 59.0/59.0 [00:00&lt;00:00, 376B/s]"
          }
        },
        "0a3cb5483d854268a8e82959784435fe": {
          "model_module": "@jupyter-widgets/base",
          "model_name": "LayoutModel",
          "model_module_version": "1.2.0",
          "state": {
            "_model_module": "@jupyter-widgets/base",
            "_model_module_version": "1.2.0",
            "_model_name": "LayoutModel",
            "_view_count": null,
            "_view_module": "@jupyter-widgets/base",
            "_view_module_version": "1.2.0",
            "_view_name": "LayoutView",
            "align_content": null,
            "align_items": null,
            "align_self": null,
            "border": null,
            "bottom": null,
            "display": null,
            "flex": null,
            "flex_flow": null,
            "grid_area": null,
            "grid_auto_columns": null,
            "grid_auto_flow": null,
            "grid_auto_rows": null,
            "grid_column": null,
            "grid_gap": null,
            "grid_row": null,
            "grid_template_areas": null,
            "grid_template_columns": null,
            "grid_template_rows": null,
            "height": null,
            "justify_content": null,
            "justify_items": null,
            "left": null,
            "margin": null,
            "max_height": null,
            "max_width": null,
            "min_height": null,
            "min_width": null,
            "object_fit": null,
            "object_position": null,
            "order": null,
            "overflow": null,
            "overflow_x": null,
            "overflow_y": null,
            "padding": null,
            "right": null,
            "top": null,
            "visibility": null,
            "width": null
          }
        },
        "6dcde1ba680247918bef0cc026ac4001": {
          "model_module": "@jupyter-widgets/base",
          "model_name": "LayoutModel",
          "model_module_version": "1.2.0",
          "state": {
            "_model_module": "@jupyter-widgets/base",
            "_model_module_version": "1.2.0",
            "_model_name": "LayoutModel",
            "_view_count": null,
            "_view_module": "@jupyter-widgets/base",
            "_view_module_version": "1.2.0",
            "_view_name": "LayoutView",
            "align_content": null,
            "align_items": null,
            "align_self": null,
            "border": null,
            "bottom": null,
            "display": null,
            "flex": null,
            "flex_flow": null,
            "grid_area": null,
            "grid_auto_columns": null,
            "grid_auto_flow": null,
            "grid_auto_rows": null,
            "grid_column": null,
            "grid_gap": null,
            "grid_row": null,
            "grid_template_areas": null,
            "grid_template_columns": null,
            "grid_template_rows": null,
            "height": null,
            "justify_content": null,
            "justify_items": null,
            "left": null,
            "margin": null,
            "max_height": null,
            "max_width": null,
            "min_height": null,
            "min_width": null,
            "object_fit": null,
            "object_position": null,
            "order": null,
            "overflow": null,
            "overflow_x": null,
            "overflow_y": null,
            "padding": null,
            "right": null,
            "top": null,
            "visibility": null,
            "width": null
          }
        },
        "4db938acc8444260a3456e34cdc187f8": {
          "model_module": "@jupyter-widgets/controls",
          "model_name": "DescriptionStyleModel",
          "model_module_version": "1.5.0",
          "state": {
            "_model_module": "@jupyter-widgets/controls",
            "_model_module_version": "1.5.0",
            "_model_name": "DescriptionStyleModel",
            "_view_count": null,
            "_view_module": "@jupyter-widgets/base",
            "_view_module_version": "1.2.0",
            "_view_name": "StyleView",
            "description_width": ""
          }
        },
        "b48dd3a69dc3468199333525b0276278": {
          "model_module": "@jupyter-widgets/base",
          "model_name": "LayoutModel",
          "model_module_version": "1.2.0",
          "state": {
            "_model_module": "@jupyter-widgets/base",
            "_model_module_version": "1.2.0",
            "_model_name": "LayoutModel",
            "_view_count": null,
            "_view_module": "@jupyter-widgets/base",
            "_view_module_version": "1.2.0",
            "_view_name": "LayoutView",
            "align_content": null,
            "align_items": null,
            "align_self": null,
            "border": null,
            "bottom": null,
            "display": null,
            "flex": null,
            "flex_flow": null,
            "grid_area": null,
            "grid_auto_columns": null,
            "grid_auto_flow": null,
            "grid_auto_rows": null,
            "grid_column": null,
            "grid_gap": null,
            "grid_row": null,
            "grid_template_areas": null,
            "grid_template_columns": null,
            "grid_template_rows": null,
            "height": null,
            "justify_content": null,
            "justify_items": null,
            "left": null,
            "margin": null,
            "max_height": null,
            "max_width": null,
            "min_height": null,
            "min_width": null,
            "object_fit": null,
            "object_position": null,
            "order": null,
            "overflow": null,
            "overflow_x": null,
            "overflow_y": null,
            "padding": null,
            "right": null,
            "top": null,
            "visibility": null,
            "width": null
          }
        },
        "8162b11362004c90804fecf9c4f2fc84": {
          "model_module": "@jupyter-widgets/controls",
          "model_name": "ProgressStyleModel",
          "model_module_version": "1.5.0",
          "state": {
            "_model_module": "@jupyter-widgets/controls",
            "_model_module_version": "1.5.0",
            "_model_name": "ProgressStyleModel",
            "_view_count": null,
            "_view_module": "@jupyter-widgets/base",
            "_view_module_version": "1.2.0",
            "_view_name": "StyleView",
            "bar_color": null,
            "description_width": ""
          }
        },
        "5a76d9c9df2944998cf2d38922553a7b": {
          "model_module": "@jupyter-widgets/base",
          "model_name": "LayoutModel",
          "model_module_version": "1.2.0",
          "state": {
            "_model_module": "@jupyter-widgets/base",
            "_model_module_version": "1.2.0",
            "_model_name": "LayoutModel",
            "_view_count": null,
            "_view_module": "@jupyter-widgets/base",
            "_view_module_version": "1.2.0",
            "_view_name": "LayoutView",
            "align_content": null,
            "align_items": null,
            "align_self": null,
            "border": null,
            "bottom": null,
            "display": null,
            "flex": null,
            "flex_flow": null,
            "grid_area": null,
            "grid_auto_columns": null,
            "grid_auto_flow": null,
            "grid_auto_rows": null,
            "grid_column": null,
            "grid_gap": null,
            "grid_row": null,
            "grid_template_areas": null,
            "grid_template_columns": null,
            "grid_template_rows": null,
            "height": null,
            "justify_content": null,
            "justify_items": null,
            "left": null,
            "margin": null,
            "max_height": null,
            "max_width": null,
            "min_height": null,
            "min_width": null,
            "object_fit": null,
            "object_position": null,
            "order": null,
            "overflow": null,
            "overflow_x": null,
            "overflow_y": null,
            "padding": null,
            "right": null,
            "top": null,
            "visibility": null,
            "width": null
          }
        },
        "d0afde2d873940e38f8a3cdf0d898838": {
          "model_module": "@jupyter-widgets/controls",
          "model_name": "DescriptionStyleModel",
          "model_module_version": "1.5.0",
          "state": {
            "_model_module": "@jupyter-widgets/controls",
            "_model_module_version": "1.5.0",
            "_model_name": "DescriptionStyleModel",
            "_view_count": null,
            "_view_module": "@jupyter-widgets/base",
            "_view_module_version": "1.2.0",
            "_view_name": "StyleView",
            "description_width": ""
          }
        },
        "4980fc7cece34eef9dbdee9ffa91671b": {
          "model_module": "@jupyter-widgets/controls",
          "model_name": "HBoxModel",
          "model_module_version": "1.5.0",
          "state": {
            "_dom_classes": [],
            "_model_module": "@jupyter-widgets/controls",
            "_model_module_version": "1.5.0",
            "_model_name": "HBoxModel",
            "_view_count": null,
            "_view_module": "@jupyter-widgets/controls",
            "_view_module_version": "1.5.0",
            "_view_name": "HBoxView",
            "box_style": "",
            "children": [
              "IPY_MODEL_47ab38e015974644a17cdd16ffd5f0ad",
              "IPY_MODEL_c7116c662a3748a2b7c90ab77dbb1c91",
              "IPY_MODEL_ce79bb6761874518b6255118f48e09c0"
            ],
            "layout": "IPY_MODEL_6ea203dc62364eb99e54bb57035edf1e"
          }
        },
        "47ab38e015974644a17cdd16ffd5f0ad": {
          "model_module": "@jupyter-widgets/controls",
          "model_name": "HTMLModel",
          "model_module_version": "1.5.0",
          "state": {
            "_dom_classes": [],
            "_model_module": "@jupyter-widgets/controls",
            "_model_module_version": "1.5.0",
            "_model_name": "HTMLModel",
            "_view_count": null,
            "_view_module": "@jupyter-widgets/controls",
            "_view_module_version": "1.5.0",
            "_view_name": "HTMLView",
            "description": "",
            "description_tooltip": null,
            "layout": "IPY_MODEL_af4481684a63414c9693940305557db3",
            "placeholder": "​",
            "style": "IPY_MODEL_1ed0cd940505409b986b68bb1051930f",
            "value": "Downloading: 100%"
          }
        },
        "c7116c662a3748a2b7c90ab77dbb1c91": {
          "model_module": "@jupyter-widgets/controls",
          "model_name": "FloatProgressModel",
          "model_module_version": "1.5.0",
          "state": {
            "_dom_classes": [],
            "_model_module": "@jupyter-widgets/controls",
            "_model_module_version": "1.5.0",
            "_model_name": "FloatProgressModel",
            "_view_count": null,
            "_view_module": "@jupyter-widgets/controls",
            "_view_module_version": "1.5.0",
            "_view_name": "ProgressView",
            "bar_style": "success",
            "description": "",
            "description_tooltip": null,
            "layout": "IPY_MODEL_c54d300e629f4b7db8d846194f0545d7",
            "max": 829,
            "min": 0,
            "orientation": "horizontal",
            "style": "IPY_MODEL_5cc5c216dc2946b2999e6770e02be142",
            "value": 829
          }
        },
        "ce79bb6761874518b6255118f48e09c0": {
          "model_module": "@jupyter-widgets/controls",
          "model_name": "HTMLModel",
          "model_module_version": "1.5.0",
          "state": {
            "_dom_classes": [],
            "_model_module": "@jupyter-widgets/controls",
            "_model_module_version": "1.5.0",
            "_model_name": "HTMLModel",
            "_view_count": null,
            "_view_module": "@jupyter-widgets/controls",
            "_view_module_version": "1.5.0",
            "_view_name": "HTMLView",
            "description": "",
            "description_tooltip": null,
            "layout": "IPY_MODEL_6ac0eb41d0b24a4cbbd2d867fc0fad6e",
            "placeholder": "​",
            "style": "IPY_MODEL_02664cb0ea744991aad2a7ae5c85b7a6",
            "value": " 829/829 [00:00&lt;00:00, 4.59kB/s]"
          }
        },
        "6ea203dc62364eb99e54bb57035edf1e": {
          "model_module": "@jupyter-widgets/base",
          "model_name": "LayoutModel",
          "model_module_version": "1.2.0",
          "state": {
            "_model_module": "@jupyter-widgets/base",
            "_model_module_version": "1.2.0",
            "_model_name": "LayoutModel",
            "_view_count": null,
            "_view_module": "@jupyter-widgets/base",
            "_view_module_version": "1.2.0",
            "_view_name": "LayoutView",
            "align_content": null,
            "align_items": null,
            "align_self": null,
            "border": null,
            "bottom": null,
            "display": null,
            "flex": null,
            "flex_flow": null,
            "grid_area": null,
            "grid_auto_columns": null,
            "grid_auto_flow": null,
            "grid_auto_rows": null,
            "grid_column": null,
            "grid_gap": null,
            "grid_row": null,
            "grid_template_areas": null,
            "grid_template_columns": null,
            "grid_template_rows": null,
            "height": null,
            "justify_content": null,
            "justify_items": null,
            "left": null,
            "margin": null,
            "max_height": null,
            "max_width": null,
            "min_height": null,
            "min_width": null,
            "object_fit": null,
            "object_position": null,
            "order": null,
            "overflow": null,
            "overflow_x": null,
            "overflow_y": null,
            "padding": null,
            "right": null,
            "top": null,
            "visibility": null,
            "width": null
          }
        },
        "af4481684a63414c9693940305557db3": {
          "model_module": "@jupyter-widgets/base",
          "model_name": "LayoutModel",
          "model_module_version": "1.2.0",
          "state": {
            "_model_module": "@jupyter-widgets/base",
            "_model_module_version": "1.2.0",
            "_model_name": "LayoutModel",
            "_view_count": null,
            "_view_module": "@jupyter-widgets/base",
            "_view_module_version": "1.2.0",
            "_view_name": "LayoutView",
            "align_content": null,
            "align_items": null,
            "align_self": null,
            "border": null,
            "bottom": null,
            "display": null,
            "flex": null,
            "flex_flow": null,
            "grid_area": null,
            "grid_auto_columns": null,
            "grid_auto_flow": null,
            "grid_auto_rows": null,
            "grid_column": null,
            "grid_gap": null,
            "grid_row": null,
            "grid_template_areas": null,
            "grid_template_columns": null,
            "grid_template_rows": null,
            "height": null,
            "justify_content": null,
            "justify_items": null,
            "left": null,
            "margin": null,
            "max_height": null,
            "max_width": null,
            "min_height": null,
            "min_width": null,
            "object_fit": null,
            "object_position": null,
            "order": null,
            "overflow": null,
            "overflow_x": null,
            "overflow_y": null,
            "padding": null,
            "right": null,
            "top": null,
            "visibility": null,
            "width": null
          }
        },
        "1ed0cd940505409b986b68bb1051930f": {
          "model_module": "@jupyter-widgets/controls",
          "model_name": "DescriptionStyleModel",
          "model_module_version": "1.5.0",
          "state": {
            "_model_module": "@jupyter-widgets/controls",
            "_model_module_version": "1.5.0",
            "_model_name": "DescriptionStyleModel",
            "_view_count": null,
            "_view_module": "@jupyter-widgets/base",
            "_view_module_version": "1.2.0",
            "_view_name": "StyleView",
            "description_width": ""
          }
        },
        "c54d300e629f4b7db8d846194f0545d7": {
          "model_module": "@jupyter-widgets/base",
          "model_name": "LayoutModel",
          "model_module_version": "1.2.0",
          "state": {
            "_model_module": "@jupyter-widgets/base",
            "_model_module_version": "1.2.0",
            "_model_name": "LayoutModel",
            "_view_count": null,
            "_view_module": "@jupyter-widgets/base",
            "_view_module_version": "1.2.0",
            "_view_name": "LayoutView",
            "align_content": null,
            "align_items": null,
            "align_self": null,
            "border": null,
            "bottom": null,
            "display": null,
            "flex": null,
            "flex_flow": null,
            "grid_area": null,
            "grid_auto_columns": null,
            "grid_auto_flow": null,
            "grid_auto_rows": null,
            "grid_column": null,
            "grid_gap": null,
            "grid_row": null,
            "grid_template_areas": null,
            "grid_template_columns": null,
            "grid_template_rows": null,
            "height": null,
            "justify_content": null,
            "justify_items": null,
            "left": null,
            "margin": null,
            "max_height": null,
            "max_width": null,
            "min_height": null,
            "min_width": null,
            "object_fit": null,
            "object_position": null,
            "order": null,
            "overflow": null,
            "overflow_x": null,
            "overflow_y": null,
            "padding": null,
            "right": null,
            "top": null,
            "visibility": null,
            "width": null
          }
        },
        "5cc5c216dc2946b2999e6770e02be142": {
          "model_module": "@jupyter-widgets/controls",
          "model_name": "ProgressStyleModel",
          "model_module_version": "1.5.0",
          "state": {
            "_model_module": "@jupyter-widgets/controls",
            "_model_module_version": "1.5.0",
            "_model_name": "ProgressStyleModel",
            "_view_count": null,
            "_view_module": "@jupyter-widgets/base",
            "_view_module_version": "1.2.0",
            "_view_name": "StyleView",
            "bar_color": null,
            "description_width": ""
          }
        },
        "6ac0eb41d0b24a4cbbd2d867fc0fad6e": {
          "model_module": "@jupyter-widgets/base",
          "model_name": "LayoutModel",
          "model_module_version": "1.2.0",
          "state": {
            "_model_module": "@jupyter-widgets/base",
            "_model_module_version": "1.2.0",
            "_model_name": "LayoutModel",
            "_view_count": null,
            "_view_module": "@jupyter-widgets/base",
            "_view_module_version": "1.2.0",
            "_view_name": "LayoutView",
            "align_content": null,
            "align_items": null,
            "align_self": null,
            "border": null,
            "bottom": null,
            "display": null,
            "flex": null,
            "flex_flow": null,
            "grid_area": null,
            "grid_auto_columns": null,
            "grid_auto_flow": null,
            "grid_auto_rows": null,
            "grid_column": null,
            "grid_gap": null,
            "grid_row": null,
            "grid_template_areas": null,
            "grid_template_columns": null,
            "grid_template_rows": null,
            "height": null,
            "justify_content": null,
            "justify_items": null,
            "left": null,
            "margin": null,
            "max_height": null,
            "max_width": null,
            "min_height": null,
            "min_width": null,
            "object_fit": null,
            "object_position": null,
            "order": null,
            "overflow": null,
            "overflow_x": null,
            "overflow_y": null,
            "padding": null,
            "right": null,
            "top": null,
            "visibility": null,
            "width": null
          }
        },
        "02664cb0ea744991aad2a7ae5c85b7a6": {
          "model_module": "@jupyter-widgets/controls",
          "model_name": "DescriptionStyleModel",
          "model_module_version": "1.5.0",
          "state": {
            "_model_module": "@jupyter-widgets/controls",
            "_model_module_version": "1.5.0",
            "_model_name": "DescriptionStyleModel",
            "_view_count": null,
            "_view_module": "@jupyter-widgets/base",
            "_view_module_version": "1.2.0",
            "_view_name": "StyleView",
            "description_width": ""
          }
        },
        "ad85fb8b37e044fbb153d08fb99a85c7": {
          "model_module": "@jupyter-widgets/controls",
          "model_name": "HBoxModel",
          "model_module_version": "1.5.0",
          "state": {
            "_dom_classes": [],
            "_model_module": "@jupyter-widgets/controls",
            "_model_module_version": "1.5.0",
            "_model_name": "HBoxModel",
            "_view_count": null,
            "_view_module": "@jupyter-widgets/controls",
            "_view_module_version": "1.5.0",
            "_view_name": "HBoxView",
            "box_style": "",
            "children": [
              "IPY_MODEL_cef40722d53743afaf4f606cc7fcfe5a",
              "IPY_MODEL_d5fe0bcac36a438f8ae3f930b29190bf",
              "IPY_MODEL_967fe531c40948bba78d7d0b2f7045af"
            ],
            "layout": "IPY_MODEL_9f60f4de889248e9bbace4dcba44325f"
          }
        },
        "cef40722d53743afaf4f606cc7fcfe5a": {
          "model_module": "@jupyter-widgets/controls",
          "model_name": "HTMLModel",
          "model_module_version": "1.5.0",
          "state": {
            "_dom_classes": [],
            "_model_module": "@jupyter-widgets/controls",
            "_model_module_version": "1.5.0",
            "_model_name": "HTMLModel",
            "_view_count": null,
            "_view_module": "@jupyter-widgets/controls",
            "_view_module_version": "1.5.0",
            "_view_name": "HTMLView",
            "description": "",
            "description_tooltip": null,
            "layout": "IPY_MODEL_68f243d1fd244d80b47e3dca6a0e39d3",
            "placeholder": "​",
            "style": "IPY_MODEL_f4cce5df31c64f4ab9f05015b2e91aed",
            "value": "Downloading: 100%"
          }
        },
        "d5fe0bcac36a438f8ae3f930b29190bf": {
          "model_module": "@jupyter-widgets/controls",
          "model_name": "FloatProgressModel",
          "model_module_version": "1.5.0",
          "state": {
            "_dom_classes": [],
            "_model_module": "@jupyter-widgets/controls",
            "_model_module_version": "1.5.0",
            "_model_name": "FloatProgressModel",
            "_view_count": null,
            "_view_module": "@jupyter-widgets/controls",
            "_view_module_version": "1.5.0",
            "_view_name": "ProgressView",
            "bar_style": "success",
            "description": "",
            "description_tooltip": null,
            "layout": "IPY_MODEL_04c45a53ebbb4011b3bade1273e4072b",
            "max": 213450,
            "min": 0,
            "orientation": "horizontal",
            "style": "IPY_MODEL_e26f58e074cc459089f21508fed463c7",
            "value": 213450
          }
        },
        "967fe531c40948bba78d7d0b2f7045af": {
          "model_module": "@jupyter-widgets/controls",
          "model_name": "HTMLModel",
          "model_module_version": "1.5.0",
          "state": {
            "_dom_classes": [],
            "_model_module": "@jupyter-widgets/controls",
            "_model_module_version": "1.5.0",
            "_model_name": "HTMLModel",
            "_view_count": null,
            "_view_module": "@jupyter-widgets/controls",
            "_view_module_version": "1.5.0",
            "_view_name": "HTMLView",
            "description": "",
            "description_tooltip": null,
            "layout": "IPY_MODEL_b40b1dc02a3a43c1b66172308cb4154c",
            "placeholder": "​",
            "style": "IPY_MODEL_cb51f686087d4f729958d36fe8ad793a",
            "value": " 208k/208k [00:00&lt;00:00, 8.66kB/s]"
          }
        },
        "9f60f4de889248e9bbace4dcba44325f": {
          "model_module": "@jupyter-widgets/base",
          "model_name": "LayoutModel",
          "model_module_version": "1.2.0",
          "state": {
            "_model_module": "@jupyter-widgets/base",
            "_model_module_version": "1.2.0",
            "_model_name": "LayoutModel",
            "_view_count": null,
            "_view_module": "@jupyter-widgets/base",
            "_view_module_version": "1.2.0",
            "_view_name": "LayoutView",
            "align_content": null,
            "align_items": null,
            "align_self": null,
            "border": null,
            "bottom": null,
            "display": null,
            "flex": null,
            "flex_flow": null,
            "grid_area": null,
            "grid_auto_columns": null,
            "grid_auto_flow": null,
            "grid_auto_rows": null,
            "grid_column": null,
            "grid_gap": null,
            "grid_row": null,
            "grid_template_areas": null,
            "grid_template_columns": null,
            "grid_template_rows": null,
            "height": null,
            "justify_content": null,
            "justify_items": null,
            "left": null,
            "margin": null,
            "max_height": null,
            "max_width": null,
            "min_height": null,
            "min_width": null,
            "object_fit": null,
            "object_position": null,
            "order": null,
            "overflow": null,
            "overflow_x": null,
            "overflow_y": null,
            "padding": null,
            "right": null,
            "top": null,
            "visibility": null,
            "width": null
          }
        },
        "68f243d1fd244d80b47e3dca6a0e39d3": {
          "model_module": "@jupyter-widgets/base",
          "model_name": "LayoutModel",
          "model_module_version": "1.2.0",
          "state": {
            "_model_module": "@jupyter-widgets/base",
            "_model_module_version": "1.2.0",
            "_model_name": "LayoutModel",
            "_view_count": null,
            "_view_module": "@jupyter-widgets/base",
            "_view_module_version": "1.2.0",
            "_view_name": "LayoutView",
            "align_content": null,
            "align_items": null,
            "align_self": null,
            "border": null,
            "bottom": null,
            "display": null,
            "flex": null,
            "flex_flow": null,
            "grid_area": null,
            "grid_auto_columns": null,
            "grid_auto_flow": null,
            "grid_auto_rows": null,
            "grid_column": null,
            "grid_gap": null,
            "grid_row": null,
            "grid_template_areas": null,
            "grid_template_columns": null,
            "grid_template_rows": null,
            "height": null,
            "justify_content": null,
            "justify_items": null,
            "left": null,
            "margin": null,
            "max_height": null,
            "max_width": null,
            "min_height": null,
            "min_width": null,
            "object_fit": null,
            "object_position": null,
            "order": null,
            "overflow": null,
            "overflow_x": null,
            "overflow_y": null,
            "padding": null,
            "right": null,
            "top": null,
            "visibility": null,
            "width": null
          }
        },
        "f4cce5df31c64f4ab9f05015b2e91aed": {
          "model_module": "@jupyter-widgets/controls",
          "model_name": "DescriptionStyleModel",
          "model_module_version": "1.5.0",
          "state": {
            "_model_module": "@jupyter-widgets/controls",
            "_model_module_version": "1.5.0",
            "_model_name": "DescriptionStyleModel",
            "_view_count": null,
            "_view_module": "@jupyter-widgets/base",
            "_view_module_version": "1.2.0",
            "_view_name": "StyleView",
            "description_width": ""
          }
        },
        "04c45a53ebbb4011b3bade1273e4072b": {
          "model_module": "@jupyter-widgets/base",
          "model_name": "LayoutModel",
          "model_module_version": "1.2.0",
          "state": {
            "_model_module": "@jupyter-widgets/base",
            "_model_module_version": "1.2.0",
            "_model_name": "LayoutModel",
            "_view_count": null,
            "_view_module": "@jupyter-widgets/base",
            "_view_module_version": "1.2.0",
            "_view_name": "LayoutView",
            "align_content": null,
            "align_items": null,
            "align_self": null,
            "border": null,
            "bottom": null,
            "display": null,
            "flex": null,
            "flex_flow": null,
            "grid_area": null,
            "grid_auto_columns": null,
            "grid_auto_flow": null,
            "grid_auto_rows": null,
            "grid_column": null,
            "grid_gap": null,
            "grid_row": null,
            "grid_template_areas": null,
            "grid_template_columns": null,
            "grid_template_rows": null,
            "height": null,
            "justify_content": null,
            "justify_items": null,
            "left": null,
            "margin": null,
            "max_height": null,
            "max_width": null,
            "min_height": null,
            "min_width": null,
            "object_fit": null,
            "object_position": null,
            "order": null,
            "overflow": null,
            "overflow_x": null,
            "overflow_y": null,
            "padding": null,
            "right": null,
            "top": null,
            "visibility": null,
            "width": null
          }
        },
        "e26f58e074cc459089f21508fed463c7": {
          "model_module": "@jupyter-widgets/controls",
          "model_name": "ProgressStyleModel",
          "model_module_version": "1.5.0",
          "state": {
            "_model_module": "@jupyter-widgets/controls",
            "_model_module_version": "1.5.0",
            "_model_name": "ProgressStyleModel",
            "_view_count": null,
            "_view_module": "@jupyter-widgets/base",
            "_view_module_version": "1.2.0",
            "_view_name": "StyleView",
            "bar_color": null,
            "description_width": ""
          }
        },
        "b40b1dc02a3a43c1b66172308cb4154c": {
          "model_module": "@jupyter-widgets/base",
          "model_name": "LayoutModel",
          "model_module_version": "1.2.0",
          "state": {
            "_model_module": "@jupyter-widgets/base",
            "_model_module_version": "1.2.0",
            "_model_name": "LayoutModel",
            "_view_count": null,
            "_view_module": "@jupyter-widgets/base",
            "_view_module_version": "1.2.0",
            "_view_name": "LayoutView",
            "align_content": null,
            "align_items": null,
            "align_self": null,
            "border": null,
            "bottom": null,
            "display": null,
            "flex": null,
            "flex_flow": null,
            "grid_area": null,
            "grid_auto_columns": null,
            "grid_auto_flow": null,
            "grid_auto_rows": null,
            "grid_column": null,
            "grid_gap": null,
            "grid_row": null,
            "grid_template_areas": null,
            "grid_template_columns": null,
            "grid_template_rows": null,
            "height": null,
            "justify_content": null,
            "justify_items": null,
            "left": null,
            "margin": null,
            "max_height": null,
            "max_width": null,
            "min_height": null,
            "min_width": null,
            "object_fit": null,
            "object_position": null,
            "order": null,
            "overflow": null,
            "overflow_x": null,
            "overflow_y": null,
            "padding": null,
            "right": null,
            "top": null,
            "visibility": null,
            "width": null
          }
        },
        "cb51f686087d4f729958d36fe8ad793a": {
          "model_module": "@jupyter-widgets/controls",
          "model_name": "DescriptionStyleModel",
          "model_module_version": "1.5.0",
          "state": {
            "_model_module": "@jupyter-widgets/controls",
            "_model_module_version": "1.5.0",
            "_model_name": "DescriptionStyleModel",
            "_view_count": null,
            "_view_module": "@jupyter-widgets/base",
            "_view_module_version": "1.2.0",
            "_view_name": "StyleView",
            "description_width": ""
          }
        },
        "29fc982ab0704224b1662ff66f74729e": {
          "model_module": "@jupyter-widgets/controls",
          "model_name": "HBoxModel",
          "model_module_version": "1.5.0",
          "state": {
            "_dom_classes": [],
            "_model_module": "@jupyter-widgets/controls",
            "_model_module_version": "1.5.0",
            "_model_name": "HBoxModel",
            "_view_count": null,
            "_view_module": "@jupyter-widgets/controls",
            "_view_module_version": "1.5.0",
            "_view_name": "HBoxView",
            "box_style": "",
            "children": [
              "IPY_MODEL_da75d986cefd42cd84fdd69054bfedf9",
              "IPY_MODEL_db069e686528463893ebfca580a84c0b",
              "IPY_MODEL_98f3a5d825bb484ba7b410e032972997"
            ],
            "layout": "IPY_MODEL_8f63a72d78454641b8186ca20625ab39"
          }
        },
        "da75d986cefd42cd84fdd69054bfedf9": {
          "model_module": "@jupyter-widgets/controls",
          "model_name": "HTMLModel",
          "model_module_version": "1.5.0",
          "state": {
            "_dom_classes": [],
            "_model_module": "@jupyter-widgets/controls",
            "_model_module_version": "1.5.0",
            "_model_name": "HTMLModel",
            "_view_count": null,
            "_view_module": "@jupyter-widgets/controls",
            "_view_module_version": "1.5.0",
            "_view_name": "HTMLView",
            "description": "",
            "description_tooltip": null,
            "layout": "IPY_MODEL_a09648e843444d43b4d62dd75b4dbe97",
            "placeholder": "​",
            "style": "IPY_MODEL_2e3d03cf40994860adf7bb653adfe2a9",
            "value": "Downloading: 100%"
          }
        },
        "db069e686528463893ebfca580a84c0b": {
          "model_module": "@jupyter-widgets/controls",
          "model_name": "FloatProgressModel",
          "model_module_version": "1.5.0",
          "state": {
            "_dom_classes": [],
            "_model_module": "@jupyter-widgets/controls",
            "_model_module_version": "1.5.0",
            "_model_name": "FloatProgressModel",
            "_view_count": null,
            "_view_module": "@jupyter-widgets/controls",
            "_view_module_version": "1.5.0",
            "_view_name": "ProgressView",
            "bar_style": "success",
            "description": "",
            "description_tooltip": null,
            "layout": "IPY_MODEL_6d407f214e9b4cd0be5508a47424502b",
            "max": 2,
            "min": 0,
            "orientation": "horizontal",
            "style": "IPY_MODEL_7fdf2d3dc4c74b38b448d78e20e6edf9",
            "value": 2
          }
        },
        "98f3a5d825bb484ba7b410e032972997": {
          "model_module": "@jupyter-widgets/controls",
          "model_name": "HTMLModel",
          "model_module_version": "1.5.0",
          "state": {
            "_dom_classes": [],
            "_model_module": "@jupyter-widgets/controls",
            "_model_module_version": "1.5.0",
            "_model_name": "HTMLModel",
            "_view_count": null,
            "_view_module": "@jupyter-widgets/controls",
            "_view_module_version": "1.5.0",
            "_view_name": "HTMLView",
            "description": "",
            "description_tooltip": null,
            "layout": "IPY_MODEL_13ec17bd294f4724a690adeb88907294",
            "placeholder": "​",
            "style": "IPY_MODEL_75220729c0f743f2baca772363668a4e",
            "value": " 2.00/2.00 [00:00&lt;00:00, 9.70B/s]"
          }
        },
        "8f63a72d78454641b8186ca20625ab39": {
          "model_module": "@jupyter-widgets/base",
          "model_name": "LayoutModel",
          "model_module_version": "1.2.0",
          "state": {
            "_model_module": "@jupyter-widgets/base",
            "_model_module_version": "1.2.0",
            "_model_name": "LayoutModel",
            "_view_count": null,
            "_view_module": "@jupyter-widgets/base",
            "_view_module_version": "1.2.0",
            "_view_name": "LayoutView",
            "align_content": null,
            "align_items": null,
            "align_self": null,
            "border": null,
            "bottom": null,
            "display": null,
            "flex": null,
            "flex_flow": null,
            "grid_area": null,
            "grid_auto_columns": null,
            "grid_auto_flow": null,
            "grid_auto_rows": null,
            "grid_column": null,
            "grid_gap": null,
            "grid_row": null,
            "grid_template_areas": null,
            "grid_template_columns": null,
            "grid_template_rows": null,
            "height": null,
            "justify_content": null,
            "justify_items": null,
            "left": null,
            "margin": null,
            "max_height": null,
            "max_width": null,
            "min_height": null,
            "min_width": null,
            "object_fit": null,
            "object_position": null,
            "order": null,
            "overflow": null,
            "overflow_x": null,
            "overflow_y": null,
            "padding": null,
            "right": null,
            "top": null,
            "visibility": null,
            "width": null
          }
        },
        "a09648e843444d43b4d62dd75b4dbe97": {
          "model_module": "@jupyter-widgets/base",
          "model_name": "LayoutModel",
          "model_module_version": "1.2.0",
          "state": {
            "_model_module": "@jupyter-widgets/base",
            "_model_module_version": "1.2.0",
            "_model_name": "LayoutModel",
            "_view_count": null,
            "_view_module": "@jupyter-widgets/base",
            "_view_module_version": "1.2.0",
            "_view_name": "LayoutView",
            "align_content": null,
            "align_items": null,
            "align_self": null,
            "border": null,
            "bottom": null,
            "display": null,
            "flex": null,
            "flex_flow": null,
            "grid_area": null,
            "grid_auto_columns": null,
            "grid_auto_flow": null,
            "grid_auto_rows": null,
            "grid_column": null,
            "grid_gap": null,
            "grid_row": null,
            "grid_template_areas": null,
            "grid_template_columns": null,
            "grid_template_rows": null,
            "height": null,
            "justify_content": null,
            "justify_items": null,
            "left": null,
            "margin": null,
            "max_height": null,
            "max_width": null,
            "min_height": null,
            "min_width": null,
            "object_fit": null,
            "object_position": null,
            "order": null,
            "overflow": null,
            "overflow_x": null,
            "overflow_y": null,
            "padding": null,
            "right": null,
            "top": null,
            "visibility": null,
            "width": null
          }
        },
        "2e3d03cf40994860adf7bb653adfe2a9": {
          "model_module": "@jupyter-widgets/controls",
          "model_name": "DescriptionStyleModel",
          "model_module_version": "1.5.0",
          "state": {
            "_model_module": "@jupyter-widgets/controls",
            "_model_module_version": "1.5.0",
            "_model_name": "DescriptionStyleModel",
            "_view_count": null,
            "_view_module": "@jupyter-widgets/base",
            "_view_module_version": "1.2.0",
            "_view_name": "StyleView",
            "description_width": ""
          }
        },
        "6d407f214e9b4cd0be5508a47424502b": {
          "model_module": "@jupyter-widgets/base",
          "model_name": "LayoutModel",
          "model_module_version": "1.2.0",
          "state": {
            "_model_module": "@jupyter-widgets/base",
            "_model_module_version": "1.2.0",
            "_model_name": "LayoutModel",
            "_view_count": null,
            "_view_module": "@jupyter-widgets/base",
            "_view_module_version": "1.2.0",
            "_view_name": "LayoutView",
            "align_content": null,
            "align_items": null,
            "align_self": null,
            "border": null,
            "bottom": null,
            "display": null,
            "flex": null,
            "flex_flow": null,
            "grid_area": null,
            "grid_auto_columns": null,
            "grid_auto_flow": null,
            "grid_auto_rows": null,
            "grid_column": null,
            "grid_gap": null,
            "grid_row": null,
            "grid_template_areas": null,
            "grid_template_columns": null,
            "grid_template_rows": null,
            "height": null,
            "justify_content": null,
            "justify_items": null,
            "left": null,
            "margin": null,
            "max_height": null,
            "max_width": null,
            "min_height": null,
            "min_width": null,
            "object_fit": null,
            "object_position": null,
            "order": null,
            "overflow": null,
            "overflow_x": null,
            "overflow_y": null,
            "padding": null,
            "right": null,
            "top": null,
            "visibility": null,
            "width": null
          }
        },
        "7fdf2d3dc4c74b38b448d78e20e6edf9": {
          "model_module": "@jupyter-widgets/controls",
          "model_name": "ProgressStyleModel",
          "model_module_version": "1.5.0",
          "state": {
            "_model_module": "@jupyter-widgets/controls",
            "_model_module_version": "1.5.0",
            "_model_name": "ProgressStyleModel",
            "_view_count": null,
            "_view_module": "@jupyter-widgets/base",
            "_view_module_version": "1.2.0",
            "_view_name": "StyleView",
            "bar_color": null,
            "description_width": ""
          }
        },
        "13ec17bd294f4724a690adeb88907294": {
          "model_module": "@jupyter-widgets/base",
          "model_name": "LayoutModel",
          "model_module_version": "1.2.0",
          "state": {
            "_model_module": "@jupyter-widgets/base",
            "_model_module_version": "1.2.0",
            "_model_name": "LayoutModel",
            "_view_count": null,
            "_view_module": "@jupyter-widgets/base",
            "_view_module_version": "1.2.0",
            "_view_name": "LayoutView",
            "align_content": null,
            "align_items": null,
            "align_self": null,
            "border": null,
            "bottom": null,
            "display": null,
            "flex": null,
            "flex_flow": null,
            "grid_area": null,
            "grid_auto_columns": null,
            "grid_auto_flow": null,
            "grid_auto_rows": null,
            "grid_column": null,
            "grid_gap": null,
            "grid_row": null,
            "grid_template_areas": null,
            "grid_template_columns": null,
            "grid_template_rows": null,
            "height": null,
            "justify_content": null,
            "justify_items": null,
            "left": null,
            "margin": null,
            "max_height": null,
            "max_width": null,
            "min_height": null,
            "min_width": null,
            "object_fit": null,
            "object_position": null,
            "order": null,
            "overflow": null,
            "overflow_x": null,
            "overflow_y": null,
            "padding": null,
            "right": null,
            "top": null,
            "visibility": null,
            "width": null
          }
        },
        "75220729c0f743f2baca772363668a4e": {
          "model_module": "@jupyter-widgets/controls",
          "model_name": "DescriptionStyleModel",
          "model_module_version": "1.5.0",
          "state": {
            "_model_module": "@jupyter-widgets/controls",
            "_model_module_version": "1.5.0",
            "_model_name": "DescriptionStyleModel",
            "_view_count": null,
            "_view_module": "@jupyter-widgets/base",
            "_view_module_version": "1.2.0",
            "_view_name": "StyleView",
            "description_width": ""
          }
        },
        "7ff0ac3cd63d459f8a8656b6e9653fed": {
          "model_module": "@jupyter-widgets/controls",
          "model_name": "HBoxModel",
          "model_module_version": "1.5.0",
          "state": {
            "_dom_classes": [],
            "_model_module": "@jupyter-widgets/controls",
            "_model_module_version": "1.5.0",
            "_model_name": "HBoxModel",
            "_view_count": null,
            "_view_module": "@jupyter-widgets/controls",
            "_view_module_version": "1.5.0",
            "_view_name": "HBoxView",
            "box_style": "",
            "children": [
              "IPY_MODEL_c273aa2ac0d3436d968bf7d3489f6b84",
              "IPY_MODEL_5b3c638f7cb94f7d8be3b9b0174b60e3",
              "IPY_MODEL_315e32f2949044d8b9543fa67a90d1df"
            ],
            "layout": "IPY_MODEL_048d0367c9eb4b8d920f842c2c0f034c"
          }
        },
        "c273aa2ac0d3436d968bf7d3489f6b84": {
          "model_module": "@jupyter-widgets/controls",
          "model_name": "HTMLModel",
          "model_module_version": "1.5.0",
          "state": {
            "_dom_classes": [],
            "_model_module": "@jupyter-widgets/controls",
            "_model_module_version": "1.5.0",
            "_model_name": "HTMLModel",
            "_view_count": null,
            "_view_module": "@jupyter-widgets/controls",
            "_view_module_version": "1.5.0",
            "_view_name": "HTMLView",
            "description": "",
            "description_tooltip": null,
            "layout": "IPY_MODEL_9a3c02fa0809478788fbc600065892b6",
            "placeholder": "​",
            "style": "IPY_MODEL_cea44bfe88c54662bafb2522fcfcc808",
            "value": "Downloading: 100%"
          }
        },
        "5b3c638f7cb94f7d8be3b9b0174b60e3": {
          "model_module": "@jupyter-widgets/controls",
          "model_name": "FloatProgressModel",
          "model_module_version": "1.5.0",
          "state": {
            "_dom_classes": [],
            "_model_module": "@jupyter-widgets/controls",
            "_model_module_version": "1.5.0",
            "_model_name": "FloatProgressModel",
            "_view_count": null,
            "_view_module": "@jupyter-widgets/controls",
            "_view_module_version": "1.5.0",
            "_view_name": "ProgressView",
            "bar_style": "success",
            "description": "",
            "description_tooltip": null,
            "layout": "IPY_MODEL_61ef605191914b1dadedde99db181e3a",
            "max": 112,
            "min": 0,
            "orientation": "horizontal",
            "style": "IPY_MODEL_c35801a2f52643adb27505bbc09aa33c",
            "value": 112
          }
        },
        "315e32f2949044d8b9543fa67a90d1df": {
          "model_module": "@jupyter-widgets/controls",
          "model_name": "HTMLModel",
          "model_module_version": "1.5.0",
          "state": {
            "_dom_classes": [],
            "_model_module": "@jupyter-widgets/controls",
            "_model_module_version": "1.5.0",
            "_model_name": "HTMLModel",
            "_view_count": null,
            "_view_module": "@jupyter-widgets/controls",
            "_view_module_version": "1.5.0",
            "_view_name": "HTMLView",
            "description": "",
            "description_tooltip": null,
            "layout": "IPY_MODEL_96651665894043e483712cab39e720a8",
            "placeholder": "​",
            "style": "IPY_MODEL_40c1d0d6f20c4d1d85257aced90c63ca",
            "value": " 112/112 [00:00&lt;00:00, 601B/s]"
          }
        },
        "048d0367c9eb4b8d920f842c2c0f034c": {
          "model_module": "@jupyter-widgets/base",
          "model_name": "LayoutModel",
          "model_module_version": "1.2.0",
          "state": {
            "_model_module": "@jupyter-widgets/base",
            "_model_module_version": "1.2.0",
            "_model_name": "LayoutModel",
            "_view_count": null,
            "_view_module": "@jupyter-widgets/base",
            "_view_module_version": "1.2.0",
            "_view_name": "LayoutView",
            "align_content": null,
            "align_items": null,
            "align_self": null,
            "border": null,
            "bottom": null,
            "display": null,
            "flex": null,
            "flex_flow": null,
            "grid_area": null,
            "grid_auto_columns": null,
            "grid_auto_flow": null,
            "grid_auto_rows": null,
            "grid_column": null,
            "grid_gap": null,
            "grid_row": null,
            "grid_template_areas": null,
            "grid_template_columns": null,
            "grid_template_rows": null,
            "height": null,
            "justify_content": null,
            "justify_items": null,
            "left": null,
            "margin": null,
            "max_height": null,
            "max_width": null,
            "min_height": null,
            "min_width": null,
            "object_fit": null,
            "object_position": null,
            "order": null,
            "overflow": null,
            "overflow_x": null,
            "overflow_y": null,
            "padding": null,
            "right": null,
            "top": null,
            "visibility": null,
            "width": null
          }
        },
        "9a3c02fa0809478788fbc600065892b6": {
          "model_module": "@jupyter-widgets/base",
          "model_name": "LayoutModel",
          "model_module_version": "1.2.0",
          "state": {
            "_model_module": "@jupyter-widgets/base",
            "_model_module_version": "1.2.0",
            "_model_name": "LayoutModel",
            "_view_count": null,
            "_view_module": "@jupyter-widgets/base",
            "_view_module_version": "1.2.0",
            "_view_name": "LayoutView",
            "align_content": null,
            "align_items": null,
            "align_self": null,
            "border": null,
            "bottom": null,
            "display": null,
            "flex": null,
            "flex_flow": null,
            "grid_area": null,
            "grid_auto_columns": null,
            "grid_auto_flow": null,
            "grid_auto_rows": null,
            "grid_column": null,
            "grid_gap": null,
            "grid_row": null,
            "grid_template_areas": null,
            "grid_template_columns": null,
            "grid_template_rows": null,
            "height": null,
            "justify_content": null,
            "justify_items": null,
            "left": null,
            "margin": null,
            "max_height": null,
            "max_width": null,
            "min_height": null,
            "min_width": null,
            "object_fit": null,
            "object_position": null,
            "order": null,
            "overflow": null,
            "overflow_x": null,
            "overflow_y": null,
            "padding": null,
            "right": null,
            "top": null,
            "visibility": null,
            "width": null
          }
        },
        "cea44bfe88c54662bafb2522fcfcc808": {
          "model_module": "@jupyter-widgets/controls",
          "model_name": "DescriptionStyleModel",
          "model_module_version": "1.5.0",
          "state": {
            "_model_module": "@jupyter-widgets/controls",
            "_model_module_version": "1.5.0",
            "_model_name": "DescriptionStyleModel",
            "_view_count": null,
            "_view_module": "@jupyter-widgets/base",
            "_view_module_version": "1.2.0",
            "_view_name": "StyleView",
            "description_width": ""
          }
        },
        "61ef605191914b1dadedde99db181e3a": {
          "model_module": "@jupyter-widgets/base",
          "model_name": "LayoutModel",
          "model_module_version": "1.2.0",
          "state": {
            "_model_module": "@jupyter-widgets/base",
            "_model_module_version": "1.2.0",
            "_model_name": "LayoutModel",
            "_view_count": null,
            "_view_module": "@jupyter-widgets/base",
            "_view_module_version": "1.2.0",
            "_view_name": "LayoutView",
            "align_content": null,
            "align_items": null,
            "align_self": null,
            "border": null,
            "bottom": null,
            "display": null,
            "flex": null,
            "flex_flow": null,
            "grid_area": null,
            "grid_auto_columns": null,
            "grid_auto_flow": null,
            "grid_auto_rows": null,
            "grid_column": null,
            "grid_gap": null,
            "grid_row": null,
            "grid_template_areas": null,
            "grid_template_columns": null,
            "grid_template_rows": null,
            "height": null,
            "justify_content": null,
            "justify_items": null,
            "left": null,
            "margin": null,
            "max_height": null,
            "max_width": null,
            "min_height": null,
            "min_width": null,
            "object_fit": null,
            "object_position": null,
            "order": null,
            "overflow": null,
            "overflow_x": null,
            "overflow_y": null,
            "padding": null,
            "right": null,
            "top": null,
            "visibility": null,
            "width": null
          }
        },
        "c35801a2f52643adb27505bbc09aa33c": {
          "model_module": "@jupyter-widgets/controls",
          "model_name": "ProgressStyleModel",
          "model_module_version": "1.5.0",
          "state": {
            "_model_module": "@jupyter-widgets/controls",
            "_model_module_version": "1.5.0",
            "_model_name": "ProgressStyleModel",
            "_view_count": null,
            "_view_module": "@jupyter-widgets/base",
            "_view_module_version": "1.2.0",
            "_view_name": "StyleView",
            "bar_color": null,
            "description_width": ""
          }
        },
        "96651665894043e483712cab39e720a8": {
          "model_module": "@jupyter-widgets/base",
          "model_name": "LayoutModel",
          "model_module_version": "1.2.0",
          "state": {
            "_model_module": "@jupyter-widgets/base",
            "_model_module_version": "1.2.0",
            "_model_name": "LayoutModel",
            "_view_count": null,
            "_view_module": "@jupyter-widgets/base",
            "_view_module_version": "1.2.0",
            "_view_name": "LayoutView",
            "align_content": null,
            "align_items": null,
            "align_self": null,
            "border": null,
            "bottom": null,
            "display": null,
            "flex": null,
            "flex_flow": null,
            "grid_area": null,
            "grid_auto_columns": null,
            "grid_auto_flow": null,
            "grid_auto_rows": null,
            "grid_column": null,
            "grid_gap": null,
            "grid_row": null,
            "grid_template_areas": null,
            "grid_template_columns": null,
            "grid_template_rows": null,
            "height": null,
            "justify_content": null,
            "justify_items": null,
            "left": null,
            "margin": null,
            "max_height": null,
            "max_width": null,
            "min_height": null,
            "min_width": null,
            "object_fit": null,
            "object_position": null,
            "order": null,
            "overflow": null,
            "overflow_x": null,
            "overflow_y": null,
            "padding": null,
            "right": null,
            "top": null,
            "visibility": null,
            "width": null
          }
        },
        "40c1d0d6f20c4d1d85257aced90c63ca": {
          "model_module": "@jupyter-widgets/controls",
          "model_name": "DescriptionStyleModel",
          "model_module_version": "1.5.0",
          "state": {
            "_model_module": "@jupyter-widgets/controls",
            "_model_module_version": "1.5.0",
            "_model_name": "DescriptionStyleModel",
            "_view_count": null,
            "_view_module": "@jupyter-widgets/base",
            "_view_module_version": "1.2.0",
            "_view_name": "StyleView",
            "description_width": ""
          }
        },
        "6801ebb42c604ffa9c8f602648050b49": {
          "model_module": "@jupyter-widgets/controls",
          "model_name": "HBoxModel",
          "model_module_version": "1.5.0",
          "state": {
            "_dom_classes": [],
            "_model_module": "@jupyter-widgets/controls",
            "_model_module_version": "1.5.0",
            "_model_name": "HBoxModel",
            "_view_count": null,
            "_view_module": "@jupyter-widgets/controls",
            "_view_module_version": "1.5.0",
            "_view_name": "HBoxView",
            "box_style": "",
            "children": [
              "IPY_MODEL_a5c1eef11d9e4b059f2eac7fc6578e44",
              "IPY_MODEL_5badefbf599349818055cbbea0f1e3c5",
              "IPY_MODEL_beebdb0ac7b74f7ebc24293b1e142161"
            ],
            "layout": "IPY_MODEL_b5d5fd01a1a64a53abb516c444f46c04"
          }
        },
        "a5c1eef11d9e4b059f2eac7fc6578e44": {
          "model_module": "@jupyter-widgets/controls",
          "model_name": "HTMLModel",
          "model_module_version": "1.5.0",
          "state": {
            "_dom_classes": [],
            "_model_module": "@jupyter-widgets/controls",
            "_model_module_version": "1.5.0",
            "_model_name": "HTMLModel",
            "_view_count": null,
            "_view_module": "@jupyter-widgets/controls",
            "_view_module_version": "1.5.0",
            "_view_name": "HTMLView",
            "description": "",
            "description_tooltip": null,
            "layout": "IPY_MODEL_d363acaa0d5a41cd91d7bbb2fec2902c",
            "placeholder": "​",
            "style": "IPY_MODEL_1a1c7ff0590142e7a9f381da7de73373",
            "value": "Downloading: 100%"
          }
        },
        "5badefbf599349818055cbbea0f1e3c5": {
          "model_module": "@jupyter-widgets/controls",
          "model_name": "FloatProgressModel",
          "model_module_version": "1.5.0",
          "state": {
            "_dom_classes": [],
            "_model_module": "@jupyter-widgets/controls",
            "_model_module_version": "1.5.0",
            "_model_name": "FloatProgressModel",
            "_view_count": null,
            "_view_module": "@jupyter-widgets/controls",
            "_view_module_version": "1.5.0",
            "_view_name": "ProgressView",
            "bar_style": "success",
            "description": "",
            "description_tooltip": null,
            "layout": "IPY_MODEL_48c0d4b18ef74d0a96f6078d8657fe2a",
            "max": 433316646,
            "min": 0,
            "orientation": "horizontal",
            "style": "IPY_MODEL_15ae04fb9bb84fc4b66641002908b3e5",
            "value": 433316646
          }
        },
        "beebdb0ac7b74f7ebc24293b1e142161": {
          "model_module": "@jupyter-widgets/controls",
          "model_name": "HTMLModel",
          "model_module_version": "1.5.0",
          "state": {
            "_dom_classes": [],
            "_model_module": "@jupyter-widgets/controls",
            "_model_module_version": "1.5.0",
            "_model_name": "HTMLModel",
            "_view_count": null,
            "_view_module": "@jupyter-widgets/controls",
            "_view_module_version": "1.5.0",
            "_view_name": "HTMLView",
            "description": "",
            "description_tooltip": null,
            "layout": "IPY_MODEL_db081425124d4707adc054e21053d194",
            "placeholder": "​",
            "style": "IPY_MODEL_e91f416106ca4fe3b6874041614f49c8",
            "value": " 413M/413M [00:13&lt;00:00, 41.9MB/s]"
          }
        },
        "b5d5fd01a1a64a53abb516c444f46c04": {
          "model_module": "@jupyter-widgets/base",
          "model_name": "LayoutModel",
          "model_module_version": "1.2.0",
          "state": {
            "_model_module": "@jupyter-widgets/base",
            "_model_module_version": "1.2.0",
            "_model_name": "LayoutModel",
            "_view_count": null,
            "_view_module": "@jupyter-widgets/base",
            "_view_module_version": "1.2.0",
            "_view_name": "LayoutView",
            "align_content": null,
            "align_items": null,
            "align_self": null,
            "border": null,
            "bottom": null,
            "display": null,
            "flex": null,
            "flex_flow": null,
            "grid_area": null,
            "grid_auto_columns": null,
            "grid_auto_flow": null,
            "grid_auto_rows": null,
            "grid_column": null,
            "grid_gap": null,
            "grid_row": null,
            "grid_template_areas": null,
            "grid_template_columns": null,
            "grid_template_rows": null,
            "height": null,
            "justify_content": null,
            "justify_items": null,
            "left": null,
            "margin": null,
            "max_height": null,
            "max_width": null,
            "min_height": null,
            "min_width": null,
            "object_fit": null,
            "object_position": null,
            "order": null,
            "overflow": null,
            "overflow_x": null,
            "overflow_y": null,
            "padding": null,
            "right": null,
            "top": null,
            "visibility": null,
            "width": null
          }
        },
        "d363acaa0d5a41cd91d7bbb2fec2902c": {
          "model_module": "@jupyter-widgets/base",
          "model_name": "LayoutModel",
          "model_module_version": "1.2.0",
          "state": {
            "_model_module": "@jupyter-widgets/base",
            "_model_module_version": "1.2.0",
            "_model_name": "LayoutModel",
            "_view_count": null,
            "_view_module": "@jupyter-widgets/base",
            "_view_module_version": "1.2.0",
            "_view_name": "LayoutView",
            "align_content": null,
            "align_items": null,
            "align_self": null,
            "border": null,
            "bottom": null,
            "display": null,
            "flex": null,
            "flex_flow": null,
            "grid_area": null,
            "grid_auto_columns": null,
            "grid_auto_flow": null,
            "grid_auto_rows": null,
            "grid_column": null,
            "grid_gap": null,
            "grid_row": null,
            "grid_template_areas": null,
            "grid_template_columns": null,
            "grid_template_rows": null,
            "height": null,
            "justify_content": null,
            "justify_items": null,
            "left": null,
            "margin": null,
            "max_height": null,
            "max_width": null,
            "min_height": null,
            "min_width": null,
            "object_fit": null,
            "object_position": null,
            "order": null,
            "overflow": null,
            "overflow_x": null,
            "overflow_y": null,
            "padding": null,
            "right": null,
            "top": null,
            "visibility": null,
            "width": null
          }
        },
        "1a1c7ff0590142e7a9f381da7de73373": {
          "model_module": "@jupyter-widgets/controls",
          "model_name": "DescriptionStyleModel",
          "model_module_version": "1.5.0",
          "state": {
            "_model_module": "@jupyter-widgets/controls",
            "_model_module_version": "1.5.0",
            "_model_name": "DescriptionStyleModel",
            "_view_count": null,
            "_view_module": "@jupyter-widgets/base",
            "_view_module_version": "1.2.0",
            "_view_name": "StyleView",
            "description_width": ""
          }
        },
        "48c0d4b18ef74d0a96f6078d8657fe2a": {
          "model_module": "@jupyter-widgets/base",
          "model_name": "LayoutModel",
          "model_module_version": "1.2.0",
          "state": {
            "_model_module": "@jupyter-widgets/base",
            "_model_module_version": "1.2.0",
            "_model_name": "LayoutModel",
            "_view_count": null,
            "_view_module": "@jupyter-widgets/base",
            "_view_module_version": "1.2.0",
            "_view_name": "LayoutView",
            "align_content": null,
            "align_items": null,
            "align_self": null,
            "border": null,
            "bottom": null,
            "display": null,
            "flex": null,
            "flex_flow": null,
            "grid_area": null,
            "grid_auto_columns": null,
            "grid_auto_flow": null,
            "grid_auto_rows": null,
            "grid_column": null,
            "grid_gap": null,
            "grid_row": null,
            "grid_template_areas": null,
            "grid_template_columns": null,
            "grid_template_rows": null,
            "height": null,
            "justify_content": null,
            "justify_items": null,
            "left": null,
            "margin": null,
            "max_height": null,
            "max_width": null,
            "min_height": null,
            "min_width": null,
            "object_fit": null,
            "object_position": null,
            "order": null,
            "overflow": null,
            "overflow_x": null,
            "overflow_y": null,
            "padding": null,
            "right": null,
            "top": null,
            "visibility": null,
            "width": null
          }
        },
        "15ae04fb9bb84fc4b66641002908b3e5": {
          "model_module": "@jupyter-widgets/controls",
          "model_name": "ProgressStyleModel",
          "model_module_version": "1.5.0",
          "state": {
            "_model_module": "@jupyter-widgets/controls",
            "_model_module_version": "1.5.0",
            "_model_name": "ProgressStyleModel",
            "_view_count": null,
            "_view_module": "@jupyter-widgets/base",
            "_view_module_version": "1.2.0",
            "_view_name": "StyleView",
            "bar_color": null,
            "description_width": ""
          }
        },
        "db081425124d4707adc054e21053d194": {
          "model_module": "@jupyter-widgets/base",
          "model_name": "LayoutModel",
          "model_module_version": "1.2.0",
          "state": {
            "_model_module": "@jupyter-widgets/base",
            "_model_module_version": "1.2.0",
            "_model_name": "LayoutModel",
            "_view_count": null,
            "_view_module": "@jupyter-widgets/base",
            "_view_module_version": "1.2.0",
            "_view_name": "LayoutView",
            "align_content": null,
            "align_items": null,
            "align_self": null,
            "border": null,
            "bottom": null,
            "display": null,
            "flex": null,
            "flex_flow": null,
            "grid_area": null,
            "grid_auto_columns": null,
            "grid_auto_flow": null,
            "grid_auto_rows": null,
            "grid_column": null,
            "grid_gap": null,
            "grid_row": null,
            "grid_template_areas": null,
            "grid_template_columns": null,
            "grid_template_rows": null,
            "height": null,
            "justify_content": null,
            "justify_items": null,
            "left": null,
            "margin": null,
            "max_height": null,
            "max_width": null,
            "min_height": null,
            "min_width": null,
            "object_fit": null,
            "object_position": null,
            "order": null,
            "overflow": null,
            "overflow_x": null,
            "overflow_y": null,
            "padding": null,
            "right": null,
            "top": null,
            "visibility": null,
            "width": null
          }
        },
        "e91f416106ca4fe3b6874041614f49c8": {
          "model_module": "@jupyter-widgets/controls",
          "model_name": "DescriptionStyleModel",
          "model_module_version": "1.5.0",
          "state": {
            "_model_module": "@jupyter-widgets/controls",
            "_model_module_version": "1.5.0",
            "_model_name": "DescriptionStyleModel",
            "_view_count": null,
            "_view_module": "@jupyter-widgets/base",
            "_view_module_version": "1.2.0",
            "_view_name": "StyleView",
            "description_width": ""
          }
        }
      }
    }
  },
  "cells": [
    {
      "cell_type": "markdown",
      "source": [
        "# Hedditch Authentication and Data Loading"
      ],
      "metadata": {
        "id": "xdsMXWX0w9C0"
      }
    },
    {
      "cell_type": "code",
      "execution_count": null,
      "metadata": {
        "id": "zJ18rG-6wgSK"
      },
      "outputs": [],
      "source": [
        "import requests\n",
        "import pandas as pd"
      ]
    },
    {
      "cell_type": "code",
      "source": [
        "# personal use script, secret token\n",
        "auth = requests.auth.HTTPBasicAuth( 'JNpGyLI-oJ_drb93Dykw9g', 'KgImJaXURcpJG4Ud9-HLBsj8UnnnRQ' )\n",
        "\n",
        "data = {'grant_type': 'password',\n",
        "        'username': 'shawwquille_aww_neal',\n",
        "        'password': 'rampat11' }\n",
        "\n",
        "headers = {'User-Agent': 'SquatBotTUM/0.0.1' }\n",
        "\n",
        "res = requests.post( 'https://www.reddit.com/api/v1/access_token', auth=auth, data=data, headers=headers )\n",
        "\n",
        "token1 = res.json()['access_token']\n",
        "\n",
        "headers = {**headers, **{'Authorization': f\"bearer {token1}\"}}\n",
        "\n",
        "requests.get( 'https://oauth.reddit.com/api/v1/me', headers=headers )"
      ],
      "metadata": {
        "colab": {
          "base_uri": "https://localhost:8080/"
        },
        "id": "B63_vuJtwnik",
        "outputId": "0cd2e2eb-e8a3-4662-cbdd-35cf9926e13c"
      },
      "execution_count": null,
      "outputs": [
        {
          "output_type": "execute_result",
          "data": {
            "text/plain": [
              "<Response [200]>"
            ]
          },
          "metadata": {},
          "execution_count": 5
        }
      ]
    },
    {
      "cell_type": "code",
      "source": [
        "res = requests.get( \"https://oauth.reddit.com/r/stopdrinking/new\", headers=headers, params={'limit': '100000'} )\n",
        "\n",
        "print( res.json() )"
      ],
      "metadata": {
        "colab": {
          "base_uri": "https://localhost:8080/"
        },
        "id": "EVULrbM0wpRE",
        "outputId": "2ca81d2a-8b50-419c-a225-427e47bd5318"
      },
      "execution_count": null,
      "outputs": [
        {
          "output_type": "stream",
          "name": "stdout",
          "text": [
            "{'kind': 'Listing', 'data': {'after': 't3_utl47l', 'dist': 100, 'modhash': None, 'geo_filter': '', 'children': [{'kind': 't3', 'data': {'approved_at_utc': None, 'subreddit': 'stopdrinking', 'selftext': 'I’m sure many people here have explored alcohol replacements (sparkling water, tea, NA beer) but I wanted to share about Kin Euphorics, which advertise themselves as alcohol “replacements”. It has plenty of feel-good ingredients (GABA, L-theanime, 5-HTP) and caffiene (or melatonin, depending on which you get) and after having it each day for months now, I have to say that I believe it does uplift my mood. I find that I personally am satisfied by taking a “shot” of something, which I do with Kin. It also comes in can form. Give it a try if you’re interested!', 'author_fullname': 't2_55lksf3w', 'saved': False, 'mod_reason_title': None, 'gilded': 0, 'clicked': False, 'title': 'Kin: my alcohol “replacement”', 'link_flair_richtext': [], 'subreddit_name_prefixed': 'r/stopdrinking', 'hidden': False, 'pwls': 0, 'link_flair_css_class': None, 'downs': 0, 'top_awarded_type': None, 'hide_score': True, 'name': 't3_uu4len', 'quarantine': False, 'link_flair_text_color': 'dark', 'upvote_ratio': 1.0, 'author_flair_background_color': None, 'subreddit_type': 'public', 'ups': 3, 'total_awards_received': 0, 'media_embed': {}, 'author_flair_template_id': None, 'is_original_content': False, 'user_reports': [], 'secure_media': None, 'is_reddit_media_domain': False, 'is_meta': False, 'category': None, 'secure_media_embed': {}, 'link_flair_text': None, 'can_mod_post': False, 'score': 3, 'approved_by': None, 'is_created_from_ads_ui': False, 'author_premium': False, 'thumbnail': '', 'edited': False, 'author_flair_css_class': None, 'author_flair_richtext': [], 'gildings': {}, 'content_categories': None, 'is_self': True, 'mod_note': None, 'created': 1653071716.0, 'link_flair_type': 'text', 'wls': 0, 'removed_by_category': None, 'banned_by': None, 'author_flair_type': 'text', 'domain': 'self.stopdrinking', 'allow_live_comments': False, 'selftext_html': '&lt;!-- SC_OFF --&gt;&lt;div class=\"md\"&gt;&lt;p&gt;I’m sure many people here have explored alcohol replacements (sparkling water, tea, NA beer) but I wanted to share about Kin Euphorics, which advertise themselves as alcohol “replacements”. It has plenty of feel-good ingredients (GABA, L-theanime, 5-HTP) and caffiene (or melatonin, depending on which you get) and after having it each day for months now, I have to say that I believe it does uplift my mood. I find that I personally am satisfied by taking a “shot” of something, which I do with Kin. It also comes in can form. Give it a try if you’re interested!&lt;/p&gt;\\n&lt;/div&gt;&lt;!-- SC_ON --&gt;', 'likes': None, 'suggested_sort': None, 'banned_at_utc': None, 'view_count': None, 'archived': False, 'no_follow': False, 'is_crosspostable': False, 'pinned': False, 'over_18': False, 'all_awardings': [], 'awarders': [], 'media_only': False, 'can_gild': True, 'spoiler': False, 'locked': False, 'author_flair_text': None, 'treatment_tags': [], 'visited': False, 'removed_by': None, 'num_reports': None, 'distinguished': None, 'subreddit_id': 't5_2s7yr', 'author_is_blocked': False, 'mod_reason_by': None, 'removal_reason': None, 'link_flair_background_color': '', 'id': 'uu4len', 'is_robot_indexable': True, 'report_reasons': None, 'author': 'zoomoutzoomout', 'discussion_type': None, 'num_comments': 0, 'send_replies': True, 'whitelist_status': 'no_ads', 'contest_mode': False, 'mod_reports': [], 'author_patreon_flair': False, 'author_flair_text_color': None, 'permalink': '/r/stopdrinking/comments/uu4len/kin_my_alcohol_replacement/', 'parent_whitelist_status': 'no_ads', 'stickied': False, 'url': 'https://www.reddit.com/r/stopdrinking/comments/uu4len/kin_my_alcohol_replacement/', 'subreddit_subscribers': 360805, 'created_utc': 1653071716.0, 'num_crossposts': 0, 'media': None, 'is_video': False}}, {'kind': 't3', 'data': {'approved_at_utc': None, 'subreddit': 'stopdrinking', 'selftext': \"That title makes zero sense, but essentially I'm a full-time student and have always loved being so busy that I can't stop until I literally fall into bed. I'm 6 days sober and the last 3 days I have been extremely busy. Last night I got so caught up in my work that I forgot to pickup dinner for my husband before the restaurant closed and got home way too late that I wasn't able to spend time with him. He was pretty upset with me. The issue is that last night I felt so good just throwing myself into my work and losing track of time, but I think it's just another addiction. I voluntarily took on a ton of extra work this week because I LOVE stress. idk, I can't drink but I also can't slow down. If I slow down then I get bored and I want to drink. Any suggestions?\", 'author_fullname': 't2_a35ectoa', 'saved': False, 'mod_reason_title': None, 'gilded': 0, 'clicked': False, 'title': '6 days sober and I need some suggestions', 'link_flair_richtext': [], 'subreddit_name_prefixed': 'r/stopdrinking', 'hidden': False, 'pwls': 0, 'link_flair_css_class': None, 'downs': 0, 'top_awarded_type': None, 'hide_score': True, 'name': 't3_uu4h2z', 'quarantine': False, 'link_flair_text_color': 'dark', 'upvote_ratio': 1.0, 'author_flair_background_color': None, 'subreddit_type': 'public', 'ups': 2, 'total_awards_received': 0, 'media_embed': {}, 'author_flair_template_id': 'faf59352-6c36-11e9-bb53-0ea8f391a97e', 'is_original_content': False, 'user_reports': [], 'secure_media': None, 'is_reddit_media_domain': False, 'is_meta': False, 'category': None, 'secure_media_embed': {}, 'link_flair_text': None, 'can_mod_post': False, 'score': 2, 'approved_by': None, 'is_created_from_ads_ui': False, 'author_premium': False, 'thumbnail': '', 'edited': False, 'author_flair_css_class': 'under1', 'author_flair_richtext': [], 'gildings': {}, 'content_categories': None, 'is_self': True, 'mod_note': None, 'created': 1653071367.0, 'link_flair_type': 'text', 'wls': 0, 'removed_by_category': None, 'banned_by': None, 'author_flair_type': 'text', 'domain': 'self.stopdrinking', 'allow_live_comments': False, 'selftext_html': '&lt;!-- SC_OFF --&gt;&lt;div class=\"md\"&gt;&lt;p&gt;That title makes zero sense, but essentially I&amp;#39;m a full-time student and have always loved being so busy that I can&amp;#39;t stop until I literally fall into bed. I&amp;#39;m 6 days sober and the last 3 days I have been extremely busy. Last night I got so caught up in my work that I forgot to pickup dinner for my husband before the restaurant closed and got home way too late that I wasn&amp;#39;t able to spend time with him. He was pretty upset with me. The issue is that last night I felt so good just throwing myself into my work and losing track of time, but I think it&amp;#39;s just another addiction. I voluntarily took on a ton of extra work this week because I LOVE stress. idk, I can&amp;#39;t drink but I also can&amp;#39;t slow down. If I slow down then I get bored and I want to drink. Any suggestions?&lt;/p&gt;\\n&lt;/div&gt;&lt;!-- SC_ON --&gt;', 'likes': None, 'suggested_sort': None, 'banned_at_utc': None, 'view_count': None, 'archived': False, 'no_follow': False, 'is_crosspostable': False, 'pinned': False, 'over_18': False, 'all_awardings': [], 'awarders': [], 'media_only': False, 'can_gild': True, 'spoiler': False, 'locked': False, 'author_flair_text': '6 days', 'treatment_tags': [], 'visited': False, 'removed_by': None, 'num_reports': None, 'distinguished': None, 'subreddit_id': 't5_2s7yr', 'author_is_blocked': False, 'mod_reason_by': None, 'removal_reason': None, 'link_flair_background_color': '', 'id': 'uu4h2z', 'is_robot_indexable': True, 'report_reasons': None, 'author': 'Puzzled-Respect888', 'discussion_type': None, 'num_comments': 0, 'send_replies': True, 'whitelist_status': 'no_ads', 'contest_mode': False, 'mod_reports': [], 'author_patreon_flair': False, 'author_flair_text_color': 'dark', 'permalink': '/r/stopdrinking/comments/uu4h2z/6_days_sober_and_i_need_some_suggestions/', 'parent_whitelist_status': 'no_ads', 'stickied': False, 'url': 'https://www.reddit.com/r/stopdrinking/comments/uu4h2z/6_days_sober_and_i_need_some_suggestions/', 'subreddit_subscribers': 360805, 'created_utc': 1653071367.0, 'num_crossposts': 0, 'media': None, 'is_video': False}}, {'kind': 't3', 'data': {'approved_at_utc': None, 'subreddit': 'stopdrinking', 'selftext': 'Tomorrow will be two months sober and I will be going on my second date.  The first date she asked me if I drink and I said “no” without getting into to much detail about why I don’t.  She was very respectful about me being sober and she has no complaints of being with someone sober.  She is the first date I have been on sober and it was easy; I acted myself, smiled and laughed and we hit it off good.  IWNDWYT', 'author_fullname': 't2_ldu5vk1p', 'saved': False, 'mod_reason_title': None, 'gilded': 0, 'clicked': False, 'title': 'Dating again sober', 'link_flair_richtext': [], 'subreddit_name_prefixed': 'r/stopdrinking', 'hidden': False, 'pwls': 0, 'link_flair_css_class': None, 'downs': 0, 'top_awarded_type': None, 'hide_score': True, 'name': 't3_uu4eoq', 'quarantine': False, 'link_flair_text_color': 'dark', 'upvote_ratio': 1.0, 'author_flair_background_color': None, 'subreddit_type': 'public', 'ups': 2, 'total_awards_received': 0, 'media_embed': {}, 'author_flair_template_id': None, 'is_original_content': False, 'user_reports': [], 'secure_media': None, 'is_reddit_media_domain': False, 'is_meta': False, 'category': None, 'secure_media_embed': {}, 'link_flair_text': None, 'can_mod_post': False, 'score': 2, 'approved_by': None, 'is_created_from_ads_ui': False, 'author_premium': False, 'thumbnail': '', 'edited': False, 'author_flair_css_class': None, 'author_flair_richtext': [], 'gildings': {}, 'content_categories': None, 'is_self': True, 'mod_note': None, 'created': 1653071164.0, 'link_flair_type': 'text', 'wls': 0, 'removed_by_category': None, 'banned_by': None, 'author_flair_type': 'text', 'domain': 'self.stopdrinking', 'allow_live_comments': False, 'selftext_html': '&lt;!-- SC_OFF --&gt;&lt;div class=\"md\"&gt;&lt;p&gt;Tomorrow will be two months sober and I will be going on my second date.  The first date she asked me if I drink and I said “no” without getting into to much detail about why I don’t.  She was very respectful about me being sober and she has no complaints of being with someone sober.  She is the first date I have been on sober and it was easy; I acted myself, smiled and laughed and we hit it off good.  IWNDWYT&lt;/p&gt;\\n&lt;/div&gt;&lt;!-- SC_ON --&gt;', 'likes': None, 'suggested_sort': None, 'banned_at_utc': None, 'view_count': None, 'archived': False, 'no_follow': False, 'is_crosspostable': False, 'pinned': False, 'over_18': False, 'all_awardings': [], 'awarders': [], 'media_only': False, 'can_gild': True, 'spoiler': False, 'locked': False, 'author_flair_text': None, 'treatment_tags': [], 'visited': False, 'removed_by': None, 'num_reports': None, 'distinguished': None, 'subreddit_id': 't5_2s7yr', 'author_is_blocked': False, 'mod_reason_by': None, 'removal_reason': None, 'link_flair_background_color': '', 'id': 'uu4eoq', 'is_robot_indexable': True, 'report_reasons': None, 'author': 'Practical_Swan2795', 'discussion_type': None, 'num_comments': 2, 'send_replies': True, 'whitelist_status': 'no_ads', 'contest_mode': False, 'mod_reports': [], 'author_patreon_flair': False, 'author_flair_text_color': None, 'permalink': '/r/stopdrinking/comments/uu4eoq/dating_again_sober/', 'parent_whitelist_status': 'no_ads', 'stickied': False, 'url': 'https://www.reddit.com/r/stopdrinking/comments/uu4eoq/dating_again_sober/', 'subreddit_subscribers': 360805, 'created_utc': 1653071164.0, 'num_crossposts': 0, 'media': None, 'is_video': False}}, {'kind': 't3', 'data': {'approved_at_utc': None, 'subreddit': 'stopdrinking', 'selftext': 'My partner is out of the country for a work trip. They\\'ve been gone for a week as of today and will be gone next week. I enjoy my solitude as an introvert and only-child, but I still am finding myself feeling sad and lonely. \\n\\nSince they\\'ve been gone I haven\\'t gone for a run, I haven\\'t walked the dogs (although I do give them attention). I haven\\'t really been working from home while they are gone either, been making the commute 1.5 hours into the office - I enjoy the energy there, and the motorcycle ride, plus there is a ferry involved and it\\'s very peaceful and pretty 20 minute transfer.\\n\\nI noticed on the ferry ride I\\'ve been checking my phone more than appreciating the view and experience, which then makes me feel kinda triggered thanks to the doom-scrolling, making me feel like I gotta \"move move move\" and \"do something about issue x, y, and z\". Which then ends up making me stressed, which then makes me crave the affects of alcohol, that \"aaah\" feeling when the first few sips start to metabolize in your stomach and you stop giving a shit.\\n\\nYesterday on the way home, boy it sounded nice to stop at the bar and have a cocktail or two. Nobody would know, except me. I ended up hopping in the car when I got home and grabbing groceries and picked up a couple of treats instead (non-alcoholic) along with a few things that are actually healthy for me, just so they\\'re around I\\'m more likely to eat em (fruit, nuts, etc).\\n\\nI hope you are able to check in with yourselves when you notice you\\'re craving and getting wrapped up in the veil of our *oh-so-precious ego* trying to call the shots \"hey, we\\'re special and we\\'re feeling uncomfortable feelings, lets go get a drink and stuff that shit down!\"', 'author_fullname': 't2_ayjvsw5e', 'saved': False, 'mod_reason_title': None, 'gilded': 0, 'clicked': False, 'title': 'Partner is out of town - really wanted to drink last night', 'link_flair_richtext': [], 'subreddit_name_prefixed': 'r/stopdrinking', 'hidden': False, 'pwls': 0, 'link_flair_css_class': None, 'downs': 0, 'top_awarded_type': None, 'hide_score': True, 'name': 't3_uu4eio', 'quarantine': False, 'link_flair_text_color': 'dark', 'upvote_ratio': 1.0, 'author_flair_background_color': None, 'subreddit_type': 'public', 'ups': 3, 'total_awards_received': 0, 'media_embed': {}, 'author_flair_template_id': None, 'is_original_content': False, 'user_reports': [], 'secure_media': None, 'is_reddit_media_domain': False, 'is_meta': False, 'category': None, 'secure_media_embed': {}, 'link_flair_text': None, 'can_mod_post': False, 'score': 3, 'approved_by': None, 'is_created_from_ads_ui': False, 'author_premium': False, 'thumbnail': '', 'edited': False, 'author_flair_css_class': None, 'author_flair_richtext': [], 'gildings': {}, 'content_categories': None, 'is_self': True, 'mod_note': None, 'created': 1653071151.0, 'link_flair_type': 'text', 'wls': 0, 'removed_by_category': None, 'banned_by': None, 'author_flair_type': 'text', 'domain': 'self.stopdrinking', 'allow_live_comments': False, 'selftext_html': '&lt;!-- SC_OFF --&gt;&lt;div class=\"md\"&gt;&lt;p&gt;My partner is out of the country for a work trip. They&amp;#39;ve been gone for a week as of today and will be gone next week. I enjoy my solitude as an introvert and only-child, but I still am finding myself feeling sad and lonely. &lt;/p&gt;\\n\\n&lt;p&gt;Since they&amp;#39;ve been gone I haven&amp;#39;t gone for a run, I haven&amp;#39;t walked the dogs (although I do give them attention). I haven&amp;#39;t really been working from home while they are gone either, been making the commute 1.5 hours into the office - I enjoy the energy there, and the motorcycle ride, plus there is a ferry involved and it&amp;#39;s very peaceful and pretty 20 minute transfer.&lt;/p&gt;\\n\\n&lt;p&gt;I noticed on the ferry ride I&amp;#39;ve been checking my phone more than appreciating the view and experience, which then makes me feel kinda triggered thanks to the doom-scrolling, making me feel like I gotta &amp;quot;move move move&amp;quot; and &amp;quot;do something about issue x, y, and z&amp;quot;. Which then ends up making me stressed, which then makes me crave the affects of alcohol, that &amp;quot;aaah&amp;quot; feeling when the first few sips start to metabolize in your stomach and you stop giving a shit.&lt;/p&gt;\\n\\n&lt;p&gt;Yesterday on the way home, boy it sounded nice to stop at the bar and have a cocktail or two. Nobody would know, except me. I ended up hopping in the car when I got home and grabbing groceries and picked up a couple of treats instead (non-alcoholic) along with a few things that are actually healthy for me, just so they&amp;#39;re around I&amp;#39;m more likely to eat em (fruit, nuts, etc).&lt;/p&gt;\\n\\n&lt;p&gt;I hope you are able to check in with yourselves when you notice you&amp;#39;re craving and getting wrapped up in the veil of our &lt;em&gt;oh-so-precious ego&lt;/em&gt; trying to call the shots &amp;quot;hey, we&amp;#39;re special and we&amp;#39;re feeling uncomfortable feelings, lets go get a drink and stuff that shit down!&amp;quot;&lt;/p&gt;\\n&lt;/div&gt;&lt;!-- SC_ON --&gt;', 'likes': None, 'suggested_sort': None, 'banned_at_utc': None, 'view_count': None, 'archived': False, 'no_follow': False, 'is_crosspostable': False, 'pinned': False, 'over_18': False, 'all_awardings': [], 'awarders': [], 'media_only': False, 'can_gild': True, 'spoiler': False, 'locked': False, 'author_flair_text': None, 'treatment_tags': [], 'visited': False, 'removed_by': None, 'num_reports': None, 'distinguished': None, 'subreddit_id': 't5_2s7yr', 'author_is_blocked': False, 'mod_reason_by': None, 'removal_reason': None, 'link_flair_background_color': '', 'id': 'uu4eio', 'is_robot_indexable': True, 'report_reasons': None, 'author': 'brainbrake', 'discussion_type': None, 'num_comments': 2, 'send_replies': True, 'whitelist_status': 'no_ads', 'contest_mode': False, 'mod_reports': [], 'author_patreon_flair': False, 'author_flair_text_color': None, 'permalink': '/r/stopdrinking/comments/uu4eio/partner_is_out_of_town_really_wanted_to_drink/', 'parent_whitelist_status': 'no_ads', 'stickied': False, 'url': 'https://www.reddit.com/r/stopdrinking/comments/uu4eio/partner_is_out_of_town_really_wanted_to_drink/', 'subreddit_subscribers': 360805, 'created_utc': 1653071151.0, 'num_crossposts': 0, 'media': None, 'is_video': False}}, {'kind': 't3', 'data': {'approved_at_utc': None, 'subreddit': 'stopdrinking', 'selftext': 'Been drinking around 10-12 drinks a night for the last few years with occasional nights off when i drank to much the night prior. Developed severe anxiety from the hangovers (rapid heart rate/ shaking / etc.) and even got prescribed some light meds. Said i owe it to myself to see how i feel if i just stop boozin it for a month. Heart rate back to normal, i’m going out more, exercising without my heart beating too fast. Thinking about trying to make this 30 day challenge a little longer if possible. I like feeling normal.', 'author_fullname': 't2_2yhcdh', 'saved': False, 'mod_reason_title': None, 'gilded': 0, 'clicked': False, 'title': '10 Days into my 30 Day sober challenge.', 'link_flair_richtext': [], 'subreddit_name_prefixed': 'r/stopdrinking', 'hidden': False, 'pwls': 0, 'link_flair_css_class': None, 'downs': 0, 'top_awarded_type': None, 'hide_score': True, 'name': 't3_uu48t3', 'quarantine': False, 'link_flair_text_color': 'dark', 'upvote_ratio': 1.0, 'author_flair_background_color': None, 'subreddit_type': 'public', 'ups': 3, 'total_awards_received': 0, 'media_embed': {}, 'author_flair_template_id': None, 'is_original_content': False, 'user_reports': [], 'secure_media': None, 'is_reddit_media_domain': False, 'is_meta': False, 'category': None, 'secure_media_embed': {}, 'link_flair_text': None, 'can_mod_post': False, 'score': 3, 'approved_by': None, 'is_created_from_ads_ui': False, 'author_premium': False, 'thumbnail': '', 'edited': False, 'author_flair_css_class': None, 'author_flair_richtext': [], 'gildings': {}, 'content_categories': None, 'is_self': True, 'mod_note': None, 'created': 1653070683.0, 'link_flair_type': 'text', 'wls': 0, 'removed_by_category': None, 'banned_by': None, 'author_flair_type': 'text', 'domain': 'self.stopdrinking', 'allow_live_comments': True, 'selftext_html': '&lt;!-- SC_OFF --&gt;&lt;div class=\"md\"&gt;&lt;p&gt;Been drinking around 10-12 drinks a night for the last few years with occasional nights off when i drank to much the night prior. Developed severe anxiety from the hangovers (rapid heart rate/ shaking / etc.) and even got prescribed some light meds. Said i owe it to myself to see how i feel if i just stop boozin it for a month. Heart rate back to normal, i’m going out more, exercising without my heart beating too fast. Thinking about trying to make this 30 day challenge a little longer if possible. I like feeling normal.&lt;/p&gt;\\n&lt;/div&gt;&lt;!-- SC_ON --&gt;', 'likes': None, 'suggested_sort': None, 'banned_at_utc': None, 'view_count': None, 'archived': False, 'no_follow': False, 'is_crosspostable': False, 'pinned': False, 'over_18': False, 'all_awardings': [], 'awarders': [], 'media_only': False, 'can_gild': True, 'spoiler': False, 'locked': False, 'author_flair_text': None, 'treatment_tags': [], 'visited': False, 'removed_by': None, 'num_reports': None, 'distinguished': None, 'subreddit_id': 't5_2s7yr', 'author_is_blocked': False, 'mod_reason_by': None, 'removal_reason': None, 'link_flair_background_color': '', 'id': 'uu48t3', 'is_robot_indexable': True, 'report_reasons': None, 'author': 'bamboobmab83', 'discussion_type': None, 'num_comments': 5, 'send_replies': True, 'whitelist_status': 'no_ads', 'contest_mode': False, 'mod_reports': [], 'author_patreon_flair': False, 'author_flair_text_color': None, 'permalink': '/r/stopdrinking/comments/uu48t3/10_days_into_my_30_day_sober_challenge/', 'parent_whitelist_status': 'no_ads', 'stickied': False, 'url': 'https://www.reddit.com/r/stopdrinking/comments/uu48t3/10_days_into_my_30_day_sober_challenge/', 'subreddit_subscribers': 360805, 'created_utc': 1653070683.0, 'num_crossposts': 0, 'media': None, 'is_video': False}}, {'kind': 't3', 'data': {'approved_at_utc': None, 'subreddit': 'stopdrinking', 'selftext': 'Day 5 sober 🙌🏼 ODAAT', 'author_fullname': 't2_nbsix3bi', 'saved': False, 'mod_reason_title': None, 'gilded': 0, 'clicked': False, 'title': 'Friday', 'link_flair_richtext': [], 'subreddit_name_prefixed': 'r/stopdrinking', 'hidden': False, 'pwls': 0, 'link_flair_css_class': None, 'downs': 0, 'top_awarded_type': None, 'hide_score': True, 'name': 't3_uu45b5', 'quarantine': False, 'link_flair_text_color': 'dark', 'upvote_ratio': 0.75, 'author_flair_background_color': None, 'subreddit_type': 'public', 'ups': 2, 'total_awards_received': 0, 'media_embed': {}, 'author_flair_template_id': None, 'is_original_content': False, 'user_reports': [], 'secure_media': None, 'is_reddit_media_domain': False, 'is_meta': False, 'category': None, 'secure_media_embed': {}, 'link_flair_text': None, 'can_mod_post': False, 'score': 2, 'approved_by': None, 'is_created_from_ads_ui': False, 'author_premium': False, 'thumbnail': '', 'edited': False, 'author_flair_css_class': None, 'author_flair_richtext': [], 'gildings': {}, 'content_categories': None, 'is_self': True, 'mod_note': None, 'created': 1653070393.0, 'link_flair_type': 'text', 'wls': 0, 'removed_by_category': None, 'banned_by': None, 'author_flair_type': 'text', 'domain': 'self.stopdrinking', 'allow_live_comments': False, 'selftext_html': '&lt;!-- SC_OFF --&gt;&lt;div class=\"md\"&gt;&lt;p&gt;Day 5 sober 🙌🏼 ODAAT&lt;/p&gt;\\n&lt;/div&gt;&lt;!-- SC_ON --&gt;', 'likes': None, 'suggested_sort': None, 'banned_at_utc': None, 'view_count': None, 'archived': False, 'no_follow': False, 'is_crosspostable': False, 'pinned': False, 'over_18': False, 'all_awardings': [], 'awarders': [], 'media_only': False, 'can_gild': True, 'spoiler': False, 'locked': False, 'author_flair_text': None, 'treatment_tags': [], 'visited': False, 'removed_by': None, 'num_reports': None, 'distinguished': None, 'subreddit_id': 't5_2s7yr', 'author_is_blocked': False, 'mod_reason_by': None, 'removal_reason': None, 'link_flair_background_color': '', 'id': 'uu45b5', 'is_robot_indexable': True, 'report_reasons': None, 'author': 'Strong-Ad-3596', 'discussion_type': None, 'num_comments': 1, 'send_replies': True, 'whitelist_status': 'no_ads', 'contest_mode': False, 'mod_reports': [], 'author_patreon_flair': False, 'author_flair_text_color': None, 'permalink': '/r/stopdrinking/comments/uu45b5/friday/', 'parent_whitelist_status': 'no_ads', 'stickied': False, 'url': 'https://www.reddit.com/r/stopdrinking/comments/uu45b5/friday/', 'subreddit_subscribers': 360805, 'created_utc': 1653070393.0, 'num_crossposts': 0, 'media': None, 'is_video': False}}, {'kind': 't3', 'data': {'approved_at_utc': None, 'subreddit': 'stopdrinking', 'selftext': \"I was curious to see what if any other symptoms you guys might have had during the post acute phase of withdrawal. Ive been binge drinking for about 8 years, maybe twice per week on average. It's been quite a one two punch for me, back in October I had the pleasure of finding out my dad had alzheimers after my step mom walked out on him. Long story short I had to step in and take care of him and mine, get all of his affairs in order and apply for his medacaid Yada Yada put him somewhere safe. I slowed way down on my drinking at that time and shortly thereafter started getting brain worms. Massive confusion and memory. Brain zaps. Anxiety was through the roof and I was doing the anxiety spiral all night at work, then nightmares and broken sleep during the day. Eventually I went to the Dr about all this. I honestly had no idea about the alcohol withdrawal. I kept drinking a little, then a little more, until March of this year. Now I am past 60 days, I still have brain fog pretty bad half of the days. But, I have a couple odd ones too like heart PVCs and the occasional waking up at night gasping for air. Sometimes it's like my brain just doesn't ask to breathe. I have been to the Dr about this as well, they think it is anxiety, not ruling out a sleep study.\\n\\nI was just curious if anyone else experienced those as well?\", 'author_fullname': 't2_2vk9g', 'saved': False, 'mod_reason_title': None, 'gilded': 0, 'clicked': False, 'title': 'A couple post acute issue questions', 'link_flair_richtext': [], 'subreddit_name_prefixed': 'r/stopdrinking', 'hidden': False, 'pwls': 0, 'link_flair_css_class': None, 'downs': 0, 'top_awarded_type': None, 'hide_score': True, 'name': 't3_uu40da', 'quarantine': False, 'link_flair_text_color': 'dark', 'upvote_ratio': 1.0, 'author_flair_background_color': None, 'subreddit_type': 'public', 'ups': 2, 'total_awards_received': 0, 'media_embed': {}, 'author_flair_template_id': None, 'is_original_content': False, 'user_reports': [], 'secure_media': None, 'is_reddit_media_domain': False, 'is_meta': False, 'category': None, 'secure_media_embed': {}, 'link_flair_text': None, 'can_mod_post': False, 'score': 2, 'approved_by': None, 'is_created_from_ads_ui': False, 'author_premium': False, 'thumbnail': '', 'edited': False, 'author_flair_css_class': None, 'author_flair_richtext': [], 'gildings': {}, 'content_categories': None, 'is_self': True, 'mod_note': None, 'created': 1653070013.0, 'link_flair_type': 'text', 'wls': 0, 'removed_by_category': None, 'banned_by': None, 'author_flair_type': 'text', 'domain': 'self.stopdrinking', 'allow_live_comments': False, 'selftext_html': '&lt;!-- SC_OFF --&gt;&lt;div class=\"md\"&gt;&lt;p&gt;I was curious to see what if any other symptoms you guys might have had during the post acute phase of withdrawal. Ive been binge drinking for about 8 years, maybe twice per week on average. It&amp;#39;s been quite a one two punch for me, back in October I had the pleasure of finding out my dad had alzheimers after my step mom walked out on him. Long story short I had to step in and take care of him and mine, get all of his affairs in order and apply for his medacaid Yada Yada put him somewhere safe. I slowed way down on my drinking at that time and shortly thereafter started getting brain worms. Massive confusion and memory. Brain zaps. Anxiety was through the roof and I was doing the anxiety spiral all night at work, then nightmares and broken sleep during the day. Eventually I went to the Dr about all this. I honestly had no idea about the alcohol withdrawal. I kept drinking a little, then a little more, until March of this year. Now I am past 60 days, I still have brain fog pretty bad half of the days. But, I have a couple odd ones too like heart PVCs and the occasional waking up at night gasping for air. Sometimes it&amp;#39;s like my brain just doesn&amp;#39;t ask to breathe. I have been to the Dr about this as well, they think it is anxiety, not ruling out a sleep study.&lt;/p&gt;\\n\\n&lt;p&gt;I was just curious if anyone else experienced those as well?&lt;/p&gt;\\n&lt;/div&gt;&lt;!-- SC_ON --&gt;', 'likes': None, 'suggested_sort': None, 'banned_at_utc': None, 'view_count': None, 'archived': False, 'no_follow': False, 'is_crosspostable': False, 'pinned': False, 'over_18': False, 'all_awardings': [], 'awarders': [], 'media_only': False, 'can_gild': True, 'spoiler': False, 'locked': False, 'author_flair_text': None, 'treatment_tags': [], 'visited': False, 'removed_by': None, 'num_reports': None, 'distinguished': None, 'subreddit_id': 't5_2s7yr', 'author_is_blocked': False, 'mod_reason_by': None, 'removal_reason': None, 'link_flair_background_color': '', 'id': 'uu40da', 'is_robot_indexable': True, 'report_reasons': None, 'author': 'masterfap', 'discussion_type': None, 'num_comments': 0, 'send_replies': True, 'whitelist_status': 'no_ads', 'contest_mode': False, 'mod_reports': [], 'author_patreon_flair': False, 'author_flair_text_color': None, 'permalink': '/r/stopdrinking/comments/uu40da/a_couple_post_acute_issue_questions/', 'parent_whitelist_status': 'no_ads', 'stickied': False, 'url': 'https://www.reddit.com/r/stopdrinking/comments/uu40da/a_couple_post_acute_issue_questions/', 'subreddit_subscribers': 360805, 'created_utc': 1653070013.0, 'num_crossposts': 0, 'media': None, 'is_video': False}}, {'kind': 't3', 'data': {'approved_at_utc': None, 'subreddit': 'stopdrinking', 'selftext': 'My sister-in-law has her out of town bachelorette party this weekend and I decided (awhile back) not to go. I like her a lot, but we’re very different. She has a huge friend group and I knew it would be a heavy drinking occasion. It was also going to be very expensive.\\n\\nWell, I got some shade thrown at me from her friends, who didn’t realize I was still on the email chain. Obviously they don’t know anything about me or my situation, but it stung a little nonetheless. My mother-in-law also made a comment to me about it, kind of asking me what else I had going on this weekend that was so important I couldn’t attend. (My SIL didn’t actually seem to care that much lol)\\n\\nMan, it can be so hard to walk this path without feeling like I have to break myself open and show everyone what’s wrong with me. I’m not quite there with my in-laws, so it’s lame excuses and quasi-lies instead. \\n\\nAnyway, still very glad I didn’t go. I would have been extremely tempted to drink. But I hate dealing with the judgement and feeling like I have to explain myself.\\n\\nIWNDWYT', 'author_fullname': 't2_jxlvz0x8', 'saved': False, 'mod_reason_title': None, 'gilded': 0, 'clicked': False, 'title': 'Skipped my SIL’s bachelorette', 'link_flair_richtext': [], 'subreddit_name_prefixed': 'r/stopdrinking', 'hidden': False, 'pwls': 0, 'link_flair_css_class': None, 'downs': 0, 'top_awarded_type': None, 'hide_score': True, 'name': 't3_uu3zp1', 'quarantine': False, 'link_flair_text_color': 'dark', 'upvote_ratio': 1.0, 'author_flair_background_color': '', 'subreddit_type': 'public', 'ups': 3, 'total_awards_received': 0, 'media_embed': {}, 'author_flair_template_id': None, 'is_original_content': False, 'user_reports': [], 'secure_media': None, 'is_reddit_media_domain': False, 'is_meta': False, 'category': None, 'secure_media_embed': {}, 'link_flair_text': None, 'can_mod_post': False, 'score': 3, 'approved_by': None, 'is_created_from_ads_ui': False, 'author_premium': False, 'thumbnail': '', 'edited': False, 'author_flair_css_class': 'month2', 'author_flair_richtext': [], 'gildings': {}, 'content_categories': None, 'is_self': True, 'mod_note': None, 'created': 1653069956.0, 'link_flair_type': 'text', 'wls': 0, 'removed_by_category': None, 'banned_by': None, 'author_flair_type': 'text', 'domain': 'self.stopdrinking', 'allow_live_comments': False, 'selftext_html': '&lt;!-- SC_OFF --&gt;&lt;div class=\"md\"&gt;&lt;p&gt;My sister-in-law has her out of town bachelorette party this weekend and I decided (awhile back) not to go. I like her a lot, but we’re very different. She has a huge friend group and I knew it would be a heavy drinking occasion. It was also going to be very expensive.&lt;/p&gt;\\n\\n&lt;p&gt;Well, I got some shade thrown at me from her friends, who didn’t realize I was still on the email chain. Obviously they don’t know anything about me or my situation, but it stung a little nonetheless. My mother-in-law also made a comment to me about it, kind of asking me what else I had going on this weekend that was so important I couldn’t attend. (My SIL didn’t actually seem to care that much lol)&lt;/p&gt;\\n\\n&lt;p&gt;Man, it can be so hard to walk this path without feeling like I have to break myself open and show everyone what’s wrong with me. I’m not quite there with my in-laws, so it’s lame excuses and quasi-lies instead. &lt;/p&gt;\\n\\n&lt;p&gt;Anyway, still very glad I didn’t go. I would have been extremely tempted to drink. But I hate dealing with the judgement and feeling like I have to explain myself.&lt;/p&gt;\\n\\n&lt;p&gt;IWNDWYT&lt;/p&gt;\\n&lt;/div&gt;&lt;!-- SC_ON --&gt;', 'likes': None, 'suggested_sort': None, 'banned_at_utc': None, 'view_count': None, 'archived': False, 'no_follow': False, 'is_crosspostable': False, 'pinned': False, 'over_18': False, 'all_awardings': [], 'awarders': [], 'media_only': False, 'can_gild': True, 'spoiler': False, 'locked': False, 'author_flair_text': '88 days', 'treatment_tags': [], 'visited': False, 'removed_by': None, 'num_reports': None, 'distinguished': None, 'subreddit_id': 't5_2s7yr', 'author_is_blocked': False, 'mod_reason_by': None, 'removal_reason': None, 'link_flair_background_color': '', 'id': 'uu3zp1', 'is_robot_indexable': True, 'report_reasons': None, 'author': 'trytryagain_', 'discussion_type': None, 'num_comments': 3, 'send_replies': True, 'whitelist_status': 'no_ads', 'contest_mode': False, 'mod_reports': [], 'author_patreon_flair': False, 'author_flair_text_color': 'dark', 'permalink': '/r/stopdrinking/comments/uu3zp1/skipped_my_sils_bachelorette/', 'parent_whitelist_status': 'no_ads', 'stickied': False, 'url': 'https://www.reddit.com/r/stopdrinking/comments/uu3zp1/skipped_my_sils_bachelorette/', 'subreddit_subscribers': 360805, 'created_utc': 1653069956.0, 'num_crossposts': 0, 'media': None, 'is_video': False}}, {'kind': 't3', 'data': {'approved_at_utc': None, 'subreddit': 'stopdrinking', 'selftext': 'She is an alcoholic. She says she used to drink an entire box of wine a day. I couldn’t ever believe it because I never saw it happen. That’s because a year before I was born (I’m her firstborn), she made the difficult decision to give it all up for her dream to be a mother. A long line of alcoholics in her family gave my mom a rough childhood. Her parents would argue and hurt each other physically in front of her. She knew she never wanted a child of hers to have that experience. To this day I have never seen her drink a single drop of alcohol. Both of my parents for my entire life have been sober. I am so lucky. She may have passed along that pesky alcoholic gene but I have the best role model for sobriety. To those of us who have kids: a sober parent is the best parent. You are able to be more involved, more emotionally present than if you are drinking. Let’s do it for ourselves, our health, our happiness, and our sweet babies who deserve the world. So thankful for this community ❤️', 'author_fullname': 't2_bxh75osr', 'saved': False, 'mod_reason_title': None, 'gilded': 0, 'clicked': False, 'title': 'My mom', 'link_flair_richtext': [], 'subreddit_name_prefixed': 'r/stopdrinking', 'hidden': False, 'pwls': 0, 'link_flair_css_class': None, 'downs': 0, 'top_awarded_type': None, 'hide_score': True, 'name': 't3_uu3ybm', 'quarantine': False, 'link_flair_text_color': 'dark', 'upvote_ratio': 1.0, 'author_flair_background_color': '', 'subreddit_type': 'public', 'ups': 9, 'total_awards_received': 0, 'media_embed': {}, 'author_flair_template_id': None, 'is_original_content': False, 'user_reports': [], 'secure_media': None, 'is_reddit_media_domain': False, 'is_meta': False, 'category': None, 'secure_media_embed': {}, 'link_flair_text': None, 'can_mod_post': False, 'score': 9, 'approved_by': None, 'is_created_from_ads_ui': False, 'author_premium': False, 'thumbnail': '', 'edited': False, 'author_flair_css_class': '', 'author_flair_richtext': [], 'gildings': {}, 'content_categories': None, 'is_self': True, 'mod_note': None, 'created': 1653069855.0, 'link_flair_type': 'text', 'wls': 0, 'removed_by_category': None, 'banned_by': None, 'author_flair_type': 'text', 'domain': 'self.stopdrinking', 'allow_live_comments': False, 'selftext_html': '&lt;!-- SC_OFF --&gt;&lt;div class=\"md\"&gt;&lt;p&gt;She is an alcoholic. She says she used to drink an entire box of wine a day. I couldn’t ever believe it because I never saw it happen. That’s because a year before I was born (I’m her firstborn), she made the difficult decision to give it all up for her dream to be a mother. A long line of alcoholics in her family gave my mom a rough childhood. Her parents would argue and hurt each other physically in front of her. She knew she never wanted a child of hers to have that experience. To this day I have never seen her drink a single drop of alcohol. Both of my parents for my entire life have been sober. I am so lucky. She may have passed along that pesky alcoholic gene but I have the best role model for sobriety. To those of us who have kids: a sober parent is the best parent. You are able to be more involved, more emotionally present than if you are drinking. Let’s do it for ourselves, our health, our happiness, and our sweet babies who deserve the world. So thankful for this community ❤️&lt;/p&gt;\\n&lt;/div&gt;&lt;!-- SC_ON --&gt;', 'likes': None, 'suggested_sort': None, 'banned_at_utc': None, 'view_count': None, 'archived': False, 'no_follow': False, 'is_crosspostable': False, 'pinned': False, 'over_18': False, 'all_awardings': [], 'awarders': [], 'media_only': False, 'can_gild': True, 'spoiler': False, 'locked': False, 'author_flair_text': '', 'treatment_tags': [], 'visited': False, 'removed_by': None, 'num_reports': None, 'distinguished': None, 'subreddit_id': 't5_2s7yr', 'author_is_blocked': False, 'mod_reason_by': None, 'removal_reason': None, 'link_flair_background_color': '', 'id': 'uu3ybm', 'is_robot_indexable': True, 'report_reasons': None, 'author': 'lilmonk111', 'discussion_type': None, 'num_comments': 0, 'send_replies': True, 'whitelist_status': 'no_ads', 'contest_mode': False, 'mod_reports': [], 'author_patreon_flair': False, 'author_flair_text_color': '', 'permalink': '/r/stopdrinking/comments/uu3ybm/my_mom/', 'parent_whitelist_status': 'no_ads', 'stickied': False, 'url': 'https://www.reddit.com/r/stopdrinking/comments/uu3ybm/my_mom/', 'subreddit_subscribers': 360805, 'created_utc': 1653069855.0, 'num_crossposts': 0, 'media': None, 'is_video': False}}, {'kind': 't3', 'data': {'approved_at_utc': None, 'subreddit': 'stopdrinking', 'selftext': \"Just went to an AA meeting, one that I like for younger people. However, all through and right after I was feeling incredibly awkward and anxious. Even after when we all went to eat I couldn't talk or enjoy myself. I'm almost a month sober (counter is wrong) and being around people sober and trying to socialize is very difficult for me. I ended up bailing in a quiet way and now going home. \\n\\nFeel like garbage and sad that there isn't really a cure for my shitty awkwardness and anxiety. Still not going to drink as that's not an option for me and deffo not a better alternative, still feeling a little hopeless though.\", 'author_fullname': 't2_j8hma', 'saved': False, 'mod_reason_title': None, 'gilded': 0, 'clicked': False, 'title': 'Feeling lame', 'link_flair_richtext': [], 'subreddit_name_prefixed': 'r/stopdrinking', 'hidden': False, 'pwls': 0, 'link_flair_css_class': None, 'downs': 0, 'top_awarded_type': None, 'hide_score': True, 'name': 't3_uu3vy7', 'quarantine': False, 'link_flair_text_color': 'dark', 'upvote_ratio': 1.0, 'author_flair_background_color': '', 'subreddit_type': 'public', 'ups': 1, 'total_awards_received': 0, 'media_embed': {}, 'author_flair_template_id': None, 'is_original_content': False, 'user_reports': [], 'secure_media': None, 'is_reddit_media_domain': False, 'is_meta': False, 'category': None, 'secure_media_embed': {}, 'link_flair_text': None, 'can_mod_post': False, 'score': 1, 'approved_by': None, 'is_created_from_ads_ui': False, 'author_premium': False, 'thumbnail': '', 'edited': False, 'author_flair_css_class': 'month1', 'author_flair_richtext': [], 'gildings': {}, 'content_categories': None, 'is_self': True, 'mod_note': None, 'created': 1653069673.0, 'link_flair_type': 'text', 'wls': 0, 'removed_by_category': None, 'banned_by': None, 'author_flair_type': 'text', 'domain': 'self.stopdrinking', 'allow_live_comments': False, 'selftext_html': '&lt;!-- SC_OFF --&gt;&lt;div class=\"md\"&gt;&lt;p&gt;Just went to an AA meeting, one that I like for younger people. However, all through and right after I was feeling incredibly awkward and anxious. Even after when we all went to eat I couldn&amp;#39;t talk or enjoy myself. I&amp;#39;m almost a month sober (counter is wrong) and being around people sober and trying to socialize is very difficult for me. I ended up bailing in a quiet way and now going home. &lt;/p&gt;\\n\\n&lt;p&gt;Feel like garbage and sad that there isn&amp;#39;t really a cure for my shitty awkwardness and anxiety. Still not going to drink as that&amp;#39;s not an option for me and deffo not a better alternative, still feeling a little hopeless though.&lt;/p&gt;\\n&lt;/div&gt;&lt;!-- SC_ON --&gt;', 'likes': None, 'suggested_sort': None, 'banned_at_utc': None, 'view_count': None, 'archived': False, 'no_follow': True, 'is_crosspostable': False, 'pinned': False, 'over_18': False, 'all_awardings': [], 'awarders': [], 'media_only': False, 'can_gild': True, 'spoiler': False, 'locked': False, 'author_flair_text': '46 days', 'treatment_tags': [], 'visited': False, 'removed_by': None, 'num_reports': None, 'distinguished': None, 'subreddit_id': 't5_2s7yr', 'author_is_blocked': False, 'mod_reason_by': None, 'removal_reason': None, 'link_flair_background_color': '', 'id': 'uu3vy7', 'is_robot_indexable': True, 'report_reasons': None, 'author': 'sherrintini', 'discussion_type': None, 'num_comments': 1, 'send_replies': True, 'whitelist_status': 'no_ads', 'contest_mode': False, 'mod_reports': [], 'author_patreon_flair': False, 'author_flair_text_color': 'dark', 'permalink': '/r/stopdrinking/comments/uu3vy7/feeling_lame/', 'parent_whitelist_status': 'no_ads', 'stickied': False, 'url': 'https://www.reddit.com/r/stopdrinking/comments/uu3vy7/feeling_lame/', 'subreddit_subscribers': 360805, 'created_utc': 1653069673.0, 'num_crossposts': 0, 'media': None, 'is_video': False}}, {'kind': 't3', 'data': {'approved_at_utc': None, 'subreddit': 'stopdrinking', 'selftext': 'Despite what the advertisers want to make you think, drinking is not enjoyable.\\n\\nHangovers are not enjoyable. \\n\\nBad sleep is not enjoyable.\\n\\nAnxiety is not enjoyable.\\n\\nMaking a complete fool of myself is not enjoyable.\\n\\nThoughts about drinking nonstop all the time is not enjoyable.\\n\\nThis is a reminder to myself that alcohol is not a “fun” drug. It’s a drug that makes me a worse version of my true self. IWNDWYT', 'author_fullname': 't2_4jvruyf0', 'saved': False, 'mod_reason_title': None, 'gilded': 0, 'clicked': False, 'title': 'Drinking is not enjoyable', 'link_flair_richtext': [], 'subreddit_name_prefixed': 'r/stopdrinking', 'hidden': False, 'pwls': 0, 'link_flair_css_class': None, 'downs': 0, 'top_awarded_type': None, 'hide_score': True, 'name': 't3_uu3juv', 'quarantine': False, 'link_flair_text_color': 'dark', 'upvote_ratio': 1.0, 'author_flair_background_color': '', 'subreddit_type': 'public', 'ups': 10, 'total_awards_received': 0, 'media_embed': {}, 'author_flair_template_id': None, 'is_original_content': False, 'user_reports': [], 'secure_media': None, 'is_reddit_media_domain': False, 'is_meta': False, 'category': None, 'secure_media_embed': {}, 'link_flair_text': None, 'can_mod_post': False, 'score': 10, 'approved_by': None, 'is_created_from_ads_ui': False, 'author_premium': False, 'thumbnail': '', 'edited': False, 'author_flair_css_class': 'week2', 'author_flair_richtext': [], 'gildings': {}, 'content_categories': None, 'is_self': True, 'mod_note': None, 'created': 1653068750.0, 'link_flair_type': 'text', 'wls': 0, 'removed_by_category': None, 'banned_by': None, 'author_flair_type': 'text', 'domain': 'self.stopdrinking', 'allow_live_comments': False, 'selftext_html': '&lt;!-- SC_OFF --&gt;&lt;div class=\"md\"&gt;&lt;p&gt;Despite what the advertisers want to make you think, drinking is not enjoyable.&lt;/p&gt;\\n\\n&lt;p&gt;Hangovers are not enjoyable. &lt;/p&gt;\\n\\n&lt;p&gt;Bad sleep is not enjoyable.&lt;/p&gt;\\n\\n&lt;p&gt;Anxiety is not enjoyable.&lt;/p&gt;\\n\\n&lt;p&gt;Making a complete fool of myself is not enjoyable.&lt;/p&gt;\\n\\n&lt;p&gt;Thoughts about drinking nonstop all the time is not enjoyable.&lt;/p&gt;\\n\\n&lt;p&gt;This is a reminder to myself that alcohol is not a “fun” drug. It’s a drug that makes me a worse version of my true self. IWNDWYT&lt;/p&gt;\\n&lt;/div&gt;&lt;!-- SC_ON --&gt;', 'likes': None, 'suggested_sort': None, 'banned_at_utc': None, 'view_count': None, 'archived': False, 'no_follow': False, 'is_crosspostable': False, 'pinned': False, 'over_18': False, 'all_awardings': [], 'awarders': [], 'media_only': False, 'can_gild': True, 'spoiler': False, 'locked': False, 'author_flair_text': '19 days', 'treatment_tags': [], 'visited': False, 'removed_by': None, 'num_reports': None, 'distinguished': None, 'subreddit_id': 't5_2s7yr', 'author_is_blocked': False, 'mod_reason_by': None, 'removal_reason': None, 'link_flair_background_color': '', 'id': 'uu3juv', 'is_robot_indexable': True, 'report_reasons': None, 'author': 'GulfCoastGator', 'discussion_type': None, 'num_comments': 2, 'send_replies': True, 'whitelist_status': 'no_ads', 'contest_mode': False, 'mod_reports': [], 'author_patreon_flair': False, 'author_flair_text_color': 'dark', 'permalink': '/r/stopdrinking/comments/uu3juv/drinking_is_not_enjoyable/', 'parent_whitelist_status': 'no_ads', 'stickied': False, 'url': 'https://www.reddit.com/r/stopdrinking/comments/uu3juv/drinking_is_not_enjoyable/', 'subreddit_subscribers': 360805, 'created_utc': 1653068750.0, 'num_crossposts': 0, 'media': None, 'is_video': False}}, {'kind': 't3', 'data': {'approved_at_utc': None, 'subreddit': 'stopdrinking', 'selftext': 'I’ve been off the wagon for a while now, and I have zero desire to get better. I hate this. I’ve missed work today yet again because of a hangover. I don’t want to be like this…. Any tips on how to want to get back on the wagon?????', 'author_fullname': 't2_candts83', 'saved': False, 'mod_reason_title': None, 'gilded': 0, 'clicked': False, 'title': 'Struggling', 'link_flair_richtext': [], 'subreddit_name_prefixed': 'r/stopdrinking', 'hidden': False, 'pwls': 0, 'link_flair_css_class': None, 'downs': 0, 'top_awarded_type': None, 'hide_score': True, 'name': 't3_uu3f6v', 'quarantine': False, 'link_flair_text_color': 'dark', 'upvote_ratio': 1.0, 'author_flair_background_color': None, 'subreddit_type': 'public', 'ups': 2, 'total_awards_received': 0, 'media_embed': {}, 'author_flair_template_id': None, 'is_original_content': False, 'user_reports': [], 'secure_media': None, 'is_reddit_media_domain': False, 'is_meta': False, 'category': None, 'secure_media_embed': {}, 'link_flair_text': None, 'can_mod_post': False, 'score': 2, 'approved_by': None, 'is_created_from_ads_ui': False, 'author_premium': False, 'thumbnail': '', 'edited': False, 'author_flair_css_class': None, 'author_flair_richtext': [], 'gildings': {}, 'content_categories': None, 'is_self': True, 'mod_note': None, 'created': 1653068491.0, 'link_flair_type': 'text', 'wls': 0, 'removed_by_category': None, 'banned_by': None, 'author_flair_type': 'text', 'domain': 'self.stopdrinking', 'allow_live_comments': False, 'selftext_html': '&lt;!-- SC_OFF --&gt;&lt;div class=\"md\"&gt;&lt;p&gt;I’ve been off the wagon for a while now, and I have zero desire to get better. I hate this. I’ve missed work today yet again because of a hangover. I don’t want to be like this…. Any tips on how to want to get back on the wagon?????&lt;/p&gt;\\n&lt;/div&gt;&lt;!-- SC_ON --&gt;', 'likes': None, 'suggested_sort': None, 'banned_at_utc': None, 'view_count': None, 'archived': False, 'no_follow': False, 'is_crosspostable': False, 'pinned': False, 'over_18': False, 'all_awardings': [], 'awarders': [], 'media_only': False, 'can_gild': True, 'spoiler': False, 'locked': False, 'author_flair_text': None, 'treatment_tags': [], 'visited': False, 'removed_by': None, 'num_reports': None, 'distinguished': None, 'subreddit_id': 't5_2s7yr', 'author_is_blocked': False, 'mod_reason_by': None, 'removal_reason': None, 'link_flair_background_color': '', 'id': 'uu3f6v', 'is_robot_indexable': True, 'report_reasons': None, 'author': 'Lower_Funny', 'discussion_type': None, 'num_comments': 2, 'send_replies': True, 'whitelist_status': 'no_ads', 'contest_mode': False, 'mod_reports': [], 'author_patreon_flair': False, 'author_flair_text_color': None, 'permalink': '/r/stopdrinking/comments/uu3f6v/struggling/', 'parent_whitelist_status': 'no_ads', 'stickied': False, 'url': 'https://www.reddit.com/r/stopdrinking/comments/uu3f6v/struggling/', 'subreddit_subscribers': 360805, 'created_utc': 1653068491.0, 'num_crossposts': 0, 'media': None, 'is_video': False}}, {'kind': 't3', 'data': {'approved_at_utc': None, 'subreddit': 'stopdrinking', 'selftext': 'I’ve always struggled with being in a good mood in the morning, for my entire life. Here at 29 years, I’m having a lot of trouble stopping drinking. I mostly drink beer and seltzers and try to stay away from\\nliquor and never black out. However sometimes I’ll drink all day, spacing them out, but maybe having 6-12 drinks at most. \\n\\nWhen I stop for a few days, I’m constantly thinking about drinking and fighting the urge to go to the corner store. It takes up a lot of energy in my mind. \\n\\nToday I woke up a little hungover with one tall can left. My first thought is to have the beer, but physically I know my body doesn’t want it, but my mind does. Sometimes when I drink in the morning, I’ll immediately throwing up because of stomach acid, my body doesn’t want it but my brain does. \\n\\nAlso, my ex and I broke up originally in October when she cheated on me while in a blacked out manic state with someone I thought I could trust. She left with him after I punched him for calling her a slut and insulting me for having a new gf soon after another relationship. In reality he was incredibly jealous of my life. She saw violence but didn’t hear anything he said to me about her as he swept her up under the disguise that I was the bad guy. They ended up having sex and she was so confused and out of it she said my name the whole time. After that we broke up, I ended up having sex with his baby mama several times until that became triggering in itself. I still have lots of hate for this dude that I really want to let go of. \\n\\nAnyways my ex and I got back together and broke up a couple times all on my terms. We still hook up and it’s amazing yet emotionally taxing. She still loves me and I still love her, yet when I’m with her I’m often reminded of why I shouldn’t be with her. My heart has felt so heavy for so long now. \\n\\nDrinking doesn’t really help and can make things worse at times but I’m still so called to it. Basically I want to free myself from mental Attachments to alcohol and her and reclaim my mind. It’s really hard because I don’t have a lot of close friends where I live and I’m barely paying rent. \\n\\nMornings are tough. No work today. I feel really alone. I just want to feel inspired and motivated for life. I don’t want to be like my dad and drinking alone and depressed. I love him so much. I love people who have hurt me as I see that’s it’s not always their intention and often just their own demons. \\n\\nI just wish I could love myself more.', 'author_fullname': 't2_heu20kt5', 'saved': False, 'mod_reason_title': None, 'gilded': 0, 'clicked': False, 'title': 'Morning Cravings and Depression', 'link_flair_richtext': [], 'subreddit_name_prefixed': 'r/stopdrinking', 'hidden': False, 'pwls': 0, 'link_flair_css_class': None, 'downs': 0, 'top_awarded_type': None, 'hide_score': True, 'name': 't3_uu310r', 'quarantine': False, 'link_flair_text_color': 'dark', 'upvote_ratio': 1.0, 'author_flair_background_color': None, 'subreddit_type': 'public', 'ups': 2, 'total_awards_received': 0, 'media_embed': {}, 'author_flair_template_id': None, 'is_original_content': False, 'user_reports': [], 'secure_media': None, 'is_reddit_media_domain': False, 'is_meta': False, 'category': None, 'secure_media_embed': {}, 'link_flair_text': None, 'can_mod_post': False, 'score': 2, 'approved_by': None, 'is_created_from_ads_ui': False, 'author_premium': False, 'thumbnail': '', 'edited': False, 'author_flair_css_class': None, 'author_flair_richtext': [], 'gildings': {}, 'content_categories': None, 'is_self': True, 'mod_note': None, 'created': 1653067703.0, 'link_flair_type': 'text', 'wls': 0, 'removed_by_category': None, 'banned_by': None, 'author_flair_type': 'text', 'domain': 'self.stopdrinking', 'allow_live_comments': False, 'selftext_html': '&lt;!-- SC_OFF --&gt;&lt;div class=\"md\"&gt;&lt;p&gt;I’ve always struggled with being in a good mood in the morning, for my entire life. Here at 29 years, I’m having a lot of trouble stopping drinking. I mostly drink beer and seltzers and try to stay away from\\nliquor and never black out. However sometimes I’ll drink all day, spacing them out, but maybe having 6-12 drinks at most. &lt;/p&gt;\\n\\n&lt;p&gt;When I stop for a few days, I’m constantly thinking about drinking and fighting the urge to go to the corner store. It takes up a lot of energy in my mind. &lt;/p&gt;\\n\\n&lt;p&gt;Today I woke up a little hungover with one tall can left. My first thought is to have the beer, but physically I know my body doesn’t want it, but my mind does. Sometimes when I drink in the morning, I’ll immediately throwing up because of stomach acid, my body doesn’t want it but my brain does. &lt;/p&gt;\\n\\n&lt;p&gt;Also, my ex and I broke up originally in October when she cheated on me while in a blacked out manic state with someone I thought I could trust. She left with him after I punched him for calling her a slut and insulting me for having a new gf soon after another relationship. In reality he was incredibly jealous of my life. She saw violence but didn’t hear anything he said to me about her as he swept her up under the disguise that I was the bad guy. They ended up having sex and she was so confused and out of it she said my name the whole time. After that we broke up, I ended up having sex with his baby mama several times until that became triggering in itself. I still have lots of hate for this dude that I really want to let go of. &lt;/p&gt;\\n\\n&lt;p&gt;Anyways my ex and I got back together and broke up a couple times all on my terms. We still hook up and it’s amazing yet emotionally taxing. She still loves me and I still love her, yet when I’m with her I’m often reminded of why I shouldn’t be with her. My heart has felt so heavy for so long now. &lt;/p&gt;\\n\\n&lt;p&gt;Drinking doesn’t really help and can make things worse at times but I’m still so called to it. Basically I want to free myself from mental Attachments to alcohol and her and reclaim my mind. It’s really hard because I don’t have a lot of close friends where I live and I’m barely paying rent. &lt;/p&gt;\\n\\n&lt;p&gt;Mornings are tough. No work today. I feel really alone. I just want to feel inspired and motivated for life. I don’t want to be like my dad and drinking alone and depressed. I love him so much. I love people who have hurt me as I see that’s it’s not always their intention and often just their own demons. &lt;/p&gt;\\n\\n&lt;p&gt;I just wish I could love myself more.&lt;/p&gt;\\n&lt;/div&gt;&lt;!-- SC_ON --&gt;', 'likes': None, 'suggested_sort': None, 'banned_at_utc': None, 'view_count': None, 'archived': False, 'no_follow': False, 'is_crosspostable': False, 'pinned': False, 'over_18': False, 'all_awardings': [], 'awarders': [], 'media_only': False, 'can_gild': True, 'spoiler': False, 'locked': False, 'author_flair_text': None, 'treatment_tags': [], 'visited': False, 'removed_by': None, 'num_reports': None, 'distinguished': None, 'subreddit_id': 't5_2s7yr', 'author_is_blocked': False, 'mod_reason_by': None, 'removal_reason': None, 'link_flair_background_color': '', 'id': 'uu310r', 'is_robot_indexable': True, 'report_reasons': None, 'author': 'xBlissedx', 'discussion_type': None, 'num_comments': 0, 'send_replies': True, 'whitelist_status': 'no_ads', 'contest_mode': False, 'mod_reports': [], 'author_patreon_flair': False, 'author_flair_text_color': None, 'permalink': '/r/stopdrinking/comments/uu310r/morning_cravings_and_depression/', 'parent_whitelist_status': 'no_ads', 'stickied': False, 'url': 'https://www.reddit.com/r/stopdrinking/comments/uu310r/morning_cravings_and_depression/', 'subreddit_subscribers': 360805, 'created_utc': 1653067703.0, 'num_crossposts': 0, 'media': None, 'is_video': False}}, {'kind': 't3', 'data': {'approved_at_utc': None, 'subreddit': 'stopdrinking', 'selftext': 'Today I got rid of a bottle of prescription pain killers, the kind that make you feel a little too good. I’m lucky that the pain I’m having is manageable with OTC stuff, so I’m sticking to that. It’s kind of tempting to keep the rx stuff around…just in case. I mean it’s legal right? I might need it right? I tried not to think about it too much and just put them in the pharmacy unwanted rx bin. \\n\\nI know this is a little off topic for this sub, but these are the kinds of decisions that come pretty easily now that I’m over 700 days. Not drinking is truly the cornerstone to every facet of my self improvement and substance avoidance. I feel like I know myself and care about myself making decisions like this, even if the temptation is there. I think alcohol and pills are going to feature in my dreams in the next few days, but I don’t mind. Better than being part of my real life.', 'author_fullname': 't2_8unr5', 'saved': False, 'mod_reason_title': None, 'gilded': 0, 'clicked': False, 'title': 'Prescription disposal', 'link_flair_richtext': [], 'subreddit_name_prefixed': 'r/stopdrinking', 'hidden': False, 'pwls': 0, 'link_flair_css_class': None, 'downs': 0, 'top_awarded_type': None, 'hide_score': True, 'name': 't3_uu2tst', 'quarantine': False, 'link_flair_text_color': 'dark', 'upvote_ratio': 1.0, 'author_flair_background_color': None, 'subreddit_type': 'public', 'ups': 2, 'total_awards_received': 0, 'media_embed': {}, 'author_flair_template_id': 'f7eec2ca-6c34-11e9-b4d8-0e7ea67a6ce4', 'is_original_content': False, 'user_reports': [], 'secure_media': None, 'is_reddit_media_domain': False, 'is_meta': False, 'category': None, 'secure_media_embed': {}, 'link_flair_text': None, 'can_mod_post': False, 'score': 2, 'approved_by': None, 'is_created_from_ads_ui': False, 'author_premium': False, 'thumbnail': '', 'edited': False, 'author_flair_css_class': 'year1', 'author_flair_richtext': [], 'gildings': {}, 'content_categories': None, 'is_self': True, 'mod_note': None, 'created': 1653067299.0, 'link_flair_type': 'text', 'wls': 0, 'removed_by_category': None, 'banned_by': None, 'author_flair_type': 'text', 'domain': 'self.stopdrinking', 'allow_live_comments': False, 'selftext_html': '&lt;!-- SC_OFF --&gt;&lt;div class=\"md\"&gt;&lt;p&gt;Today I got rid of a bottle of prescription pain killers, the kind that make you feel a little too good. I’m lucky that the pain I’m having is manageable with OTC stuff, so I’m sticking to that. It’s kind of tempting to keep the rx stuff around…just in case. I mean it’s legal right? I might need it right? I tried not to think about it too much and just put them in the pharmacy unwanted rx bin. &lt;/p&gt;\\n\\n&lt;p&gt;I know this is a little off topic for this sub, but these are the kinds of decisions that come pretty easily now that I’m over 700 days. Not drinking is truly the cornerstone to every facet of my self improvement and substance avoidance. I feel like I know myself and care about myself making decisions like this, even if the temptation is there. I think alcohol and pills are going to feature in my dreams in the next few days, but I don’t mind. Better than being part of my real life.&lt;/p&gt;\\n&lt;/div&gt;&lt;!-- SC_ON --&gt;', 'likes': None, 'suggested_sort': None, 'banned_at_utc': None, 'view_count': None, 'archived': False, 'no_follow': False, 'is_crosspostable': False, 'pinned': False, 'over_18': False, 'all_awardings': [], 'awarders': [], 'media_only': False, 'can_gild': True, 'spoiler': False, 'locked': False, 'author_flair_text': '770 days', 'treatment_tags': [], 'visited': False, 'removed_by': None, 'num_reports': None, 'distinguished': None, 'subreddit_id': 't5_2s7yr', 'author_is_blocked': False, 'mod_reason_by': None, 'removal_reason': None, 'link_flair_background_color': '', 'id': 'uu2tst', 'is_robot_indexable': True, 'report_reasons': None, 'author': 'Heliosophist', 'discussion_type': None, 'num_comments': 3, 'send_replies': True, 'whitelist_status': 'no_ads', 'contest_mode': False, 'mod_reports': [], 'author_patreon_flair': False, 'author_flair_text_color': 'dark', 'permalink': '/r/stopdrinking/comments/uu2tst/prescription_disposal/', 'parent_whitelist_status': 'no_ads', 'stickied': False, 'url': 'https://www.reddit.com/r/stopdrinking/comments/uu2tst/prescription_disposal/', 'subreddit_subscribers': 360805, 'created_utc': 1653067299.0, 'num_crossposts': 0, 'media': None, 'is_video': False}}, {'kind': 't3', 'data': {'approved_at_utc': None, 'subreddit': 'stopdrinking', 'selftext': 'I have tried to fight my brain and body for two years, convincing myself I can drink like a normal person and trying to not get blackout drunk every time I drink. Doesn’t work.\\n\\nOn Monday night, I drank before a date to help with the social anxiety. I don’t know what i was thinking. I’m 21f. I was blackout drunk and I woke up at my friend’s house with no memory of how I got there and i have giant bruises on my face, arm, and butt. I’m feeling better today even though I’m still black &amp; blue and really pissed at myself.\\n\\nI’m finally accepting that I am no longer someone who drinks. The amount of anxiety I get after drinking is ten million times worse than any amount of social anxiety I get. Alcohol is a useless, numbing, life ruining drug.\\n\\nI’m on day 4, and I’m never drinking again. IWNDWYT \\n\\nPS: does anyone have beginner’s resources? Book recommendations or online groups?', 'author_fullname': 't2_h6pc94xs', 'saved': False, 'mod_reason_title': None, 'gilded': 0, 'clicked': False, 'title': 'After trying to drink in moderation for 2 years, I’m finally giving in to sobriety', 'link_flair_richtext': [], 'subreddit_name_prefixed': 'r/stopdrinking', 'hidden': False, 'pwls': 0, 'link_flair_css_class': None, 'downs': 0, 'top_awarded_type': None, 'hide_score': True, 'name': 't3_uu2ake', 'quarantine': False, 'link_flair_text_color': 'dark', 'upvote_ratio': 0.94, 'author_flair_background_color': None, 'subreddit_type': 'public', 'ups': 12, 'total_awards_received': 0, 'media_embed': {}, 'author_flair_template_id': None, 'is_original_content': False, 'user_reports': [], 'secure_media': None, 'is_reddit_media_domain': False, 'is_meta': False, 'category': None, 'secure_media_embed': {}, 'link_flair_text': None, 'can_mod_post': False, 'score': 12, 'approved_by': None, 'is_created_from_ads_ui': False, 'author_premium': False, 'thumbnail': '', 'edited': 1653066911.0, 'author_flair_css_class': None, 'author_flair_richtext': [], 'gildings': {}, 'content_categories': None, 'is_self': True, 'mod_note': None, 'created': 1653066238.0, 'link_flair_type': 'text', 'wls': 0, 'removed_by_category': None, 'banned_by': None, 'author_flair_type': 'text', 'domain': 'self.stopdrinking', 'allow_live_comments': False, 'selftext_html': '&lt;!-- SC_OFF --&gt;&lt;div class=\"md\"&gt;&lt;p&gt;I have tried to fight my brain and body for two years, convincing myself I can drink like a normal person and trying to not get blackout drunk every time I drink. Doesn’t work.&lt;/p&gt;\\n\\n&lt;p&gt;On Monday night, I drank before a date to help with the social anxiety. I don’t know what i was thinking. I’m 21f. I was blackout drunk and I woke up at my friend’s house with no memory of how I got there and i have giant bruises on my face, arm, and butt. I’m feeling better today even though I’m still black &amp;amp; blue and really pissed at myself.&lt;/p&gt;\\n\\n&lt;p&gt;I’m finally accepting that I am no longer someone who drinks. The amount of anxiety I get after drinking is ten million times worse than any amount of social anxiety I get. Alcohol is a useless, numbing, life ruining drug.&lt;/p&gt;\\n\\n&lt;p&gt;I’m on day 4, and I’m never drinking again. IWNDWYT &lt;/p&gt;\\n\\n&lt;p&gt;PS: does anyone have beginner’s resources? Book recommendations or online groups?&lt;/p&gt;\\n&lt;/div&gt;&lt;!-- SC_ON --&gt;', 'likes': None, 'suggested_sort': None, 'banned_at_utc': None, 'view_count': None, 'archived': False, 'no_follow': False, 'is_crosspostable': False, 'pinned': False, 'over_18': False, 'all_awardings': [], 'awarders': [], 'media_only': False, 'can_gild': True, 'spoiler': False, 'locked': False, 'author_flair_text': None, 'treatment_tags': [], 'visited': False, 'removed_by': None, 'num_reports': None, 'distinguished': None, 'subreddit_id': 't5_2s7yr', 'author_is_blocked': False, 'mod_reason_by': None, 'removal_reason': None, 'link_flair_background_color': '', 'id': 'uu2ake', 'is_robot_indexable': True, 'report_reasons': None, 'author': 'lovehimandleavehim', 'discussion_type': None, 'num_comments': 10, 'send_replies': True, 'whitelist_status': 'no_ads', 'contest_mode': False, 'mod_reports': [], 'author_patreon_flair': False, 'author_flair_text_color': None, 'permalink': '/r/stopdrinking/comments/uu2ake/after_trying_to_drink_in_moderation_for_2_years/', 'parent_whitelist_status': 'no_ads', 'stickied': False, 'url': 'https://www.reddit.com/r/stopdrinking/comments/uu2ake/after_trying_to_drink_in_moderation_for_2_years/', 'subreddit_subscribers': 360805, 'created_utc': 1653066238.0, 'num_crossposts': 0, 'media': None, 'is_video': False}}, {'kind': 't3', 'data': {'approved_at_utc': None, 'subreddit': 'stopdrinking', 'selftext': 'I just shared a sip of a coke with a friend. I didn’t know but he had mixed it with whiskey. Which was my drink of choice. I think I’m okay mentally. I need to know if this resets my sober streak or not? I don’t feel any want or need to drink. It just happened on accident. \\n\\nSomeone give me advise.', 'author_fullname': 't2_2099kqm8', 'saved': False, 'mod_reason_title': None, 'gilded': 0, 'clicked': False, 'title': 'Need help', 'link_flair_richtext': [], 'subreddit_name_prefixed': 'r/stopdrinking', 'hidden': False, 'pwls': 0, 'link_flair_css_class': None, 'downs': 0, 'top_awarded_type': None, 'hide_score': True, 'name': 't3_uu2905', 'quarantine': False, 'link_flair_text_color': 'dark', 'upvote_ratio': 0.75, 'author_flair_background_color': '', 'subreddit_type': 'public', 'ups': 2, 'total_awards_received': 0, 'media_embed': {}, 'author_flair_template_id': None, 'is_original_content': False, 'user_reports': [], 'secure_media': None, 'is_reddit_media_domain': False, 'is_meta': False, 'category': None, 'secure_media_embed': {}, 'link_flair_text': None, 'can_mod_post': False, 'score': 2, 'approved_by': None, 'is_created_from_ads_ui': False, 'author_premium': False, 'thumbnail': '', 'edited': False, 'author_flair_css_class': 'month9', 'author_flair_richtext': [], 'gildings': {}, 'content_categories': None, 'is_self': True, 'mod_note': None, 'created': 1653066150.0, 'link_flair_type': 'text', 'wls': 0, 'removed_by_category': None, 'banned_by': None, 'author_flair_type': 'text', 'domain': 'self.stopdrinking', 'allow_live_comments': False, 'selftext_html': '&lt;!-- SC_OFF --&gt;&lt;div class=\"md\"&gt;&lt;p&gt;I just shared a sip of a coke with a friend. I didn’t know but he had mixed it with whiskey. Which was my drink of choice. I think I’m okay mentally. I need to know if this resets my sober streak or not? I don’t feel any want or need to drink. It just happened on accident. &lt;/p&gt;\\n\\n&lt;p&gt;Someone give me advise.&lt;/p&gt;\\n&lt;/div&gt;&lt;!-- SC_ON --&gt;', 'likes': None, 'suggested_sort': None, 'banned_at_utc': None, 'view_count': None, 'archived': False, 'no_follow': False, 'is_crosspostable': False, 'pinned': False, 'over_18': False, 'all_awardings': [], 'awarders': [], 'media_only': False, 'can_gild': True, 'spoiler': False, 'locked': False, 'author_flair_text': '291 days', 'treatment_tags': [], 'visited': False, 'removed_by': None, 'num_reports': None, 'distinguished': None, 'subreddit_id': 't5_2s7yr', 'author_is_blocked': False, 'mod_reason_by': None, 'removal_reason': None, 'link_flair_background_color': '', 'id': 'uu2905', 'is_robot_indexable': True, 'report_reasons': None, 'author': 'KYZombie24', 'discussion_type': None, 'num_comments': 11, 'send_replies': True, 'whitelist_status': 'no_ads', 'contest_mode': False, 'mod_reports': [], 'author_patreon_flair': False, 'author_flair_text_color': 'dark', 'permalink': '/r/stopdrinking/comments/uu2905/need_help/', 'parent_whitelist_status': 'no_ads', 'stickied': False, 'url': 'https://www.reddit.com/r/stopdrinking/comments/uu2905/need_help/', 'subreddit_subscribers': 360805, 'created_utc': 1653066150.0, 'num_crossposts': 0, 'media': None, 'is_video': False}}, {'kind': 't3', 'data': {'approved_at_utc': None, 'subreddit': 'stopdrinking', 'selftext': \"Today was day 6, finally got to see an artist that meant so much to me and got me through a lot of hard times. I'm so proud of myself for doing it sober and knowing that I'll remember it forever without the haze of being blackout drunk. I just wanted to share my little achievement. Thankyou for reading\", 'author_fullname': 't2_lnjolbje', 'saved': False, 'mod_reason_title': None, 'gilded': 0, 'clicked': False, 'title': 'first concert sober', 'link_flair_richtext': [], 'subreddit_name_prefixed': 'r/stopdrinking', 'hidden': False, 'pwls': 0, 'link_flair_css_class': None, 'downs': 0, 'top_awarded_type': None, 'hide_score': True, 'name': 't3_uu20gv', 'quarantine': False, 'link_flair_text_color': 'dark', 'upvote_ratio': 0.92, 'author_flair_background_color': None, 'subreddit_type': 'public', 'ups': 10, 'total_awards_received': 0, 'media_embed': {}, 'author_flair_template_id': None, 'is_original_content': False, 'user_reports': [], 'secure_media': None, 'is_reddit_media_domain': False, 'is_meta': False, 'category': None, 'secure_media_embed': {}, 'link_flair_text': None, 'can_mod_post': False, 'score': 10, 'approved_by': None, 'is_created_from_ads_ui': False, 'author_premium': False, 'thumbnail': '', 'edited': False, 'author_flair_css_class': None, 'author_flair_richtext': [], 'gildings': {}, 'content_categories': None, 'is_self': True, 'mod_note': None, 'created': 1653065687.0, 'link_flair_type': 'text', 'wls': 0, 'removed_by_category': None, 'banned_by': None, 'author_flair_type': 'text', 'domain': 'self.stopdrinking', 'allow_live_comments': False, 'selftext_html': '&lt;!-- SC_OFF --&gt;&lt;div class=\"md\"&gt;&lt;p&gt;Today was day 6, finally got to see an artist that meant so much to me and got me through a lot of hard times. I&amp;#39;m so proud of myself for doing it sober and knowing that I&amp;#39;ll remember it forever without the haze of being blackout drunk. I just wanted to share my little achievement. Thankyou for reading&lt;/p&gt;\\n&lt;/div&gt;&lt;!-- SC_ON --&gt;', 'likes': None, 'suggested_sort': None, 'banned_at_utc': None, 'view_count': None, 'archived': False, 'no_follow': False, 'is_crosspostable': False, 'pinned': False, 'over_18': False, 'all_awardings': [], 'awarders': [], 'media_only': False, 'can_gild': True, 'spoiler': False, 'locked': False, 'author_flair_text': None, 'treatment_tags': [], 'visited': False, 'removed_by': None, 'num_reports': None, 'distinguished': None, 'subreddit_id': 't5_2s7yr', 'author_is_blocked': False, 'mod_reason_by': None, 'removal_reason': None, 'link_flair_background_color': '', 'id': 'uu20gv', 'is_robot_indexable': True, 'report_reasons': None, 'author': 'No_Assistant_4929', 'discussion_type': None, 'num_comments': 4, 'send_replies': True, 'whitelist_status': 'no_ads', 'contest_mode': False, 'mod_reports': [], 'author_patreon_flair': False, 'author_flair_text_color': None, 'permalink': '/r/stopdrinking/comments/uu20gv/first_concert_sober/', 'parent_whitelist_status': 'no_ads', 'stickied': False, 'url': 'https://www.reddit.com/r/stopdrinking/comments/uu20gv/first_concert_sober/', 'subreddit_subscribers': 360805, 'created_utc': 1653065687.0, 'num_crossposts': 0, 'media': None, 'is_video': False}}, {'kind': 't3', 'data': {'approved_at_utc': None, 'subreddit': 'stopdrinking', 'selftext': \"Had some issues recently. Had 1 or 2 semi secret drinks. Went to my parents house for a few days the other week to provide some support as my mother was dealing with her brother's death. Had a few drinks most nights there and an occasional mouthful when no eyes were on me. Not really where I want to be. \\nThen my wife's brother passed and she had to go away for a few days and I was left with the kids. I abstained while at home with the kids and felt a little more positive. I do need to maintain control for myself and remember what I want which is not to be a regular binger / secret gulper.\\nHad 3 drinks with my wife last Saturday which is all I've had in the last two weeks which is more like it. I need to keep it up. Thanks\", 'author_fullname': 't2_6o43brm5', 'saved': False, 'mod_reason_title': None, 'gilded': 0, 'clicked': False, 'title': 'still hanging in', 'link_flair_richtext': [], 'subreddit_name_prefixed': 'r/stopdrinking', 'hidden': False, 'pwls': 0, 'link_flair_css_class': None, 'downs': 0, 'top_awarded_type': None, 'hide_score': False, 'name': 't3_uu13g3', 'quarantine': False, 'link_flair_text_color': 'dark', 'upvote_ratio': 1.0, 'author_flair_background_color': None, 'subreddit_type': 'public', 'ups': 2, 'total_awards_received': 0, 'media_embed': {}, 'author_flair_template_id': 'f7eec2ca-6c34-11e9-b4d8-0e7ea67a6ce4', 'is_original_content': False, 'user_reports': [], 'secure_media': None, 'is_reddit_media_domain': False, 'is_meta': False, 'category': None, 'secure_media_embed': {}, 'link_flair_text': None, 'can_mod_post': False, 'score': 2, 'approved_by': None, 'is_created_from_ads_ui': False, 'author_premium': False, 'thumbnail': '', 'edited': False, 'author_flair_css_class': 'year1', 'author_flair_richtext': [], 'gildings': {}, 'content_categories': None, 'is_self': True, 'mod_note': None, 'created': 1653063849.0, 'link_flair_type': 'text', 'wls': 0, 'removed_by_category': None, 'banned_by': None, 'author_flair_type': 'text', 'domain': 'self.stopdrinking', 'allow_live_comments': False, 'selftext_html': '&lt;!-- SC_OFF --&gt;&lt;div class=\"md\"&gt;&lt;p&gt;Had some issues recently. Had 1 or 2 semi secret drinks. Went to my parents house for a few days the other week to provide some support as my mother was dealing with her brother&amp;#39;s death. Had a few drinks most nights there and an occasional mouthful when no eyes were on me. Not really where I want to be. \\nThen my wife&amp;#39;s brother passed and she had to go away for a few days and I was left with the kids. I abstained while at home with the kids and felt a little more positive. I do need to maintain control for myself and remember what I want which is not to be a regular binger / secret gulper.\\nHad 3 drinks with my wife last Saturday which is all I&amp;#39;ve had in the last two weeks which is more like it. I need to keep it up. Thanks&lt;/p&gt;\\n&lt;/div&gt;&lt;!-- SC_ON --&gt;', 'likes': None, 'suggested_sort': None, 'banned_at_utc': None, 'view_count': None, 'archived': False, 'no_follow': False, 'is_crosspostable': False, 'pinned': False, 'over_18': False, 'all_awardings': [], 'awarders': [], 'media_only': False, 'can_gild': True, 'spoiler': False, 'locked': False, 'author_flair_text': '593 days', 'treatment_tags': [], 'visited': False, 'removed_by': None, 'num_reports': None, 'distinguished': None, 'subreddit_id': 't5_2s7yr', 'author_is_blocked': False, 'mod_reason_by': None, 'removal_reason': None, 'link_flair_background_color': '', 'id': 'uu13g3', 'is_robot_indexable': True, 'report_reasons': None, 'author': 'ithoughtofacoolname', 'discussion_type': None, 'num_comments': 1, 'send_replies': True, 'whitelist_status': 'no_ads', 'contest_mode': False, 'mod_reports': [], 'author_patreon_flair': False, 'author_flair_text_color': 'dark', 'permalink': '/r/stopdrinking/comments/uu13g3/still_hanging_in/', 'parent_whitelist_status': 'no_ads', 'stickied': False, 'url': 'https://www.reddit.com/r/stopdrinking/comments/uu13g3/still_hanging_in/', 'subreddit_subscribers': 360805, 'created_utc': 1653063849.0, 'num_crossposts': 0, 'media': None, 'is_video': False}}, {'kind': 't3', 'data': {'approved_at_utc': None, 'subreddit': 'stopdrinking', 'selftext': 'Hello to anyone reading this .. Fairly new to posting stuff, never really do. But i feel like i may have a problem, i like to drink beer, craft beer in particular and i realized i had a huge problem when i would knock back like 3-4 IPA and even DIPA’s within an hr … Would legit BLACK tf out, and would wake up almost certaintly with my SO, completely pissed at me for w.e reason. Lately ive switched to pils, and its been going good, but the problem i think is that i know how i can get when im drunk. I legit just become mush, and fall asleep. And some days i want to not drink a beer but then i get out of work and its just like fuck man .. one beer wont hurt, but then one beer turns into a six pack, and so on and so on. I go to the bar during my lunch hrs at work and would easily knock back like 3-4 pints and be good, but be left wanting more and sometimes would even come back after clocking out. Does anyone else think i have a problem or am i just constantly making bad choices ?', 'author_fullname': 't2_dk3oyk6p', 'saved': False, 'mod_reason_title': None, 'gilded': 0, 'clicked': False, 'title': 'Not Too Sure ..', 'link_flair_richtext': [], 'subreddit_name_prefixed': 'r/stopdrinking', 'hidden': False, 'pwls': 0, 'link_flair_css_class': None, 'downs': 0, 'top_awarded_type': None, 'hide_score': False, 'name': 't3_uu11hu', 'quarantine': False, 'link_flair_text_color': 'dark', 'upvote_ratio': 1.0, 'author_flair_background_color': None, 'subreddit_type': 'public', 'ups': 1, 'total_awards_received': 0, 'media_embed': {}, 'author_flair_template_id': None, 'is_original_content': False, 'user_reports': [], 'secure_media': None, 'is_reddit_media_domain': False, 'is_meta': False, 'category': None, 'secure_media_embed': {}, 'link_flair_text': None, 'can_mod_post': False, 'score': 1, 'approved_by': None, 'is_created_from_ads_ui': False, 'author_premium': False, 'thumbnail': '', 'edited': False, 'author_flair_css_class': None, 'author_flair_richtext': [], 'gildings': {}, 'content_categories': None, 'is_self': True, 'mod_note': None, 'created': 1653063735.0, 'link_flair_type': 'text', 'wls': 0, 'removed_by_category': None, 'banned_by': None, 'author_flair_type': 'text', 'domain': 'self.stopdrinking', 'allow_live_comments': False, 'selftext_html': '&lt;!-- SC_OFF --&gt;&lt;div class=\"md\"&gt;&lt;p&gt;Hello to anyone reading this .. Fairly new to posting stuff, never really do. But i feel like i may have a problem, i like to drink beer, craft beer in particular and i realized i had a huge problem when i would knock back like 3-4 IPA and even DIPA’s within an hr … Would legit BLACK tf out, and would wake up almost certaintly with my SO, completely pissed at me for w.e reason. Lately ive switched to pils, and its been going good, but the problem i think is that i know how i can get when im drunk. I legit just become mush, and fall asleep. And some days i want to not drink a beer but then i get out of work and its just like fuck man .. one beer wont hurt, but then one beer turns into a six pack, and so on and so on. I go to the bar during my lunch hrs at work and would easily knock back like 3-4 pints and be good, but be left wanting more and sometimes would even come back after clocking out. Does anyone else think i have a problem or am i just constantly making bad choices ?&lt;/p&gt;\\n&lt;/div&gt;&lt;!-- SC_ON --&gt;', 'likes': None, 'suggested_sort': None, 'banned_at_utc': None, 'view_count': None, 'archived': False, 'no_follow': True, 'is_crosspostable': False, 'pinned': False, 'over_18': False, 'all_awardings': [], 'awarders': [], 'media_only': False, 'can_gild': True, 'spoiler': False, 'locked': False, 'author_flair_text': None, 'treatment_tags': [], 'visited': False, 'removed_by': None, 'num_reports': None, 'distinguished': None, 'subreddit_id': 't5_2s7yr', 'author_is_blocked': False, 'mod_reason_by': None, 'removal_reason': None, 'link_flair_background_color': '', 'id': 'uu11hu', 'is_robot_indexable': True, 'report_reasons': None, 'author': 'Abeluchi', 'discussion_type': None, 'num_comments': 6, 'send_replies': True, 'whitelist_status': 'no_ads', 'contest_mode': False, 'mod_reports': [], 'author_patreon_flair': False, 'author_flair_text_color': None, 'permalink': '/r/stopdrinking/comments/uu11hu/not_too_sure/', 'parent_whitelist_status': 'no_ads', 'stickied': False, 'url': 'https://www.reddit.com/r/stopdrinking/comments/uu11hu/not_too_sure/', 'subreddit_subscribers': 360805, 'created_utc': 1653063735.0, 'num_crossposts': 0, 'media': None, 'is_video': False}}, {'kind': 't3', 'data': {'approved_at_utc': None, 'subreddit': 'stopdrinking', 'selftext': '\\\\*\\\\*\\\\* TRIGGER WARNING SI \\\\*\\\\*\\\\*\\\\*\\\\*\\n\\n8 days ago I apparently tried to unalive myself while drunk, alcohol level was 345 mg/dL. I dont even remember, drunk me holds my trauma and when I drink she comes out ready to fully destroy any happiness - she succeeded many times, I usually forgave her, but this time is different. I forgive her for being hurt, I forgive her for being angry, but I cannot forgive her for trying to kill me. Only sober me can heal and reparent my inner child, the hurt and scared little girl. I spent the last 7 days trying to understand what I did in a blank walled room, all my basic freedoms stripped away. $15k in medical debt - that doesnt include the ER stay. Today I am just so grateful to be alive, I am ready to be kind to that little girl, and try to hear her loud and clear with a sober mind and a loving heart! 8 days sober, in an IOP and got in touch with an old sponsor!!! ONE DAY AT A TIME!!!! IWNDWYT', 'author_fullname': 't2_7wxoptik', 'saved': False, 'mod_reason_title': None, 'gilded': 0, 'clicked': False, 'title': 'Day 8 and fresh out of inpatient - GRATEFUL', 'link_flair_richtext': [], 'subreddit_name_prefixed': 'r/stopdrinking', 'hidden': False, 'pwls': 0, 'link_flair_css_class': None, 'downs': 0, 'top_awarded_type': None, 'hide_score': False, 'name': 't3_uu0xo3', 'quarantine': False, 'link_flair_text_color': 'dark', 'upvote_ratio': 1.0, 'author_flair_background_color': '', 'subreddit_type': 'public', 'ups': 8, 'total_awards_received': 1, 'media_embed': {}, 'author_flair_template_id': None, 'is_original_content': False, 'user_reports': [], 'secure_media': None, 'is_reddit_media_domain': False, 'is_meta': False, 'category': None, 'secure_media_embed': {}, 'link_flair_text': None, 'can_mod_post': False, 'score': 8, 'approved_by': None, 'is_created_from_ads_ui': False, 'author_premium': False, 'thumbnail': '', 'edited': False, 'author_flair_css_class': 'week1', 'author_flair_richtext': [], 'gildings': {'gid_1': 1}, 'content_categories': None, 'is_self': True, 'mod_note': None, 'created': 1653063524.0, 'link_flair_type': 'text', 'wls': 0, 'removed_by_category': None, 'banned_by': None, 'author_flair_type': 'text', 'domain': 'self.stopdrinking', 'allow_live_comments': False, 'selftext_html': '&lt;!-- SC_OFF --&gt;&lt;div class=\"md\"&gt;&lt;p&gt;*** TRIGGER WARNING SI *****&lt;/p&gt;\\n\\n&lt;p&gt;8 days ago I apparently tried to unalive myself while drunk, alcohol level was 345 mg/dL. I dont even remember, drunk me holds my trauma and when I drink she comes out ready to fully destroy any happiness - she succeeded many times, I usually forgave her, but this time is different. I forgive her for being hurt, I forgive her for being angry, but I cannot forgive her for trying to kill me. Only sober me can heal and reparent my inner child, the hurt and scared little girl. I spent the last 7 days trying to understand what I did in a blank walled room, all my basic freedoms stripped away. $15k in medical debt - that doesnt include the ER stay. Today I am just so grateful to be alive, I am ready to be kind to that little girl, and try to hear her loud and clear with a sober mind and a loving heart! 8 days sober, in an IOP and got in touch with an old sponsor!!! ONE DAY AT A TIME!!!! IWNDWYT&lt;/p&gt;\\n&lt;/div&gt;&lt;!-- SC_ON --&gt;', 'likes': None, 'suggested_sort': None, 'banned_at_utc': None, 'view_count': None, 'archived': False, 'no_follow': False, 'is_crosspostable': False, 'pinned': False, 'over_18': False, 'all_awardings': [{'giver_coin_reward': None, 'subreddit_id': None, 'is_new': False, 'days_of_drip_extension': None, 'coin_price': 100, 'id': 'gid_1', 'penny_donate': None, 'award_sub_type': 'GLOBAL', 'coin_reward': 0, 'icon_url': 'https://www.redditstatic.com/gold/awards/icon/silver_512.png', 'days_of_premium': None, 'tiers_by_required_awardings': None, 'resized_icons': [{'url': 'https://www.redditstatic.com/gold/awards/icon/silver_16.png', 'width': 16, 'height': 16}, {'url': 'https://www.redditstatic.com/gold/awards/icon/silver_32.png', 'width': 32, 'height': 32}, {'url': 'https://www.redditstatic.com/gold/awards/icon/silver_48.png', 'width': 48, 'height': 48}, {'url': 'https://www.redditstatic.com/gold/awards/icon/silver_64.png', 'width': 64, 'height': 64}, {'url': 'https://www.redditstatic.com/gold/awards/icon/silver_128.png', 'width': 128, 'height': 128}], 'icon_width': 512, 'static_icon_width': 512, 'start_date': None, 'is_enabled': True, 'awardings_required_to_grant_benefits': None, 'description': \"Shows the Silver Award... and that's it.\", 'end_date': None, 'subreddit_coin_reward': 0, 'count': 1, 'static_icon_height': 512, 'name': 'Silver', 'resized_static_icons': [{'url': 'https://www.redditstatic.com/gold/awards/icon/silver_16.png', 'width': 16, 'height': 16}, {'url': 'https://www.redditstatic.com/gold/awards/icon/silver_32.png', 'width': 32, 'height': 32}, {'url': 'https://www.redditstatic.com/gold/awards/icon/silver_48.png', 'width': 48, 'height': 48}, {'url': 'https://www.redditstatic.com/gold/awards/icon/silver_64.png', 'width': 64, 'height': 64}, {'url': 'https://www.redditstatic.com/gold/awards/icon/silver_128.png', 'width': 128, 'height': 128}], 'icon_format': None, 'icon_height': 512, 'penny_price': None, 'award_type': 'global', 'static_icon_url': 'https://www.redditstatic.com/gold/awards/icon/silver_512.png'}], 'awarders': [], 'media_only': False, 'can_gild': True, 'spoiler': False, 'locked': False, 'author_flair_text': '8 days', 'treatment_tags': [], 'visited': False, 'removed_by': None, 'num_reports': None, 'distinguished': None, 'subreddit_id': 't5_2s7yr', 'author_is_blocked': False, 'mod_reason_by': None, 'removal_reason': None, 'link_flair_background_color': '', 'id': 'uu0xo3', 'is_robot_indexable': True, 'report_reasons': None, 'author': 'SnooRobots3822', 'discussion_type': None, 'num_comments': 4, 'send_replies': True, 'whitelist_status': 'no_ads', 'contest_mode': False, 'mod_reports': [], 'author_patreon_flair': False, 'author_flair_text_color': 'dark', 'permalink': '/r/stopdrinking/comments/uu0xo3/day_8_and_fresh_out_of_inpatient_grateful/', 'parent_whitelist_status': 'no_ads', 'stickied': False, 'url': 'https://www.reddit.com/r/stopdrinking/comments/uu0xo3/day_8_and_fresh_out_of_inpatient_grateful/', 'subreddit_subscribers': 360805, 'created_utc': 1653063524.0, 'num_crossposts': 0, 'media': None, 'is_video': False}}, {'kind': 't3', 'data': {'approved_at_utc': None, 'subreddit': 'stopdrinking', 'selftext': 'I quit drinking almost 1 month ago. I drank liquor and beer frequently, usually 6 days a week. Sometimes 2 drinks, often 3-4 and occasionally I’d get up to 10 or so.\\n\\nI’m past withdrawals, but I’m still having some anxiety, brain fog, light sensitivity and trouble focusing my eyes. It’s like my vision is always just a little out of focus. (I’ve seen a doctor and eye doctor and they seem to think everything is fine.)\\n\\nAnyone had similar experiences? How long did your PAWS last? How long will mine last?\\n\\nAny encouragement/advice is much appreciated!', 'author_fullname': 't2_n5vds9th', 'saved': False, 'mod_reason_title': None, 'gilded': 0, 'clicked': False, 'title': 'How long does PAWS last?', 'link_flair_richtext': [], 'subreddit_name_prefixed': 'r/stopdrinking', 'hidden': False, 'pwls': 0, 'link_flair_css_class': None, 'downs': 0, 'top_awarded_type': None, 'hide_score': False, 'name': 't3_uu0swm', 'quarantine': False, 'link_flair_text_color': 'dark', 'upvote_ratio': 1.0, 'author_flair_background_color': None, 'subreddit_type': 'public', 'ups': 6, 'total_awards_received': 0, 'media_embed': {}, 'author_flair_template_id': None, 'is_original_content': False, 'user_reports': [], 'secure_media': None, 'is_reddit_media_domain': False, 'is_meta': False, 'category': None, 'secure_media_embed': {}, 'link_flair_text': None, 'can_mod_post': False, 'score': 6, 'approved_by': None, 'is_created_from_ads_ui': False, 'author_premium': False, 'thumbnail': '', 'edited': False, 'author_flair_css_class': None, 'author_flair_richtext': [], 'gildings': {}, 'content_categories': None, 'is_self': True, 'mod_note': None, 'created': 1653063268.0, 'link_flair_type': 'text', 'wls': 0, 'removed_by_category': None, 'banned_by': None, 'author_flair_type': 'text', 'domain': 'self.stopdrinking', 'allow_live_comments': False, 'selftext_html': '&lt;!-- SC_OFF --&gt;&lt;div class=\"md\"&gt;&lt;p&gt;I quit drinking almost 1 month ago. I drank liquor and beer frequently, usually 6 days a week. Sometimes 2 drinks, often 3-4 and occasionally I’d get up to 10 or so.&lt;/p&gt;\\n\\n&lt;p&gt;I’m past withdrawals, but I’m still having some anxiety, brain fog, light sensitivity and trouble focusing my eyes. It’s like my vision is always just a little out of focus. (I’ve seen a doctor and eye doctor and they seem to think everything is fine.)&lt;/p&gt;\\n\\n&lt;p&gt;Anyone had similar experiences? How long did your PAWS last? How long will mine last?&lt;/p&gt;\\n\\n&lt;p&gt;Any encouragement/advice is much appreciated!&lt;/p&gt;\\n&lt;/div&gt;&lt;!-- SC_ON --&gt;', 'likes': None, 'suggested_sort': None, 'banned_at_utc': None, 'view_count': None, 'archived': False, 'no_follow': False, 'is_crosspostable': False, 'pinned': False, 'over_18': False, 'all_awardings': [], 'awarders': [], 'media_only': False, 'can_gild': True, 'spoiler': False, 'locked': False, 'author_flair_text': None, 'treatment_tags': [], 'visited': False, 'removed_by': None, 'num_reports': None, 'distinguished': None, 'subreddit_id': 't5_2s7yr', 'author_is_blocked': False, 'mod_reason_by': None, 'removal_reason': None, 'link_flair_background_color': '', 'id': 'uu0swm', 'is_robot_indexable': True, 'report_reasons': None, 'author': 'bcmw2002', 'discussion_type': None, 'num_comments': 5, 'send_replies': True, 'whitelist_status': 'no_ads', 'contest_mode': False, 'mod_reports': [], 'author_patreon_flair': False, 'author_flair_text_color': None, 'permalink': '/r/stopdrinking/comments/uu0swm/how_long_does_paws_last/', 'parent_whitelist_status': 'no_ads', 'stickied': False, 'url': 'https://www.reddit.com/r/stopdrinking/comments/uu0swm/how_long_does_paws_last/', 'subreddit_subscribers': 360805, 'created_utc': 1653063268.0, 'num_crossposts': 0, 'media': None, 'is_video': False}}, {'kind': 't3', 'data': {'approved_at_utc': None, 'subreddit': 'stopdrinking', 'selftext': \"Hi!\\n\\nI'm 3 months sober. I'm struggling to find things to do. I lift every day, but outside of that, I can't seem to find an extracurricular to keep me busy.\\n\\nI feel a lot of pressure to be outdoorsy. It seems like everyone my age (mid 20s) loves to hike or camp. I've never been outdoorsy (like, refused to camp in my back yard as a kid) and probably won't ever be - anyone have suggestions?\", 'author_fullname': 't2_7gag7zbi', 'saved': False, 'mod_reason_title': None, 'gilded': 0, 'clicked': False, 'title': 'What are your hobbies?', 'link_flair_richtext': [], 'subreddit_name_prefixed': 'r/stopdrinking', 'hidden': False, 'pwls': 0, 'link_flair_css_class': None, 'downs': 0, 'top_awarded_type': None, 'hide_score': False, 'name': 't3_uu0q41', 'quarantine': False, 'link_flair_text_color': 'dark', 'upvote_ratio': 0.88, 'author_flair_background_color': None, 'subreddit_type': 'public', 'ups': 6, 'total_awards_received': 0, 'media_embed': {}, 'author_flair_template_id': None, 'is_original_content': False, 'user_reports': [], 'secure_media': None, 'is_reddit_media_domain': False, 'is_meta': False, 'category': None, 'secure_media_embed': {}, 'link_flair_text': None, 'can_mod_post': False, 'score': 6, 'approved_by': None, 'is_created_from_ads_ui': False, 'author_premium': False, 'thumbnail': '', 'edited': False, 'author_flair_css_class': None, 'author_flair_richtext': [], 'gildings': {}, 'content_categories': None, 'is_self': True, 'mod_note': None, 'created': 1653063115.0, 'link_flair_type': 'text', 'wls': 0, 'removed_by_category': None, 'banned_by': None, 'author_flair_type': 'text', 'domain': 'self.stopdrinking', 'allow_live_comments': False, 'selftext_html': '&lt;!-- SC_OFF --&gt;&lt;div class=\"md\"&gt;&lt;p&gt;Hi!&lt;/p&gt;\\n\\n&lt;p&gt;I&amp;#39;m 3 months sober. I&amp;#39;m struggling to find things to do. I lift every day, but outside of that, I can&amp;#39;t seem to find an extracurricular to keep me busy.&lt;/p&gt;\\n\\n&lt;p&gt;I feel a lot of pressure to be outdoorsy. It seems like everyone my age (mid 20s) loves to hike or camp. I&amp;#39;ve never been outdoorsy (like, refused to camp in my back yard as a kid) and probably won&amp;#39;t ever be - anyone have suggestions?&lt;/p&gt;\\n&lt;/div&gt;&lt;!-- SC_ON --&gt;', 'likes': None, 'suggested_sort': None, 'banned_at_utc': None, 'view_count': None, 'archived': False, 'no_follow': False, 'is_crosspostable': False, 'pinned': False, 'over_18': False, 'all_awardings': [], 'awarders': [], 'media_only': False, 'can_gild': True, 'spoiler': False, 'locked': False, 'author_flair_text': None, 'treatment_tags': [], 'visited': False, 'removed_by': None, 'num_reports': None, 'distinguished': None, 'subreddit_id': 't5_2s7yr', 'author_is_blocked': False, 'mod_reason_by': None, 'removal_reason': None, 'link_flair_background_color': '', 'id': 'uu0q41', 'is_robot_indexable': True, 'report_reasons': None, 'author': 'hunnie47', 'discussion_type': None, 'num_comments': 7, 'send_replies': False, 'whitelist_status': 'no_ads', 'contest_mode': False, 'mod_reports': [], 'author_patreon_flair': False, 'author_flair_text_color': None, 'permalink': '/r/stopdrinking/comments/uu0q41/what_are_your_hobbies/', 'parent_whitelist_status': 'no_ads', 'stickied': False, 'url': 'https://www.reddit.com/r/stopdrinking/comments/uu0q41/what_are_your_hobbies/', 'subreddit_subscribers': 360805, 'created_utc': 1653063115.0, 'num_crossposts': 0, 'media': None, 'is_video': False}}, {'kind': 't3', 'data': {'approved_at_utc': None, 'subreddit': 'stopdrinking', 'selftext': \"This one was released today on the album American Heartbreak, from the wiser-than-his-years 26 year old Zach Bryan. Rarely have I heard a song on the first listen that I just knew was going to be my anthem. Incredible song with beautiful and raw lyrics that I had to share in full. At least in the way I interpret the lyrics he is almost certainly talking about himself.\\n\\n**Edit**: *here are a few YouTube links*\\n\\nLive version (in the mountains) where he has a couple sentences of background: [https://youtu.be/YfibXIeB-c4](https://youtu.be/YfibXIeB-c4)\\n\\nStudio version (out today): [https://youtu.be/xlNZniQi19I](https://youtu.be/xlNZniQi19I)\\n\\nHere are the lyrics, a summer anthem for us all.\\n\\n**Zach Bryan - Mine Again**\\n\\n\\\\[Intro\\\\]\\n\\nYou are mine again\\n\\nEvery mistake that you made, all the people that you saved that took a little piece of you with them\\n\\nYou are mine again\\n\\nAnd I’m so damn glad you're here talking strong, sober, and clear like you couldn’t back then\\n\\nHow many sad songs it take, to get your stubborn ass awake? What finally got you rising from your bed?\\n\\nWas it the sunset on her cheeks, leading down to a delicate collar bone, or the judgement of your mind when you’re alone?\\n\\n\\\\[Chorus\\\\]\\n\\nMine again, my fondest friend where the hell you been?\\n\\nI’ve been strugglin' to get back to you\\n\\nAnd if you fight all night I’m sure you’ll gain the guts to try\\n\\nTo get past the things that you’ve been through\\n\\nCause no one plays it cool quite the way you do\\n\\n\\\\[Verse\\\\]\\n\\nAre those tires you got still turnin'?\\n\\nIs the spirit you had still burnin'?\\n\\nDo you still talk that shit the way you did before?\\n\\nAll the women and the wages and the wars that I’ve been wagin'\\n\\nI just don’t feel like fighting anymore\\n\\n\\\\[Chorus\\\\]\\n\\nMine again, my fondest friend where the hell you been?\\n\\nI’ve been strugglin' to get back to you\\n\\nAnd if you fight all night I’m sure you’ll gain the guts to try\\n\\nIt ain't your fault what you’ve been through\\n\\nCause no one plays it cool quite the way you do\\n\\n\\\\[Post-Chorus\\\\]\\n\\nMi-i-i-i-ine again, so head back home to who you know you can\\n\\nMi-i-i-i-ine again, so don’t be so cruel and play God with all his plans\\n\\n\\\\[Chorus\\\\]\\n\\nMine again, my fondest friend where the hell you been?\\n\\nI’ve been strugglin' to get back to you\\n\\nIf you fight all night I’m sure you’ll gain the guts to try\\n\\nIt's not your fault what you’ve been through\\n\\nNo one plays it cool quite like you\\n\\n\\\\[Outro\\\\]\\n\\n'Cause I am mine again\\n\\nEvery mistake that I made\\n\\nAnd I ain’t ashamed to say who the hell I am\\n\\n'Cause I am mine again\\n\\nAnd I’m so damn glad I'm here, talking strong, sober, and clear like I couldn’t back then\", 'author_fullname': 't2_dp0jddfm', 'saved': False, 'mod_reason_title': None, 'gilded': 0, 'clicked': False, 'title': 'Finally, a country/Americana song about getting sober!', 'link_flair_richtext': [], 'subreddit_name_prefixed': 'r/stopdrinking', 'hidden': False, 'pwls': 0, 'link_flair_css_class': None, 'downs': 0, 'top_awarded_type': None, 'hide_score': False, 'name': 't3_uu0oof', 'quarantine': False, 'link_flair_text_color': 'dark', 'upvote_ratio': 1.0, 'author_flair_background_color': None, 'subreddit_type': 'public', 'ups': 9, 'total_awards_received': 0, 'media_embed': {}, 'author_flair_template_id': None, 'is_original_content': False, 'user_reports': [], 'secure_media': None, 'is_reddit_media_domain': False, 'is_meta': False, 'category': None, 'secure_media_embed': {}, 'link_flair_text': None, 'can_mod_post': False, 'score': 9, 'approved_by': None, 'is_created_from_ads_ui': False, 'author_premium': False, 'thumbnail': '', 'edited': 1653068078.0, 'author_flair_css_class': None, 'author_flair_richtext': [], 'gildings': {}, 'content_categories': None, 'is_self': True, 'mod_note': None, 'created': 1653063035.0, 'link_flair_type': 'text', 'wls': 0, 'removed_by_category': None, 'banned_by': None, 'author_flair_type': 'text', 'domain': 'self.stopdrinking', 'allow_live_comments': False, 'selftext_html': '&lt;!-- SC_OFF --&gt;&lt;div class=\"md\"&gt;&lt;p&gt;This one was released today on the album American Heartbreak, from the wiser-than-his-years 26 year old Zach Bryan. Rarely have I heard a song on the first listen that I just knew was going to be my anthem. Incredible song with beautiful and raw lyrics that I had to share in full. At least in the way I interpret the lyrics he is almost certainly talking about himself.&lt;/p&gt;\\n\\n&lt;p&gt;&lt;strong&gt;Edit&lt;/strong&gt;: &lt;em&gt;here are a few YouTube links&lt;/em&gt;&lt;/p&gt;\\n\\n&lt;p&gt;Live version (in the mountains) where he has a couple sentences of background: &lt;a href=\"https://youtu.be/YfibXIeB-c4\"&gt;https://youtu.be/YfibXIeB-c4&lt;/a&gt;&lt;/p&gt;\\n\\n&lt;p&gt;Studio version (out today): &lt;a href=\"https://youtu.be/xlNZniQi19I\"&gt;https://youtu.be/xlNZniQi19I&lt;/a&gt;&lt;/p&gt;\\n\\n&lt;p&gt;Here are the lyrics, a summer anthem for us all.&lt;/p&gt;\\n\\n&lt;p&gt;&lt;strong&gt;Zach Bryan - Mine Again&lt;/strong&gt;&lt;/p&gt;\\n\\n&lt;p&gt;[Intro]&lt;/p&gt;\\n\\n&lt;p&gt;You are mine again&lt;/p&gt;\\n\\n&lt;p&gt;Every mistake that you made, all the people that you saved that took a little piece of you with them&lt;/p&gt;\\n\\n&lt;p&gt;You are mine again&lt;/p&gt;\\n\\n&lt;p&gt;And I’m so damn glad you&amp;#39;re here talking strong, sober, and clear like you couldn’t back then&lt;/p&gt;\\n\\n&lt;p&gt;How many sad songs it take, to get your stubborn ass awake? What finally got you rising from your bed?&lt;/p&gt;\\n\\n&lt;p&gt;Was it the sunset on her cheeks, leading down to a delicate collar bone, or the judgement of your mind when you’re alone?&lt;/p&gt;\\n\\n&lt;p&gt;[Chorus]&lt;/p&gt;\\n\\n&lt;p&gt;Mine again, my fondest friend where the hell you been?&lt;/p&gt;\\n\\n&lt;p&gt;I’ve been strugglin&amp;#39; to get back to you&lt;/p&gt;\\n\\n&lt;p&gt;And if you fight all night I’m sure you’ll gain the guts to try&lt;/p&gt;\\n\\n&lt;p&gt;To get past the things that you’ve been through&lt;/p&gt;\\n\\n&lt;p&gt;Cause no one plays it cool quite the way you do&lt;/p&gt;\\n\\n&lt;p&gt;[Verse]&lt;/p&gt;\\n\\n&lt;p&gt;Are those tires you got still turnin&amp;#39;?&lt;/p&gt;\\n\\n&lt;p&gt;Is the spirit you had still burnin&amp;#39;?&lt;/p&gt;\\n\\n&lt;p&gt;Do you still talk that shit the way you did before?&lt;/p&gt;\\n\\n&lt;p&gt;All the women and the wages and the wars that I’ve been wagin&amp;#39;&lt;/p&gt;\\n\\n&lt;p&gt;I just don’t feel like fighting anymore&lt;/p&gt;\\n\\n&lt;p&gt;[Chorus]&lt;/p&gt;\\n\\n&lt;p&gt;Mine again, my fondest friend where the hell you been?&lt;/p&gt;\\n\\n&lt;p&gt;I’ve been strugglin&amp;#39; to get back to you&lt;/p&gt;\\n\\n&lt;p&gt;And if you fight all night I’m sure you’ll gain the guts to try&lt;/p&gt;\\n\\n&lt;p&gt;It ain&amp;#39;t your fault what you’ve been through&lt;/p&gt;\\n\\n&lt;p&gt;Cause no one plays it cool quite the way you do&lt;/p&gt;\\n\\n&lt;p&gt;[Post-Chorus]&lt;/p&gt;\\n\\n&lt;p&gt;Mi-i-i-i-ine again, so head back home to who you know you can&lt;/p&gt;\\n\\n&lt;p&gt;Mi-i-i-i-ine again, so don’t be so cruel and play God with all his plans&lt;/p&gt;\\n\\n&lt;p&gt;[Chorus]&lt;/p&gt;\\n\\n&lt;p&gt;Mine again, my fondest friend where the hell you been?&lt;/p&gt;\\n\\n&lt;p&gt;I’ve been strugglin&amp;#39; to get back to you&lt;/p&gt;\\n\\n&lt;p&gt;If you fight all night I’m sure you’ll gain the guts to try&lt;/p&gt;\\n\\n&lt;p&gt;It&amp;#39;s not your fault what you’ve been through&lt;/p&gt;\\n\\n&lt;p&gt;No one plays it cool quite like you&lt;/p&gt;\\n\\n&lt;p&gt;[Outro]&lt;/p&gt;\\n\\n&lt;p&gt;&amp;#39;Cause I am mine again&lt;/p&gt;\\n\\n&lt;p&gt;Every mistake that I made&lt;/p&gt;\\n\\n&lt;p&gt;And I ain’t ashamed to say who the hell I am&lt;/p&gt;\\n\\n&lt;p&gt;&amp;#39;Cause I am mine again&lt;/p&gt;\\n\\n&lt;p&gt;And I’m so damn glad I&amp;#39;m here, talking strong, sober, and clear like I couldn’t back then&lt;/p&gt;\\n&lt;/div&gt;&lt;!-- SC_ON --&gt;', 'likes': None, 'suggested_sort': None, 'banned_at_utc': None, 'view_count': None, 'archived': False, 'no_follow': False, 'is_crosspostable': False, 'pinned': False, 'over_18': False, 'all_awardings': [], 'awarders': [], 'media_only': False, 'can_gild': True, 'spoiler': False, 'locked': False, 'author_flair_text': None, 'treatment_tags': [], 'visited': False, 'removed_by': None, 'num_reports': None, 'distinguished': None, 'subreddit_id': 't5_2s7yr', 'author_is_blocked': False, 'mod_reason_by': None, 'removal_reason': None, 'link_flair_background_color': '', 'id': 'uu0oof', 'is_robot_indexable': True, 'report_reasons': None, 'author': 'useranon8675309', 'discussion_type': None, 'num_comments': 6, 'send_replies': True, 'whitelist_status': 'no_ads', 'contest_mode': False, 'mod_reports': [], 'author_patreon_flair': False, 'author_flair_text_color': None, 'permalink': '/r/stopdrinking/comments/uu0oof/finally_a_countryamericana_song_about_getting/', 'parent_whitelist_status': 'no_ads', 'stickied': False, 'url': 'https://www.reddit.com/r/stopdrinking/comments/uu0oof/finally_a_countryamericana_song_about_getting/', 'subreddit_subscribers': 360805, 'created_utc': 1653063035.0, 'num_crossposts': 0, 'media': None, 'is_video': False}}, {'kind': 't3', 'data': {'approved_at_utc': None, 'subreddit': 'stopdrinking', 'selftext': 'I just wanted to share what’s happening with me. We should certainly support each other and be positive around here, but allow me to be negative for one post - so a warning about that. I think it’s helpful to sobriety \\n to never forget the damage alcohol did to your life. I certainly hope I never forget how much this last week sucked.\\n\\nI’ve been doing “better” (I’m wondering if that’s true) but I’m certainly having huge stints of sobriety, but now it seems when I do encounter a trigger that I don’t have enough self awareness to see, and I relapse im drinking more and blacking out more.\\n\\nSo I had only been drinking two days last week but was blackout enough to fight with my neighbour .. I said something rude, he got in my face… no punches were thrown but it was angry. My idiot drunk ass won’t say a word to police and was not polite (to say the least - a terrible choice) and they took his story at face value, I got way more serious charges than what happened, and neighbour got nothing. Hoping my lawyer can present what I know happened and charges are cleared or  reduced. I can’t go to my apt where I’m still paying rent due to bail conditions, I hope lawyer can get that removed asap. \\n\\nSo I drank as soon as I got out due the stress and finally came to a couple days later when I at least found a place to stay. “Fuck alcohol” for the 50th time in my life. I thought just having a couple beers for a day would lessen withdrawal, I don’t think so. I’m quite sure I have withdrawal kindling from going so many times on and off the wagon. Ladies and gentlemen I cannot describe how sick I was (and still am but hey the shakes allow for typing now, it’s getting better). Can’t eat, can’t sleep, can’t keep water down, constant diarrhea, skin crawling anxiety and so depressed you just lay in bed. I know I should have sought medical attention but I’m down to regular withdrawal after 48 hrs of whatever the fuck that was. I’ve cold turkey’d opiates, I don’t think it ever felt that bad (opiates WD tends to be longer in my experience).  Every booze detox now is 100% more painful than the last - like it’s marked. If this continues I will fear them too much to face outside of detox - it will NOT continue \\n\\n\\nI am soooooo fucking done this time I can’t put words to it. 12 weeks of free counselling start Tuesday, SMART tomorrow morning (been to dozens, but I’ve been missing lately for obvious reasons) and reached out to addictions doctor I’ve been a client of (she still won’t  me Antabuse, but haven’t told her of these setback yet,  just set meeting). \\n\\nSorry if this brings anyone down but I benefit from hearing how bad it is (or was, hoping) once and a while, hoping others do too. \\n\\nLove you all \\n\\nIWNDWYT', 'author_fullname': 't2_bl8hcp8i', 'saved': False, 'mod_reason_title': None, 'gilded': 0, 'clicked': False, 'title': 'Day 2', 'link_flair_richtext': [], 'subreddit_name_prefixed': 'r/stopdrinking', 'hidden': False, 'pwls': 0, 'link_flair_css_class': None, 'downs': 0, 'top_awarded_type': None, 'hide_score': False, 'name': 't3_uu0d8h', 'quarantine': False, 'link_flair_text_color': 'dark', 'upvote_ratio': 1.0, 'author_flair_background_color': None, 'subreddit_type': 'public', 'ups': 6, 'total_awards_received': 0, 'media_embed': {}, 'author_flair_template_id': None, 'is_original_content': False, 'user_reports': [], 'secure_media': None, 'is_reddit_media_domain': False, 'is_meta': False, 'category': None, 'secure_media_embed': {}, 'link_flair_text': None, 'can_mod_post': False, 'score': 6, 'approved_by': None, 'is_created_from_ads_ui': False, 'author_premium': False, 'thumbnail': '', 'edited': 1653063046.0, 'author_flair_css_class': None, 'author_flair_richtext': [], 'gildings': {}, 'content_categories': None, 'is_self': True, 'mod_note': None, 'created': 1653062402.0, 'link_flair_type': 'text', 'wls': 0, 'removed_by_category': None, 'banned_by': None, 'author_flair_type': 'text', 'domain': 'self.stopdrinking', 'allow_live_comments': False, 'selftext_html': '&lt;!-- SC_OFF --&gt;&lt;div class=\"md\"&gt;&lt;p&gt;I just wanted to share what’s happening with me. We should certainly support each other and be positive around here, but allow me to be negative for one post - so a warning about that. I think it’s helpful to sobriety \\n to never forget the damage alcohol did to your life. I certainly hope I never forget how much this last week sucked.&lt;/p&gt;\\n\\n&lt;p&gt;I’ve been doing “better” (I’m wondering if that’s true) but I’m certainly having huge stints of sobriety, but now it seems when I do encounter a trigger that I don’t have enough self awareness to see, and I relapse im drinking more and blacking out more.&lt;/p&gt;\\n\\n&lt;p&gt;So I had only been drinking two days last week but was blackout enough to fight with my neighbour .. I said something rude, he got in my face… no punches were thrown but it was angry. My idiot drunk ass won’t say a word to police and was not polite (to say the least - a terrible choice) and they took his story at face value, I got way more serious charges than what happened, and neighbour got nothing. Hoping my lawyer can present what I know happened and charges are cleared or  reduced. I can’t go to my apt where I’m still paying rent due to bail conditions, I hope lawyer can get that removed asap. &lt;/p&gt;\\n\\n&lt;p&gt;So I drank as soon as I got out due the stress and finally came to a couple days later when I at least found a place to stay. “Fuck alcohol” for the 50th time in my life. I thought just having a couple beers for a day would lessen withdrawal, I don’t think so. I’m quite sure I have withdrawal kindling from going so many times on and off the wagon. Ladies and gentlemen I cannot describe how sick I was (and still am but hey the shakes allow for typing now, it’s getting better). Can’t eat, can’t sleep, can’t keep water down, constant diarrhea, skin crawling anxiety and so depressed you just lay in bed. I know I should have sought medical attention but I’m down to regular withdrawal after 48 hrs of whatever the fuck that was. I’ve cold turkey’d opiates, I don’t think it ever felt that bad (opiates WD tends to be longer in my experience).  Every booze detox now is 100% more painful than the last - like it’s marked. If this continues I will fear them too much to face outside of detox - it will NOT continue &lt;/p&gt;\\n\\n&lt;p&gt;I am soooooo fucking done this time I can’t put words to it. 12 weeks of free counselling start Tuesday, SMART tomorrow morning (been to dozens, but I’ve been missing lately for obvious reasons) and reached out to addictions doctor I’ve been a client of (she still won’t  me Antabuse, but haven’t told her of these setback yet,  just set meeting). &lt;/p&gt;\\n\\n&lt;p&gt;Sorry if this brings anyone down but I benefit from hearing how bad it is (or was, hoping) once and a while, hoping others do too. &lt;/p&gt;\\n\\n&lt;p&gt;Love you all &lt;/p&gt;\\n\\n&lt;p&gt;IWNDWYT&lt;/p&gt;\\n&lt;/div&gt;&lt;!-- SC_ON --&gt;', 'likes': None, 'suggested_sort': None, 'banned_at_utc': None, 'view_count': None, 'archived': False, 'no_follow': True, 'is_crosspostable': False, 'pinned': False, 'over_18': False, 'all_awardings': [], 'awarders': [], 'media_only': False, 'can_gild': True, 'spoiler': False, 'locked': False, 'author_flair_text': None, 'treatment_tags': [], 'visited': False, 'removed_by': None, 'num_reports': None, 'distinguished': None, 'subreddit_id': 't5_2s7yr', 'author_is_blocked': False, 'mod_reason_by': None, 'removal_reason': None, 'link_flair_background_color': '', 'id': 'uu0d8h', 'is_robot_indexable': True, 'report_reasons': None, 'author': 'SingularityOfOne', 'discussion_type': None, 'num_comments': 0, 'send_replies': True, 'whitelist_status': 'no_ads', 'contest_mode': False, 'mod_reports': [], 'author_patreon_flair': False, 'author_flair_text_color': None, 'permalink': '/r/stopdrinking/comments/uu0d8h/day_2/', 'parent_whitelist_status': 'no_ads', 'stickied': False, 'url': 'https://www.reddit.com/r/stopdrinking/comments/uu0d8h/day_2/', 'subreddit_subscribers': 360805, 'created_utc': 1653062402.0, 'num_crossposts': 0, 'media': None, 'is_video': False}}, {'kind': 't3', 'data': {'approved_at_utc': None, 'subreddit': 'stopdrinking', 'selftext': 'I am a mom, and I am middle aged. I drink on weekends. Last night I fell and sprained my foot. I scared my children. I am done. Its the end of this party. No more.', 'author_fullname': 't2_2cgaem9h', 'saved': False, 'mod_reason_title': None, 'gilded': 0, 'clicked': False, 'title': 'I quit', 'link_flair_richtext': [], 'subreddit_name_prefixed': 'r/stopdrinking', 'hidden': False, 'pwls': 0, 'link_flair_css_class': None, 'downs': 0, 'top_awarded_type': None, 'hide_score': False, 'name': 't3_uu07ny', 'quarantine': False, 'link_flair_text_color': 'dark', 'upvote_ratio': 1.0, 'author_flair_background_color': None, 'subreddit_type': 'public', 'ups': 36, 'total_awards_received': 0, 'media_embed': {}, 'author_flair_template_id': None, 'is_original_content': False, 'user_reports': [], 'secure_media': None, 'is_reddit_media_domain': False, 'is_meta': False, 'category': None, 'secure_media_embed': {}, 'link_flair_text': None, 'can_mod_post': False, 'score': 36, 'approved_by': None, 'is_created_from_ads_ui': False, 'author_premium': False, 'thumbnail': '', 'edited': False, 'author_flair_css_class': None, 'author_flair_richtext': [], 'gildings': {}, 'content_categories': None, 'is_self': True, 'mod_note': None, 'created': 1653062075.0, 'link_flair_type': 'text', 'wls': 0, 'removed_by_category': None, 'banned_by': None, 'author_flair_type': 'text', 'domain': 'self.stopdrinking', 'allow_live_comments': False, 'selftext_html': '&lt;!-- SC_OFF --&gt;&lt;div class=\"md\"&gt;&lt;p&gt;I am a mom, and I am middle aged. I drink on weekends. Last night I fell and sprained my foot. I scared my children. I am done. Its the end of this party. No more.&lt;/p&gt;\\n&lt;/div&gt;&lt;!-- SC_ON --&gt;', 'likes': None, 'suggested_sort': None, 'banned_at_utc': None, 'view_count': None, 'archived': False, 'no_follow': False, 'is_crosspostable': False, 'pinned': False, 'over_18': False, 'all_awardings': [], 'awarders': [], 'media_only': False, 'can_gild': True, 'spoiler': False, 'locked': False, 'author_flair_text': None, 'treatment_tags': [], 'visited': False, 'removed_by': None, 'num_reports': None, 'distinguished': None, 'subreddit_id': 't5_2s7yr', 'author_is_blocked': False, 'mod_reason_by': None, 'removal_reason': None, 'link_flair_background_color': '', 'id': 'uu07ny', 'is_robot_indexable': True, 'report_reasons': None, 'author': 'CharlieGirl234', 'discussion_type': None, 'num_comments': 3, 'send_replies': True, 'whitelist_status': 'no_ads', 'contest_mode': False, 'mod_reports': [], 'author_patreon_flair': False, 'author_flair_text_color': None, 'permalink': '/r/stopdrinking/comments/uu07ny/i_quit/', 'parent_whitelist_status': 'no_ads', 'stickied': False, 'url': 'https://www.reddit.com/r/stopdrinking/comments/uu07ny/i_quit/', 'subreddit_subscribers': 360805, 'created_utc': 1653062075.0, 'num_crossposts': 0, 'media': None, 'is_video': False}}, {'kind': 't3', 'data': {'approved_at_utc': None, 'subreddit': 'stopdrinking', 'selftext': 'I’m on my way to lunch with family but I actually just want to lie in bed. No drinking, no drinking.\\n\\nI just noticed that when I’m not drinking I eat chocolate like crazy. Chocolate, coca-cola, &amp; cigarettes. Anyone else? What helped you fight off the fleeting “1 cocktail wouldn’t kill you but would probably take the edge off” thoughts of day 2?', 'author_fullname': 't2_fh9yggpy', 'saved': False, 'mod_reason_title': None, 'gilded': 0, 'clicked': False, 'title': 'What did you do on Day 2?', 'link_flair_richtext': [], 'subreddit_name_prefixed': 'r/stopdrinking', 'hidden': False, 'pwls': 0, 'link_flair_css_class': None, 'downs': 0, 'top_awarded_type': None, 'hide_score': False, 'name': 't3_uu03y2', 'quarantine': False, 'link_flair_text_color': 'dark', 'upvote_ratio': 1.0, 'author_flair_background_color': None, 'subreddit_type': 'public', 'ups': 2, 'total_awards_received': 0, 'media_embed': {}, 'author_flair_template_id': 'faf59352-6c36-11e9-bb53-0ea8f391a97e', 'is_original_content': False, 'user_reports': [], 'secure_media': None, 'is_reddit_media_domain': False, 'is_meta': False, 'category': None, 'secure_media_embed': {}, 'link_flair_text': None, 'can_mod_post': False, 'score': 2, 'approved_by': None, 'is_created_from_ads_ui': False, 'author_premium': False, 'thumbnail': '', 'edited': False, 'author_flair_css_class': 'under1', 'author_flair_richtext': [], 'gildings': {}, 'content_categories': None, 'is_self': True, 'mod_note': None, 'created': 1653061859.0, 'link_flair_type': 'text', 'wls': 0, 'removed_by_category': None, 'banned_by': None, 'author_flair_type': 'text', 'domain': 'self.stopdrinking', 'allow_live_comments': False, 'selftext_html': '&lt;!-- SC_OFF --&gt;&lt;div class=\"md\"&gt;&lt;p&gt;I’m on my way to lunch with family but I actually just want to lie in bed. No drinking, no drinking.&lt;/p&gt;\\n\\n&lt;p&gt;I just noticed that when I’m not drinking I eat chocolate like crazy. Chocolate, coca-cola, &amp;amp; cigarettes. Anyone else? What helped you fight off the fleeting “1 cocktail wouldn’t kill you but would probably take the edge off” thoughts of day 2?&lt;/p&gt;\\n&lt;/div&gt;&lt;!-- SC_ON --&gt;', 'likes': None, 'suggested_sort': None, 'banned_at_utc': None, 'view_count': None, 'archived': False, 'no_follow': False, 'is_crosspostable': False, 'pinned': False, 'over_18': False, 'all_awardings': [], 'awarders': [], 'media_only': False, 'can_gild': True, 'spoiler': False, 'locked': False, 'author_flair_text': '1 day', 'treatment_tags': [], 'visited': False, 'removed_by': None, 'num_reports': None, 'distinguished': None, 'subreddit_id': 't5_2s7yr', 'author_is_blocked': False, 'mod_reason_by': None, 'removal_reason': None, 'link_flair_background_color': '', 'id': 'uu03y2', 'is_robot_indexable': True, 'report_reasons': None, 'author': 'justbby', 'discussion_type': None, 'num_comments': 8, 'send_replies': True, 'whitelist_status': 'no_ads', 'contest_mode': False, 'mod_reports': [], 'author_patreon_flair': False, 'author_flair_text_color': 'dark', 'permalink': '/r/stopdrinking/comments/uu03y2/what_did_you_do_on_day_2/', 'parent_whitelist_status': 'no_ads', 'stickied': False, 'url': 'https://www.reddit.com/r/stopdrinking/comments/uu03y2/what_did_you_do_on_day_2/', 'subreddit_subscribers': 360805, 'created_utc': 1653061859.0, 'num_crossposts': 0, 'media': None, 'is_video': False}}, {'kind': 't3', 'data': {'approved_at_utc': None, 'subreddit': 'stopdrinking', 'selftext': 'Hello you lovely folks! I’m at 100 days today which is AWESOME but it’s really the first day I’m wanting to day drink. I had an event this morning at my child’s school (small grad ceremony) and so I am all dressed up, took the day off work, and now I’d like to go to a brunch place and enjoy mimosas. \\n\\nI WON’T but I want to! Ugh. \\n\\nIWNDWYT.', 'author_fullname': 't2_507bbm0s', 'saved': False, 'mod_reason_title': None, 'gilded': 0, 'clicked': False, 'title': 'Need a wee bit of support', 'link_flair_richtext': [], 'subreddit_name_prefixed': 'r/stopdrinking', 'hidden': False, 'pwls': 0, 'link_flair_css_class': None, 'downs': 0, 'top_awarded_type': None, 'hide_score': False, 'name': 't3_uu00gg', 'quarantine': False, 'link_flair_text_color': 'dark', 'upvote_ratio': 0.94, 'author_flair_background_color': '', 'subreddit_type': 'public', 'ups': 12, 'total_awards_received': 0, 'media_embed': {}, 'author_flair_template_id': None, 'is_original_content': False, 'user_reports': [], 'secure_media': None, 'is_reddit_media_domain': False, 'is_meta': False, 'category': None, 'secure_media_embed': {}, 'link_flair_text': None, 'can_mod_post': False, 'score': 12, 'approved_by': None, 'is_created_from_ads_ui': False, 'author_premium': False, 'thumbnail': '', 'edited': False, 'author_flair_css_class': 'month3', 'author_flair_richtext': [], 'gildings': {}, 'content_categories': None, 'is_self': True, 'mod_note': None, 'created': 1653061661.0, 'link_flair_type': 'text', 'wls': 0, 'removed_by_category': None, 'banned_by': None, 'author_flair_type': 'text', 'domain': 'self.stopdrinking', 'allow_live_comments': False, 'selftext_html': '&lt;!-- SC_OFF --&gt;&lt;div class=\"md\"&gt;&lt;p&gt;Hello you lovely folks! I’m at 100 days today which is AWESOME but it’s really the first day I’m wanting to day drink. I had an event this morning at my child’s school (small grad ceremony) and so I am all dressed up, took the day off work, and now I’d like to go to a brunch place and enjoy mimosas. &lt;/p&gt;\\n\\n&lt;p&gt;I WON’T but I want to! Ugh. &lt;/p&gt;\\n\\n&lt;p&gt;IWNDWYT.&lt;/p&gt;\\n&lt;/div&gt;&lt;!-- SC_ON --&gt;', 'likes': None, 'suggested_sort': None, 'banned_at_utc': None, 'view_count': None, 'archived': False, 'no_follow': False, 'is_crosspostable': False, 'pinned': False, 'over_18': False, 'all_awardings': [], 'awarders': [], 'media_only': False, 'can_gild': True, 'spoiler': False, 'locked': False, 'author_flair_text': '100 days', 'treatment_tags': [], 'visited': False, 'removed_by': None, 'num_reports': None, 'distinguished': None, 'subreddit_id': 't5_2s7yr', 'author_is_blocked': False, 'mod_reason_by': None, 'removal_reason': None, 'link_flair_background_color': '', 'id': 'uu00gg', 'is_robot_indexable': True, 'report_reasons': None, 'author': 'whisperingskunk', 'discussion_type': None, 'num_comments': 3, 'send_replies': True, 'whitelist_status': 'no_ads', 'contest_mode': False, 'mod_reports': [], 'author_patreon_flair': False, 'author_flair_text_color': 'dark', 'permalink': '/r/stopdrinking/comments/uu00gg/need_a_wee_bit_of_support/', 'parent_whitelist_status': 'no_ads', 'stickied': False, 'url': 'https://www.reddit.com/r/stopdrinking/comments/uu00gg/need_a_wee_bit_of_support/', 'subreddit_subscribers': 360805, 'created_utc': 1653061661.0, 'num_crossposts': 0, 'media': None, 'is_video': False}}, {'kind': 't3', 'data': {'approved_at_utc': None, 'subreddit': 'stopdrinking', 'selftext': 'So today marks my 11th day sober and it’s a Friday.\\nI’m back at work today and all I’m thinking about is getting beers on the way home. \\nIt’s strong and I don’t know if you guys have any tips to fight it. I don’t want to blow this.', 'author_fullname': 't2_i69jqxd7', 'saved': False, 'mod_reason_title': None, 'gilded': 0, 'clicked': False, 'title': 'Accountability or Advice', 'link_flair_richtext': [], 'subreddit_name_prefixed': 'r/stopdrinking', 'hidden': False, 'pwls': 0, 'link_flair_css_class': None, 'downs': 0, 'top_awarded_type': None, 'hide_score': False, 'name': 't3_utzzom', 'quarantine': False, 'link_flair_text_color': 'dark', 'upvote_ratio': 1.0, 'author_flair_background_color': None, 'subreddit_type': 'public', 'ups': 1, 'total_awards_received': 0, 'media_embed': {}, 'author_flair_template_id': None, 'is_original_content': False, 'user_reports': [], 'secure_media': None, 'is_reddit_media_domain': False, 'is_meta': False, 'category': None, 'secure_media_embed': {}, 'link_flair_text': None, 'can_mod_post': False, 'score': 1, 'approved_by': None, 'is_created_from_ads_ui': False, 'author_premium': False, 'thumbnail': '', 'edited': False, 'author_flair_css_class': None, 'author_flair_richtext': [], 'gildings': {}, 'content_categories': None, 'is_self': True, 'mod_note': None, 'created': 1653061619.0, 'link_flair_type': 'text', 'wls': 0, 'removed_by_category': None, 'banned_by': None, 'author_flair_type': 'text', 'domain': 'self.stopdrinking', 'allow_live_comments': False, 'selftext_html': '&lt;!-- SC_OFF --&gt;&lt;div class=\"md\"&gt;&lt;p&gt;So today marks my 11th day sober and it’s a Friday.\\nI’m back at work today and all I’m thinking about is getting beers on the way home. \\nIt’s strong and I don’t know if you guys have any tips to fight it. I don’t want to blow this.&lt;/p&gt;\\n&lt;/div&gt;&lt;!-- SC_ON --&gt;', 'likes': None, 'suggested_sort': None, 'banned_at_utc': None, 'view_count': None, 'archived': False, 'no_follow': True, 'is_crosspostable': False, 'pinned': False, 'over_18': False, 'all_awardings': [], 'awarders': [], 'media_only': False, 'can_gild': True, 'spoiler': False, 'locked': False, 'author_flair_text': None, 'treatment_tags': [], 'visited': False, 'removed_by': None, 'num_reports': None, 'distinguished': None, 'subreddit_id': 't5_2s7yr', 'author_is_blocked': False, 'mod_reason_by': None, 'removal_reason': None, 'link_flair_background_color': '', 'id': 'utzzom', 'is_robot_indexable': True, 'report_reasons': None, 'author': 'skytimetale', 'discussion_type': None, 'num_comments': 1, 'send_replies': True, 'whitelist_status': 'no_ads', 'contest_mode': False, 'mod_reports': [], 'author_patreon_flair': False, 'author_flair_text_color': None, 'permalink': '/r/stopdrinking/comments/utzzom/accountability_or_advice/', 'parent_whitelist_status': 'no_ads', 'stickied': False, 'url': 'https://www.reddit.com/r/stopdrinking/comments/utzzom/accountability_or_advice/', 'subreddit_subscribers': 360805, 'created_utc': 1653061619.0, 'num_crossposts': 0, 'media': None, 'is_video': False}}, {'kind': 't3', 'data': {'approved_at_utc': None, 'subreddit': 'stopdrinking', 'selftext': '69 days alcohol free. Which means 69 regret-free mornings. I really can’t list every way my life has improved but here are a few: immensely improved sleep, 10 pounds of weight lost, better exercise routine, improved mood, savings of over $500, and now I have the time to volunteer with my kids’ extracurricular activities. Thanks SD!', 'author_fullname': 't2_i59pfm4u', 'saved': False, 'mod_reason_title': None, 'gilded': 0, 'clicked': False, 'title': 'As Bill and Ted would say…69 Dude!! Can I get a Nice?!', 'link_flair_richtext': [], 'subreddit_name_prefixed': 'r/stopdrinking', 'hidden': False, 'pwls': 0, 'link_flair_css_class': None, 'downs': 0, 'top_awarded_type': None, 'hide_score': False, 'name': 't3_utzsrf', 'quarantine': False, 'link_flair_text_color': 'dark', 'upvote_ratio': 0.96, 'author_flair_background_color': '', 'subreddit_type': 'public', 'ups': 18, 'total_awards_received': 0, 'media_embed': {}, 'author_flair_template_id': None, 'is_original_content': False, 'user_reports': [], 'secure_media': None, 'is_reddit_media_domain': False, 'is_meta': False, 'category': None, 'secure_media_embed': {}, 'link_flair_text': None, 'can_mod_post': False, 'score': 18, 'approved_by': None, 'is_created_from_ads_ui': False, 'author_premium': False, 'thumbnail': '', 'edited': False, 'author_flair_css_class': 'month2', 'author_flair_richtext': [], 'gildings': {}, 'content_categories': None, 'is_self': True, 'mod_note': None, 'created': 1653061224.0, 'link_flair_type': 'text', 'wls': 0, 'removed_by_category': None, 'banned_by': None, 'author_flair_type': 'text', 'domain': 'self.stopdrinking', 'allow_live_comments': False, 'selftext_html': '&lt;!-- SC_OFF --&gt;&lt;div class=\"md\"&gt;&lt;p&gt;69 days alcohol free. Which means 69 regret-free mornings. I really can’t list every way my life has improved but here are a few: immensely improved sleep, 10 pounds of weight lost, better exercise routine, improved mood, savings of over $500, and now I have the time to volunteer with my kids’ extracurricular activities. Thanks SD!&lt;/p&gt;\\n&lt;/div&gt;&lt;!-- SC_ON --&gt;', 'likes': None, 'suggested_sort': None, 'banned_at_utc': None, 'view_count': None, 'archived': False, 'no_follow': False, 'is_crosspostable': False, 'pinned': False, 'over_18': False, 'all_awardings': [], 'awarders': [], 'media_only': False, 'can_gild': True, 'spoiler': False, 'locked': False, 'author_flair_text': '68 days', 'treatment_tags': [], 'visited': False, 'removed_by': None, 'num_reports': None, 'distinguished': None, 'subreddit_id': 't5_2s7yr', 'author_is_blocked': False, 'mod_reason_by': None, 'removal_reason': None, 'link_flair_background_color': '', 'id': 'utzsrf', 'is_robot_indexable': True, 'report_reasons': None, 'author': 'Alley_cat_alien', 'discussion_type': None, 'num_comments': 6, 'send_replies': True, 'whitelist_status': 'no_ads', 'contest_mode': False, 'mod_reports': [], 'author_patreon_flair': False, 'author_flair_text_color': 'dark', 'permalink': '/r/stopdrinking/comments/utzsrf/as_bill_and_ted_would_say69_dude_can_i_get_a_nice/', 'parent_whitelist_status': 'no_ads', 'stickied': False, 'url': 'https://www.reddit.com/r/stopdrinking/comments/utzsrf/as_bill_and_ted_would_say69_dude_can_i_get_a_nice/', 'subreddit_subscribers': 360805, 'created_utc': 1653061224.0, 'num_crossposts': 0, 'media': None, 'is_video': False}}, {'kind': 't3', 'data': {'approved_at_utc': None, 'subreddit': 'stopdrinking', 'selftext': 'Hello Everyone! \\n\\nJust wanted to take a moment to thank you all for being here and those who have commented on my last post. I hope everyone has a great day and a safe weekend! :)', 'author_fullname': 't2_9ftf7v0o', 'saved': False, 'mod_reason_title': None, 'gilded': 0, 'clicked': False, 'title': 'Happy Friday from California!', 'link_flair_richtext': [], 'subreddit_name_prefixed': 'r/stopdrinking', 'hidden': False, 'pwls': 0, 'link_flair_css_class': None, 'downs': 0, 'top_awarded_type': None, 'hide_score': False, 'name': 't3_utzjlk', 'quarantine': False, 'link_flair_text_color': 'dark', 'upvote_ratio': 0.88, 'author_flair_background_color': None, 'subreddit_type': 'public', 'ups': 6, 'total_awards_received': 0, 'media_embed': {}, 'author_flair_template_id': None, 'is_original_content': False, 'user_reports': [], 'secure_media': None, 'is_reddit_media_domain': False, 'is_meta': False, 'category': None, 'secure_media_embed': {}, 'link_flair_text': None, 'can_mod_post': False, 'score': 6, 'approved_by': None, 'is_created_from_ads_ui': False, 'author_premium': False, 'thumbnail': '', 'edited': False, 'author_flair_css_class': None, 'author_flair_richtext': [], 'gildings': {}, 'content_categories': None, 'is_self': True, 'mod_note': None, 'created': 1653060712.0, 'link_flair_type': 'text', 'wls': 0, 'removed_by_category': None, 'banned_by': None, 'author_flair_type': 'text', 'domain': 'self.stopdrinking', 'allow_live_comments': False, 'selftext_html': '&lt;!-- SC_OFF --&gt;&lt;div class=\"md\"&gt;&lt;p&gt;Hello Everyone! &lt;/p&gt;\\n\\n&lt;p&gt;Just wanted to take a moment to thank you all for being here and those who have commented on my last post. I hope everyone has a great day and a safe weekend! :)&lt;/p&gt;\\n&lt;/div&gt;&lt;!-- SC_ON --&gt;', 'likes': None, 'suggested_sort': None, 'banned_at_utc': None, 'view_count': None, 'archived': False, 'no_follow': False, 'is_crosspostable': False, 'pinned': False, 'over_18': False, 'all_awardings': [], 'awarders': [], 'media_only': False, 'can_gild': True, 'spoiler': False, 'locked': False, 'author_flair_text': None, 'treatment_tags': [], 'visited': False, 'removed_by': None, 'num_reports': None, 'distinguished': None, 'subreddit_id': 't5_2s7yr', 'author_is_blocked': False, 'mod_reason_by': None, 'removal_reason': None, 'link_flair_background_color': '', 'id': 'utzjlk', 'is_robot_indexable': True, 'report_reasons': None, 'author': 'Dean_man', 'discussion_type': None, 'num_comments': 0, 'send_replies': True, 'whitelist_status': 'no_ads', 'contest_mode': False, 'mod_reports': [], 'author_patreon_flair': False, 'author_flair_text_color': None, 'permalink': '/r/stopdrinking/comments/utzjlk/happy_friday_from_california/', 'parent_whitelist_status': 'no_ads', 'stickied': False, 'url': 'https://www.reddit.com/r/stopdrinking/comments/utzjlk/happy_friday_from_california/', 'subreddit_subscribers': 360805, 'created_utc': 1653060712.0, 'num_crossposts': 0, 'media': None, 'is_video': False}}, {'kind': 't3', 'data': {'approved_at_utc': None, 'subreddit': 'stopdrinking', 'selftext': 'Partner asked me last night how my not drinking thing was going. I told them it’s fine, and it is. I haven’t had any trouble this round and it’s fine. I was then asked if this was a more permanent thing. \\n\\nI think we’ve all been there. Those of us that are maybe more fortunate to have whatever barriers we have in place (or that haven’t yet been broken down by addiction) not to lose our jobs and families from this do sometimes feel the option to return. The gray area drinkers or whatever. I guess we all have the option to return but at what cost. \\n\\nMy main points were, I don’t know if I trust myself to have full bottles of alcohol that I *like* to drink in my home. If I do choose to have some wine at an upcoming wedding, I can’t let that wine at a wedding become 3-4+ drinks a night again. \\n\\nThey said “good it’s the every night stuff that bothers me” and I just thought… I’m not sure if I care what bothers you or not. It’s about what bothers me. \\n\\nRegardless that hypothetical discussion is for another day. IWNDWYT', 'author_fullname': 't2_3opvre67', 'saved': False, 'mod_reason_title': None, 'gilded': 0, 'clicked': False, 'title': 'Interesting Question', 'link_flair_richtext': [], 'subreddit_name_prefixed': 'r/stopdrinking', 'hidden': False, 'pwls': 0, 'link_flair_css_class': None, 'downs': 0, 'top_awarded_type': None, 'hide_score': False, 'name': 't3_utzfut', 'quarantine': False, 'link_flair_text_color': 'dark', 'upvote_ratio': 0.91, 'author_flair_background_color': '', 'subreddit_type': 'public', 'ups': 8, 'total_awards_received': 0, 'media_embed': {}, 'author_flair_template_id': None, 'is_original_content': False, 'user_reports': [], 'secure_media': None, 'is_reddit_media_domain': False, 'is_meta': False, 'category': None, 'secure_media_embed': {}, 'link_flair_text': None, 'can_mod_post': False, 'score': 8, 'approved_by': None, 'is_created_from_ads_ui': False, 'author_premium': False, 'thumbnail': '', 'edited': False, 'author_flair_css_class': 'week1', 'author_flair_richtext': [], 'gildings': {}, 'content_categories': None, 'is_self': True, 'mod_note': None, 'created': 1653060509.0, 'link_flair_type': 'text', 'wls': 0, 'removed_by_category': None, 'banned_by': None, 'author_flair_type': 'text', 'domain': 'self.stopdrinking', 'allow_live_comments': False, 'selftext_html': '&lt;!-- SC_OFF --&gt;&lt;div class=\"md\"&gt;&lt;p&gt;Partner asked me last night how my not drinking thing was going. I told them it’s fine, and it is. I haven’t had any trouble this round and it’s fine. I was then asked if this was a more permanent thing. &lt;/p&gt;\\n\\n&lt;p&gt;I think we’ve all been there. Those of us that are maybe more fortunate to have whatever barriers we have in place (or that haven’t yet been broken down by addiction) not to lose our jobs and families from this do sometimes feel the option to return. The gray area drinkers or whatever. I guess we all have the option to return but at what cost. &lt;/p&gt;\\n\\n&lt;p&gt;My main points were, I don’t know if I trust myself to have full bottles of alcohol that I &lt;em&gt;like&lt;/em&gt; to drink in my home. If I do choose to have some wine at an upcoming wedding, I can’t let that wine at a wedding become 3-4+ drinks a night again. &lt;/p&gt;\\n\\n&lt;p&gt;They said “good it’s the every night stuff that bothers me” and I just thought… I’m not sure if I care what bothers you or not. It’s about what bothers me. &lt;/p&gt;\\n\\n&lt;p&gt;Regardless that hypothetical discussion is for another day. IWNDWYT&lt;/p&gt;\\n&lt;/div&gt;&lt;!-- SC_ON --&gt;', 'likes': None, 'suggested_sort': None, 'banned_at_utc': None, 'view_count': None, 'archived': False, 'no_follow': False, 'is_crosspostable': False, 'pinned': False, 'over_18': False, 'all_awardings': [], 'awarders': [], 'media_only': False, 'can_gild': True, 'spoiler': False, 'locked': False, 'author_flair_text': '12 days', 'treatment_tags': [], 'visited': False, 'removed_by': None, 'num_reports': None, 'distinguished': None, 'subreddit_id': 't5_2s7yr', 'author_is_blocked': False, 'mod_reason_by': None, 'removal_reason': None, 'link_flair_background_color': '', 'id': 'utzfut', 'is_robot_indexable': True, 'report_reasons': None, 'author': 'haberbosch1111', 'discussion_type': None, 'num_comments': 2, 'send_replies': True, 'whitelist_status': 'no_ads', 'contest_mode': False, 'mod_reports': [], 'author_patreon_flair': False, 'author_flair_text_color': 'dark', 'permalink': '/r/stopdrinking/comments/utzfut/interesting_question/', 'parent_whitelist_status': 'no_ads', 'stickied': False, 'url': 'https://www.reddit.com/r/stopdrinking/comments/utzfut/interesting_question/', 'subreddit_subscribers': 360805, 'created_utc': 1653060509.0, 'num_crossposts': 0, 'media': None, 'is_video': False}}, {'kind': 't3', 'data': {'approved_at_utc': None, 'subreddit': 'stopdrinking', 'selftext': \"Two years ago today I was standing in my back yard on the phone with the manager of the bar I owned, being told that my staff is no longer comfortable with me being there due to my drinking. I'd owned it for four years up to that point and there were many times my drinking had put the whole thing in danger, but this time I knew it was over.\\n\\nAs I heard the news I finished what I knew was my last beer. I lost that bar in the months following, as well as another I had a stake in. The following two years have been hard to live through. My financial security dissolved over the course of months and I was forced to take a low paying job, one that I acruallt had before I had hit it big in the industry.  I split up with my wife and now only get to see my kids half the time. Nothing about my life is the same as it was before that phone call.\\n\\nBut I stayed sober. Through the worst period of my life. I still deal with the consequences of my drinking every day when I go put in a tough shift for less than a third of what I used to make to do basically admin and posting to Instagram about the daily wing special. But. I am sober.\\n\\nHaving everything and losing it.... Is hard. But now little things that I never noticed before are more vibrant. I appreciate my health and that I've lost forty pounds. I appreciate waking up every day sober. Somehow despite all the collapse I am happier. That's how good it can be to get and stay sober. I lost it all but I gained sobriety and that was a good trade. And I have a new partner who is sober as well. We laugh every day.\\n\\nGetting sober didn't fix my life at all. My life is still fucked. Sliding down the ladder in terms of financial security has been terrifying, especially because I lost it at the start of the pandemic and if you're aware of the economy you can probably guess why that's pretty hard. But I am sober.  All the cash in the world couldnt buy me sobriety, but losing it did. \\n\\nThis sub helps a lot. Thank you all for being here.\", 'author_fullname': 't2_6vip1', 'saved': False, 'mod_reason_title': None, 'gilded': 0, 'clicked': False, 'title': \"I'm 2 years sober today.\", 'link_flair_richtext': [], 'subreddit_name_prefixed': 'r/stopdrinking', 'hidden': False, 'pwls': 0, 'link_flair_css_class': None, 'downs': 0, 'top_awarded_type': None, 'hide_score': False, 'name': 't3_utz5xr', 'quarantine': False, 'link_flair_text_color': 'dark', 'upvote_ratio': 1.0, 'author_flair_background_color': None, 'subreddit_type': 'public', 'ups': 73, 'total_awards_received': 0, 'media_embed': {}, 'author_flair_template_id': 'f7eec2ca-6c34-11e9-b4d8-0e7ea67a6ce4', 'is_original_content': False, 'user_reports': [], 'secure_media': None, 'is_reddit_media_domain': False, 'is_meta': False, 'category': None, 'secure_media_embed': {}, 'link_flair_text': None, 'can_mod_post': False, 'score': 73, 'approved_by': None, 'is_created_from_ads_ui': False, 'author_premium': False, 'thumbnail': '', 'edited': False, 'author_flair_css_class': 'year1', 'author_flair_richtext': [], 'gildings': {}, 'content_categories': None, 'is_self': True, 'mod_note': None, 'created': 1653059942.0, 'link_flair_type': 'text', 'wls': 0, 'removed_by_category': None, 'banned_by': None, 'author_flair_type': 'text', 'domain': 'self.stopdrinking', 'allow_live_comments': False, 'selftext_html': '&lt;!-- SC_OFF --&gt;&lt;div class=\"md\"&gt;&lt;p&gt;Two years ago today I was standing in my back yard on the phone with the manager of the bar I owned, being told that my staff is no longer comfortable with me being there due to my drinking. I&amp;#39;d owned it for four years up to that point and there were many times my drinking had put the whole thing in danger, but this time I knew it was over.&lt;/p&gt;\\n\\n&lt;p&gt;As I heard the news I finished what I knew was my last beer. I lost that bar in the months following, as well as another I had a stake in. The following two years have been hard to live through. My financial security dissolved over the course of months and I was forced to take a low paying job, one that I acruallt had before I had hit it big in the industry.  I split up with my wife and now only get to see my kids half the time. Nothing about my life is the same as it was before that phone call.&lt;/p&gt;\\n\\n&lt;p&gt;But I stayed sober. Through the worst period of my life. I still deal with the consequences of my drinking every day when I go put in a tough shift for less than a third of what I used to make to do basically admin and posting to Instagram about the daily wing special. But. I am sober.&lt;/p&gt;\\n\\n&lt;p&gt;Having everything and losing it.... Is hard. But now little things that I never noticed before are more vibrant. I appreciate my health and that I&amp;#39;ve lost forty pounds. I appreciate waking up every day sober. Somehow despite all the collapse I am happier. That&amp;#39;s how good it can be to get and stay sober. I lost it all but I gained sobriety and that was a good trade. And I have a new partner who is sober as well. We laugh every day.&lt;/p&gt;\\n\\n&lt;p&gt;Getting sober didn&amp;#39;t fix my life at all. My life is still fucked. Sliding down the ladder in terms of financial security has been terrifying, especially because I lost it at the start of the pandemic and if you&amp;#39;re aware of the economy you can probably guess why that&amp;#39;s pretty hard. But I am sober.  All the cash in the world couldnt buy me sobriety, but losing it did. &lt;/p&gt;\\n\\n&lt;p&gt;This sub helps a lot. Thank you all for being here.&lt;/p&gt;\\n&lt;/div&gt;&lt;!-- SC_ON --&gt;', 'likes': None, 'suggested_sort': None, 'banned_at_utc': None, 'view_count': None, 'archived': False, 'no_follow': False, 'is_crosspostable': False, 'pinned': False, 'over_18': False, 'all_awardings': [], 'awarders': [], 'media_only': False, 'can_gild': True, 'spoiler': False, 'locked': False, 'author_flair_text': '730 days', 'treatment_tags': [], 'visited': False, 'removed_by': None, 'num_reports': None, 'distinguished': None, 'subreddit_id': 't5_2s7yr', 'author_is_blocked': False, 'mod_reason_by': None, 'removal_reason': None, 'link_flair_background_color': '', 'id': 'utz5xr', 'is_robot_indexable': True, 'report_reasons': None, 'author': 'shittyneighbours', 'discussion_type': None, 'num_comments': 5, 'send_replies': True, 'whitelist_status': 'no_ads', 'contest_mode': False, 'mod_reports': [], 'author_patreon_flair': False, 'author_flair_text_color': 'dark', 'permalink': '/r/stopdrinking/comments/utz5xr/im_2_years_sober_today/', 'parent_whitelist_status': 'no_ads', 'stickied': False, 'url': 'https://www.reddit.com/r/stopdrinking/comments/utz5xr/im_2_years_sober_today/', 'subreddit_subscribers': 360805, 'created_utc': 1653059942.0, 'num_crossposts': 0, 'media': None, 'is_video': False}}, {'kind': 't3', 'data': {'approved_at_utc': None, 'subreddit': 'stopdrinking', 'selftext': '27m. Been drinking just about everyday since I was 18. At the beginning of the year I made a promise to myself to start cutting back on alcohol. Managed to cut it completely during the week (M - Th) since the start of year. But I am having trouble on the weekends. Every Friday and Saturday I tell myself before going out, “okay just a couple beers” then as soon as i have my first drink the thought just completely leaves my mind. And the cycle continues of blacking out and waking up the next morning full of regret. I’ve managed to push away a lot of friends and family this way. Is sobriety the only option at this point? Or is it possible to just casually enjoy alcohol. If more example I’m with my SO at a brewery I can control myself but going to a bar/club with friends I just seem to lose it. Any advice would be greatly appreciated.', 'author_fullname': 't2_nbswpp5o', 'saved': False, 'mod_reason_title': None, 'gilded': 0, 'clicked': False, 'title': 'Possible to successfully stop binge drinking and casually enjoy a beer?', 'link_flair_richtext': [], 'subreddit_name_prefixed': 'r/stopdrinking', 'hidden': False, 'pwls': 0, 'link_flair_css_class': None, 'downs': 0, 'top_awarded_type': None, 'hide_score': False, 'name': 't3_utz1tm', 'quarantine': False, 'link_flair_text_color': 'dark', 'upvote_ratio': 0.9, 'author_flair_background_color': None, 'subreddit_type': 'public', 'ups': 7, 'total_awards_received': 0, 'media_embed': {}, 'author_flair_template_id': None, 'is_original_content': False, 'user_reports': [], 'secure_media': None, 'is_reddit_media_domain': False, 'is_meta': False, 'category': None, 'secure_media_embed': {}, 'link_flair_text': None, 'can_mod_post': False, 'score': 7, 'approved_by': None, 'is_created_from_ads_ui': False, 'author_premium': False, 'thumbnail': '', 'edited': False, 'author_flair_css_class': None, 'author_flair_richtext': [], 'gildings': {}, 'content_categories': None, 'is_self': True, 'mod_note': None, 'created': 1653059707.0, 'link_flair_type': 'text', 'wls': 0, 'removed_by_category': None, 'banned_by': None, 'author_flair_type': 'text', 'domain': 'self.stopdrinking', 'allow_live_comments': False, 'selftext_html': '&lt;!-- SC_OFF --&gt;&lt;div class=\"md\"&gt;&lt;p&gt;27m. Been drinking just about everyday since I was 18. At the beginning of the year I made a promise to myself to start cutting back on alcohol. Managed to cut it completely during the week (M - Th) since the start of year. But I am having trouble on the weekends. Every Friday and Saturday I tell myself before going out, “okay just a couple beers” then as soon as i have my first drink the thought just completely leaves my mind. And the cycle continues of blacking out and waking up the next morning full of regret. I’ve managed to push away a lot of friends and family this way. Is sobriety the only option at this point? Or is it possible to just casually enjoy alcohol. If more example I’m with my SO at a brewery I can control myself but going to a bar/club with friends I just seem to lose it. Any advice would be greatly appreciated.&lt;/p&gt;\\n&lt;/div&gt;&lt;!-- SC_ON --&gt;', 'likes': None, 'suggested_sort': None, 'banned_at_utc': None, 'view_count': None, 'archived': False, 'no_follow': False, 'is_crosspostable': False, 'pinned': False, 'over_18': False, 'all_awardings': [], 'awarders': [], 'media_only': False, 'can_gild': True, 'spoiler': False, 'locked': False, 'author_flair_text': None, 'treatment_tags': [], 'visited': False, 'removed_by': None, 'num_reports': None, 'distinguished': None, 'subreddit_id': 't5_2s7yr', 'author_is_blocked': False, 'mod_reason_by': None, 'removal_reason': None, 'link_flair_background_color': '', 'id': 'utz1tm', 'is_robot_indexable': True, 'report_reasons': None, 'author': 'DinoWing674', 'discussion_type': None, 'num_comments': 11, 'send_replies': True, 'whitelist_status': 'no_ads', 'contest_mode': False, 'mod_reports': [], 'author_patreon_flair': False, 'author_flair_text_color': None, 'permalink': '/r/stopdrinking/comments/utz1tm/possible_to_successfully_stop_binge_drinking_and/', 'parent_whitelist_status': 'no_ads', 'stickied': False, 'url': 'https://www.reddit.com/r/stopdrinking/comments/utz1tm/possible_to_successfully_stop_binge_drinking_and/', 'subreddit_subscribers': 360805, 'created_utc': 1653059707.0, 'num_crossposts': 0, 'media': None, 'is_video': False}}, {'kind': 't3', 'data': {'approved_at_utc': None, 'subreddit': 'stopdrinking', 'selftext': 'A year ago, I joined Reddit just so I could comment on this subreddit. I was so low, and the drinking was feeling out of control. Waking up every morning hungover, packing on weight, having a volatile temper, and being impatient with my kids.\\n\\nIn my first post, I said I couldn’t imagine being sober a year from now let alone one week. Well, I made it for that first year. What have I learned?\\n\\n1. My issues with weight were almost entirely related to the 1,500 extra alcohol calories I was consuming every day. I’ve lost 50lbs this year.\\n\\n2. My anger issues were almost entirely related to alcohol. I thought I was simply quick to temper. I’m not. I’m actually pretty patient but if I’ve been drinking or hungover, I have a short fuse.\\n\\n3. My depression issues were entirely related to alcohol. I was having some intrusive thoughts about suicide through the end of 2020 and early 2021. They are totally gone. \\n\\n4. Parenting is much easier sober. I love spending time with my kids and I enjoy it so much more. \\n\\n5. I can handle a crisis. About two weeks after I stopped drinking, my husband had a medical emergency and almost lost his leg. I would have drank alone at home before. I was SO grateful for the support of this group at that point and I was able to keep it together for him and my kids because I didn’t decide to just drink and avoid what was happening. There were more examples of crises over the last year that were so much simpler to handle sober rather than drunk and hungover.\\n\\nLife isn’t perfect. Not every issue disappeared just because I stopped drinking. But I feel more able to face issues head on. \\n\\nThank you for your support, guidance, and inspiration over the last year. Here’s to the next one.', 'author_fullname': 't2_caig8frw', 'saved': False, 'mod_reason_title': None, 'gilded': 0, 'clicked': False, 'title': 'One year ago I said I couldn’t imagine making it to one year sober', 'link_flair_richtext': [], 'subreddit_name_prefixed': 'r/stopdrinking', 'hidden': False, 'pwls': 0, 'link_flair_css_class': None, 'downs': 0, 'top_awarded_type': None, 'hide_score': False, 'name': 't3_utyxpe', 'quarantine': False, 'link_flair_text_color': 'dark', 'upvote_ratio': 0.88, 'author_flair_background_color': None, 'subreddit_type': 'public', 'ups': 12, 'total_awards_received': 1, 'media_embed': {}, 'author_flair_template_id': 'f7eec2ca-6c34-11e9-b4d8-0e7ea67a6ce4', 'is_original_content': False, 'user_reports': [], 'secure_media': None, 'is_reddit_media_domain': False, 'is_meta': False, 'category': None, 'secure_media_embed': {}, 'link_flair_text': None, 'can_mod_post': False, 'score': 12, 'approved_by': None, 'is_created_from_ads_ui': False, 'author_premium': False, 'thumbnail': '', 'edited': False, 'author_flair_css_class': 'year1', 'author_flair_richtext': [], 'gildings': {}, 'content_categories': None, 'is_self': True, 'mod_note': None, 'created': 1653059470.0, 'link_flair_type': 'text', 'wls': 0, 'removed_by_category': None, 'banned_by': None, 'author_flair_type': 'text', 'domain': 'self.stopdrinking', 'allow_live_comments': False, 'selftext_html': '&lt;!-- SC_OFF --&gt;&lt;div class=\"md\"&gt;&lt;p&gt;A year ago, I joined Reddit just so I could comment on this subreddit. I was so low, and the drinking was feeling out of control. Waking up every morning hungover, packing on weight, having a volatile temper, and being impatient with my kids.&lt;/p&gt;\\n\\n&lt;p&gt;In my first post, I said I couldn’t imagine being sober a year from now let alone one week. Well, I made it for that first year. What have I learned?&lt;/p&gt;\\n\\n&lt;ol&gt;\\n&lt;li&gt;&lt;p&gt;My issues with weight were almost entirely related to the 1,500 extra alcohol calories I was consuming every day. I’ve lost 50lbs this year.&lt;/p&gt;&lt;/li&gt;\\n&lt;li&gt;&lt;p&gt;My anger issues were almost entirely related to alcohol. I thought I was simply quick to temper. I’m not. I’m actually pretty patient but if I’ve been drinking or hungover, I have a short fuse.&lt;/p&gt;&lt;/li&gt;\\n&lt;li&gt;&lt;p&gt;My depression issues were entirely related to alcohol. I was having some intrusive thoughts about suicide through the end of 2020 and early 2021. They are totally gone. &lt;/p&gt;&lt;/li&gt;\\n&lt;li&gt;&lt;p&gt;Parenting is much easier sober. I love spending time with my kids and I enjoy it so much more. &lt;/p&gt;&lt;/li&gt;\\n&lt;li&gt;&lt;p&gt;I can handle a crisis. About two weeks after I stopped drinking, my husband had a medical emergency and almost lost his leg. I would have drank alone at home before. I was SO grateful for the support of this group at that point and I was able to keep it together for him and my kids because I didn’t decide to just drink and avoid what was happening. There were more examples of crises over the last year that were so much simpler to handle sober rather than drunk and hungover.&lt;/p&gt;&lt;/li&gt;\\n&lt;/ol&gt;\\n\\n&lt;p&gt;Life isn’t perfect. Not every issue disappeared just because I stopped drinking. But I feel more able to face issues head on. &lt;/p&gt;\\n\\n&lt;p&gt;Thank you for your support, guidance, and inspiration over the last year. Here’s to the next one.&lt;/p&gt;\\n&lt;/div&gt;&lt;!-- SC_ON --&gt;', 'likes': None, 'suggested_sort': None, 'banned_at_utc': None, 'view_count': None, 'archived': False, 'no_follow': False, 'is_crosspostable': False, 'pinned': False, 'over_18': False, 'all_awardings': [{'giver_coin_reward': None, 'subreddit_id': None, 'is_new': False, 'days_of_drip_extension': None, 'coin_price': 30, 'id': 'award_a2506925-fc82-4d6c-ae3b-b7217e09d7f0', 'penny_donate': None, 'award_sub_type': 'PREMIUM', 'coin_reward': 0, 'icon_url': 'https://i.redd.it/award_images/t5_22cerq/80j20o397jj41_NarwhalSalute.png', 'days_of_premium': None, 'tiers_by_required_awardings': None, 'resized_icons': [{'url': 'https://preview.redd.it/award_images/t5_22cerq/80j20o397jj41_NarwhalSalute.png?width=16&amp;height=16&amp;auto=webp&amp;s=4e475e8c3265ec7148d7f4204f07d33949482f21', 'width': 16, 'height': 16}, {'url': 'https://preview.redd.it/award_images/t5_22cerq/80j20o397jj41_NarwhalSalute.png?width=32&amp;height=32&amp;auto=webp&amp;s=42e32a4b9f1e70791716c3be283e89951e212a69', 'width': 32, 'height': 32}, {'url': 'https://preview.redd.it/award_images/t5_22cerq/80j20o397jj41_NarwhalSalute.png?width=48&amp;height=48&amp;auto=webp&amp;s=5adb621fede4e8e66b952a379ad038fcc1b8ad13', 'width': 48, 'height': 48}, {'url': 'https://preview.redd.it/award_images/t5_22cerq/80j20o397jj41_NarwhalSalute.png?width=64&amp;height=64&amp;auto=webp&amp;s=6161edea19569bbee73ef322a2e5470535ec1787', 'width': 64, 'height': 64}, {'url': 'https://preview.redd.it/award_images/t5_22cerq/80j20o397jj41_NarwhalSalute.png?width=128&amp;height=128&amp;auto=webp&amp;s=5d2c75f44f176f430e936204f9a53b8a2957f2fc', 'width': 128, 'height': 128}], 'icon_width': 2048, 'static_icon_width': 2048, 'start_date': None, 'is_enabled': True, 'awardings_required_to_grant_benefits': None, 'description': 'A golden splash of respect', 'end_date': None, 'subreddit_coin_reward': 0, 'count': 1, 'static_icon_height': 2048, 'name': 'Narwhal Salute', 'resized_static_icons': [{'url': 'https://preview.redd.it/award_images/t5_22cerq/80j20o397jj41_NarwhalSalute.png?width=16&amp;height=16&amp;auto=webp&amp;s=4e475e8c3265ec7148d7f4204f07d33949482f21', 'width': 16, 'height': 16}, {'url': 'https://preview.redd.it/award_images/t5_22cerq/80j20o397jj41_NarwhalSalute.png?width=32&amp;height=32&amp;auto=webp&amp;s=42e32a4b9f1e70791716c3be283e89951e212a69', 'width': 32, 'height': 32}, {'url': 'https://preview.redd.it/award_images/t5_22cerq/80j20o397jj41_NarwhalSalute.png?width=48&amp;height=48&amp;auto=webp&amp;s=5adb621fede4e8e66b952a379ad038fcc1b8ad13', 'width': 48, 'height': 48}, {'url': 'https://preview.redd.it/award_images/t5_22cerq/80j20o397jj41_NarwhalSalute.png?width=64&amp;height=64&amp;auto=webp&amp;s=6161edea19569bbee73ef322a2e5470535ec1787', 'width': 64, 'height': 64}, {'url': 'https://preview.redd.it/award_images/t5_22cerq/80j20o397jj41_NarwhalSalute.png?width=128&amp;height=128&amp;auto=webp&amp;s=5d2c75f44f176f430e936204f9a53b8a2957f2fc', 'width': 128, 'height': 128}], 'icon_format': None, 'icon_height': 2048, 'penny_price': None, 'award_type': 'global', 'static_icon_url': 'https://i.redd.it/award_images/t5_22cerq/80j20o397jj41_NarwhalSalute.png'}], 'awarders': [], 'media_only': False, 'can_gild': True, 'spoiler': False, 'locked': False, 'author_flair_text': '365 days', 'treatment_tags': [], 'visited': False, 'removed_by': None, 'num_reports': None, 'distinguished': None, 'subreddit_id': 't5_2s7yr', 'author_is_blocked': False, 'mod_reason_by': None, 'removal_reason': None, 'link_flair_background_color': '', 'id': 'utyxpe', 'is_robot_indexable': True, 'report_reasons': None, 'author': 'Daisy_Steiner_', 'discussion_type': None, 'num_comments': 3, 'send_replies': True, 'whitelist_status': 'no_ads', 'contest_mode': False, 'mod_reports': [], 'author_patreon_flair': False, 'author_flair_text_color': 'dark', 'permalink': '/r/stopdrinking/comments/utyxpe/one_year_ago_i_said_i_couldnt_imagine_making_it/', 'parent_whitelist_status': 'no_ads', 'stickied': False, 'url': 'https://www.reddit.com/r/stopdrinking/comments/utyxpe/one_year_ago_i_said_i_couldnt_imagine_making_it/', 'subreddit_subscribers': 360805, 'created_utc': 1653059470.0, 'num_crossposts': 0, 'media': None, 'is_video': False}}, {'kind': 't3', 'data': {'approved_at_utc': None, 'subreddit': 'stopdrinking', 'selftext': 'Im 30 both parents alchoholics, i feel like im getting there too, i shoulda have surgery today, but got drunk yesterday due to stress and fear of it, i just drink away any problem i have, which creates more problems, i cant find hobbys, i have 6 tumors on my head, bp is off the charts, yet i still drink, i wanna stop im actually pretty happy when sober, but its just boring,its rare that i am, when i have panick attacks i drink, overwhelmed i drink, i hate what i have become, i used to be a bodybuilder for 2years i have never felt better no alchohol nothing just me in a gym, i just wanna get better, i always ditch my friends so i can drink alone with my headphones and listen to music,felt good to vent a little bit, im all over the place but, im willing to take any advice,talk etc im just sick of this circle of self sabotage, i actually never get so drunk that i black out or dont rember anything,but i do get fd up all the time, just some steps on what to do would be nice.', 'author_fullname': 't2_j07vfbrt', 'saved': False, 'mod_reason_title': None, 'gilded': 0, 'clicked': False, 'title': 'some advice would be nice', 'link_flair_richtext': [], 'subreddit_name_prefixed': 'r/stopdrinking', 'hidden': False, 'pwls': 0, 'link_flair_css_class': None, 'downs': 0, 'top_awarded_type': None, 'hide_score': False, 'name': 't3_utyxbd', 'quarantine': False, 'link_flair_text_color': 'dark', 'upvote_ratio': 1.0, 'author_flair_background_color': None, 'subreddit_type': 'public', 'ups': 3, 'total_awards_received': 0, 'media_embed': {}, 'author_flair_template_id': None, 'is_original_content': False, 'user_reports': [], 'secure_media': None, 'is_reddit_media_domain': False, 'is_meta': False, 'category': None, 'secure_media_embed': {}, 'link_flair_text': None, 'can_mod_post': False, 'score': 3, 'approved_by': None, 'is_created_from_ads_ui': False, 'author_premium': False, 'thumbnail': '', 'edited': False, 'author_flair_css_class': None, 'author_flair_richtext': [], 'gildings': {}, 'content_categories': None, 'is_self': True, 'mod_note': None, 'created': 1653059447.0, 'link_flair_type': 'text', 'wls': 0, 'removed_by_category': None, 'banned_by': None, 'author_flair_type': 'text', 'domain': 'self.stopdrinking', 'allow_live_comments': False, 'selftext_html': '&lt;!-- SC_OFF --&gt;&lt;div class=\"md\"&gt;&lt;p&gt;Im 30 both parents alchoholics, i feel like im getting there too, i shoulda have surgery today, but got drunk yesterday due to stress and fear of it, i just drink away any problem i have, which creates more problems, i cant find hobbys, i have 6 tumors on my head, bp is off the charts, yet i still drink, i wanna stop im actually pretty happy when sober, but its just boring,its rare that i am, when i have panick attacks i drink, overwhelmed i drink, i hate what i have become, i used to be a bodybuilder for 2years i have never felt better no alchohol nothing just me in a gym, i just wanna get better, i always ditch my friends so i can drink alone with my headphones and listen to music,felt good to vent a little bit, im all over the place but, im willing to take any advice,talk etc im just sick of this circle of self sabotage, i actually never get so drunk that i black out or dont rember anything,but i do get fd up all the time, just some steps on what to do would be nice.&lt;/p&gt;\\n&lt;/div&gt;&lt;!-- SC_ON --&gt;', 'likes': None, 'suggested_sort': None, 'banned_at_utc': None, 'view_count': None, 'archived': False, 'no_follow': False, 'is_crosspostable': False, 'pinned': False, 'over_18': False, 'all_awardings': [], 'awarders': [], 'media_only': False, 'can_gild': True, 'spoiler': False, 'locked': False, 'author_flair_text': None, 'treatment_tags': [], 'visited': False, 'removed_by': None, 'num_reports': None, 'distinguished': None, 'subreddit_id': 't5_2s7yr', 'author_is_blocked': False, 'mod_reason_by': None, 'removal_reason': None, 'link_flair_background_color': '', 'id': 'utyxbd', 'is_robot_indexable': True, 'report_reasons': None, 'author': 'Jonoti', 'discussion_type': None, 'num_comments': 9, 'send_replies': True, 'whitelist_status': 'no_ads', 'contest_mode': False, 'mod_reports': [], 'author_patreon_flair': False, 'author_flair_text_color': None, 'permalink': '/r/stopdrinking/comments/utyxbd/some_advice_would_be_nice/', 'parent_whitelist_status': 'no_ads', 'stickied': False, 'url': 'https://www.reddit.com/r/stopdrinking/comments/utyxbd/some_advice_would_be_nice/', 'subreddit_subscribers': 360805, 'created_utc': 1653059447.0, 'num_crossposts': 0, 'media': None, 'is_video': False}}, {'kind': 't3', 'data': {'approved_at_utc': None, 'subreddit': 'stopdrinking', 'selftext': 'I was prescribed 50mg of Naltrexone yesterday I’m on the halfs for a week, I took my first dose around 4:30pm yesterday. (Iv’e been sober just over two weeks.) I took antabuse last week prior to this. No noticable side effects from that. However last night at around 7pm I started getting a headache, that quickly turned into a migrane. I am under a lot of stress and getting used to wearing precsription glasses. So I’m not sure if it was the medication or just a combination of stress and eye strain. But I’m afraid to take another dose of Naltrexone today. Has anyone else experienced headaches from taking it?', 'author_fullname': 't2_c3qvvm8r', 'saved': False, 'mod_reason_title': None, 'gilded': 0, 'clicked': False, 'title': 'Stress or Naltrexone?', 'link_flair_richtext': [], 'subreddit_name_prefixed': 'r/stopdrinking', 'hidden': False, 'pwls': 0, 'link_flair_css_class': None, 'downs': 0, 'top_awarded_type': None, 'hide_score': False, 'name': 't3_utyd7f', 'quarantine': False, 'link_flair_text_color': 'dark', 'upvote_ratio': 1.0, 'author_flair_background_color': None, 'subreddit_type': 'public', 'ups': 1, 'total_awards_received': 0, 'media_embed': {}, 'author_flair_template_id': None, 'is_original_content': False, 'user_reports': [], 'secure_media': None, 'is_reddit_media_domain': False, 'is_meta': False, 'category': None, 'secure_media_embed': {}, 'link_flair_text': None, 'can_mod_post': False, 'score': 1, 'approved_by': None, 'is_created_from_ads_ui': False, 'author_premium': False, 'thumbnail': '', 'edited': False, 'author_flair_css_class': None, 'author_flair_richtext': [], 'gildings': {}, 'content_categories': None, 'is_self': True, 'mod_note': None, 'created': 1653058333.0, 'link_flair_type': 'text', 'wls': 0, 'removed_by_category': None, 'banned_by': None, 'author_flair_type': 'text', 'domain': 'self.stopdrinking', 'allow_live_comments': False, 'selftext_html': '&lt;!-- SC_OFF --&gt;&lt;div class=\"md\"&gt;&lt;p&gt;I was prescribed 50mg of Naltrexone yesterday I’m on the halfs for a week, I took my first dose around 4:30pm yesterday. (Iv’e been sober just over two weeks.) I took antabuse last week prior to this. No noticable side effects from that. However last night at around 7pm I started getting a headache, that quickly turned into a migrane. I am under a lot of stress and getting used to wearing precsription glasses. So I’m not sure if it was the medication or just a combination of stress and eye strain. But I’m afraid to take another dose of Naltrexone today. Has anyone else experienced headaches from taking it?&lt;/p&gt;\\n&lt;/div&gt;&lt;!-- SC_ON --&gt;', 'likes': None, 'suggested_sort': None, 'banned_at_utc': None, 'view_count': None, 'archived': False, 'no_follow': True, 'is_crosspostable': False, 'pinned': False, 'over_18': False, 'all_awardings': [], 'awarders': [], 'media_only': False, 'can_gild': True, 'spoiler': False, 'locked': False, 'author_flair_text': None, 'treatment_tags': [], 'visited': False, 'removed_by': None, 'num_reports': None, 'distinguished': None, 'subreddit_id': 't5_2s7yr', 'author_is_blocked': False, 'mod_reason_by': None, 'removal_reason': None, 'link_flair_background_color': '', 'id': 'utyd7f', 'is_robot_indexable': True, 'report_reasons': None, 'author': 'Own-Wash2505', 'discussion_type': None, 'num_comments': 1, 'send_replies': True, 'whitelist_status': 'no_ads', 'contest_mode': False, 'mod_reports': [], 'author_patreon_flair': False, 'author_flair_text_color': None, 'permalink': '/r/stopdrinking/comments/utyd7f/stress_or_naltrexone/', 'parent_whitelist_status': 'no_ads', 'stickied': False, 'url': 'https://www.reddit.com/r/stopdrinking/comments/utyd7f/stress_or_naltrexone/', 'subreddit_subscribers': 360805, 'created_utc': 1653058333.0, 'num_crossposts': 0, 'media': None, 'is_video': False}}, {'kind': 't3', 'data': {'approved_at_utc': None, 'subreddit': 'stopdrinking', 'selftext': 'Damn. Hope this one sticks', 'author_fullname': 't2_umt6d', 'saved': False, 'mod_reason_title': None, 'gilded': 0, 'clicked': False, 'title': 'Failed again yesterday, but trying for another day one today', 'link_flair_richtext': [], 'subreddit_name_prefixed': 'r/stopdrinking', 'hidden': False, 'pwls': 0, 'link_flair_css_class': None, 'downs': 0, 'top_awarded_type': None, 'hide_score': False, 'name': 't3_utyctx', 'quarantine': False, 'link_flair_text_color': 'dark', 'upvote_ratio': 1.0, 'author_flair_background_color': None, 'subreddit_type': 'public', 'ups': 27, 'total_awards_received': 0, 'media_embed': {}, 'author_flair_template_id': 'faf59352-6c36-11e9-bb53-0ea8f391a97e', 'is_original_content': False, 'user_reports': [], 'secure_media': None, 'is_reddit_media_domain': False, 'is_meta': False, 'category': None, 'secure_media_embed': {}, 'link_flair_text': None, 'can_mod_post': False, 'score': 27, 'approved_by': None, 'is_created_from_ads_ui': False, 'author_premium': False, 'thumbnail': '', 'edited': False, 'author_flair_css_class': 'under1', 'author_flair_richtext': [], 'gildings': {}, 'content_categories': None, 'is_self': True, 'mod_note': None, 'created': 1653058313.0, 'link_flair_type': 'text', 'wls': 0, 'removed_by_category': None, 'banned_by': None, 'author_flair_type': 'text', 'domain': 'self.stopdrinking', 'allow_live_comments': False, 'selftext_html': '&lt;!-- SC_OFF --&gt;&lt;div class=\"md\"&gt;&lt;p&gt;Damn. Hope this one sticks&lt;/p&gt;\\n&lt;/div&gt;&lt;!-- SC_ON --&gt;', 'likes': None, 'suggested_sort': None, 'banned_at_utc': None, 'view_count': None, 'archived': False, 'no_follow': False, 'is_crosspostable': False, 'pinned': False, 'over_18': False, 'all_awardings': [], 'awarders': [], 'media_only': False, 'can_gild': True, 'spoiler': False, 'locked': False, 'author_flair_text': '2 days', 'treatment_tags': [], 'visited': False, 'removed_by': None, 'num_reports': None, 'distinguished': None, 'subreddit_id': 't5_2s7yr', 'author_is_blocked': False, 'mod_reason_by': None, 'removal_reason': None, 'link_flair_background_color': '', 'id': 'utyctx', 'is_robot_indexable': True, 'report_reasons': None, 'author': 'rhymeswithorange17', 'discussion_type': None, 'num_comments': 1, 'send_replies': True, 'whitelist_status': 'no_ads', 'contest_mode': False, 'mod_reports': [], 'author_patreon_flair': False, 'author_flair_text_color': 'dark', 'permalink': '/r/stopdrinking/comments/utyctx/failed_again_yesterday_but_trying_for_another_day/', 'parent_whitelist_status': 'no_ads', 'stickied': False, 'url': 'https://www.reddit.com/r/stopdrinking/comments/utyctx/failed_again_yesterday_but_trying_for_another_day/', 'subreddit_subscribers': 360805, 'created_utc': 1653058313.0, 'num_crossposts': 0, 'media': None, 'is_video': False}}, {'kind': 't3', 'data': {'approved_at_utc': None, 'subreddit': 'stopdrinking', 'selftext': 'I was invited to a party last year on day 46 of my sobriety. I kept going back and forth with myself about going. Tried to find every excuse not to go. My coworker insisted I go. Said I needed to get out of the house. I don’t know why people think you NEED to get out of the house. Home is definitely my comfortable and safe place. Anyway I decided to go. I didn’t know anyone there other than about 4-5 people including my coworker. She doesn’t drink so I could have easily just hung out with her but she was in charge of the selling the drinks for her daughter. What a coincidence! I sat at a table with some random people feeling so stupid sitting on my phone the entire time until I decided to loosen up and buy a drink. That was the day 46 days went down the drain. \\n\\nBut here I am on a new day 46 at home in bed with snacks and watching a movie. I’m not a social person. In fact I’m very anti social and an introvert. I enjoy the comforts of my home and my bedroom. Partying just won’t work for me anymore. I don’t know how to be myself and have a good time without alcohol. Maybe one day I’ll get there but I’m just too socially awkward. I’m really ok with being a loner if it means I can stay sober. IWNDWYT', 'author_fullname': 't2_yr56p', 'saved': False, 'mod_reason_title': None, 'gilded': 0, 'clicked': False, 'title': 'Day 46….the day I ruined everything', 'link_flair_richtext': [], 'subreddit_name_prefixed': 'r/stopdrinking', 'hidden': False, 'pwls': 0, 'link_flair_css_class': None, 'downs': 0, 'top_awarded_type': None, 'hide_score': False, 'name': 't3_utycgx', 'quarantine': False, 'link_flair_text_color': 'dark', 'upvote_ratio': 1.0, 'author_flair_background_color': '', 'subreddit_type': 'public', 'ups': 29, 'total_awards_received': 1, 'media_embed': {}, 'author_flair_template_id': None, 'is_original_content': False, 'user_reports': [], 'secure_media': None, 'is_reddit_media_domain': False, 'is_meta': False, 'category': None, 'secure_media_embed': {}, 'link_flair_text': None, 'can_mod_post': False, 'score': 29, 'approved_by': None, 'is_created_from_ads_ui': False, 'author_premium': False, 'thumbnail': '', 'edited': False, 'author_flair_css_class': '', 'author_flair_richtext': [], 'gildings': {}, 'content_categories': None, 'is_self': True, 'mod_note': None, 'created': 1653058293.0, 'link_flair_type': 'text', 'wls': 0, 'removed_by_category': None, 'banned_by': None, 'author_flair_type': 'text', 'domain': 'self.stopdrinking', 'allow_live_comments': False, 'selftext_html': '&lt;!-- SC_OFF --&gt;&lt;div class=\"md\"&gt;&lt;p&gt;I was invited to a party last year on day 46 of my sobriety. I kept going back and forth with myself about going. Tried to find every excuse not to go. My coworker insisted I go. Said I needed to get out of the house. I don’t know why people think you NEED to get out of the house. Home is definitely my comfortable and safe place. Anyway I decided to go. I didn’t know anyone there other than about 4-5 people including my coworker. She doesn’t drink so I could have easily just hung out with her but she was in charge of the selling the drinks for her daughter. What a coincidence! I sat at a table with some random people feeling so stupid sitting on my phone the entire time until I decided to loosen up and buy a drink. That was the day 46 days went down the drain. &lt;/p&gt;\\n\\n&lt;p&gt;But here I am on a new day 46 at home in bed with snacks and watching a movie. I’m not a social person. In fact I’m very anti social and an introvert. I enjoy the comforts of my home and my bedroom. Partying just won’t work for me anymore. I don’t know how to be myself and have a good time without alcohol. Maybe one day I’ll get there but I’m just too socially awkward. I’m really ok with being a loner if it means I can stay sober. IWNDWYT&lt;/p&gt;\\n&lt;/div&gt;&lt;!-- SC_ON --&gt;', 'likes': None, 'suggested_sort': None, 'banned_at_utc': None, 'view_count': None, 'archived': False, 'no_follow': False, 'is_crosspostable': False, 'pinned': False, 'over_18': False, 'all_awardings': [{'giver_coin_reward': None, 'subreddit_id': None, 'is_new': False, 'days_of_drip_extension': None, 'coin_price': 150, 'id': 'award_5fb42699-4911-42a2-884c-6fc8bdc36059', 'penny_donate': None, 'award_sub_type': 'APPRECIATION', 'coin_reward': 0, 'icon_url': 'https://www.redditstatic.com/gold/awards/icon/Animated_Cake_512.png', 'days_of_premium': None, 'tiers_by_required_awardings': None, 'resized_icons': [{'url': 'https://www.redditstatic.com/gold/awards/icon/Animated_Cake_16.png', 'width': 16, 'height': 16}, {'url': 'https://www.redditstatic.com/gold/awards/icon/Animated_Cake_32.png', 'width': 32, 'height': 32}, {'url': 'https://www.redditstatic.com/gold/awards/icon/Animated_Cake_48.png', 'width': 48, 'height': 48}, {'url': 'https://www.redditstatic.com/gold/awards/icon/Animated_Cake_64.png', 'width': 64, 'height': 64}, {'url': 'https://www.redditstatic.com/gold/awards/icon/Animated_Cake_128.png', 'width': 128, 'height': 128}], 'icon_width': 2048, 'static_icon_width': 2048, 'start_date': None, 'is_enabled': True, 'awardings_required_to_grant_benefits': None, 'description': 'Did someone say... cake?', 'end_date': None, 'subreddit_coin_reward': 0, 'count': 1, 'static_icon_height': 2048, 'name': 'Cake', 'resized_static_icons': [{'url': 'https://preview.redd.it/award_images/t5_q0gj4/2by9f28cal581_Cake2.png?width=16&amp;height=16&amp;auto=webp&amp;s=abb1c6547fbf5f64a5950f93196aed296eca6692', 'width': 16, 'height': 16}, {'url': 'https://preview.redd.it/award_images/t5_q0gj4/2by9f28cal581_Cake2.png?width=32&amp;height=32&amp;auto=webp&amp;s=7d290d35ad1720dd36cf4cd26333f67966798f83', 'width': 32, 'height': 32}, {'url': 'https://preview.redd.it/award_images/t5_q0gj4/2by9f28cal581_Cake2.png?width=48&amp;height=48&amp;auto=webp&amp;s=2551fcc07258cd78d78f2c41551a6470d69d7db3', 'width': 48, 'height': 48}, {'url': 'https://preview.redd.it/award_images/t5_q0gj4/2by9f28cal581_Cake2.png?width=64&amp;height=64&amp;auto=webp&amp;s=289ed1921761701125f1bddede0e1699dd1f6645', 'width': 64, 'height': 64}, {'url': 'https://preview.redd.it/award_images/t5_q0gj4/2by9f28cal581_Cake2.png?width=128&amp;height=128&amp;auto=webp&amp;s=f22db4b6b029726e8c4c8090c169fceca8a0c143', 'width': 128, 'height': 128}], 'icon_format': 'APNG', 'icon_height': 2048, 'penny_price': 0, 'award_type': 'global', 'static_icon_url': 'https://i.redd.it/award_images/t5_q0gj4/2by9f28cal581_Cake2.png'}], 'awarders': [], 'media_only': False, 'can_gild': True, 'spoiler': False, 'locked': False, 'author_flair_text': '', 'treatment_tags': [], 'visited': False, 'removed_by': None, 'num_reports': None, 'distinguished': None, 'subreddit_id': 't5_2s7yr', 'author_is_blocked': False, 'mod_reason_by': None, 'removal_reason': None, 'link_flair_background_color': '', 'id': 'utycgx', 'is_robot_indexable': True, 'report_reasons': None, 'author': 'Ladym01', 'discussion_type': None, 'num_comments': 6, 'send_replies': True, 'whitelist_status': 'no_ads', 'contest_mode': False, 'mod_reports': [], 'author_patreon_flair': False, 'author_flair_text_color': '', 'permalink': '/r/stopdrinking/comments/utycgx/day_46the_day_i_ruined_everything/', 'parent_whitelist_status': 'no_ads', 'stickied': False, 'url': 'https://www.reddit.com/r/stopdrinking/comments/utycgx/day_46the_day_i_ruined_everything/', 'subreddit_subscribers': 360805, 'created_utc': 1653058293.0, 'num_crossposts': 0, 'media': None, 'is_video': False}}, {'kind': 't3', 'data': {'approved_at_utc': None, 'subreddit': 'stopdrinking', 'selftext': 'This one in particular has the most kind and supportive individuals I’ve ever come across on this app. More so than the woman over 30 group, the cute animals group, the nails groups etcetera etcetera \\n\\nNo one fights\\n\\nNo one belittles\\n\\nThere’s no racism\\n\\nThere’s no homophobia\\n\\nNo xenophobia\\n\\nNo judgment \\n\\nThough I am not counting my days because it gives me anxiety, I still follow and visit daily. You guys literally make me super happy and remind me that we are in control of our own destiny, including how we choose to respond to external (and internal) stimuli whether that be in healthy ways or otherwise.\\n\\nGreat job mod(s). Great job peers! We’ve got this! 💐❤️👏🏽', 'author_fullname': 't2_lsq07bdg', 'saved': False, 'mod_reason_title': None, 'gilded': 0, 'clicked': False, 'title': 'Of all of the communities on Reddit', 'link_flair_richtext': [], 'subreddit_name_prefixed': 'r/stopdrinking', 'hidden': False, 'pwls': 0, 'link_flair_css_class': None, 'downs': 0, 'top_awarded_type': None, 'hide_score': False, 'name': 't3_utybw1', 'quarantine': False, 'link_flair_text_color': 'dark', 'upvote_ratio': 0.95, 'author_flair_background_color': None, 'subreddit_type': 'public', 'ups': 99, 'total_awards_received': 1, 'media_embed': {}, 'author_flair_template_id': None, 'is_original_content': False, 'user_reports': [], 'secure_media': None, 'is_reddit_media_domain': False, 'is_meta': False, 'category': None, 'secure_media_embed': {}, 'link_flair_text': None, 'can_mod_post': False, 'score': 99, 'approved_by': None, 'is_created_from_ads_ui': False, 'author_premium': False, 'thumbnail': '', 'edited': False, 'author_flair_css_class': None, 'author_flair_richtext': [], 'gildings': {}, 'content_categories': None, 'is_self': True, 'mod_note': None, 'created': 1653058259.0, 'link_flair_type': 'text', 'wls': 0, 'removed_by_category': None, 'banned_by': None, 'author_flair_type': 'text', 'domain': 'self.stopdrinking', 'allow_live_comments': False, 'selftext_html': '&lt;!-- SC_OFF --&gt;&lt;div class=\"md\"&gt;&lt;p&gt;This one in particular has the most kind and supportive individuals I’ve ever come across on this app. More so than the woman over 30 group, the cute animals group, the nails groups etcetera etcetera &lt;/p&gt;\\n\\n&lt;p&gt;No one fights&lt;/p&gt;\\n\\n&lt;p&gt;No one belittles&lt;/p&gt;\\n\\n&lt;p&gt;There’s no racism&lt;/p&gt;\\n\\n&lt;p&gt;There’s no homophobia&lt;/p&gt;\\n\\n&lt;p&gt;No xenophobia&lt;/p&gt;\\n\\n&lt;p&gt;No judgment &lt;/p&gt;\\n\\n&lt;p&gt;Though I am not counting my days because it gives me anxiety, I still follow and visit daily. You guys literally make me super happy and remind me that we are in control of our own destiny, including how we choose to respond to external (and internal) stimuli whether that be in healthy ways or otherwise.&lt;/p&gt;\\n\\n&lt;p&gt;Great job mod(s). Great job peers! We’ve got this! 💐❤️👏🏽&lt;/p&gt;\\n&lt;/div&gt;&lt;!-- SC_ON --&gt;', 'likes': None, 'suggested_sort': None, 'banned_at_utc': None, 'view_count': None, 'archived': False, 'no_follow': False, 'is_crosspostable': False, 'pinned': False, 'over_18': False, 'all_awardings': [{'giver_coin_reward': None, 'subreddit_id': None, 'is_new': False, 'days_of_drip_extension': None, 'coin_price': 75, 'id': 'award_92cb6518-a71a-4217-9f8f-7ecbd7ab12ba', 'penny_donate': None, 'award_sub_type': 'PREMIUM', 'coin_reward': 0, 'icon_url': 'https://www.redditstatic.com/gold/awards/icon/TakeMyPower_512.png', 'days_of_premium': None, 'tiers_by_required_awardings': None, 'resized_icons': [{'url': 'https://www.redditstatic.com/gold/awards/icon/TakeMyPower_16.png', 'width': 16, 'height': 16}, {'url': 'https://www.redditstatic.com/gold/awards/icon/TakeMyPower_32.png', 'width': 32, 'height': 32}, {'url': 'https://www.redditstatic.com/gold/awards/icon/TakeMyPower_48.png', 'width': 48, 'height': 48}, {'url': 'https://www.redditstatic.com/gold/awards/icon/TakeMyPower_64.png', 'width': 64, 'height': 64}, {'url': 'https://www.redditstatic.com/gold/awards/icon/TakeMyPower_128.png', 'width': 128, 'height': 128}], 'icon_width': 512, 'static_icon_width': 512, 'start_date': None, 'is_enabled': True, 'awardings_required_to_grant_benefits': None, 'description': 'Add my power to yours.', 'end_date': None, 'subreddit_coin_reward': 0, 'count': 1, 'static_icon_height': 512, 'name': 'Take My Power', 'resized_static_icons': [{'url': 'https://preview.redd.it/award_images/t5_q0gj4/qpi61q5o98361_TakeMyPowerElf.png?width=16&amp;height=16&amp;auto=webp&amp;s=14d5429e1f630eaba283d73cb4890c861859b645', 'width': 16, 'height': 16}, {'url': 'https://preview.redd.it/award_images/t5_q0gj4/qpi61q5o98361_TakeMyPowerElf.png?width=32&amp;height=32&amp;auto=webp&amp;s=397444282c113a335f31da0c1d38a1e8cec75f05', 'width': 32, 'height': 32}, {'url': 'https://preview.redd.it/award_images/t5_q0gj4/qpi61q5o98361_TakeMyPowerElf.png?width=48&amp;height=48&amp;auto=webp&amp;s=9897e3f134eb759aba6b7afecb5fb2c75bbf9dc9', 'width': 48, 'height': 48}, {'url': 'https://preview.redd.it/award_images/t5_q0gj4/qpi61q5o98361_TakeMyPowerElf.png?width=64&amp;height=64&amp;auto=webp&amp;s=2de1c239b9226cfebdfbee28fba56bc534dc87b6', 'width': 64, 'height': 64}, {'url': 'https://preview.redd.it/award_images/t5_q0gj4/qpi61q5o98361_TakeMyPowerElf.png?width=128&amp;height=128&amp;auto=webp&amp;s=7e08340ce7c4bc4b865820ed418734396b32b814', 'width': 128, 'height': 128}], 'icon_format': 'APNG', 'icon_height': 512, 'penny_price': 0, 'award_type': 'global', 'static_icon_url': 'https://i.redd.it/award_images/t5_q0gj4/qpi61q5o98361_TakeMyPowerElf.png'}], 'awarders': [], 'media_only': False, 'can_gild': True, 'spoiler': True, 'locked': False, 'author_flair_text': None, 'treatment_tags': [], 'visited': False, 'removed_by': None, 'num_reports': None, 'distinguished': None, 'subreddit_id': 't5_2s7yr', 'author_is_blocked': False, 'mod_reason_by': None, 'removal_reason': None, 'link_flair_background_color': '', 'id': 'utybw1', 'is_robot_indexable': True, 'report_reasons': None, 'author': 'LoveLightUnite', 'discussion_type': None, 'num_comments': 26, 'send_replies': True, 'whitelist_status': 'no_ads', 'contest_mode': False, 'mod_reports': [], 'author_patreon_flair': False, 'author_flair_text_color': None, 'permalink': '/r/stopdrinking/comments/utybw1/of_all_of_the_communities_on_reddit/', 'parent_whitelist_status': 'no_ads', 'stickied': False, 'url': 'https://www.reddit.com/r/stopdrinking/comments/utybw1/of_all_of_the_communities_on_reddit/', 'subreddit_subscribers': 360805, 'created_utc': 1653058259.0, 'num_crossposts': 0, 'media': None, 'is_video': False}}, {'kind': 't3', 'data': {'approved_at_utc': None, 'subreddit': 'stopdrinking', 'selftext': 'I’m in the middle of day 5 for the first time in 20 years and feeling just great. I’m concerned about the weekend though. I’ve never made it through a weekend. Any tips?', 'author_fullname': 't2_eerysfe6', 'saved': False, 'mod_reason_title': None, 'gilded': 0, 'clicked': False, 'title': 'Day 5 - first time in 20 years.', 'link_flair_richtext': [], 'subreddit_name_prefixed': 'r/stopdrinking', 'hidden': False, 'pwls': 0, 'link_flair_css_class': None, 'downs': 0, 'top_awarded_type': None, 'hide_score': False, 'name': 't3_utyary', 'quarantine': False, 'link_flair_text_color': 'dark', 'upvote_ratio': 1.0, 'author_flair_background_color': None, 'subreddit_type': 'public', 'ups': 11, 'total_awards_received': 0, 'media_embed': {}, 'author_flair_template_id': None, 'is_original_content': False, 'user_reports': [], 'secure_media': None, 'is_reddit_media_domain': False, 'is_meta': False, 'category': None, 'secure_media_embed': {}, 'link_flair_text': None, 'can_mod_post': False, 'score': 11, 'approved_by': None, 'is_created_from_ads_ui': False, 'author_premium': False, 'thumbnail': '', 'edited': False, 'author_flair_css_class': None, 'author_flair_richtext': [], 'gildings': {}, 'content_categories': None, 'is_self': True, 'mod_note': None, 'created': 1653058196.0, 'link_flair_type': 'text', 'wls': 0, 'removed_by_category': None, 'banned_by': None, 'author_flair_type': 'text', 'domain': 'self.stopdrinking', 'allow_live_comments': False, 'selftext_html': '&lt;!-- SC_OFF --&gt;&lt;div class=\"md\"&gt;&lt;p&gt;I’m in the middle of day 5 for the first time in 20 years and feeling just great. I’m concerned about the weekend though. I’ve never made it through a weekend. Any tips?&lt;/p&gt;\\n&lt;/div&gt;&lt;!-- SC_ON --&gt;', 'likes': None, 'suggested_sort': None, 'banned_at_utc': None, 'view_count': None, 'archived': False, 'no_follow': False, 'is_crosspostable': False, 'pinned': False, 'over_18': False, 'all_awardings': [], 'awarders': [], 'media_only': False, 'can_gild': True, 'spoiler': False, 'locked': False, 'author_flair_text': None, 'treatment_tags': [], 'visited': False, 'removed_by': None, 'num_reports': None, 'distinguished': None, 'subreddit_id': 't5_2s7yr', 'author_is_blocked': False, 'mod_reason_by': None, 'removal_reason': None, 'link_flair_background_color': '', 'id': 'utyary', 'is_robot_indexable': True, 'report_reasons': None, 'author': 'oneeightexray', 'discussion_type': None, 'num_comments': 4, 'send_replies': True, 'whitelist_status': 'no_ads', 'contest_mode': False, 'mod_reports': [], 'author_patreon_flair': False, 'author_flair_text_color': None, 'permalink': '/r/stopdrinking/comments/utyary/day_5_first_time_in_20_years/', 'parent_whitelist_status': 'no_ads', 'stickied': False, 'url': 'https://www.reddit.com/r/stopdrinking/comments/utyary/day_5_first_time_in_20_years/', 'subreddit_subscribers': 360805, 'created_utc': 1653058196.0, 'num_crossposts': 0, 'media': None, 'is_video': False}}, {'kind': 't3', 'data': {'approved_at_utc': None, 'subreddit': 'stopdrinking', 'selftext': 'I am so committed though! Recently went the dr and my liver enzymes are “slightly” elevated. That really scared the shit out of me but the Dr didn’t seem too worried. He advised me to quit because down the road there could be permanent damage even though now there is none. This is certainly not the only reason I want to quit but it was a real eye opener. I’ve tried in the past but feel extremely motivated! Today is day one and I’m excited about the future! Iwndwyt', 'author_fullname': 't2_85dyinsp', 'saved': False, 'mod_reason_title': None, 'gilded': 0, 'clicked': False, 'title': 'Here we go again…', 'link_flair_richtext': [], 'subreddit_name_prefixed': 'r/stopdrinking', 'hidden': False, 'pwls': 0, 'link_flair_css_class': None, 'downs': 0, 'top_awarded_type': None, 'hide_score': False, 'name': 't3_uty496', 'quarantine': False, 'link_flair_text_color': 'dark', 'upvote_ratio': 1.0, 'author_flair_background_color': None, 'subreddit_type': 'public', 'ups': 8, 'total_awards_received': 0, 'media_embed': {}, 'author_flair_template_id': None, 'is_original_content': False, 'user_reports': [], 'secure_media': None, 'is_reddit_media_domain': False, 'is_meta': False, 'category': None, 'secure_media_embed': {}, 'link_flair_text': None, 'can_mod_post': False, 'score': 8, 'approved_by': None, 'is_created_from_ads_ui': False, 'author_premium': False, 'thumbnail': '', 'edited': False, 'author_flair_css_class': None, 'author_flair_richtext': [], 'gildings': {}, 'content_categories': None, 'is_self': True, 'mod_note': None, 'created': 1653057822.0, 'link_flair_type': 'text', 'wls': 0, 'removed_by_category': None, 'banned_by': None, 'author_flair_type': 'text', 'domain': 'self.stopdrinking', 'allow_live_comments': False, 'selftext_html': '&lt;!-- SC_OFF --&gt;&lt;div class=\"md\"&gt;&lt;p&gt;I am so committed though! Recently went the dr and my liver enzymes are “slightly” elevated. That really scared the shit out of me but the Dr didn’t seem too worried. He advised me to quit because down the road there could be permanent damage even though now there is none. This is certainly not the only reason I want to quit but it was a real eye opener. I’ve tried in the past but feel extremely motivated! Today is day one and I’m excited about the future! Iwndwyt&lt;/p&gt;\\n&lt;/div&gt;&lt;!-- SC_ON --&gt;', 'likes': None, 'suggested_sort': None, 'banned_at_utc': None, 'view_count': None, 'archived': False, 'no_follow': False, 'is_crosspostable': False, 'pinned': False, 'over_18': False, 'all_awardings': [], 'awarders': [], 'media_only': False, 'can_gild': True, 'spoiler': False, 'locked': False, 'author_flair_text': None, 'treatment_tags': [], 'visited': False, 'removed_by': None, 'num_reports': None, 'distinguished': None, 'subreddit_id': 't5_2s7yr', 'author_is_blocked': False, 'mod_reason_by': None, 'removal_reason': None, 'link_flair_background_color': '', 'id': 'uty496', 'is_robot_indexable': True, 'report_reasons': None, 'author': 'North-Bid-3170', 'discussion_type': None, 'num_comments': 1, 'send_replies': True, 'whitelist_status': 'no_ads', 'contest_mode': False, 'mod_reports': [], 'author_patreon_flair': False, 'author_flair_text_color': None, 'permalink': '/r/stopdrinking/comments/uty496/here_we_go_again/', 'parent_whitelist_status': 'no_ads', 'stickied': False, 'url': 'https://www.reddit.com/r/stopdrinking/comments/uty496/here_we_go_again/', 'subreddit_subscribers': 360805, 'created_utc': 1653057822.0, 'num_crossposts': 0, 'media': None, 'is_video': False}}, {'kind': 't3', 'data': {'approved_at_utc': None, 'subreddit': 'stopdrinking', 'selftext': 'I feel like I’m constantly ruining my life with alcohol. I am currently unemployed and my husband is the only one working. I don’t drink everyday but I do on the weekends. I don’t make plans on mondays because I know I’m going to be hungover. Am I an alcoholic? I lost one of my jobs because of a dui I got. I just feel so helpless. It makes me want to drink. My husband comes home to find me drunk sometimes during the week. I’ve been doing that lately. I call people and forget conversations we had. I believe in God and I’ve tried AA but it seemed overwhelming to me. I am so goddamn depressed I just don’t want to feel anything anymore. I’m sorry this post is just me rambling I just don’t know who to talk to anymore.', 'author_fullname': 't2_407qmv2o', 'saved': False, 'mod_reason_title': None, 'gilded': 0, 'clicked': False, 'title': 'I am so depressed and drinking is ruining my life', 'link_flair_richtext': [], 'subreddit_name_prefixed': 'r/stopdrinking', 'hidden': False, 'pwls': 0, 'link_flair_css_class': None, 'downs': 0, 'top_awarded_type': None, 'hide_score': False, 'name': 't3_utxncv', 'quarantine': False, 'link_flair_text_color': 'dark', 'upvote_ratio': 0.96, 'author_flair_background_color': None, 'subreddit_type': 'public', 'ups': 17, 'total_awards_received': 0, 'media_embed': {}, 'author_flair_template_id': None, 'is_original_content': False, 'user_reports': [], 'secure_media': None, 'is_reddit_media_domain': False, 'is_meta': False, 'category': None, 'secure_media_embed': {}, 'link_flair_text': None, 'can_mod_post': False, 'score': 17, 'approved_by': None, 'is_created_from_ads_ui': False, 'author_premium': False, 'thumbnail': '', 'edited': False, 'author_flair_css_class': None, 'author_flair_richtext': [], 'gildings': {}, 'content_categories': None, 'is_self': True, 'mod_note': None, 'created': 1653056876.0, 'link_flair_type': 'text', 'wls': 0, 'removed_by_category': None, 'banned_by': None, 'author_flair_type': 'text', 'domain': 'self.stopdrinking', 'allow_live_comments': False, 'selftext_html': '&lt;!-- SC_OFF --&gt;&lt;div class=\"md\"&gt;&lt;p&gt;I feel like I’m constantly ruining my life with alcohol. I am currently unemployed and my husband is the only one working. I don’t drink everyday but I do on the weekends. I don’t make plans on mondays because I know I’m going to be hungover. Am I an alcoholic? I lost one of my jobs because of a dui I got. I just feel so helpless. It makes me want to drink. My husband comes home to find me drunk sometimes during the week. I’ve been doing that lately. I call people and forget conversations we had. I believe in God and I’ve tried AA but it seemed overwhelming to me. I am so goddamn depressed I just don’t want to feel anything anymore. I’m sorry this post is just me rambling I just don’t know who to talk to anymore.&lt;/p&gt;\\n&lt;/div&gt;&lt;!-- SC_ON --&gt;', 'likes': None, 'suggested_sort': None, 'banned_at_utc': None, 'view_count': None, 'archived': False, 'no_follow': False, 'is_crosspostable': False, 'pinned': False, 'over_18': False, 'all_awardings': [], 'awarders': [], 'media_only': False, 'can_gild': True, 'spoiler': False, 'locked': False, 'author_flair_text': None, 'treatment_tags': [], 'visited': False, 'removed_by': None, 'num_reports': None, 'distinguished': None, 'subreddit_id': 't5_2s7yr', 'author_is_blocked': False, 'mod_reason_by': None, 'removal_reason': None, 'link_flair_background_color': '', 'id': 'utxncv', 'is_robot_indexable': True, 'report_reasons': None, 'author': 'Notsosmart1202', 'discussion_type': None, 'num_comments': 9, 'send_replies': True, 'whitelist_status': 'no_ads', 'contest_mode': False, 'mod_reports': [], 'author_patreon_flair': False, 'author_flair_text_color': None, 'permalink': '/r/stopdrinking/comments/utxncv/i_am_so_depressed_and_drinking_is_ruining_my_life/', 'parent_whitelist_status': 'no_ads', 'stickied': False, 'url': 'https://www.reddit.com/r/stopdrinking/comments/utxncv/i_am_so_depressed_and_drinking_is_ruining_my_life/', 'subreddit_subscribers': 360805, 'created_utc': 1653056876.0, 'num_crossposts': 0, 'media': None, 'is_video': False}}, {'kind': 't3', 'data': {'approved_at_utc': None, 'subreddit': 'stopdrinking', 'selftext': 'i was in nyc for work stuff the past 4-5 days.  i got into brooklyn on sunday night and decided to grab a solo dinner at a restaurant.  i grabbed a seat at the bar and took out my notepad to jot down some ideas i wanted to keep track of.  when eating alone, i prefer to sit at the bar as it feels less awkward than a table.\\n\\nthe bartender comes over and is chatting me up and being slightly pushy with what drink i should get.  i tell him i\\'m good with water but am polite and thank him anyways.  i eventually make my food order and he \"surprises\" me with a huge glass of red wine.  i straight up tell him \"hey man, i don\\'t drink\" - to which he immediately realizes his fuck up (lol pretty awkward 15 seconds for everyone else around the bar).  \\n\\nhe gives a genuine apology and immediately takes the glass of wine away.  i finish the meal, pay + leave a 20% tip and bounce.  fortunately, the dude pretty much left me alone the rest of the meal.\\n\\ni guess the point of the story is that 3 years ago, i would have downed that glass and probably ordered 4-5 more - which then would have inadvertently turned into a night of heavy drinking (probably hitting a couple more bars after dinner).  felt so good to not only turn it down but affirmative state \"i don\\'t drink.\"  i don\\'t really blame the bartender, he was genuinely trying to be hospitable.\\n\\njust an story i wanted to share.', 'author_fullname': 't2_62qaj', 'saved': False, 'mod_reason_title': None, 'gilded': 0, 'clicked': False, 'title': 'sharing a story from over the weekend', 'link_flair_richtext': [], 'subreddit_name_prefixed': 'r/stopdrinking', 'hidden': False, 'pwls': 0, 'link_flair_css_class': None, 'downs': 0, 'top_awarded_type': None, 'hide_score': False, 'name': 't3_utxk6a', 'quarantine': False, 'link_flair_text_color': 'dark', 'upvote_ratio': 0.98, 'author_flair_background_color': None, 'subreddit_type': 'public', 'ups': 32, 'total_awards_received': 0, 'media_embed': {}, 'author_flair_template_id': 'f7eec2ca-6c34-11e9-b4d8-0e7ea67a6ce4', 'is_original_content': False, 'user_reports': [], 'secure_media': None, 'is_reddit_media_domain': False, 'is_meta': False, 'category': None, 'secure_media_embed': {}, 'link_flair_text': None, 'can_mod_post': False, 'score': 32, 'approved_by': None, 'is_created_from_ads_ui': False, 'author_premium': False, 'thumbnail': '', 'edited': False, 'author_flair_css_class': 'year1', 'author_flair_richtext': [], 'gildings': {}, 'content_categories': None, 'is_self': True, 'mod_note': None, 'created': 1653056696.0, 'link_flair_type': 'text', 'wls': 0, 'removed_by_category': None, 'banned_by': None, 'author_flair_type': 'text', 'domain': 'self.stopdrinking', 'allow_live_comments': False, 'selftext_html': '&lt;!-- SC_OFF --&gt;&lt;div class=\"md\"&gt;&lt;p&gt;i was in nyc for work stuff the past 4-5 days.  i got into brooklyn on sunday night and decided to grab a solo dinner at a restaurant.  i grabbed a seat at the bar and took out my notepad to jot down some ideas i wanted to keep track of.  when eating alone, i prefer to sit at the bar as it feels less awkward than a table.&lt;/p&gt;\\n\\n&lt;p&gt;the bartender comes over and is chatting me up and being slightly pushy with what drink i should get.  i tell him i&amp;#39;m good with water but am polite and thank him anyways.  i eventually make my food order and he &amp;quot;surprises&amp;quot; me with a huge glass of red wine.  i straight up tell him &amp;quot;hey man, i don&amp;#39;t drink&amp;quot; - to which he immediately realizes his fuck up (lol pretty awkward 15 seconds for everyone else around the bar).  &lt;/p&gt;\\n\\n&lt;p&gt;he gives a genuine apology and immediately takes the glass of wine away.  i finish the meal, pay + leave a 20% tip and bounce.  fortunately, the dude pretty much left me alone the rest of the meal.&lt;/p&gt;\\n\\n&lt;p&gt;i guess the point of the story is that 3 years ago, i would have downed that glass and probably ordered 4-5 more - which then would have inadvertently turned into a night of heavy drinking (probably hitting a couple more bars after dinner).  felt so good to not only turn it down but affirmative state &amp;quot;i don&amp;#39;t drink.&amp;quot;  i don&amp;#39;t really blame the bartender, he was genuinely trying to be hospitable.&lt;/p&gt;\\n\\n&lt;p&gt;just an story i wanted to share.&lt;/p&gt;\\n&lt;/div&gt;&lt;!-- SC_ON --&gt;', 'likes': None, 'suggested_sort': None, 'banned_at_utc': None, 'view_count': None, 'archived': False, 'no_follow': False, 'is_crosspostable': False, 'pinned': False, 'over_18': False, 'all_awardings': [], 'awarders': [], 'media_only': False, 'can_gild': True, 'spoiler': False, 'locked': False, 'author_flair_text': '390 days', 'treatment_tags': [], 'visited': False, 'removed_by': None, 'num_reports': None, 'distinguished': None, 'subreddit_id': 't5_2s7yr', 'author_is_blocked': False, 'mod_reason_by': None, 'removal_reason': None, 'link_flair_background_color': '', 'id': 'utxk6a', 'is_robot_indexable': True, 'report_reasons': None, 'author': 'filladellfea', 'discussion_type': None, 'num_comments': 5, 'send_replies': False, 'whitelist_status': 'no_ads', 'contest_mode': False, 'mod_reports': [], 'author_patreon_flair': False, 'author_flair_text_color': 'dark', 'permalink': '/r/stopdrinking/comments/utxk6a/sharing_a_story_from_over_the_weekend/', 'parent_whitelist_status': 'no_ads', 'stickied': False, 'url': 'https://www.reddit.com/r/stopdrinking/comments/utxk6a/sharing_a_story_from_over_the_weekend/', 'subreddit_subscribers': 360805, 'created_utc': 1653056696.0, 'num_crossposts': 0, 'media': None, 'is_video': False}}, {'kind': 't3', 'data': {'approved_at_utc': None, 'subreddit': 'stopdrinking', 'selftext': \"I've been 7 years from heroin and replaced it with booze but I've got 7 months completely sober. I'm content with my life, attitude, relationships and all aspects of life. Just one area seems to bother me, I've picked up old hobbies and new ones that I enjoy, but I can't help to think that I got sober for a greater purpose than just hobbies. I don't know what that greater purpose is, even if there is one. But ill take it day by day. Being is going to allow me to realize that purpose when it presents its self\", 'author_fullname': 't2_844ito5i', 'saved': False, 'mod_reason_title': None, 'gilded': 0, 'clicked': False, 'title': 'Feeling \"lost\"?', 'link_flair_richtext': [], 'subreddit_name_prefixed': 'r/stopdrinking', 'hidden': False, 'pwls': 0, 'link_flair_css_class': None, 'downs': 0, 'top_awarded_type': None, 'hide_score': False, 'name': 't3_utxbu6', 'quarantine': False, 'link_flair_text_color': 'dark', 'upvote_ratio': 0.95, 'author_flair_background_color': None, 'subreddit_type': 'public', 'ups': 14, 'total_awards_received': 0, 'media_embed': {}, 'author_flair_template_id': None, 'is_original_content': False, 'user_reports': [], 'secure_media': None, 'is_reddit_media_domain': False, 'is_meta': False, 'category': None, 'secure_media_embed': {}, 'link_flair_text': None, 'can_mod_post': False, 'score': 14, 'approved_by': None, 'is_created_from_ads_ui': False, 'author_premium': False, 'thumbnail': '', 'edited': False, 'author_flair_css_class': None, 'author_flair_richtext': [], 'gildings': {}, 'content_categories': None, 'is_self': True, 'mod_note': None, 'created': 1653056227.0, 'link_flair_type': 'text', 'wls': 0, 'removed_by_category': None, 'banned_by': None, 'author_flair_type': 'text', 'domain': 'self.stopdrinking', 'allow_live_comments': False, 'selftext_html': '&lt;!-- SC_OFF --&gt;&lt;div class=\"md\"&gt;&lt;p&gt;I&amp;#39;ve been 7 years from heroin and replaced it with booze but I&amp;#39;ve got 7 months completely sober. I&amp;#39;m content with my life, attitude, relationships and all aspects of life. Just one area seems to bother me, I&amp;#39;ve picked up old hobbies and new ones that I enjoy, but I can&amp;#39;t help to think that I got sober for a greater purpose than just hobbies. I don&amp;#39;t know what that greater purpose is, even if there is one. But ill take it day by day. Being is going to allow me to realize that purpose when it presents its self&lt;/p&gt;\\n&lt;/div&gt;&lt;!-- SC_ON --&gt;', 'likes': None, 'suggested_sort': None, 'banned_at_utc': None, 'view_count': None, 'archived': False, 'no_follow': False, 'is_crosspostable': False, 'pinned': False, 'over_18': False, 'all_awardings': [], 'awarders': [], 'media_only': False, 'can_gild': True, 'spoiler': False, 'locked': False, 'author_flair_text': None, 'treatment_tags': [], 'visited': False, 'removed_by': None, 'num_reports': None, 'distinguished': None, 'subreddit_id': 't5_2s7yr', 'author_is_blocked': False, 'mod_reason_by': None, 'removal_reason': None, 'link_flair_background_color': '', 'id': 'utxbu6', 'is_robot_indexable': True, 'report_reasons': None, 'author': 'Remove_Same', 'discussion_type': None, 'num_comments': 1, 'send_replies': True, 'whitelist_status': 'no_ads', 'contest_mode': False, 'mod_reports': [], 'author_patreon_flair': False, 'author_flair_text_color': None, 'permalink': '/r/stopdrinking/comments/utxbu6/feeling_lost/', 'parent_whitelist_status': 'no_ads', 'stickied': False, 'url': 'https://www.reddit.com/r/stopdrinking/comments/utxbu6/feeling_lost/', 'subreddit_subscribers': 360805, 'created_utc': 1653056227.0, 'num_crossposts': 0, 'media': None, 'is_video': False}}, {'kind': 't3', 'data': {'approved_at_utc': None, 'subreddit': 'stopdrinking', 'selftext': \"I can't believe it! I've been looking forward to this almost as much as, if not a little more than, the other milestones.\\n\\nWhen I started, I never saw myself getting here. \\n\\nThank you all for all of your help and support!!\", 'author_fullname': 't2_fzjoxz3m', 'saved': False, 'mod_reason_title': None, 'gilded': 0, 'clicked': False, 'title': \"I never thought I'd get to make this post... DAY 69 IS HERE, BABY!!!!!!\", 'link_flair_richtext': [], 'subreddit_name_prefixed': 'r/stopdrinking', 'hidden': False, 'pwls': 0, 'link_flair_css_class': None, 'downs': 0, 'top_awarded_type': None, 'hide_score': False, 'name': 't3_utx3k3', 'quarantine': False, 'link_flair_text_color': 'dark', 'upvote_ratio': 0.97, 'author_flair_background_color': '', 'subreddit_type': 'public', 'ups': 208, 'total_awards_received': 0, 'media_embed': {}, 'author_flair_template_id': None, 'is_original_content': False, 'user_reports': [], 'secure_media': None, 'is_reddit_media_domain': False, 'is_meta': False, 'category': None, 'secure_media_embed': {}, 'link_flair_text': None, 'can_mod_post': False, 'score': 208, 'approved_by': None, 'is_created_from_ads_ui': False, 'author_premium': False, 'thumbnail': '', 'edited': False, 'author_flair_css_class': 'month2', 'author_flair_richtext': [], 'gildings': {}, 'content_categories': None, 'is_self': True, 'mod_note': None, 'created': 1653055764.0, 'link_flair_type': 'text', 'wls': 0, 'removed_by_category': None, 'banned_by': None, 'author_flair_type': 'text', 'domain': 'self.stopdrinking', 'allow_live_comments': False, 'selftext_html': '&lt;!-- SC_OFF --&gt;&lt;div class=\"md\"&gt;&lt;p&gt;I can&amp;#39;t believe it! I&amp;#39;ve been looking forward to this almost as much as, if not a little more than, the other milestones.&lt;/p&gt;\\n\\n&lt;p&gt;When I started, I never saw myself getting here. &lt;/p&gt;\\n\\n&lt;p&gt;Thank you all for all of your help and support!!&lt;/p&gt;\\n&lt;/div&gt;&lt;!-- SC_ON --&gt;', 'likes': None, 'suggested_sort': None, 'banned_at_utc': None, 'view_count': None, 'archived': False, 'no_follow': False, 'is_crosspostable': False, 'pinned': False, 'over_18': False, 'all_awardings': [], 'awarders': [], 'media_only': False, 'can_gild': True, 'spoiler': False, 'locked': False, 'author_flair_text': '69 days', 'treatment_tags': [], 'visited': False, 'removed_by': None, 'num_reports': None, 'distinguished': None, 'subreddit_id': 't5_2s7yr', 'author_is_blocked': False, 'mod_reason_by': None, 'removal_reason': None, 'link_flair_background_color': '', 'id': 'utx3k3', 'is_robot_indexable': True, 'report_reasons': None, 'author': 'MercedesRising', 'discussion_type': None, 'num_comments': 56, 'send_replies': True, 'whitelist_status': 'no_ads', 'contest_mode': False, 'mod_reports': [], 'author_patreon_flair': False, 'author_flair_text_color': 'dark', 'permalink': '/r/stopdrinking/comments/utx3k3/i_never_thought_id_get_to_make_this_post_day_69/', 'parent_whitelist_status': 'no_ads', 'stickied': False, 'url': 'https://www.reddit.com/r/stopdrinking/comments/utx3k3/i_never_thought_id_get_to_make_this_post_day_69/', 'subreddit_subscribers': 360805, 'created_utc': 1653055764.0, 'num_crossposts': 0, 'media': None, 'is_video': False}}, {'kind': 't3', 'data': {'approved_at_utc': None, 'subreddit': 'stopdrinking', 'selftext': 'I’ve made it 275 days now as a sobernaut. I just turned 36 and it was the first sober birthday of my adult life. Wow, that’s amazing right? Well, thanks to strangers from all over the world on here it was possible. I wish I could say life is amazing and so much easier and better. Truth is, it’s absolutely the same bs day in and day out. The difference is I can remember the day before when I wake up and not be ashamed of myself. I can live with what I do now knowing I was sober. It’s really really hard sometimes. I try to stay active now and focus on finding happiness and purpose to be alive and fully conscious this short time we have on earth. Don’t ever give up on yourselves. ❤️chrs', 'author_fullname': 't2_5haz1rqz', 'saved': False, 'mod_reason_title': None, 'gilded': 0, 'clicked': False, 'title': 'Humbled by the light', 'link_flair_richtext': [], 'subreddit_name_prefixed': 'r/stopdrinking', 'hidden': False, 'pwls': 0, 'link_flair_css_class': None, 'downs': 0, 'top_awarded_type': None, 'hide_score': False, 'name': 't3_utx2qp', 'quarantine': False, 'link_flair_text_color': 'dark', 'upvote_ratio': 1.0, 'author_flair_background_color': '', 'subreddit_type': 'public', 'ups': 13, 'total_awards_received': 0, 'media_embed': {}, 'author_flair_template_id': None, 'is_original_content': False, 'user_reports': [], 'secure_media': None, 'is_reddit_media_domain': False, 'is_meta': False, 'category': None, 'secure_media_embed': {}, 'link_flair_text': None, 'can_mod_post': False, 'score': 13, 'approved_by': None, 'is_created_from_ads_ui': False, 'author_premium': False, 'thumbnail': '', 'edited': False, 'author_flair_css_class': 'month9', 'author_flair_richtext': [], 'gildings': {}, 'content_categories': None, 'is_self': True, 'mod_note': None, 'created': 1653055717.0, 'link_flair_type': 'text', 'wls': 0, 'removed_by_category': None, 'banned_by': None, 'author_flair_type': 'text', 'domain': 'self.stopdrinking', 'allow_live_comments': False, 'selftext_html': '&lt;!-- SC_OFF --&gt;&lt;div class=\"md\"&gt;&lt;p&gt;I’ve made it 275 days now as a sobernaut. I just turned 36 and it was the first sober birthday of my adult life. Wow, that’s amazing right? Well, thanks to strangers from all over the world on here it was possible. I wish I could say life is amazing and so much easier and better. Truth is, it’s absolutely the same bs day in and day out. The difference is I can remember the day before when I wake up and not be ashamed of myself. I can live with what I do now knowing I was sober. It’s really really hard sometimes. I try to stay active now and focus on finding happiness and purpose to be alive and fully conscious this short time we have on earth. Don’t ever give up on yourselves. ❤️chrs&lt;/p&gt;\\n&lt;/div&gt;&lt;!-- SC_ON --&gt;', 'likes': None, 'suggested_sort': None, 'banned_at_utc': None, 'view_count': None, 'archived': False, 'no_follow': False, 'is_crosspostable': False, 'pinned': False, 'over_18': False, 'all_awardings': [], 'awarders': [], 'media_only': False, 'can_gild': True, 'spoiler': False, 'locked': False, 'author_flair_text': '275 days', 'treatment_tags': [], 'visited': False, 'removed_by': None, 'num_reports': None, 'distinguished': None, 'subreddit_id': 't5_2s7yr', 'author_is_blocked': False, 'mod_reason_by': None, 'removal_reason': None, 'link_flair_background_color': '', 'id': 'utx2qp', 'is_robot_indexable': True, 'report_reasons': None, 'author': 'chrs86', 'discussion_type': None, 'num_comments': 2, 'send_replies': True, 'whitelist_status': 'no_ads', 'contest_mode': False, 'mod_reports': [], 'author_patreon_flair': False, 'author_flair_text_color': 'dark', 'permalink': '/r/stopdrinking/comments/utx2qp/humbled_by_the_light/', 'parent_whitelist_status': 'no_ads', 'stickied': False, 'url': 'https://www.reddit.com/r/stopdrinking/comments/utx2qp/humbled_by_the_light/', 'subreddit_subscribers': 360805, 'created_utc': 1653055717.0, 'num_crossposts': 0, 'media': None, 'is_video': False}}, {'kind': 't3', 'data': {'approved_at_utc': None, 'subreddit': 'stopdrinking', 'selftext': \"I'm almost a week out and the main thing I'm noticing is that my lower GI is all over the place: bloating, constipation, some diarrhea, some general pain around my bowels/stomach. I did talk to my doctor and she said to mainly be aware of blood and black/tar type stuff in your stool, which I have not seen any so far. I have another doctor's appointment lined up, but this is sort of rough for the time being. I'm trying to eat more fruits/vegetables, kefir, drink more water, etc.\", 'author_fullname': 't2_pxcz4', 'saved': False, 'mod_reason_title': None, 'gilded': 0, 'clicked': False, 'title': 'How long did it take for your guts and digestion to feel normal again?', 'link_flair_richtext': [], 'subreddit_name_prefixed': 'r/stopdrinking', 'hidden': False, 'pwls': 0, 'link_flair_css_class': None, 'downs': 0, 'top_awarded_type': None, 'hide_score': False, 'name': 't3_utwr4i', 'quarantine': False, 'link_flair_text_color': 'dark', 'upvote_ratio': 0.86, 'author_flair_background_color': None, 'subreddit_type': 'public', 'ups': 9, 'total_awards_received': 0, 'media_embed': {}, 'author_flair_template_id': None, 'is_original_content': False, 'user_reports': [], 'secure_media': None, 'is_reddit_media_domain': False, 'is_meta': False, 'category': None, 'secure_media_embed': {}, 'link_flair_text': None, 'can_mod_post': False, 'score': 9, 'approved_by': None, 'is_created_from_ads_ui': False, 'author_premium': False, 'thumbnail': '', 'edited': False, 'author_flair_css_class': None, 'author_flair_richtext': [], 'gildings': {}, 'content_categories': None, 'is_self': True, 'mod_note': None, 'created': 1653055081.0, 'link_flair_type': 'text', 'wls': 0, 'removed_by_category': None, 'banned_by': None, 'author_flair_type': 'text', 'domain': 'self.stopdrinking', 'allow_live_comments': False, 'selftext_html': '&lt;!-- SC_OFF --&gt;&lt;div class=\"md\"&gt;&lt;p&gt;I&amp;#39;m almost a week out and the main thing I&amp;#39;m noticing is that my lower GI is all over the place: bloating, constipation, some diarrhea, some general pain around my bowels/stomach. I did talk to my doctor and she said to mainly be aware of blood and black/tar type stuff in your stool, which I have not seen any so far. I have another doctor&amp;#39;s appointment lined up, but this is sort of rough for the time being. I&amp;#39;m trying to eat more fruits/vegetables, kefir, drink more water, etc.&lt;/p&gt;\\n&lt;/div&gt;&lt;!-- SC_ON --&gt;', 'likes': None, 'suggested_sort': None, 'banned_at_utc': None, 'view_count': None, 'archived': False, 'no_follow': False, 'is_crosspostable': False, 'pinned': False, 'over_18': False, 'all_awardings': [], 'awarders': [], 'media_only': False, 'can_gild': True, 'spoiler': False, 'locked': False, 'author_flair_text': None, 'treatment_tags': [], 'visited': False, 'removed_by': None, 'num_reports': None, 'distinguished': None, 'subreddit_id': 't5_2s7yr', 'author_is_blocked': False, 'mod_reason_by': None, 'removal_reason': None, 'link_flair_background_color': '', 'id': 'utwr4i', 'is_robot_indexable': True, 'report_reasons': None, 'author': 'trasheagle', 'discussion_type': None, 'num_comments': 7, 'send_replies': True, 'whitelist_status': 'no_ads', 'contest_mode': False, 'mod_reports': [], 'author_patreon_flair': False, 'author_flair_text_color': None, 'permalink': '/r/stopdrinking/comments/utwr4i/how_long_did_it_take_for_your_guts_and_digestion/', 'parent_whitelist_status': 'no_ads', 'stickied': False, 'url': 'https://www.reddit.com/r/stopdrinking/comments/utwr4i/how_long_did_it_take_for_your_guts_and_digestion/', 'subreddit_subscribers': 360805, 'created_utc': 1653055081.0, 'num_crossposts': 0, 'media': None, 'is_video': False}}, {'kind': 't3', 'data': {'approved_at_utc': None, 'subreddit': 'stopdrinking', 'selftext': 'Yes, I said that correctly. My average was a six pack a night, sometimes more. Thinking about putting that many beer bottles in front of me makes me sick to my stomach.', 'author_fullname': 't2_m01nmc9a', 'saved': False, 'mod_reason_title': None, 'gilded': 0, 'clicked': False, 'title': '26 days = 156 less drinks', 'link_flair_richtext': [], 'subreddit_name_prefixed': 'r/stopdrinking', 'hidden': False, 'pwls': 0, 'link_flair_css_class': None, 'downs': 0, 'top_awarded_type': None, 'hide_score': False, 'name': 't3_utwlu0', 'quarantine': False, 'link_flair_text_color': 'dark', 'upvote_ratio': 0.97, 'author_flair_background_color': '', 'subreddit_type': 'public', 'ups': 25, 'total_awards_received': 0, 'media_embed': {}, 'author_flair_template_id': None, 'is_original_content': False, 'user_reports': [], 'secure_media': None, 'is_reddit_media_domain': False, 'is_meta': False, 'category': None, 'secure_media_embed': {}, 'link_flair_text': None, 'can_mod_post': False, 'score': 25, 'approved_by': None, 'is_created_from_ads_ui': False, 'author_premium': False, 'thumbnail': '', 'edited': False, 'author_flair_css_class': 'week3', 'author_flair_richtext': [], 'gildings': {}, 'content_categories': None, 'is_self': True, 'mod_note': None, 'created': 1653054775.0, 'link_flair_type': 'text', 'wls': 0, 'removed_by_category': None, 'banned_by': None, 'author_flair_type': 'text', 'domain': 'self.stopdrinking', 'allow_live_comments': False, 'selftext_html': '&lt;!-- SC_OFF --&gt;&lt;div class=\"md\"&gt;&lt;p&gt;Yes, I said that correctly. My average was a six pack a night, sometimes more. Thinking about putting that many beer bottles in front of me makes me sick to my stomach.&lt;/p&gt;\\n&lt;/div&gt;&lt;!-- SC_ON --&gt;', 'likes': None, 'suggested_sort': None, 'banned_at_utc': None, 'view_count': None, 'archived': False, 'no_follow': False, 'is_crosspostable': False, 'pinned': False, 'over_18': False, 'all_awardings': [], 'awarders': [], 'media_only': False, 'can_gild': True, 'spoiler': False, 'locked': False, 'author_flair_text': '26 days', 'treatment_tags': [], 'visited': False, 'removed_by': None, 'num_reports': None, 'distinguished': None, 'subreddit_id': 't5_2s7yr', 'author_is_blocked': False, 'mod_reason_by': None, 'removal_reason': None, 'link_flair_background_color': '', 'id': 'utwlu0', 'is_robot_indexable': True, 'report_reasons': None, 'author': 'smittenmeatmuppet', 'discussion_type': None, 'num_comments': 6, 'send_replies': True, 'whitelist_status': 'no_ads', 'contest_mode': False, 'mod_reports': [], 'author_patreon_flair': False, 'author_flair_text_color': 'dark', 'permalink': '/r/stopdrinking/comments/utwlu0/26_days_156_less_drinks/', 'parent_whitelist_status': 'no_ads', 'stickied': False, 'url': 'https://www.reddit.com/r/stopdrinking/comments/utwlu0/26_days_156_less_drinks/', 'subreddit_subscribers': 360805, 'created_utc': 1653054775.0, 'num_crossposts': 0, 'media': None, 'is_video': False}}, {'kind': 't3', 'data': {'approved_at_utc': None, 'subreddit': 'stopdrinking', 'selftext': 'How can you see your counter without posting?', 'author_fullname': 't2_533wu3co', 'saved': False, 'mod_reason_title': None, 'gilded': 0, 'clicked': False, 'title': 'is there a way', 'link_flair_richtext': [], 'subreddit_name_prefixed': 'r/stopdrinking', 'hidden': False, 'pwls': 0, 'link_flair_css_class': None, 'downs': 0, 'top_awarded_type': None, 'hide_score': False, 'name': 't3_utwfxa', 'quarantine': False, 'link_flair_text_color': 'dark', 'upvote_ratio': 1.0, 'author_flair_background_color': '', 'subreddit_type': 'public', 'ups': 1, 'total_awards_received': 0, 'media_embed': {}, 'author_flair_template_id': None, 'is_original_content': False, 'user_reports': [], 'secure_media': None, 'is_reddit_media_domain': False, 'is_meta': False, 'category': None, 'secure_media_embed': {}, 'link_flair_text': None, 'can_mod_post': False, 'score': 1, 'approved_by': None, 'is_created_from_ads_ui': False, 'author_premium': False, 'thumbnail': '', 'edited': False, 'author_flair_css_class': 'month1', 'author_flair_richtext': [], 'gildings': {}, 'content_categories': None, 'is_self': True, 'mod_note': None, 'created': 1653054430.0, 'link_flair_type': 'text', 'wls': 0, 'removed_by_category': None, 'banned_by': None, 'author_flair_type': 'text', 'domain': 'self.stopdrinking', 'allow_live_comments': False, 'selftext_html': '&lt;!-- SC_OFF --&gt;&lt;div class=\"md\"&gt;&lt;p&gt;How can you see your counter without posting?&lt;/p&gt;\\n&lt;/div&gt;&lt;!-- SC_ON --&gt;', 'likes': None, 'suggested_sort': None, 'banned_at_utc': None, 'view_count': None, 'archived': False, 'no_follow': True, 'is_crosspostable': False, 'pinned': False, 'over_18': False, 'all_awardings': [], 'awarders': [], 'media_only': False, 'can_gild': True, 'spoiler': False, 'locked': False, 'author_flair_text': '39 days', 'treatment_tags': [], 'visited': False, 'removed_by': None, 'num_reports': None, 'distinguished': None, 'subreddit_id': 't5_2s7yr', 'author_is_blocked': False, 'mod_reason_by': None, 'removal_reason': None, 'link_flair_background_color': '', 'id': 'utwfxa', 'is_robot_indexable': True, 'report_reasons': None, 'author': 'Tricksr4cats', 'discussion_type': None, 'num_comments': 1, 'send_replies': True, 'whitelist_status': 'no_ads', 'contest_mode': False, 'mod_reports': [], 'author_patreon_flair': False, 'author_flair_text_color': 'dark', 'permalink': '/r/stopdrinking/comments/utwfxa/is_there_a_way/', 'parent_whitelist_status': 'no_ads', 'stickied': False, 'url': 'https://www.reddit.com/r/stopdrinking/comments/utwfxa/is_there_a_way/', 'subreddit_subscribers': 360805, 'created_utc': 1653054430.0, 'num_crossposts': 0, 'media': None, 'is_video': False}}, {'kind': 't3', 'data': {'approved_at_utc': None, 'subreddit': 'stopdrinking', 'selftext': \"So I have been drinking almost everyday for 3 years and that has pushed my friends away, i gained weight alot,\\nWent into a pretty deep depression, couldn't focus on anything except on alcohol.\\n\\nSo 5 days ago was my last straw, started eating healthier,\\nStarted working out more and drinking only water.\\n\\nI've already noticed that my mood has been alot better\\nLess bloating on my stomach area and on my face.\\nLess tired\\n\\nOnly cons have been that my face has alot more acne\\nAnd I have extreme urges for alcohol.\\nSparkling water helps alot for the urges.\\n\\nThank you for reading, I hope I make it to one month!\", 'author_fullname': 't2_m2bdxxp4', 'saved': False, 'mod_reason_title': None, 'gilded': 0, 'clicked': False, 'title': '5 days of being sober', 'link_flair_richtext': [], 'subreddit_name_prefixed': 'r/stopdrinking', 'hidden': False, 'pwls': 0, 'link_flair_css_class': None, 'downs': 0, 'top_awarded_type': None, 'hide_score': False, 'name': 't3_utwbo2', 'quarantine': False, 'link_flair_text_color': 'dark', 'upvote_ratio': 1.0, 'author_flair_background_color': None, 'subreddit_type': 'public', 'ups': 18, 'total_awards_received': 0, 'media_embed': {}, 'author_flair_template_id': None, 'is_original_content': False, 'user_reports': [], 'secure_media': None, 'is_reddit_media_domain': False, 'is_meta': False, 'category': None, 'secure_media_embed': {}, 'link_flair_text': None, 'can_mod_post': False, 'score': 18, 'approved_by': None, 'is_created_from_ads_ui': False, 'author_premium': False, 'thumbnail': '', 'edited': False, 'author_flair_css_class': None, 'author_flair_richtext': [], 'gildings': {}, 'content_categories': None, 'is_self': True, 'mod_note': None, 'created': 1653054185.0, 'link_flair_type': 'text', 'wls': 0, 'removed_by_category': None, 'banned_by': None, 'author_flair_type': 'text', 'domain': 'self.stopdrinking', 'allow_live_comments': False, 'selftext_html': '&lt;!-- SC_OFF --&gt;&lt;div class=\"md\"&gt;&lt;p&gt;So I have been drinking almost everyday for 3 years and that has pushed my friends away, i gained weight alot,\\nWent into a pretty deep depression, couldn&amp;#39;t focus on anything except on alcohol.&lt;/p&gt;\\n\\n&lt;p&gt;So 5 days ago was my last straw, started eating healthier,\\nStarted working out more and drinking only water.&lt;/p&gt;\\n\\n&lt;p&gt;I&amp;#39;ve already noticed that my mood has been alot better\\nLess bloating on my stomach area and on my face.\\nLess tired&lt;/p&gt;\\n\\n&lt;p&gt;Only cons have been that my face has alot more acne\\nAnd I have extreme urges for alcohol.\\nSparkling water helps alot for the urges.&lt;/p&gt;\\n\\n&lt;p&gt;Thank you for reading, I hope I make it to one month!&lt;/p&gt;\\n&lt;/div&gt;&lt;!-- SC_ON --&gt;', 'likes': None, 'suggested_sort': None, 'banned_at_utc': None, 'view_count': None, 'archived': False, 'no_follow': False, 'is_crosspostable': False, 'pinned': False, 'over_18': False, 'all_awardings': [], 'awarders': [], 'media_only': False, 'can_gild': True, 'spoiler': False, 'locked': False, 'author_flair_text': None, 'treatment_tags': [], 'visited': False, 'removed_by': None, 'num_reports': None, 'distinguished': None, 'subreddit_id': 't5_2s7yr', 'author_is_blocked': False, 'mod_reason_by': None, 'removal_reason': None, 'link_flair_background_color': '', 'id': 'utwbo2', 'is_robot_indexable': True, 'report_reasons': None, 'author': 'Agafonts', 'discussion_type': None, 'num_comments': 8, 'send_replies': True, 'whitelist_status': 'no_ads', 'contest_mode': False, 'mod_reports': [], 'author_patreon_flair': False, 'author_flair_text_color': None, 'permalink': '/r/stopdrinking/comments/utwbo2/5_days_of_being_sober/', 'parent_whitelist_status': 'no_ads', 'stickied': False, 'url': 'https://www.reddit.com/r/stopdrinking/comments/utwbo2/5_days_of_being_sober/', 'subreddit_subscribers': 360805, 'created_utc': 1653054185.0, 'num_crossposts': 0, 'media': None, 'is_video': False}}, {'kind': 't3', 'data': {'approved_at_utc': None, 'subreddit': 'stopdrinking', 'selftext': 'Alcohol free for 23 whole days ! Proud of myself ! IWNDWYT', 'author_fullname': 't2_en5wz0jc', 'saved': False, 'mod_reason_title': None, 'gilded': 0, 'clicked': False, 'title': '23 days', 'link_flair_richtext': [], 'subreddit_name_prefixed': 'r/stopdrinking', 'hidden': False, 'pwls': 0, 'link_flair_css_class': None, 'downs': 0, 'top_awarded_type': None, 'hide_score': False, 'name': 't3_utwaf4', 'quarantine': False, 'link_flair_text_color': 'dark', 'upvote_ratio': 0.93, 'author_flair_background_color': None, 'subreddit_type': 'public', 'ups': 11, 'total_awards_received': 1, 'media_embed': {}, 'author_flair_template_id': None, 'is_original_content': False, 'user_reports': [], 'secure_media': None, 'is_reddit_media_domain': False, 'is_meta': False, 'category': None, 'secure_media_embed': {}, 'link_flair_text': None, 'can_mod_post': False, 'score': 11, 'approved_by': None, 'is_created_from_ads_ui': False, 'author_premium': False, 'thumbnail': '', 'edited': False, 'author_flair_css_class': None, 'author_flair_richtext': [], 'gildings': {}, 'content_categories': None, 'is_self': True, 'mod_note': None, 'created': 1653054110.0, 'link_flair_type': 'text', 'wls': 0, 'removed_by_category': None, 'banned_by': None, 'author_flair_type': 'text', 'domain': 'self.stopdrinking', 'allow_live_comments': False, 'selftext_html': '&lt;!-- SC_OFF --&gt;&lt;div class=\"md\"&gt;&lt;p&gt;Alcohol free for 23 whole days ! Proud of myself ! IWNDWYT&lt;/p&gt;\\n&lt;/div&gt;&lt;!-- SC_ON --&gt;', 'likes': None, 'suggested_sort': None, 'banned_at_utc': None, 'view_count': None, 'archived': False, 'no_follow': False, 'is_crosspostable': False, 'pinned': False, 'over_18': False, 'all_awardings': [{'giver_coin_reward': None, 'subreddit_id': None, 'is_new': False, 'days_of_drip_extension': None, 'coin_price': 100, 'id': 'award_b4072731-c0fb-4440-adc7-1063d6a5e6a0', 'penny_donate': None, 'award_sub_type': 'GLOBAL', 'coin_reward': 0, 'icon_url': 'https://i.redd.it/award_images/t5_22cerq/2juh333m40n51_Masterpiece.png', 'days_of_premium': None, 'tiers_by_required_awardings': None, 'resized_icons': [{'url': 'https://preview.redd.it/award_images/t5_22cerq/2juh333m40n51_Masterpiece.png?width=16&amp;height=16&amp;auto=webp&amp;s=8e644eb9ffccee5f11d72e759883a6c825f7d89e', 'width': 16, 'height': 16}, {'url': 'https://preview.redd.it/award_images/t5_22cerq/2juh333m40n51_Masterpiece.png?width=32&amp;height=32&amp;auto=webp&amp;s=c49ad07c88610c7efe98a54453d9ce5ddf887a1d', 'width': 32, 'height': 32}, {'url': 'https://preview.redd.it/award_images/t5_22cerq/2juh333m40n51_Masterpiece.png?width=48&amp;height=48&amp;auto=webp&amp;s=80eb767a877a78c181af1385c2ed98f067b38092', 'width': 48, 'height': 48}, {'url': 'https://preview.redd.it/award_images/t5_22cerq/2juh333m40n51_Masterpiece.png?width=64&amp;height=64&amp;auto=webp&amp;s=b2b65ceeff9933f5e70387893e661b7e9f1f1556', 'width': 64, 'height': 64}, {'url': 'https://preview.redd.it/award_images/t5_22cerq/2juh333m40n51_Masterpiece.png?width=128&amp;height=128&amp;auto=webp&amp;s=aec3cf53a1aeabe4c2ecc4ad83b2d0f2993d1afd', 'width': 128, 'height': 128}], 'icon_width': 2048, 'static_icon_width': 2048, 'start_date': None, 'is_enabled': True, 'awardings_required_to_grant_benefits': None, 'description': \"C'est magnifique\", 'end_date': None, 'subreddit_coin_reward': 0, 'count': 1, 'static_icon_height': 2048, 'name': 'Masterpiece', 'resized_static_icons': [{'url': 'https://preview.redd.it/award_images/t5_22cerq/2juh333m40n51_Masterpiece.png?width=16&amp;height=16&amp;auto=webp&amp;s=8e644eb9ffccee5f11d72e759883a6c825f7d89e', 'width': 16, 'height': 16}, {'url': 'https://preview.redd.it/award_images/t5_22cerq/2juh333m40n51_Masterpiece.png?width=32&amp;height=32&amp;auto=webp&amp;s=c49ad07c88610c7efe98a54453d9ce5ddf887a1d', 'width': 32, 'height': 32}, {'url': 'https://preview.redd.it/award_images/t5_22cerq/2juh333m40n51_Masterpiece.png?width=48&amp;height=48&amp;auto=webp&amp;s=80eb767a877a78c181af1385c2ed98f067b38092', 'width': 48, 'height': 48}, {'url': 'https://preview.redd.it/award_images/t5_22cerq/2juh333m40n51_Masterpiece.png?width=64&amp;height=64&amp;auto=webp&amp;s=b2b65ceeff9933f5e70387893e661b7e9f1f1556', 'width': 64, 'height': 64}, {'url': 'https://preview.redd.it/award_images/t5_22cerq/2juh333m40n51_Masterpiece.png?width=128&amp;height=128&amp;auto=webp&amp;s=aec3cf53a1aeabe4c2ecc4ad83b2d0f2993d1afd', 'width': 128, 'height': 128}], 'icon_format': 'PNG', 'icon_height': 2048, 'penny_price': 0, 'award_type': 'global', 'static_icon_url': 'https://i.redd.it/award_images/t5_22cerq/2juh333m40n51_Masterpiece.png'}], 'awarders': [], 'media_only': False, 'can_gild': True, 'spoiler': False, 'locked': False, 'author_flair_text': None, 'treatment_tags': [], 'visited': False, 'removed_by': None, 'num_reports': None, 'distinguished': None, 'subreddit_id': 't5_2s7yr', 'author_is_blocked': False, 'mod_reason_by': None, 'removal_reason': None, 'link_flair_background_color': '', 'id': 'utwaf4', 'is_robot_indexable': True, 'report_reasons': None, 'author': 'JessicaZaBeast1419', 'discussion_type': None, 'num_comments': 1, 'send_replies': True, 'whitelist_status': 'no_ads', 'contest_mode': False, 'mod_reports': [], 'author_patreon_flair': False, 'author_flair_text_color': None, 'permalink': '/r/stopdrinking/comments/utwaf4/23_days/', 'parent_whitelist_status': 'no_ads', 'stickied': False, 'url': 'https://www.reddit.com/r/stopdrinking/comments/utwaf4/23_days/', 'subreddit_subscribers': 360805, 'created_utc': 1653054110.0, 'num_crossposts': 0, 'media': None, 'is_video': False}}, {'kind': 't3', 'data': {'approved_at_utc': None, 'subreddit': 'stopdrinking', 'selftext': 'Had to reset... had a small 1/2 pint slip. Idk, still better than my old life of a binge every 3 days. Happy day 1 IWNDWYT 🦋', 'author_fullname': 't2_a1fvbgef', 'saved': False, 'mod_reason_title': None, 'gilded': 0, 'clicked': False, 'title': 'Reset But Ok', 'link_flair_richtext': [], 'subreddit_name_prefixed': 'r/stopdrinking', 'hidden': False, 'pwls': 0, 'link_flair_css_class': None, 'downs': 0, 'top_awarded_type': None, 'hide_score': False, 'name': 't3_utw0ui', 'quarantine': False, 'link_flair_text_color': 'dark', 'upvote_ratio': 1.0, 'author_flair_background_color': None, 'subreddit_type': 'public', 'ups': 21, 'total_awards_received': 0, 'media_embed': {}, 'author_flair_template_id': 'faf59352-6c36-11e9-bb53-0ea8f391a97e', 'is_original_content': False, 'user_reports': [], 'secure_media': None, 'is_reddit_media_domain': False, 'is_meta': False, 'category': None, 'secure_media_embed': {}, 'link_flair_text': None, 'can_mod_post': False, 'score': 21, 'approved_by': None, 'is_created_from_ads_ui': False, 'author_premium': False, 'thumbnail': '', 'edited': False, 'author_flair_css_class': 'under1', 'author_flair_richtext': [], 'gildings': {}, 'content_categories': None, 'is_self': True, 'mod_note': None, 'created': 1653053553.0, 'link_flair_type': 'text', 'wls': 0, 'removed_by_category': None, 'banned_by': None, 'author_flair_type': 'text', 'domain': 'self.stopdrinking', 'allow_live_comments': False, 'selftext_html': '&lt;!-- SC_OFF --&gt;&lt;div class=\"md\"&gt;&lt;p&gt;Had to reset... had a small 1/2 pint slip. Idk, still better than my old life of a binge every 3 days. Happy day 1 IWNDWYT 🦋&lt;/p&gt;\\n&lt;/div&gt;&lt;!-- SC_ON --&gt;', 'likes': None, 'suggested_sort': None, 'banned_at_utc': None, 'view_count': None, 'archived': False, 'no_follow': False, 'is_crosspostable': False, 'pinned': False, 'over_18': False, 'all_awardings': [], 'awarders': [], 'media_only': False, 'can_gild': True, 'spoiler': False, 'locked': False, 'author_flair_text': '1 day', 'treatment_tags': [], 'visited': False, 'removed_by': None, 'num_reports': None, 'distinguished': None, 'subreddit_id': 't5_2s7yr', 'author_is_blocked': False, 'mod_reason_by': None, 'removal_reason': None, 'link_flair_background_color': '', 'id': 'utw0ui', 'is_robot_indexable': True, 'report_reasons': None, 'author': 'idylecowgirl', 'discussion_type': None, 'num_comments': 3, 'send_replies': True, 'whitelist_status': 'no_ads', 'contest_mode': False, 'mod_reports': [], 'author_patreon_flair': False, 'author_flair_text_color': 'dark', 'permalink': '/r/stopdrinking/comments/utw0ui/reset_but_ok/', 'parent_whitelist_status': 'no_ads', 'stickied': False, 'url': 'https://www.reddit.com/r/stopdrinking/comments/utw0ui/reset_but_ok/', 'subreddit_subscribers': 360805, 'created_utc': 1653053553.0, 'num_crossposts': 0, 'media': None, 'is_video': False}}, {'kind': 't3', 'data': {'approved_at_utc': None, 'subreddit': 'stopdrinking', 'selftext': 'I made it two weeks and then drank my ass off this week. Super depressed today. Just for today I will not drink.', 'author_fullname': 't2_1s72wso4', 'saved': False, 'mod_reason_title': None, 'gilded': 0, 'clicked': False, 'title': 'I’m a silly, silly drinker', 'link_flair_richtext': [], 'subreddit_name_prefixed': 'r/stopdrinking', 'hidden': False, 'pwls': 0, 'link_flair_css_class': None, 'downs': 0, 'top_awarded_type': None, 'hide_score': False, 'name': 't3_utvjs4', 'quarantine': False, 'link_flair_text_color': 'dark', 'upvote_ratio': 0.92, 'author_flair_background_color': None, 'subreddit_type': 'public', 'ups': 20, 'total_awards_received': 0, 'media_embed': {}, 'author_flair_template_id': None, 'is_original_content': False, 'user_reports': [], 'secure_media': None, 'is_reddit_media_domain': False, 'is_meta': False, 'category': None, 'secure_media_embed': {}, 'link_flair_text': None, 'can_mod_post': False, 'score': 20, 'approved_by': None, 'is_created_from_ads_ui': False, 'author_premium': False, 'thumbnail': '', 'edited': False, 'author_flair_css_class': None, 'author_flair_richtext': [], 'gildings': {}, 'content_categories': None, 'is_self': True, 'mod_note': None, 'created': 1653052553.0, 'link_flair_type': 'text', 'wls': 0, 'removed_by_category': None, 'banned_by': None, 'author_flair_type': 'text', 'domain': 'self.stopdrinking', 'allow_live_comments': False, 'selftext_html': '&lt;!-- SC_OFF --&gt;&lt;div class=\"md\"&gt;&lt;p&gt;I made it two weeks and then drank my ass off this week. Super depressed today. Just for today I will not drink.&lt;/p&gt;\\n&lt;/div&gt;&lt;!-- SC_ON --&gt;', 'likes': None, 'suggested_sort': None, 'banned_at_utc': None, 'view_count': None, 'archived': False, 'no_follow': False, 'is_crosspostable': False, 'pinned': False, 'over_18': False, 'all_awardings': [], 'awarders': [], 'media_only': False, 'can_gild': True, 'spoiler': False, 'locked': False, 'author_flair_text': None, 'treatment_tags': [], 'visited': False, 'removed_by': None, 'num_reports': None, 'distinguished': None, 'subreddit_id': 't5_2s7yr', 'author_is_blocked': False, 'mod_reason_by': None, 'removal_reason': None, 'link_flair_background_color': '', 'id': 'utvjs4', 'is_robot_indexable': True, 'report_reasons': None, 'author': 'smali01s', 'discussion_type': None, 'num_comments': 2, 'send_replies': True, 'whitelist_status': 'no_ads', 'contest_mode': False, 'mod_reports': [], 'author_patreon_flair': False, 'author_flair_text_color': None, 'permalink': '/r/stopdrinking/comments/utvjs4/im_a_silly_silly_drinker/', 'parent_whitelist_status': 'no_ads', 'stickied': False, 'url': 'https://www.reddit.com/r/stopdrinking/comments/utvjs4/im_a_silly_silly_drinker/', 'subreddit_subscribers': 360805, 'created_utc': 1653052553.0, 'num_crossposts': 0, 'media': None, 'is_video': False}}, {'kind': 't3', 'data': {'approved_at_utc': None, 'subreddit': 'stopdrinking', 'selftext': \"I was so fucking afraid of being boring. My biggest fear in life was to not have stories to tell at the bar when I met new people, because I desperately wanted to always be the most exciting person in the group who could one-up every other story no matter the subject.\\n\\nLook at what I've become. I'm *genuinely* looking forward to trying my new medicated toothpaste with giddy excitement, but it only feels good? How is this possible. No idea. But I'd rather live like this.\\n\\nMy 2 year badge showed up in the mail, finally, and I feel so happy to have it on my lil keychain along with all my white badges. There are more things in life than building a personality on being the most miserable one in the gang. \\n\\nI hope all of you get to have a nice weekend with peace and uncomplicated joy. I care about every single one of you. ❤\\n\\nhttps://media.discordapp.net/attachments/717983309778386987/977195730987003954/20220520_150637.jpg\", 'author_fullname': 't2_1kzfyy', 'saved': False, 'mod_reason_title': None, 'gilded': 0, 'clicked': False, 'title': \"It's 3pm on a friday and I've just happily strolled away to pick up my new medicated toothpaste with sincere excitement. I became the thing I feared, but it only feels good.\", 'link_flair_richtext': [], 'subreddit_name_prefixed': 'r/stopdrinking', 'hidden': False, 'pwls': 0, 'link_flair_css_class': None, 'downs': 0, 'top_awarded_type': None, 'hide_score': False, 'name': 't3_utvjh7', 'quarantine': False, 'link_flair_text_color': 'dark', 'upvote_ratio': 1.0, 'author_flair_background_color': None, 'subreddit_type': 'public', 'ups': 22, 'total_awards_received': 1, 'media_embed': {}, 'author_flair_template_id': 'f7eec2ca-6c34-11e9-b4d8-0e7ea67a6ce4', 'is_original_content': False, 'user_reports': [], 'secure_media': None, 'is_reddit_media_domain': False, 'is_meta': False, 'category': None, 'secure_media_embed': {}, 'link_flair_text': None, 'can_mod_post': False, 'score': 22, 'approved_by': None, 'is_created_from_ads_ui': False, 'author_premium': False, 'thumbnail': '', 'edited': False, 'author_flair_css_class': 'year1', 'author_flair_richtext': [], 'gildings': {}, 'content_categories': None, 'is_self': True, 'mod_note': None, 'created': 1653052535.0, 'link_flair_type': 'text', 'wls': 0, 'removed_by_category': None, 'banned_by': None, 'author_flair_type': 'text', 'domain': 'self.stopdrinking', 'allow_live_comments': False, 'selftext_html': '&lt;!-- SC_OFF --&gt;&lt;div class=\"md\"&gt;&lt;p&gt;I was so fucking afraid of being boring. My biggest fear in life was to not have stories to tell at the bar when I met new people, because I desperately wanted to always be the most exciting person in the group who could one-up every other story no matter the subject.&lt;/p&gt;\\n\\n&lt;p&gt;Look at what I&amp;#39;ve become. I&amp;#39;m &lt;em&gt;genuinely&lt;/em&gt; looking forward to trying my new medicated toothpaste with giddy excitement, but it only feels good? How is this possible. No idea. But I&amp;#39;d rather live like this.&lt;/p&gt;\\n\\n&lt;p&gt;My 2 year badge showed up in the mail, finally, and I feel so happy to have it on my lil keychain along with all my white badges. There are more things in life than building a personality on being the most miserable one in the gang. &lt;/p&gt;\\n\\n&lt;p&gt;I hope all of you get to have a nice weekend with peace and uncomplicated joy. I care about every single one of you. ❤&lt;/p&gt;\\n\\n&lt;p&gt;&lt;a href=\"https://media.discordapp.net/attachments/717983309778386987/977195730987003954/20220520_150637.jpg\"&gt;https://media.discordapp.net/attachments/717983309778386987/977195730987003954/20220520_150637.jpg&lt;/a&gt;&lt;/p&gt;\\n&lt;/div&gt;&lt;!-- SC_ON --&gt;', 'likes': None, 'suggested_sort': None, 'banned_at_utc': None, 'view_count': None, 'archived': False, 'no_follow': False, 'is_crosspostable': False, 'pinned': False, 'over_18': False, 'all_awardings': [{'giver_coin_reward': None, 'subreddit_id': None, 'is_new': False, 'days_of_drip_extension': None, 'coin_price': 150, 'id': 'award_5fb42699-4911-42a2-884c-6fc8bdc36059', 'penny_donate': None, 'award_sub_type': 'APPRECIATION', 'coin_reward': 0, 'icon_url': 'https://www.redditstatic.com/gold/awards/icon/Animated_Cake_512.png', 'days_of_premium': None, 'tiers_by_required_awardings': None, 'resized_icons': [{'url': 'https://www.redditstatic.com/gold/awards/icon/Animated_Cake_16.png', 'width': 16, 'height': 16}, {'url': 'https://www.redditstatic.com/gold/awards/icon/Animated_Cake_32.png', 'width': 32, 'height': 32}, {'url': 'https://www.redditstatic.com/gold/awards/icon/Animated_Cake_48.png', 'width': 48, 'height': 48}, {'url': 'https://www.redditstatic.com/gold/awards/icon/Animated_Cake_64.png', 'width': 64, 'height': 64}, {'url': 'https://www.redditstatic.com/gold/awards/icon/Animated_Cake_128.png', 'width': 128, 'height': 128}], 'icon_width': 2048, 'static_icon_width': 2048, 'start_date': None, 'is_enabled': True, 'awardings_required_to_grant_benefits': None, 'description': 'Did someone say... cake?', 'end_date': None, 'subreddit_coin_reward': 0, 'count': 1, 'static_icon_height': 2048, 'name': 'Cake', 'resized_static_icons': [{'url': 'https://preview.redd.it/award_images/t5_q0gj4/2by9f28cal581_Cake2.png?width=16&amp;height=16&amp;auto=webp&amp;s=abb1c6547fbf5f64a5950f93196aed296eca6692', 'width': 16, 'height': 16}, {'url': 'https://preview.redd.it/award_images/t5_q0gj4/2by9f28cal581_Cake2.png?width=32&amp;height=32&amp;auto=webp&amp;s=7d290d35ad1720dd36cf4cd26333f67966798f83', 'width': 32, 'height': 32}, {'url': 'https://preview.redd.it/award_images/t5_q0gj4/2by9f28cal581_Cake2.png?width=48&amp;height=48&amp;auto=webp&amp;s=2551fcc07258cd78d78f2c41551a6470d69d7db3', 'width': 48, 'height': 48}, {'url': 'https://preview.redd.it/award_images/t5_q0gj4/2by9f28cal581_Cake2.png?width=64&amp;height=64&amp;auto=webp&amp;s=289ed1921761701125f1bddede0e1699dd1f6645', 'width': 64, 'height': 64}, {'url': 'https://preview.redd.it/award_images/t5_q0gj4/2by9f28cal581_Cake2.png?width=128&amp;height=128&amp;auto=webp&amp;s=f22db4b6b029726e8c4c8090c169fceca8a0c143', 'width': 128, 'height': 128}], 'icon_format': 'APNG', 'icon_height': 2048, 'penny_price': 0, 'award_type': 'global', 'static_icon_url': 'https://i.redd.it/award_images/t5_q0gj4/2by9f28cal581_Cake2.png'}], 'awarders': [], 'media_only': False, 'can_gild': True, 'spoiler': False, 'locked': False, 'author_flair_text': '834 days', 'treatment_tags': [], 'visited': False, 'removed_by': None, 'num_reports': None, 'distinguished': None, 'subreddit_id': 't5_2s7yr', 'author_is_blocked': False, 'mod_reason_by': None, 'removal_reason': None, 'link_flair_background_color': '', 'id': 'utvjh7', 'is_robot_indexable': True, 'report_reasons': None, 'author': 'winterlings', 'discussion_type': None, 'num_comments': 5, 'send_replies': True, 'whitelist_status': 'no_ads', 'contest_mode': False, 'mod_reports': [], 'author_patreon_flair': False, 'author_flair_text_color': 'dark', 'permalink': '/r/stopdrinking/comments/utvjh7/its_3pm_on_a_friday_and_ive_just_happily_strolled/', 'parent_whitelist_status': 'no_ads', 'stickied': False, 'url': 'https://www.reddit.com/r/stopdrinking/comments/utvjh7/its_3pm_on_a_friday_and_ive_just_happily_strolled/', 'subreddit_subscribers': 360805, 'created_utc': 1653052535.0, 'num_crossposts': 0, 'media': None, 'is_video': False}}, {'kind': 't3', 'data': {'approved_at_utc': None, 'subreddit': 'stopdrinking', 'selftext': 'Reading a bit. If alcohol was used to suppress anger before, can seem amplified in early stages of sobriety . Makes sense. Hopefully being aware will make sure short fuse stays in check.\\nIWNDWYT', 'author_fullname': 't2_lscm738m', 'saved': False, 'mod_reason_title': None, 'gilded': 0, 'clicked': False, 'title': 'Day 43. New symptom. Anger.', 'link_flair_richtext': [], 'subreddit_name_prefixed': 'r/stopdrinking', 'hidden': False, 'pwls': 0, 'link_flair_css_class': None, 'downs': 0, 'top_awarded_type': None, 'hide_score': False, 'name': 't3_utvfyk', 'quarantine': False, 'link_flair_text_color': 'dark', 'upvote_ratio': 0.94, 'author_flair_background_color': '', 'subreddit_type': 'public', 'ups': 13, 'total_awards_received': 0, 'media_embed': {}, 'author_flair_template_id': None, 'is_original_content': False, 'user_reports': [], 'secure_media': None, 'is_reddit_media_domain': False, 'is_meta': False, 'category': None, 'secure_media_embed': {}, 'link_flair_text': None, 'can_mod_post': False, 'score': 13, 'approved_by': None, 'is_created_from_ads_ui': False, 'author_premium': False, 'thumbnail': '', 'edited': False, 'author_flair_css_class': 'month1', 'author_flair_richtext': [], 'gildings': {}, 'content_categories': None, 'is_self': True, 'mod_note': None, 'created': 1653052324.0, 'link_flair_type': 'text', 'wls': 0, 'removed_by_category': None, 'banned_by': None, 'author_flair_type': 'text', 'domain': 'self.stopdrinking', 'allow_live_comments': False, 'selftext_html': '&lt;!-- SC_OFF --&gt;&lt;div class=\"md\"&gt;&lt;p&gt;Reading a bit. If alcohol was used to suppress anger before, can seem amplified in early stages of sobriety . Makes sense. Hopefully being aware will make sure short fuse stays in check.\\nIWNDWYT&lt;/p&gt;\\n&lt;/div&gt;&lt;!-- SC_ON --&gt;', 'likes': None, 'suggested_sort': None, 'banned_at_utc': None, 'view_count': None, 'archived': False, 'no_follow': False, 'is_crosspostable': False, 'pinned': False, 'over_18': False, 'all_awardings': [], 'awarders': [], 'media_only': False, 'can_gild': True, 'spoiler': False, 'locked': False, 'author_flair_text': '43 days', 'treatment_tags': [], 'visited': False, 'removed_by': None, 'num_reports': None, 'distinguished': None, 'subreddit_id': 't5_2s7yr', 'author_is_blocked': False, 'mod_reason_by': None, 'removal_reason': None, 'link_flair_background_color': '', 'id': 'utvfyk', 'is_robot_indexable': True, 'report_reasons': None, 'author': 'ghosrpepper99', 'discussion_type': None, 'num_comments': 4, 'send_replies': True, 'whitelist_status': 'no_ads', 'contest_mode': False, 'mod_reports': [], 'author_patreon_flair': False, 'author_flair_text_color': 'dark', 'permalink': '/r/stopdrinking/comments/utvfyk/day_43_new_symptom_anger/', 'parent_whitelist_status': 'no_ads', 'stickied': False, 'url': 'https://www.reddit.com/r/stopdrinking/comments/utvfyk/day_43_new_symptom_anger/', 'subreddit_subscribers': 360805, 'created_utc': 1653052324.0, 'num_crossposts': 0, 'media': None, 'is_video': False}}, {'kind': 't3', 'data': {'approved_at_utc': None, 'subreddit': 'stopdrinking', 'selftext': \"Been sober for 10 days. Had a dream about drinking last night and woke up immediately anxious and worrying about what I did or said last night, the shame of having blacked out. Went on for a full two minutes of wracking my brains to try and remember who I needed to apologise to, before I realised I'm sober, the birds are singing, Ive not got a hangover, and haven't drunk for ten days. For the first time in as long as I can remember, I feel good.\", 'author_fullname': 't2_lp5pf1so', 'saved': False, 'mod_reason_title': None, 'gilded': 0, 'clicked': False, 'title': 'Anyone else get \"phantom blackouts\"?', 'link_flair_richtext': [], 'subreddit_name_prefixed': 'r/stopdrinking', 'hidden': False, 'pwls': 0, 'link_flair_css_class': None, 'downs': 0, 'top_awarded_type': None, 'hide_score': False, 'name': 't3_utvag8', 'quarantine': False, 'link_flair_text_color': 'dark', 'upvote_ratio': 0.92, 'author_flair_background_color': None, 'subreddit_type': 'public', 'ups': 17, 'total_awards_received': 0, 'media_embed': {}, 'author_flair_template_id': None, 'is_original_content': False, 'user_reports': [], 'secure_media': None, 'is_reddit_media_domain': False, 'is_meta': False, 'category': None, 'secure_media_embed': {}, 'link_flair_text': None, 'can_mod_post': False, 'score': 17, 'approved_by': None, 'is_created_from_ads_ui': False, 'author_premium': False, 'thumbnail': '', 'edited': False, 'author_flair_css_class': None, 'author_flair_richtext': [], 'gildings': {}, 'content_categories': None, 'is_self': True, 'mod_note': None, 'created': 1653051989.0, 'link_flair_type': 'text', 'wls': 0, 'removed_by_category': None, 'banned_by': None, 'author_flair_type': 'text', 'domain': 'self.stopdrinking', 'allow_live_comments': False, 'selftext_html': '&lt;!-- SC_OFF --&gt;&lt;div class=\"md\"&gt;&lt;p&gt;Been sober for 10 days. Had a dream about drinking last night and woke up immediately anxious and worrying about what I did or said last night, the shame of having blacked out. Went on for a full two minutes of wracking my brains to try and remember who I needed to apologise to, before I realised I&amp;#39;m sober, the birds are singing, Ive not got a hangover, and haven&amp;#39;t drunk for ten days. For the first time in as long as I can remember, I feel good.&lt;/p&gt;\\n&lt;/div&gt;&lt;!-- SC_ON --&gt;', 'likes': None, 'suggested_sort': None, 'banned_at_utc': None, 'view_count': None, 'archived': False, 'no_follow': False, 'is_crosspostable': False, 'pinned': False, 'over_18': False, 'all_awardings': [], 'awarders': [], 'media_only': False, 'can_gild': True, 'spoiler': False, 'locked': False, 'author_flair_text': None, 'treatment_tags': [], 'visited': False, 'removed_by': None, 'num_reports': None, 'distinguished': None, 'subreddit_id': 't5_2s7yr', 'author_is_blocked': False, 'mod_reason_by': None, 'removal_reason': None, 'link_flair_background_color': '', 'id': 'utvag8', 'is_robot_indexable': True, 'report_reasons': None, 'author': 'amayonegg', 'discussion_type': None, 'num_comments': 5, 'send_replies': True, 'whitelist_status': 'no_ads', 'contest_mode': False, 'mod_reports': [], 'author_patreon_flair': False, 'author_flair_text_color': None, 'permalink': '/r/stopdrinking/comments/utvag8/anyone_else_get_phantom_blackouts/', 'parent_whitelist_status': 'no_ads', 'stickied': False, 'url': 'https://www.reddit.com/r/stopdrinking/comments/utvag8/anyone_else_get_phantom_blackouts/', 'subreddit_subscribers': 360805, 'created_utc': 1653051989.0, 'num_crossposts': 0, 'media': None, 'is_video': False}}, {'kind': 't3', 'data': {'approved_at_utc': None, 'subreddit': 'stopdrinking', 'selftext': 'May 20, 2022.\\n Good morning. \\n Our keynote is “Persistence“.\\n The Thought for the Day tells us that being of service is one of the finest experiences one can have and will make us feel better.\\n I love and need time when my phone is uncharacteristically quiet and I have time to just to be alone with my wife, my cats and myself.\\n But often my precious respite is interrupted by a call from, or regarding, someone in need of support and help. My selfishness tells me that I need and deserve my rest and someone else can help this one. \\n However, by the grace of God, I usually behave better than I feel and think. Rather than curling back into my own comfort, I respond by saying something like, “I’m glad you called. What can I do to be helpful?“.\\n Then a miracle happens. My selfish reluctance is replaced by an energy,  joy and love far superior to enjoying my “me time”.\\n From my experience, I can affirm that today’s reading states truth.\\n It works. It really does!\\nThe joy which flows from having sacrificed what I want to do in order to seek to be helpful to another human being is unsurpassed.\\n It is The Magic! \\n I love you all.', 'author_fullname': 't2_o5279', 'saved': False, 'mod_reason_title': None, 'gilded': 0, 'clicked': False, 'title': 'TGIF Meditation', 'link_flair_richtext': [], 'subreddit_name_prefixed': 'r/stopdrinking', 'hidden': False, 'pwls': 0, 'link_flair_css_class': None, 'downs': 0, 'top_awarded_type': None, 'hide_score': False, 'name': 't3_utuvfr', 'quarantine': False, 'link_flair_text_color': 'dark', 'upvote_ratio': 1.0, 'author_flair_background_color': None, 'subreddit_type': 'public', 'ups': 9, 'total_awards_received': 0, 'media_embed': {}, 'author_flair_template_id': 'f7eec2ca-6c34-11e9-b4d8-0e7ea67a6ce4', 'is_original_content': False, 'user_reports': [], 'secure_media': None, 'is_reddit_media_domain': False, 'is_meta': False, 'category': None, 'secure_media_embed': {}, 'link_flair_text': None, 'can_mod_post': False, 'score': 9, 'approved_by': None, 'is_created_from_ads_ui': False, 'author_premium': False, 'thumbnail': '', 'edited': False, 'author_flair_css_class': 'year1', 'author_flair_richtext': [], 'gildings': {}, 'content_categories': None, 'is_self': True, 'mod_note': None, 'created': 1653051109.0, 'link_flair_type': 'text', 'wls': 0, 'removed_by_category': None, 'banned_by': None, 'author_flair_type': 'text', 'domain': 'self.stopdrinking', 'allow_live_comments': False, 'selftext_html': '&lt;!-- SC_OFF --&gt;&lt;div class=\"md\"&gt;&lt;p&gt;May 20, 2022.\\n Good morning. \\n Our keynote is “Persistence“.\\n The Thought for the Day tells us that being of service is one of the finest experiences one can have and will make us feel better.\\n I love and need time when my phone is uncharacteristically quiet and I have time to just to be alone with my wife, my cats and myself.\\n But often my precious respite is interrupted by a call from, or regarding, someone in need of support and help. My selfishness tells me that I need and deserve my rest and someone else can help this one. \\n However, by the grace of God, I usually behave better than I feel and think. Rather than curling back into my own comfort, I respond by saying something like, “I’m glad you called. What can I do to be helpful?“.\\n Then a miracle happens. My selfish reluctance is replaced by an energy,  joy and love far superior to enjoying my “me time”.\\n From my experience, I can affirm that today’s reading states truth.\\n It works. It really does!\\nThe joy which flows from having sacrificed what I want to do in order to seek to be helpful to another human being is unsurpassed.\\n It is The Magic! \\n I love you all.&lt;/p&gt;\\n&lt;/div&gt;&lt;!-- SC_ON --&gt;', 'likes': None, 'suggested_sort': None, 'banned_at_utc': None, 'view_count': None, 'archived': False, 'no_follow': False, 'is_crosspostable': False, 'pinned': False, 'over_18': False, 'all_awardings': [], 'awarders': [], 'media_only': False, 'can_gild': True, 'spoiler': False, 'locked': False, 'author_flair_text': '1362 days', 'treatment_tags': [], 'visited': False, 'removed_by': None, 'num_reports': None, 'distinguished': None, 'subreddit_id': 't5_2s7yr', 'author_is_blocked': False, 'mod_reason_by': None, 'removal_reason': None, 'link_flair_background_color': '', 'id': 'utuvfr', 'is_robot_indexable': True, 'report_reasons': None, 'author': 'ashbyjoseph', 'discussion_type': None, 'num_comments': 0, 'send_replies': True, 'whitelist_status': 'no_ads', 'contest_mode': False, 'mod_reports': [], 'author_patreon_flair': False, 'author_flair_text_color': 'dark', 'permalink': '/r/stopdrinking/comments/utuvfr/tgif_meditation/', 'parent_whitelist_status': 'no_ads', 'stickied': False, 'url': 'https://www.reddit.com/r/stopdrinking/comments/utuvfr/tgif_meditation/', 'subreddit_subscribers': 360805, 'created_utc': 1653051109.0, 'num_crossposts': 0, 'media': None, 'is_video': False}}, {'kind': 't3', 'data': {'approved_at_utc': None, 'subreddit': 'stopdrinking', 'selftext': 'Hey y’all. I recently listened to a podcast with Steve-o. He was talking about how he is grateful that his alcoholism is so severe that he truly had to give up control and rely on a higher power. He said he thinks it would be harder to be someone with a milder case, where it’s obviously a problem, but not bad enough to where your whole life is falling apart.\\n\\nI really resonate with this and feel like that’s where I’m at. I’ve had some bad shit happen because of my drinking, but I haven’t lost my job or had anything drastic happen. Do you think this makes it harder to quit? Because lately, I’ve only been able to make it 3-4 days and then I end up drinking again.', 'author_fullname': 't2_6lfso4iu', 'saved': False, 'mod_reason_title': None, 'gilded': 0, 'clicked': False, 'title': '“Mild” alcoholism? Is that a thing?', 'link_flair_richtext': [], 'subreddit_name_prefixed': 'r/stopdrinking', 'hidden': False, 'pwls': 0, 'link_flair_css_class': None, 'downs': 0, 'top_awarded_type': None, 'hide_score': False, 'name': 't3_utumxy', 'quarantine': False, 'link_flair_text_color': 'dark', 'upvote_ratio': 1.0, 'author_flair_background_color': '', 'subreddit_type': 'public', 'ups': 116, 'total_awards_received': 2, 'media_embed': {}, 'author_flair_template_id': None, 'is_original_content': False, 'user_reports': [], 'secure_media': None, 'is_reddit_media_domain': False, 'is_meta': False, 'category': None, 'secure_media_embed': {}, 'link_flair_text': None, 'can_mod_post': False, 'score': 116, 'approved_by': None, 'is_created_from_ads_ui': False, 'author_premium': False, 'thumbnail': '', 'edited': False, 'author_flair_css_class': 'week1', 'author_flair_richtext': [], 'gildings': {'gid_1': 1}, 'content_categories': None, 'is_self': True, 'mod_note': None, 'created': 1653050585.0, 'link_flair_type': 'text', 'wls': 0, 'removed_by_category': None, 'banned_by': None, 'author_flair_type': 'text', 'domain': 'self.stopdrinking', 'allow_live_comments': False, 'selftext_html': '&lt;!-- SC_OFF --&gt;&lt;div class=\"md\"&gt;&lt;p&gt;Hey y’all. I recently listened to a podcast with Steve-o. He was talking about how he is grateful that his alcoholism is so severe that he truly had to give up control and rely on a higher power. He said he thinks it would be harder to be someone with a milder case, where it’s obviously a problem, but not bad enough to where your whole life is falling apart.&lt;/p&gt;\\n\\n&lt;p&gt;I really resonate with this and feel like that’s where I’m at. I’ve had some bad shit happen because of my drinking, but I haven’t lost my job or had anything drastic happen. Do you think this makes it harder to quit? Because lately, I’ve only been able to make it 3-4 days and then I end up drinking again.&lt;/p&gt;\\n&lt;/div&gt;&lt;!-- SC_ON --&gt;', 'likes': None, 'suggested_sort': None, 'banned_at_utc': None, 'view_count': None, 'archived': False, 'no_follow': False, 'is_crosspostable': False, 'pinned': False, 'over_18': False, 'all_awardings': [{'giver_coin_reward': None, 'subreddit_id': None, 'is_new': False, 'days_of_drip_extension': None, 'coin_price': 100, 'id': 'gid_1', 'penny_donate': None, 'award_sub_type': 'GLOBAL', 'coin_reward': 0, 'icon_url': 'https://www.redditstatic.com/gold/awards/icon/silver_512.png', 'days_of_premium': None, 'tiers_by_required_awardings': None, 'resized_icons': [{'url': 'https://www.redditstatic.com/gold/awards/icon/silver_16.png', 'width': 16, 'height': 16}, {'url': 'https://www.redditstatic.com/gold/awards/icon/silver_32.png', 'width': 32, 'height': 32}, {'url': 'https://www.redditstatic.com/gold/awards/icon/silver_48.png', 'width': 48, 'height': 48}, {'url': 'https://www.redditstatic.com/gold/awards/icon/silver_64.png', 'width': 64, 'height': 64}, {'url': 'https://www.redditstatic.com/gold/awards/icon/silver_128.png', 'width': 128, 'height': 128}], 'icon_width': 512, 'static_icon_width': 512, 'start_date': None, 'is_enabled': True, 'awardings_required_to_grant_benefits': None, 'description': \"Shows the Silver Award... and that's it.\", 'end_date': None, 'subreddit_coin_reward': 0, 'count': 1, 'static_icon_height': 512, 'name': 'Silver', 'resized_static_icons': [{'url': 'https://www.redditstatic.com/gold/awards/icon/silver_16.png', 'width': 16, 'height': 16}, {'url': 'https://www.redditstatic.com/gold/awards/icon/silver_32.png', 'width': 32, 'height': 32}, {'url': 'https://www.redditstatic.com/gold/awards/icon/silver_48.png', 'width': 48, 'height': 48}, {'url': 'https://www.redditstatic.com/gold/awards/icon/silver_64.png', 'width': 64, 'height': 64}, {'url': 'https://www.redditstatic.com/gold/awards/icon/silver_128.png', 'width': 128, 'height': 128}], 'icon_format': None, 'icon_height': 512, 'penny_price': None, 'award_type': 'global', 'static_icon_url': 'https://www.redditstatic.com/gold/awards/icon/silver_512.png'}, {'giver_coin_reward': None, 'subreddit_id': None, 'is_new': False, 'days_of_drip_extension': None, 'coin_price': 150, 'id': 'award_f44611f1-b89e-46dc-97fe-892280b13b82', 'penny_donate': None, 'award_sub_type': 'GLOBAL', 'coin_reward': 0, 'icon_url': 'https://i.redd.it/award_images/t5_22cerq/klvxk1wggfd41_Helpful.png', 'days_of_premium': None, 'tiers_by_required_awardings': None, 'resized_icons': [{'url': 'https://preview.redd.it/award_images/t5_22cerq/klvxk1wggfd41_Helpful.png?width=16&amp;height=16&amp;auto=webp&amp;s=a5662dfbdb402bf67866c050aa76c31c147c2f45', 'width': 16, 'height': 16}, {'url': 'https://preview.redd.it/award_images/t5_22cerq/klvxk1wggfd41_Helpful.png?width=32&amp;height=32&amp;auto=webp&amp;s=a6882eb3f380e8e88009789f4d0072e17b8c59f1', 'width': 32, 'height': 32}, {'url': 'https://preview.redd.it/award_images/t5_22cerq/klvxk1wggfd41_Helpful.png?width=48&amp;height=48&amp;auto=webp&amp;s=e50064b090879e8a0b55e433f6ee61d5cb5fbe1d', 'width': 48, 'height': 48}, {'url': 'https://preview.redd.it/award_images/t5_22cerq/klvxk1wggfd41_Helpful.png?width=64&amp;height=64&amp;auto=webp&amp;s=8e5bb2e76683cb6b161830bcdd9642049d6adc11', 'width': 64, 'height': 64}, {'url': 'https://preview.redd.it/award_images/t5_22cerq/klvxk1wggfd41_Helpful.png?width=128&amp;height=128&amp;auto=webp&amp;s=eda4a9246f95f42ee6940cc0ec65306fd20de878', 'width': 128, 'height': 128}], 'icon_width': 2048, 'static_icon_width': 2048, 'start_date': None, 'is_enabled': True, 'awardings_required_to_grant_benefits': None, 'description': 'Thank you stranger. Shows the award.', 'end_date': None, 'subreddit_coin_reward': 0, 'count': 1, 'static_icon_height': 2048, 'name': 'Helpful', 'resized_static_icons': [{'url': 'https://preview.redd.it/award_images/t5_22cerq/klvxk1wggfd41_Helpful.png?width=16&amp;height=16&amp;auto=webp&amp;s=a5662dfbdb402bf67866c050aa76c31c147c2f45', 'width': 16, 'height': 16}, {'url': 'https://preview.redd.it/award_images/t5_22cerq/klvxk1wggfd41_Helpful.png?width=32&amp;height=32&amp;auto=webp&amp;s=a6882eb3f380e8e88009789f4d0072e17b8c59f1', 'width': 32, 'height': 32}, {'url': 'https://preview.redd.it/award_images/t5_22cerq/klvxk1wggfd41_Helpful.png?width=48&amp;height=48&amp;auto=webp&amp;s=e50064b090879e8a0b55e433f6ee61d5cb5fbe1d', 'width': 48, 'height': 48}, {'url': 'https://preview.redd.it/award_images/t5_22cerq/klvxk1wggfd41_Helpful.png?width=64&amp;height=64&amp;auto=webp&amp;s=8e5bb2e76683cb6b161830bcdd9642049d6adc11', 'width': 64, 'height': 64}, {'url': 'https://preview.redd.it/award_images/t5_22cerq/klvxk1wggfd41_Helpful.png?width=128&amp;height=128&amp;auto=webp&amp;s=eda4a9246f95f42ee6940cc0ec65306fd20de878', 'width': 128, 'height': 128}], 'icon_format': None, 'icon_height': 2048, 'penny_price': None, 'award_type': 'global', 'static_icon_url': 'https://i.redd.it/award_images/t5_22cerq/klvxk1wggfd41_Helpful.png'}], 'awarders': [], 'media_only': False, 'can_gild': True, 'spoiler': False, 'locked': False, 'author_flair_text': '12 days', 'treatment_tags': [], 'visited': False, 'removed_by': None, 'num_reports': None, 'distinguished': None, 'subreddit_id': 't5_2s7yr', 'author_is_blocked': False, 'mod_reason_by': None, 'removal_reason': None, 'link_flair_background_color': '', 'id': 'utumxy', 'is_robot_indexable': True, 'report_reasons': None, 'author': 'maudebee', 'discussion_type': None, 'num_comments': 75, 'send_replies': True, 'whitelist_status': 'no_ads', 'contest_mode': False, 'mod_reports': [], 'author_patreon_flair': False, 'author_flair_text_color': 'dark', 'permalink': '/r/stopdrinking/comments/utumxy/mild_alcoholism_is_that_a_thing/', 'parent_whitelist_status': 'no_ads', 'stickied': False, 'url': 'https://www.reddit.com/r/stopdrinking/comments/utumxy/mild_alcoholism_is_that_a_thing/', 'subreddit_subscribers': 360805, 'created_utc': 1653050585.0, 'num_crossposts': 0, 'media': None, 'is_video': False}}, {'kind': 't3', 'data': {'approved_at_utc': None, 'subreddit': 'stopdrinking', 'selftext': \"Last night I got really drunk after a hard week, spent an insane amount of money then ended up verbally abusing and threatening an innocent stranger. I woke up a couple hours ago and remembered everything I did. \\n\\nI didn't know I could be so wicked. I'm usually a happy drunk but this was just different. I unleashed all of my pent up stress in the worst way possible. I crossed a huge line. I'm done with alcohol. I don't even want to think about drinking anymore. I'm not hungover at all, I'm still a little drunk actually. But I am psychologically scarred by my actions.\\n\\nI've been glancing over this subreddit for a few months and thought you were all ridiculous but now I'm ready to join. I'm going sober.\", 'author_fullname': 't2_6x128f6o', 'saved': False, 'mod_reason_title': None, 'gilded': 0, 'clicked': False, 'title': 'I crossed a line and now have no desire to drink', 'link_flair_richtext': [], 'subreddit_name_prefixed': 'r/stopdrinking', 'hidden': False, 'pwls': 0, 'link_flair_css_class': None, 'downs': 0, 'top_awarded_type': None, 'hide_score': False, 'name': 't3_utumer', 'quarantine': False, 'link_flair_text_color': 'dark', 'upvote_ratio': 0.9, 'author_flair_background_color': None, 'subreddit_type': 'public', 'ups': 7, 'total_awards_received': 0, 'media_embed': {}, 'author_flair_template_id': 'faf59352-6c36-11e9-bb53-0ea8f391a97e', 'is_original_content': False, 'user_reports': [], 'secure_media': None, 'is_reddit_media_domain': False, 'is_meta': False, 'category': None, 'secure_media_embed': {}, 'link_flair_text': None, 'can_mod_post': False, 'score': 7, 'approved_by': None, 'is_created_from_ads_ui': False, 'author_premium': False, 'thumbnail': '', 'edited': False, 'author_flair_css_class': 'under1', 'author_flair_richtext': [], 'gildings': {}, 'content_categories': None, 'is_self': True, 'mod_note': None, 'created': 1653050552.0, 'link_flair_type': 'text', 'wls': 0, 'removed_by_category': None, 'banned_by': None, 'author_flair_type': 'text', 'domain': 'self.stopdrinking', 'allow_live_comments': False, 'selftext_html': '&lt;!-- SC_OFF --&gt;&lt;div class=\"md\"&gt;&lt;p&gt;Last night I got really drunk after a hard week, spent an insane amount of money then ended up verbally abusing and threatening an innocent stranger. I woke up a couple hours ago and remembered everything I did. &lt;/p&gt;\\n\\n&lt;p&gt;I didn&amp;#39;t know I could be so wicked. I&amp;#39;m usually a happy drunk but this was just different. I unleashed all of my pent up stress in the worst way possible. I crossed a huge line. I&amp;#39;m done with alcohol. I don&amp;#39;t even want to think about drinking anymore. I&amp;#39;m not hungover at all, I&amp;#39;m still a little drunk actually. But I am psychologically scarred by my actions.&lt;/p&gt;\\n\\n&lt;p&gt;I&amp;#39;ve been glancing over this subreddit for a few months and thought you were all ridiculous but now I&amp;#39;m ready to join. I&amp;#39;m going sober.&lt;/p&gt;\\n&lt;/div&gt;&lt;!-- SC_ON --&gt;', 'likes': None, 'suggested_sort': None, 'banned_at_utc': None, 'view_count': None, 'archived': False, 'no_follow': False, 'is_crosspostable': False, 'pinned': False, 'over_18': False, 'all_awardings': [], 'awarders': [], 'media_only': False, 'can_gild': True, 'spoiler': False, 'locked': False, 'author_flair_text': '1 day', 'treatment_tags': [], 'visited': False, 'removed_by': None, 'num_reports': None, 'distinguished': None, 'subreddit_id': 't5_2s7yr', 'author_is_blocked': False, 'mod_reason_by': None, 'removal_reason': None, 'link_flair_background_color': '', 'id': 'utumer', 'is_robot_indexable': True, 'report_reasons': None, 'author': 'thesideaccount921', 'discussion_type': None, 'num_comments': 1, 'send_replies': True, 'whitelist_status': 'no_ads', 'contest_mode': False, 'mod_reports': [], 'author_patreon_flair': False, 'author_flair_text_color': 'dark', 'permalink': '/r/stopdrinking/comments/utumer/i_crossed_a_line_and_now_have_no_desire_to_drink/', 'parent_whitelist_status': 'no_ads', 'stickied': False, 'url': 'https://www.reddit.com/r/stopdrinking/comments/utumer/i_crossed_a_line_and_now_have_no_desire_to_drink/', 'subreddit_subscribers': 360805, 'created_utc': 1653050552.0, 'num_crossposts': 0, 'media': None, 'is_video': False}}, {'kind': 't3', 'data': {'approved_at_utc': None, 'subreddit': 'stopdrinking', 'selftext': 'I am coming up to 21 months sober and just wanted to give a little message of encouragement for those struggling. This wasn’t the first time I tried quitting, I had tried to quit drinking over a dozen times before but always ended up going back to it. One day I confided in a friend (not many people knew of my problem) and we ended up having a huge heart to heart. After she shared her same struggles with me about becoming sober, she advised me to do the following (I appreciate some or all of the points below won’t work for everyone, but I thought it would be worth sharing just incase): \\n\\n- Pick a date to quit drinking and put it in the diary. This helped me as I always had the mentality of “I will stop tomorrow” and never did. \\n\\n- Take one week off work so you can focus and change routine. The routine part was so important because I would always get alcohol on the way home from work. This is especially important during the first week because cravings are the strongest. \\n\\n- Clean your entire living space in readiness; change bedsheets, get blankets out, clear out the fridge etc. Everything that will make you feel cosy and comfortable. \\n\\n- Stock up on healthy nutritious food that will help repair your body and provide vitamins. Also vitamin supplements are good if you’re lacking in anything. \\n\\n- Have a supply of things to do that will help your mind. I went and bought some colouring books, games, notebooks. Keeping a journal is also really good so you can write how you’re feeling etc. Also simple things like films, books, Netflix etc help so much. \\n\\n- Understand you might not get much sleep at first and that’s okay. My friend made this point clear as it’s something a lot of people struggle with that causes them to go back to alcohol. I actually ended up going to the doctors because of this who prescribed sleeping medication. My sleep still isn’t perfect 21 months later but it’s getting there! \\n\\n- Avoid social situations where alcohol is present. Do things (if you’re up to it) that would not involve drinking like walks etc. \\n\\n- Speak to your doctor if you are worried about withdrawal symptoms or lack of sleep etc. \\n\\n- See this as a new chapter of your life and try to get excited about it, self encouragement has such a strong influence. \\n\\nI decided my date was 07th September and on the week before I prepared for it with all the things above. On 06th September 2020 I had my last bottle of wine and I haven’t looked back since. \\n\\nI just wanted to share this with you as it was the only advice that actually helped me and got me to where I am today. I rarely even think about alcohol now, it doesn’t even feel like an option when I go out. I never ever thought I would get to that point but I have and I just wanted you to know it’s possible. \\n\\nGood luck, you have got this ❤️', 'author_fullname': 't2_9pz2kv1i', 'saved': False, 'mod_reason_title': None, 'gilded': 0, 'clicked': False, 'title': 'Some useful advice that helped me', 'link_flair_richtext': [], 'subreddit_name_prefixed': 'r/stopdrinking', 'hidden': False, 'pwls': 0, 'link_flair_css_class': None, 'downs': 0, 'top_awarded_type': None, 'hide_score': False, 'name': 't3_utu95v', 'quarantine': False, 'link_flair_text_color': 'dark', 'upvote_ratio': 1.0, 'author_flair_background_color': None, 'subreddit_type': 'public', 'ups': 15, 'total_awards_received': 0, 'media_embed': {}, 'author_flair_template_id': None, 'is_original_content': False, 'user_reports': [], 'secure_media': None, 'is_reddit_media_domain': False, 'is_meta': False, 'category': None, 'secure_media_embed': {}, 'link_flair_text': None, 'can_mod_post': False, 'score': 15, 'approved_by': None, 'is_created_from_ads_ui': False, 'author_premium': False, 'thumbnail': '', 'edited': 1653050869.0, 'author_flair_css_class': None, 'author_flair_richtext': [], 'gildings': {}, 'content_categories': None, 'is_self': True, 'mod_note': None, 'created': 1653049726.0, 'link_flair_type': 'text', 'wls': 0, 'removed_by_category': None, 'banned_by': None, 'author_flair_type': 'text', 'domain': 'self.stopdrinking', 'allow_live_comments': False, 'selftext_html': '&lt;!-- SC_OFF --&gt;&lt;div class=\"md\"&gt;&lt;p&gt;I am coming up to 21 months sober and just wanted to give a little message of encouragement for those struggling. This wasn’t the first time I tried quitting, I had tried to quit drinking over a dozen times before but always ended up going back to it. One day I confided in a friend (not many people knew of my problem) and we ended up having a huge heart to heart. After she shared her same struggles with me about becoming sober, she advised me to do the following (I appreciate some or all of the points below won’t work for everyone, but I thought it would be worth sharing just incase): &lt;/p&gt;\\n\\n&lt;ul&gt;\\n&lt;li&gt;&lt;p&gt;Pick a date to quit drinking and put it in the diary. This helped me as I always had the mentality of “I will stop tomorrow” and never did. &lt;/p&gt;&lt;/li&gt;\\n&lt;li&gt;&lt;p&gt;Take one week off work so you can focus and change routine. The routine part was so important because I would always get alcohol on the way home from work. This is especially important during the first week because cravings are the strongest. &lt;/p&gt;&lt;/li&gt;\\n&lt;li&gt;&lt;p&gt;Clean your entire living space in readiness; change bedsheets, get blankets out, clear out the fridge etc. Everything that will make you feel cosy and comfortable. &lt;/p&gt;&lt;/li&gt;\\n&lt;li&gt;&lt;p&gt;Stock up on healthy nutritious food that will help repair your body and provide vitamins. Also vitamin supplements are good if you’re lacking in anything. &lt;/p&gt;&lt;/li&gt;\\n&lt;li&gt;&lt;p&gt;Have a supply of things to do that will help your mind. I went and bought some colouring books, games, notebooks. Keeping a journal is also really good so you can write how you’re feeling etc. Also simple things like films, books, Netflix etc help so much. &lt;/p&gt;&lt;/li&gt;\\n&lt;li&gt;&lt;p&gt;Understand you might not get much sleep at first and that’s okay. My friend made this point clear as it’s something a lot of people struggle with that causes them to go back to alcohol. I actually ended up going to the doctors because of this who prescribed sleeping medication. My sleep still isn’t perfect 21 months later but it’s getting there! &lt;/p&gt;&lt;/li&gt;\\n&lt;li&gt;&lt;p&gt;Avoid social situations where alcohol is present. Do things (if you’re up to it) that would not involve drinking like walks etc. &lt;/p&gt;&lt;/li&gt;\\n&lt;li&gt;&lt;p&gt;Speak to your doctor if you are worried about withdrawal symptoms or lack of sleep etc. &lt;/p&gt;&lt;/li&gt;\\n&lt;li&gt;&lt;p&gt;See this as a new chapter of your life and try to get excited about it, self encouragement has such a strong influence. &lt;/p&gt;&lt;/li&gt;\\n&lt;/ul&gt;\\n\\n&lt;p&gt;I decided my date was 07th September and on the week before I prepared for it with all the things above. On 06th September 2020 I had my last bottle of wine and I haven’t looked back since. &lt;/p&gt;\\n\\n&lt;p&gt;I just wanted to share this with you as it was the only advice that actually helped me and got me to where I am today. I rarely even think about alcohol now, it doesn’t even feel like an option when I go out. I never ever thought I would get to that point but I have and I just wanted you to know it’s possible. &lt;/p&gt;\\n\\n&lt;p&gt;Good luck, you have got this ❤️&lt;/p&gt;\\n&lt;/div&gt;&lt;!-- SC_ON --&gt;', 'likes': None, 'suggested_sort': None, 'banned_at_utc': None, 'view_count': None, 'archived': False, 'no_follow': False, 'is_crosspostable': False, 'pinned': False, 'over_18': False, 'all_awardings': [], 'awarders': [], 'media_only': False, 'can_gild': True, 'spoiler': False, 'locked': False, 'author_flair_text': None, 'treatment_tags': [], 'visited': False, 'removed_by': None, 'num_reports': None, 'distinguished': None, 'subreddit_id': 't5_2s7yr', 'author_is_blocked': False, 'mod_reason_by': None, 'removal_reason': None, 'link_flair_background_color': '', 'id': 'utu95v', 'is_robot_indexable': True, 'report_reasons': None, 'author': 'Chick0596', 'discussion_type': None, 'num_comments': 2, 'send_replies': True, 'whitelist_status': 'no_ads', 'contest_mode': False, 'mod_reports': [], 'author_patreon_flair': False, 'author_flair_text_color': None, 'permalink': '/r/stopdrinking/comments/utu95v/some_useful_advice_that_helped_me/', 'parent_whitelist_status': 'no_ads', 'stickied': False, 'url': 'https://www.reddit.com/r/stopdrinking/comments/utu95v/some_useful_advice_that_helped_me/', 'subreddit_subscribers': 360805, 'created_utc': 1653049726.0, 'num_crossposts': 0, 'media': None, 'is_video': False}}, {'kind': 't3', 'data': {'approved_at_utc': None, 'subreddit': 'stopdrinking', 'selftext': \"Yard work is a trigger for me.  I always liked to mow the lawn or plant something and then have a beer and look at the fruits of my labor.  \\n\\nI also associate it with doing nothing for my family.  That may sound harsh, but my problem is not being able to relax and just stay in one spot.  So a glass of wine is associated with doing absolutely nothing else.  I really hate that I bought into that Mommy/WineTime thing even though I never said it.  \\n\\nI also want to bring up that healthcare providers can be obsessed with getting enough sleep.  I'm a nurse and I work 12 hour shifts, sometimes for days on end.  That temptation to have a beer before bed, to have a glass of wine on my day off in order to help me into a nap, it's real.  Trying to sleep when you are uptight about getting enough sleep sucks.   \\n\\nI know these triggers are not unique, really, but they are tweaked into their own strangeness thanks to my life circumstances.  \\n\\nWhat triggers you?\", 'author_fullname': 't2_c40bpbx', 'saved': False, 'mod_reason_title': None, 'gilded': 0, 'clicked': False, 'title': 'What triggers you?', 'link_flair_richtext': [], 'subreddit_name_prefixed': 'r/stopdrinking', 'hidden': False, 'pwls': 0, 'link_flair_css_class': None, 'downs': 0, 'top_awarded_type': None, 'hide_score': False, 'name': 't3_utu65p', 'quarantine': False, 'link_flair_text_color': 'dark', 'upvote_ratio': 0.94, 'author_flair_background_color': '', 'subreddit_type': 'public', 'ups': 13, 'total_awards_received': 0, 'media_embed': {}, 'author_flair_template_id': None, 'is_original_content': False, 'user_reports': [], 'secure_media': None, 'is_reddit_media_domain': False, 'is_meta': False, 'category': None, 'secure_media_embed': {}, 'link_flair_text': None, 'can_mod_post': False, 'score': 13, 'approved_by': None, 'is_created_from_ads_ui': False, 'author_premium': False, 'thumbnail': '', 'edited': False, 'author_flair_css_class': 'week1', 'author_flair_richtext': [], 'gildings': {}, 'content_categories': None, 'is_self': True, 'mod_note': None, 'created': 1653049541.0, 'link_flair_type': 'text', 'wls': 0, 'removed_by_category': None, 'banned_by': None, 'author_flair_type': 'text', 'domain': 'self.stopdrinking', 'allow_live_comments': False, 'selftext_html': '&lt;!-- SC_OFF --&gt;&lt;div class=\"md\"&gt;&lt;p&gt;Yard work is a trigger for me.  I always liked to mow the lawn or plant something and then have a beer and look at the fruits of my labor.  &lt;/p&gt;\\n\\n&lt;p&gt;I also associate it with doing nothing for my family.  That may sound harsh, but my problem is not being able to relax and just stay in one spot.  So a glass of wine is associated with doing absolutely nothing else.  I really hate that I bought into that Mommy/WineTime thing even though I never said it.  &lt;/p&gt;\\n\\n&lt;p&gt;I also want to bring up that healthcare providers can be obsessed with getting enough sleep.  I&amp;#39;m a nurse and I work 12 hour shifts, sometimes for days on end.  That temptation to have a beer before bed, to have a glass of wine on my day off in order to help me into a nap, it&amp;#39;s real.  Trying to sleep when you are uptight about getting enough sleep sucks.   &lt;/p&gt;\\n\\n&lt;p&gt;I know these triggers are not unique, really, but they are tweaked into their own strangeness thanks to my life circumstances.  &lt;/p&gt;\\n\\n&lt;p&gt;What triggers you?&lt;/p&gt;\\n&lt;/div&gt;&lt;!-- SC_ON --&gt;', 'likes': None, 'suggested_sort': None, 'banned_at_utc': None, 'view_count': None, 'archived': False, 'no_follow': False, 'is_crosspostable': False, 'pinned': False, 'over_18': False, 'all_awardings': [], 'awarders': [], 'media_only': False, 'can_gild': True, 'spoiler': False, 'locked': False, 'author_flair_text': '10 days', 'treatment_tags': [], 'visited': False, 'removed_by': None, 'num_reports': None, 'distinguished': None, 'subreddit_id': 't5_2s7yr', 'author_is_blocked': False, 'mod_reason_by': None, 'removal_reason': None, 'link_flair_background_color': '', 'id': 'utu65p', 'is_robot_indexable': True, 'report_reasons': None, 'author': 'memymomonkey', 'discussion_type': None, 'num_comments': 13, 'send_replies': True, 'whitelist_status': 'no_ads', 'contest_mode': False, 'mod_reports': [], 'author_patreon_flair': False, 'author_flair_text_color': 'dark', 'permalink': '/r/stopdrinking/comments/utu65p/what_triggers_you/', 'parent_whitelist_status': 'no_ads', 'stickied': False, 'url': 'https://www.reddit.com/r/stopdrinking/comments/utu65p/what_triggers_you/', 'subreddit_subscribers': 360805, 'created_utc': 1653049541.0, 'num_crossposts': 0, 'media': None, 'is_video': False}}, {'kind': 't3', 'data': {'approved_at_utc': None, 'subreddit': 'stopdrinking', 'selftext': 'And I’m always so miserable and ashamed and disappointed in myself afterwards in the dream. Last night I had a dream that I drank two days in a row, and I was just laying in bed at 3am so anxious and so angry at myself, feeling like absolute garbage. Thankfully I woke up ☺️ \\n\\nHope everyone has a lovely weekend, wherever you are in your journey! Seriously so grateful for everyone here.', 'author_fullname': 't2_5fxcr2ms', 'saved': False, 'mod_reason_title': None, 'gilded': 0, 'clicked': False, 'title': 'Been having so many dreams where I drink', 'link_flair_richtext': [], 'subreddit_name_prefixed': 'r/stopdrinking', 'hidden': False, 'pwls': 0, 'link_flair_css_class': None, 'downs': 0, 'top_awarded_type': None, 'hide_score': False, 'name': 't3_utu4a1', 'quarantine': False, 'link_flair_text_color': 'dark', 'upvote_ratio': 1.0, 'author_flair_background_color': None, 'subreddit_type': 'public', 'ups': 4, 'total_awards_received': 0, 'media_embed': {}, 'author_flair_template_id': '6b6c6558-6c36-11e9-ae66-0efa5eb799fc', 'is_original_content': False, 'user_reports': [], 'secure_media': None, 'is_reddit_media_domain': False, 'is_meta': False, 'category': None, 'secure_media_embed': {}, 'link_flair_text': None, 'can_mod_post': False, 'score': 4, 'approved_by': None, 'is_created_from_ads_ui': False, 'author_premium': False, 'thumbnail': '', 'edited': False, 'author_flair_css_class': 'month4', 'author_flair_richtext': [], 'gildings': {}, 'content_categories': None, 'is_self': True, 'mod_note': None, 'created': 1653049426.0, 'link_flair_type': 'text', 'wls': 0, 'removed_by_category': None, 'banned_by': None, 'author_flair_type': 'text', 'domain': 'self.stopdrinking', 'allow_live_comments': False, 'selftext_html': '&lt;!-- SC_OFF --&gt;&lt;div class=\"md\"&gt;&lt;p&gt;And I’m always so miserable and ashamed and disappointed in myself afterwards in the dream. Last night I had a dream that I drank two days in a row, and I was just laying in bed at 3am so anxious and so angry at myself, feeling like absolute garbage. Thankfully I woke up ☺️ &lt;/p&gt;\\n\\n&lt;p&gt;Hope everyone has a lovely weekend, wherever you are in your journey! Seriously so grateful for everyone here.&lt;/p&gt;\\n&lt;/div&gt;&lt;!-- SC_ON --&gt;', 'likes': None, 'suggested_sort': None, 'banned_at_utc': None, 'view_count': None, 'archived': False, 'no_follow': False, 'is_crosspostable': False, 'pinned': False, 'over_18': False, 'all_awardings': [], 'awarders': [], 'media_only': False, 'can_gild': True, 'spoiler': False, 'locked': False, 'author_flair_text': '136 days', 'treatment_tags': [], 'visited': False, 'removed_by': None, 'num_reports': None, 'distinguished': None, 'subreddit_id': 't5_2s7yr', 'author_is_blocked': False, 'mod_reason_by': None, 'removal_reason': None, 'link_flair_background_color': '', 'id': 'utu4a1', 'is_robot_indexable': True, 'report_reasons': None, 'author': 'vagina-lettucetomato', 'discussion_type': None, 'num_comments': 3, 'send_replies': True, 'whitelist_status': 'no_ads', 'contest_mode': False, 'mod_reports': [], 'author_patreon_flair': False, 'author_flair_text_color': 'dark', 'permalink': '/r/stopdrinking/comments/utu4a1/been_having_so_many_dreams_where_i_drink/', 'parent_whitelist_status': 'no_ads', 'stickied': False, 'url': 'https://www.reddit.com/r/stopdrinking/comments/utu4a1/been_having_so_many_dreams_where_i_drink/', 'subreddit_subscribers': 360805, 'created_utc': 1653049426.0, 'num_crossposts': 0, 'media': None, 'is_video': False}}, {'kind': 't3', 'data': {'approved_at_utc': None, 'subreddit': 'stopdrinking', 'selftext': \"I suspect the diet soda probably costs almost as much.  But I don't drink 12 cans of soda a day.\", 'author_fullname': 't2_5oq5ail', 'saved': False, 'mod_reason_title': None, 'gilded': 0, 'clicked': False, 'title': \"$18 a can beer at PGA Golf Tourney. That means I'd have had a $216 drinking day.\", 'link_flair_richtext': [], 'subreddit_name_prefixed': 'r/stopdrinking', 'hidden': False, 'pwls': 0, 'link_flair_css_class': None, 'downs': 0, 'top_awarded_type': None, 'hide_score': False, 'name': 't3_uttxzw', 'quarantine': False, 'link_flair_text_color': 'dark', 'upvote_ratio': 0.95, 'author_flair_background_color': None, 'subreddit_type': 'public', 'ups': 41, 'total_awards_received': 0, 'media_embed': {}, 'author_flair_template_id': 'f7eec2ca-6c34-11e9-b4d8-0e7ea67a6ce4', 'is_original_content': False, 'user_reports': [], 'secure_media': None, 'is_reddit_media_domain': False, 'is_meta': False, 'category': None, 'secure_media_embed': {}, 'link_flair_text': None, 'can_mod_post': False, 'score': 41, 'approved_by': None, 'is_created_from_ads_ui': False, 'author_premium': False, 'thumbnail': '', 'edited': False, 'author_flair_css_class': 'year1', 'author_flair_richtext': [], 'gildings': {}, 'content_categories': None, 'is_self': True, 'mod_note': None, 'created': 1653049037.0, 'link_flair_type': 'text', 'wls': 0, 'removed_by_category': None, 'banned_by': None, 'author_flair_type': 'text', 'domain': 'self.stopdrinking', 'allow_live_comments': False, 'selftext_html': '&lt;!-- SC_OFF --&gt;&lt;div class=\"md\"&gt;&lt;p&gt;I suspect the diet soda probably costs almost as much.  But I don&amp;#39;t drink 12 cans of soda a day.&lt;/p&gt;\\n&lt;/div&gt;&lt;!-- SC_ON --&gt;', 'likes': None, 'suggested_sort': None, 'banned_at_utc': None, 'view_count': None, 'archived': False, 'no_follow': False, 'is_crosspostable': False, 'pinned': False, 'over_18': False, 'all_awardings': [], 'awarders': [], 'media_only': False, 'can_gild': True, 'spoiler': False, 'locked': False, 'author_flair_text': '1289 days', 'treatment_tags': [], 'visited': False, 'removed_by': None, 'num_reports': None, 'distinguished': None, 'subreddit_id': 't5_2s7yr', 'author_is_blocked': False, 'mod_reason_by': None, 'removal_reason': None, 'link_flair_background_color': '', 'id': 'uttxzw', 'is_robot_indexable': True, 'report_reasons': None, 'author': 'mcc1224', 'discussion_type': None, 'num_comments': 14, 'send_replies': True, 'whitelist_status': 'no_ads', 'contest_mode': False, 'mod_reports': [], 'author_patreon_flair': False, 'author_flair_text_color': 'dark', 'permalink': '/r/stopdrinking/comments/uttxzw/18_a_can_beer_at_pga_golf_tourney_that_means_id/', 'parent_whitelist_status': 'no_ads', 'stickied': False, 'url': 'https://www.reddit.com/r/stopdrinking/comments/uttxzw/18_a_can_beer_at_pga_golf_tourney_that_means_id/', 'subreddit_subscribers': 360805, 'created_utc': 1653049037.0, 'num_crossposts': 0, 'media': None, 'is_video': False}}, {'kind': 't3', 'data': {'approved_at_utc': None, 'subreddit': 'stopdrinking', 'selftext': \"Because it's so easy to think about all the absolute horror madness I've caused in the past 15 plus years. All the tears and screams and yelling and violence. All the broken hearts and broken promises. The money lost the time lost my freedom taken away by police, the courts, and society. Not being there for my children not being there for myself not being there for people that actually really fucking love me.\\n\\nEvery time I think about going back, the ghosts of my life a blow wilder than a wind. \\n\\nI will not feed the demons...\\n\\nI will not drink with you today.\", 'author_fullname': 't2_dcvoz53', 'saved': False, 'mod_reason_title': None, 'gilded': 0, 'clicked': False, 'title': \"One week no drinking!! Easiest thing I've ever done here's how...\", 'link_flair_richtext': [], 'subreddit_name_prefixed': 'r/stopdrinking', 'hidden': False, 'pwls': 0, 'link_flair_css_class': None, 'downs': 0, 'top_awarded_type': None, 'hide_score': False, 'name': 't3_uttry1', 'quarantine': False, 'link_flair_text_color': 'dark', 'upvote_ratio': 0.91, 'author_flair_background_color': None, 'subreddit_type': 'public', 'ups': 30, 'total_awards_received': 0, 'media_embed': {}, 'author_flair_template_id': None, 'is_original_content': False, 'user_reports': [], 'secure_media': None, 'is_reddit_media_domain': False, 'is_meta': False, 'category': None, 'secure_media_embed': {}, 'link_flair_text': None, 'can_mod_post': False, 'score': 30, 'approved_by': None, 'is_created_from_ads_ui': False, 'author_premium': True, 'thumbnail': '', 'edited': False, 'author_flair_css_class': None, 'author_flair_richtext': [], 'gildings': {}, 'content_categories': None, 'is_self': True, 'mod_note': None, 'created': 1653048659.0, 'link_flair_type': 'text', 'wls': 0, 'removed_by_category': None, 'banned_by': None, 'author_flair_type': 'text', 'domain': 'self.stopdrinking', 'allow_live_comments': False, 'selftext_html': '&lt;!-- SC_OFF --&gt;&lt;div class=\"md\"&gt;&lt;p&gt;Because it&amp;#39;s so easy to think about all the absolute horror madness I&amp;#39;ve caused in the past 15 plus years. All the tears and screams and yelling and violence. All the broken hearts and broken promises. The money lost the time lost my freedom taken away by police, the courts, and society. Not being there for my children not being there for myself not being there for people that actually really fucking love me.&lt;/p&gt;\\n\\n&lt;p&gt;Every time I think about going back, the ghosts of my life a blow wilder than a wind. &lt;/p&gt;\\n\\n&lt;p&gt;I will not feed the demons...&lt;/p&gt;\\n\\n&lt;p&gt;I will not drink with you today.&lt;/p&gt;\\n&lt;/div&gt;&lt;!-- SC_ON --&gt;', 'likes': None, 'suggested_sort': None, 'banned_at_utc': None, 'view_count': None, 'archived': False, 'no_follow': False, 'is_crosspostable': False, 'pinned': False, 'over_18': False, 'all_awardings': [], 'awarders': [], 'media_only': False, 'can_gild': True, 'spoiler': False, 'locked': False, 'author_flair_text': None, 'treatment_tags': [], 'visited': False, 'removed_by': None, 'num_reports': None, 'distinguished': None, 'subreddit_id': 't5_2s7yr', 'author_is_blocked': False, 'mod_reason_by': None, 'removal_reason': None, 'link_flair_background_color': '', 'id': 'uttry1', 'is_robot_indexable': True, 'report_reasons': None, 'author': 'Subtotalpoet', 'discussion_type': None, 'num_comments': 4, 'send_replies': True, 'whitelist_status': 'no_ads', 'contest_mode': False, 'mod_reports': [], 'author_patreon_flair': False, 'author_flair_text_color': None, 'permalink': '/r/stopdrinking/comments/uttry1/one_week_no_drinking_easiest_thing_ive_ever_done/', 'parent_whitelist_status': 'no_ads', 'stickied': False, 'url': 'https://www.reddit.com/r/stopdrinking/comments/uttry1/one_week_no_drinking_easiest_thing_ive_ever_done/', 'subreddit_subscribers': 360805, 'created_utc': 1653048659.0, 'num_crossposts': 0, 'media': None, 'is_video': False}}, {'kind': 't3', 'data': {'approved_at_utc': None, 'subreddit': 'stopdrinking', 'selftext': \"I was 26 when it stuck.\\n\\nIt doesn't matter how old or how young you are.\\n\\nIt doesn't matter how many times you restart.\\n\\nJust keep going back,  and then one day you'll stop.\", 'author_fullname': 't2_kt2o20il', 'saved': False, 'mod_reason_title': None, 'gilded': 0, 'clicked': False, 'title': \"Friday used to be the day I would always cave in. I'm now 1,579 days sober. If I can, you can too.\", 'link_flair_richtext': [], 'subreddit_name_prefixed': 'r/stopdrinking', 'hidden': False, 'pwls': 0, 'link_flair_css_class': None, 'downs': 0, 'top_awarded_type': None, 'hide_score': False, 'name': 't3_uttm9z', 'quarantine': False, 'link_flair_text_color': 'dark', 'upvote_ratio': 1.0, 'author_flair_background_color': None, 'subreddit_type': 'public', 'ups': 231, 'total_awards_received': 1, 'media_embed': {}, 'author_flair_template_id': None, 'is_original_content': False, 'user_reports': [], 'secure_media': None, 'is_reddit_media_domain': False, 'is_meta': False, 'category': None, 'secure_media_embed': {}, 'link_flair_text': None, 'can_mod_post': False, 'score': 231, 'approved_by': None, 'is_created_from_ads_ui': False, 'author_premium': False, 'thumbnail': '', 'edited': False, 'author_flair_css_class': None, 'author_flair_richtext': [], 'gildings': {}, 'content_categories': None, 'is_self': True, 'mod_note': None, 'created': 1653048302.0, 'link_flair_type': 'text', 'wls': 0, 'removed_by_category': None, 'banned_by': None, 'author_flair_type': 'text', 'domain': 'self.stopdrinking', 'allow_live_comments': False, 'selftext_html': '&lt;!-- SC_OFF --&gt;&lt;div class=\"md\"&gt;&lt;p&gt;I was 26 when it stuck.&lt;/p&gt;\\n\\n&lt;p&gt;It doesn&amp;#39;t matter how old or how young you are.&lt;/p&gt;\\n\\n&lt;p&gt;It doesn&amp;#39;t matter how many times you restart.&lt;/p&gt;\\n\\n&lt;p&gt;Just keep going back,  and then one day you&amp;#39;ll stop.&lt;/p&gt;\\n&lt;/div&gt;&lt;!-- SC_ON --&gt;', 'likes': None, 'suggested_sort': None, 'banned_at_utc': None, 'view_count': None, 'archived': False, 'no_follow': False, 'is_crosspostable': False, 'pinned': False, 'over_18': False, 'all_awardings': [{'giver_coin_reward': None, 'subreddit_id': None, 'is_new': False, 'days_of_drip_extension': None, 'coin_price': 500, 'id': 'award_1f0462ee-18f5-4f33-89cf-f1f79336a452', 'penny_donate': None, 'award_sub_type': 'GLOBAL', 'coin_reward': 100, 'icon_url': 'https://i.redd.it/award_images/t5_22cerq/0o2j782f00e41_WholesomeSuperpro.png', 'days_of_premium': None, 'tiers_by_required_awardings': None, 'resized_icons': [{'url': 'https://preview.redd.it/award_images/t5_22cerq/0o2j782f00e41_WholesomeSuperpro.png?width=16&amp;height=16&amp;auto=webp&amp;s=3ca7dc1f4e12ca386a561446e72f772d38ba49d8', 'width': 16, 'height': 16}, {'url': 'https://preview.redd.it/award_images/t5_22cerq/0o2j782f00e41_WholesomeSuperpro.png?width=32&amp;height=32&amp;auto=webp&amp;s=c19d1e661e4aa6a9326a9f0b74b3ebf5d9f7a75e', 'width': 32, 'height': 32}, {'url': 'https://preview.redd.it/award_images/t5_22cerq/0o2j782f00e41_WholesomeSuperpro.png?width=48&amp;height=48&amp;auto=webp&amp;s=ed063580825e72b0ae63fe30c807b453b1362694', 'width': 48, 'height': 48}, {'url': 'https://preview.redd.it/award_images/t5_22cerq/0o2j782f00e41_WholesomeSuperpro.png?width=64&amp;height=64&amp;auto=webp&amp;s=7176b4b72b850e3e052138fe8b3967c4c5b52dae', 'width': 64, 'height': 64}, {'url': 'https://preview.redd.it/award_images/t5_22cerq/0o2j782f00e41_WholesomeSuperpro.png?width=128&amp;height=128&amp;auto=webp&amp;s=f7b307840995777f9ae04699d019740658ba0e77', 'width': 128, 'height': 128}], 'icon_width': 2048, 'static_icon_width': 2048, 'start_date': None, 'is_enabled': True, 'awardings_required_to_grant_benefits': None, 'description': 'When you come across a feel-good thing. Gives %{coin_symbol}100 Coins to both the author and the community.', 'end_date': None, 'subreddit_coin_reward': 100, 'count': 1, 'static_icon_height': 2048, 'name': 'Wholesome (Pro)', 'resized_static_icons': [{'url': 'https://preview.redd.it/award_images/t5_22cerq/0o2j782f00e41_WholesomeSuperpro.png?width=16&amp;height=16&amp;auto=webp&amp;s=3ca7dc1f4e12ca386a561446e72f772d38ba49d8', 'width': 16, 'height': 16}, {'url': 'https://preview.redd.it/award_images/t5_22cerq/0o2j782f00e41_WholesomeSuperpro.png?width=32&amp;height=32&amp;auto=webp&amp;s=c19d1e661e4aa6a9326a9f0b74b3ebf5d9f7a75e', 'width': 32, 'height': 32}, {'url': 'https://preview.redd.it/award_images/t5_22cerq/0o2j782f00e41_WholesomeSuperpro.png?width=48&amp;height=48&amp;auto=webp&amp;s=ed063580825e72b0ae63fe30c807b453b1362694', 'width': 48, 'height': 48}, {'url': 'https://preview.redd.it/award_images/t5_22cerq/0o2j782f00e41_WholesomeSuperpro.png?width=64&amp;height=64&amp;auto=webp&amp;s=7176b4b72b850e3e052138fe8b3967c4c5b52dae', 'width': 64, 'height': 64}, {'url': 'https://preview.redd.it/award_images/t5_22cerq/0o2j782f00e41_WholesomeSuperpro.png?width=128&amp;height=128&amp;auto=webp&amp;s=f7b307840995777f9ae04699d019740658ba0e77', 'width': 128, 'height': 128}], 'icon_format': None, 'icon_height': 2048, 'penny_price': None, 'award_type': 'global', 'static_icon_url': 'https://i.redd.it/award_images/t5_22cerq/0o2j782f00e41_WholesomeSuperpro.png'}], 'awarders': [], 'media_only': False, 'can_gild': True, 'spoiler': False, 'locked': False, 'author_flair_text': None, 'treatment_tags': [], 'visited': False, 'removed_by': None, 'num_reports': None, 'distinguished': None, 'subreddit_id': 't5_2s7yr', 'author_is_blocked': False, 'mod_reason_by': None, 'removal_reason': None, 'link_flair_background_color': '', 'id': 'uttm9z', 'is_robot_indexable': True, 'report_reasons': None, 'author': 'Vegetable-Music-59', 'discussion_type': None, 'num_comments': 28, 'send_replies': True, 'whitelist_status': 'no_ads', 'contest_mode': False, 'mod_reports': [], 'author_patreon_flair': False, 'author_flair_text_color': None, 'permalink': '/r/stopdrinking/comments/uttm9z/friday_used_to_be_the_day_i_would_always_cave_in/', 'parent_whitelist_status': 'no_ads', 'stickied': False, 'url': 'https://www.reddit.com/r/stopdrinking/comments/uttm9z/friday_used_to_be_the_day_i_would_always_cave_in/', 'subreddit_subscribers': 360805, 'created_utc': 1653048302.0, 'num_crossposts': 0, 'media': None, 'is_video': False}}, {'kind': 't3', 'data': {'approved_at_utc': None, 'subreddit': 'stopdrinking', 'selftext': '\"A successful person begins with two beliefs: the future can be better than the present, and I have the power to make it so.\"  Have a great Friday or hope you are having a great day wherever you are.   IWNDWYT', 'author_fullname': 't2_qpps33', 'saved': False, 'mod_reason_title': None, 'gilded': 0, 'clicked': False, 'title': 'Quote I read this morning', 'link_flair_richtext': [], 'subreddit_name_prefixed': 'r/stopdrinking', 'hidden': False, 'pwls': 0, 'link_flair_css_class': None, 'downs': 0, 'top_awarded_type': None, 'hide_score': False, 'name': 't3_uttki1', 'quarantine': False, 'link_flair_text_color': 'dark', 'upvote_ratio': 1.0, 'author_flair_background_color': None, 'subreddit_type': 'public', 'ups': 40, 'total_awards_received': 0, 'media_embed': {}, 'author_flair_template_id': 'f7eec2ca-6c34-11e9-b4d8-0e7ea67a6ce4', 'is_original_content': False, 'user_reports': [], 'secure_media': None, 'is_reddit_media_domain': False, 'is_meta': False, 'category': '', 'secure_media_embed': {}, 'link_flair_text': None, 'can_mod_post': False, 'score': 40, 'approved_by': None, 'is_created_from_ads_ui': False, 'author_premium': True, 'thumbnail': '', 'edited': False, 'author_flair_css_class': 'year1', 'author_flair_richtext': [], 'gildings': {}, 'content_categories': None, 'is_self': True, 'mod_note': None, 'created': 1653048198.0, 'link_flair_type': 'text', 'wls': 0, 'removed_by_category': None, 'banned_by': None, 'author_flair_type': 'text', 'domain': 'self.stopdrinking', 'allow_live_comments': False, 'selftext_html': '&lt;!-- SC_OFF --&gt;&lt;div class=\"md\"&gt;&lt;p&gt;&amp;quot;A successful person begins with two beliefs: the future can be better than the present, and I have the power to make it so.&amp;quot;  Have a great Friday or hope you are having a great day wherever you are.   IWNDWYT&lt;/p&gt;\\n&lt;/div&gt;&lt;!-- SC_ON --&gt;', 'likes': None, 'suggested_sort': None, 'banned_at_utc': None, 'view_count': None, 'archived': False, 'no_follow': False, 'is_crosspostable': False, 'pinned': False, 'over_18': False, 'all_awardings': [], 'awarders': [], 'media_only': False, 'can_gild': True, 'spoiler': False, 'locked': False, 'call_to_action': '', 'author_flair_text': '408 days', 'treatment_tags': [], 'visited': False, 'removed_by': None, 'num_reports': None, 'distinguished': None, 'subreddit_id': 't5_2s7yr', 'author_is_blocked': False, 'mod_reason_by': None, 'removal_reason': None, 'link_flair_background_color': '', 'id': 'uttki1', 'is_robot_indexable': True, 'report_reasons': None, 'author': 'PsykoMunkey', 'discussion_type': None, 'num_comments': 1, 'send_replies': True, 'whitelist_status': 'no_ads', 'contest_mode': False, 'mod_reports': [], 'author_patreon_flair': False, 'author_flair_text_color': 'dark', 'permalink': '/r/stopdrinking/comments/uttki1/quote_i_read_this_morning/', 'parent_whitelist_status': 'no_ads', 'stickied': False, 'url': 'https://www.reddit.com/r/stopdrinking/comments/uttki1/quote_i_read_this_morning/', 'subreddit_subscribers': 360805, 'created_utc': 1653048198.0, 'num_crossposts': 0, 'media': None, 'is_video': False}}, {'kind': 't3', 'data': {'approved_at_utc': None, 'subreddit': 'stopdrinking', 'selftext': 'Arthur Dent was right. Personally Thursdays are always bad for me. Like some kind of limbo day where I need to vent but it isn’t Friday.\\n\\nI know what sets me off now but I still seek the disassociation from myself. Alcohol is wonderful when you’re seeking the presence of your own absence. I don’t remember who said that about addiction but it really stuck with me.\\n\\nMy therapist is trying to find a cult survivor group for me in my city. I feel really alone. I never really figured out how to come back into reality. \\n\\nI never did get the hang of Thursdays. I wish I was normal. Or that I could hitch a ride on a Vogon constructor ship. Minus the pangalactic gargle blasters. I feel the same level of “out of place” here on Earth. \\n\\nI really wish I was normal.', 'author_fullname': 't2_awcos', 'saved': False, 'mod_reason_title': None, 'gilded': 0, 'clicked': False, 'title': '“I never did get the hang of Thursdays”', 'link_flair_richtext': [], 'subreddit_name_prefixed': 'r/stopdrinking', 'hidden': False, 'pwls': 0, 'link_flair_css_class': None, 'downs': 0, 'top_awarded_type': None, 'hide_score': False, 'name': 't3_uttjn3', 'quarantine': False, 'link_flair_text_color': 'dark', 'upvote_ratio': 0.9, 'author_flair_background_color': None, 'subreddit_type': 'public', 'ups': 13, 'total_awards_received': 0, 'media_embed': {}, 'author_flair_template_id': None, 'is_original_content': False, 'user_reports': [], 'secure_media': None, 'is_reddit_media_domain': False, 'is_meta': False, 'category': None, 'secure_media_embed': {}, 'link_flair_text': None, 'can_mod_post': False, 'score': 13, 'approved_by': None, 'is_created_from_ads_ui': False, 'author_premium': False, 'thumbnail': '', 'edited': False, 'author_flair_css_class': None, 'author_flair_richtext': [], 'gildings': {}, 'content_categories': None, 'is_self': True, 'mod_note': None, 'created': 1653048145.0, 'link_flair_type': 'text', 'wls': 0, 'removed_by_category': None, 'banned_by': None, 'author_flair_type': 'text', 'domain': 'self.stopdrinking', 'allow_live_comments': False, 'selftext_html': '&lt;!-- SC_OFF --&gt;&lt;div class=\"md\"&gt;&lt;p&gt;Arthur Dent was right. Personally Thursdays are always bad for me. Like some kind of limbo day where I need to vent but it isn’t Friday.&lt;/p&gt;\\n\\n&lt;p&gt;I know what sets me off now but I still seek the disassociation from myself. Alcohol is wonderful when you’re seeking the presence of your own absence. I don’t remember who said that about addiction but it really stuck with me.&lt;/p&gt;\\n\\n&lt;p&gt;My therapist is trying to find a cult survivor group for me in my city. I feel really alone. I never really figured out how to come back into reality. &lt;/p&gt;\\n\\n&lt;p&gt;I never did get the hang of Thursdays. I wish I was normal. Or that I could hitch a ride on a Vogon constructor ship. Minus the pangalactic gargle blasters. I feel the same level of “out of place” here on Earth. &lt;/p&gt;\\n\\n&lt;p&gt;I really wish I was normal.&lt;/p&gt;\\n&lt;/div&gt;&lt;!-- SC_ON --&gt;', 'likes': None, 'suggested_sort': None, 'banned_at_utc': None, 'view_count': None, 'archived': False, 'no_follow': False, 'is_crosspostable': False, 'pinned': False, 'over_18': False, 'all_awardings': [], 'awarders': [], 'media_only': False, 'can_gild': True, 'spoiler': False, 'locked': False, 'author_flair_text': None, 'treatment_tags': [], 'visited': False, 'removed_by': None, 'num_reports': None, 'distinguished': None, 'subreddit_id': 't5_2s7yr', 'author_is_blocked': False, 'mod_reason_by': None, 'removal_reason': None, 'link_flair_background_color': '', 'id': 'uttjn3', 'is_robot_indexable': True, 'report_reasons': None, 'author': 'DreyaNova', 'discussion_type': None, 'num_comments': 0, 'send_replies': True, 'whitelist_status': 'no_ads', 'contest_mode': False, 'mod_reports': [], 'author_patreon_flair': False, 'author_flair_text_color': None, 'permalink': '/r/stopdrinking/comments/uttjn3/i_never_did_get_the_hang_of_thursdays/', 'parent_whitelist_status': 'no_ads', 'stickied': False, 'url': 'https://www.reddit.com/r/stopdrinking/comments/uttjn3/i_never_did_get_the_hang_of_thursdays/', 'subreddit_subscribers': 360805, 'created_utc': 1653048145.0, 'num_crossposts': 0, 'media': None, 'is_video': False}}, {'kind': 't3', 'data': {'approved_at_utc': None, 'subreddit': 'stopdrinking', 'selftext': '✅ This is the longest I’ve gone since being pregnant. Writing so that I will remember how good I’m feeling now.\\n\\nWay less anxiety\\n\\nWay more energy to play with kids and not just sit on the couch and watch.\\n\\nI’ve been able to exercise the last 6/7 days. \\n\\nI can tell a visible difference in my face- under eye circles are gone and I look… happier?\\n\\nLastly, I pee so much during the day now! Haha Not being dehydrated and just trying to catch up from the night before must make my kidneys so happy.\\n\\nThis sub has been incredibly helpful, thank you.\\n\\nIWNDWYT', 'author_fullname': 't2_775hhnnu', 'saved': False, 'mod_reason_title': None, 'gilded': 0, 'clicked': False, 'title': 'One week', 'link_flair_richtext': [], 'subreddit_name_prefixed': 'r/stopdrinking', 'hidden': False, 'pwls': 0, 'link_flair_css_class': None, 'downs': 0, 'top_awarded_type': None, 'hide_score': False, 'name': 't3_utt4r9', 'quarantine': False, 'link_flair_text_color': 'dark', 'upvote_ratio': 0.93, 'author_flair_background_color': '', 'subreddit_type': 'public', 'ups': 13, 'total_awards_received': 1, 'media_embed': {}, 'author_flair_template_id': None, 'is_original_content': False, 'user_reports': [], 'secure_media': None, 'is_reddit_media_domain': False, 'is_meta': False, 'category': None, 'secure_media_embed': {}, 'link_flair_text': None, 'can_mod_post': False, 'score': 13, 'approved_by': None, 'is_created_from_ads_ui': False, 'author_premium': False, 'thumbnail': '', 'edited': False, 'author_flair_css_class': 'week1', 'author_flair_richtext': [], 'gildings': {}, 'content_categories': None, 'is_self': True, 'mod_note': None, 'created': 1653047228.0, 'link_flair_type': 'text', 'wls': 0, 'removed_by_category': None, 'banned_by': None, 'author_flair_type': 'text', 'domain': 'self.stopdrinking', 'allow_live_comments': False, 'selftext_html': '&lt;!-- SC_OFF --&gt;&lt;div class=\"md\"&gt;&lt;p&gt;✅ This is the longest I’ve gone since being pregnant. Writing so that I will remember how good I’m feeling now.&lt;/p&gt;\\n\\n&lt;p&gt;Way less anxiety&lt;/p&gt;\\n\\n&lt;p&gt;Way more energy to play with kids and not just sit on the couch and watch.&lt;/p&gt;\\n\\n&lt;p&gt;I’ve been able to exercise the last 6/7 days. &lt;/p&gt;\\n\\n&lt;p&gt;I can tell a visible difference in my face- under eye circles are gone and I look… happier?&lt;/p&gt;\\n\\n&lt;p&gt;Lastly, I pee so much during the day now! Haha Not being dehydrated and just trying to catch up from the night before must make my kidneys so happy.&lt;/p&gt;\\n\\n&lt;p&gt;This sub has been incredibly helpful, thank you.&lt;/p&gt;\\n\\n&lt;p&gt;IWNDWYT&lt;/p&gt;\\n&lt;/div&gt;&lt;!-- SC_ON --&gt;', 'likes': None, 'suggested_sort': None, 'banned_at_utc': None, 'view_count': None, 'archived': False, 'no_follow': False, 'is_crosspostable': False, 'pinned': False, 'over_18': False, 'all_awardings': [{'giver_coin_reward': None, 'subreddit_id': None, 'is_new': False, 'days_of_drip_extension': None, 'coin_price': 125, 'id': 'award_5f123e3d-4f48-42f4-9c11-e98b566d5897', 'penny_donate': None, 'award_sub_type': 'GLOBAL', 'coin_reward': 0, 'icon_url': 'https://i.redd.it/award_images/t5_22cerq/5izbv4fn0md41_Wholesome.png', 'days_of_premium': None, 'tiers_by_required_awardings': None, 'resized_icons': [{'url': 'https://preview.redd.it/award_images/t5_22cerq/5izbv4fn0md41_Wholesome.png?width=16&amp;height=16&amp;auto=webp&amp;s=92932f465d58e4c16b12b6eac4ca07d27e3d11c0', 'width': 16, 'height': 16}, {'url': 'https://preview.redd.it/award_images/t5_22cerq/5izbv4fn0md41_Wholesome.png?width=32&amp;height=32&amp;auto=webp&amp;s=d11484a208d68a318bf9d4fcf371171a1cb6a7ef', 'width': 32, 'height': 32}, {'url': 'https://preview.redd.it/award_images/t5_22cerq/5izbv4fn0md41_Wholesome.png?width=48&amp;height=48&amp;auto=webp&amp;s=febdf28b6f39f7da7eb1365325b85e0bb49a9f63', 'width': 48, 'height': 48}, {'url': 'https://preview.redd.it/award_images/t5_22cerq/5izbv4fn0md41_Wholesome.png?width=64&amp;height=64&amp;auto=webp&amp;s=b4406a2d88bf86fa3dc8a45aacf7e0c7bdccc4fb', 'width': 64, 'height': 64}, {'url': 'https://preview.redd.it/award_images/t5_22cerq/5izbv4fn0md41_Wholesome.png?width=128&amp;height=128&amp;auto=webp&amp;s=19555b13e3e196b62eeb9160d1ac1d1b372dcb0b', 'width': 128, 'height': 128}], 'icon_width': 2048, 'static_icon_width': 2048, 'start_date': None, 'is_enabled': True, 'awardings_required_to_grant_benefits': None, 'description': 'When you come across a feel-good thing.', 'end_date': None, 'subreddit_coin_reward': 0, 'count': 1, 'static_icon_height': 2048, 'name': 'Wholesome', 'resized_static_icons': [{'url': 'https://preview.redd.it/award_images/t5_22cerq/5izbv4fn0md41_Wholesome.png?width=16&amp;height=16&amp;auto=webp&amp;s=92932f465d58e4c16b12b6eac4ca07d27e3d11c0', 'width': 16, 'height': 16}, {'url': 'https://preview.redd.it/award_images/t5_22cerq/5izbv4fn0md41_Wholesome.png?width=32&amp;height=32&amp;auto=webp&amp;s=d11484a208d68a318bf9d4fcf371171a1cb6a7ef', 'width': 32, 'height': 32}, {'url': 'https://preview.redd.it/award_images/t5_22cerq/5izbv4fn0md41_Wholesome.png?width=48&amp;height=48&amp;auto=webp&amp;s=febdf28b6f39f7da7eb1365325b85e0bb49a9f63', 'width': 48, 'height': 48}, {'url': 'https://preview.redd.it/award_images/t5_22cerq/5izbv4fn0md41_Wholesome.png?width=64&amp;height=64&amp;auto=webp&amp;s=b4406a2d88bf86fa3dc8a45aacf7e0c7bdccc4fb', 'width': 64, 'height': 64}, {'url': 'https://preview.redd.it/award_images/t5_22cerq/5izbv4fn0md41_Wholesome.png?width=128&amp;height=128&amp;auto=webp&amp;s=19555b13e3e196b62eeb9160d1ac1d1b372dcb0b', 'width': 128, 'height': 128}], 'icon_format': None, 'icon_height': 2048, 'penny_price': None, 'award_type': 'global', 'static_icon_url': 'https://i.redd.it/award_images/t5_22cerq/5izbv4fn0md41_Wholesome.png'}], 'awarders': [], 'media_only': False, 'can_gild': True, 'spoiler': False, 'locked': False, 'author_flair_text': '7 days', 'treatment_tags': [], 'visited': False, 'removed_by': None, 'num_reports': None, 'distinguished': None, 'subreddit_id': 't5_2s7yr', 'author_is_blocked': False, 'mod_reason_by': None, 'removal_reason': None, 'link_flair_background_color': '', 'id': 'utt4r9', 'is_robot_indexable': True, 'report_reasons': None, 'author': 'HighlightRelevant', 'discussion_type': None, 'num_comments': 4, 'send_replies': True, 'whitelist_status': 'no_ads', 'contest_mode': False, 'mod_reports': [], 'author_patreon_flair': False, 'author_flair_text_color': 'dark', 'permalink': '/r/stopdrinking/comments/utt4r9/one_week/', 'parent_whitelist_status': 'no_ads', 'stickied': False, 'url': 'https://www.reddit.com/r/stopdrinking/comments/utt4r9/one_week/', 'subreddit_subscribers': 360805, 'created_utc': 1653047228.0, 'num_crossposts': 0, 'media': None, 'is_video': False}}, {'kind': 't3', 'data': {'approved_at_utc': None, 'subreddit': 'stopdrinking', 'selftext': 'I’ve been drinking too much recently as a coping mechanism. Basically I’ve overcommitted myself to too many things and it’s caused a lot of stress. I’ve been using alcohol to temporarily reduce the stress and to help me get to sleep. A vicious cycle you’re probably all too familiar with. \\n\\n\\nAnyway, I feel like I’m fuzzier than normal. Even this morning, when I chose not to drink last night. My thoughts are hard to organize and I can tell it’s affecting the fluency of my speech when talking to others. Kind of scary. \\n\\n\\nI would like to hear your experiences with quitting drinking and mental clarity + verbal fluency. Did quitting help these areas? How much? And how long did it take? I feel like I’ve lost 10 IQ points. Can anyone relate?? Thank you.', 'author_fullname': 't2_7czukgpt', 'saved': False, 'mod_reason_title': None, 'gilded': 0, 'clicked': False, 'title': 'Mental Clarity and Verbal Fluency?', 'link_flair_richtext': [], 'subreddit_name_prefixed': 'r/stopdrinking', 'hidden': False, 'pwls': 0, 'link_flair_css_class': None, 'downs': 0, 'top_awarded_type': None, 'hide_score': False, 'name': 't3_utsyhl', 'quarantine': False, 'link_flair_text_color': 'dark', 'upvote_ratio': 1.0, 'author_flair_background_color': None, 'subreddit_type': 'public', 'ups': 2, 'total_awards_received': 0, 'media_embed': {}, 'author_flair_template_id': None, 'is_original_content': False, 'user_reports': [], 'secure_media': None, 'is_reddit_media_domain': False, 'is_meta': False, 'category': None, 'secure_media_embed': {}, 'link_flair_text': None, 'can_mod_post': False, 'score': 2, 'approved_by': None, 'is_created_from_ads_ui': False, 'author_premium': False, 'thumbnail': '', 'edited': False, 'author_flair_css_class': None, 'author_flair_richtext': [], 'gildings': {}, 'content_categories': None, 'is_self': True, 'mod_note': None, 'created': 1653046826.0, 'link_flair_type': 'text', 'wls': 0, 'removed_by_category': None, 'banned_by': None, 'author_flair_type': 'text', 'domain': 'self.stopdrinking', 'allow_live_comments': False, 'selftext_html': '&lt;!-- SC_OFF --&gt;&lt;div class=\"md\"&gt;&lt;p&gt;I’ve been drinking too much recently as a coping mechanism. Basically I’ve overcommitted myself to too many things and it’s caused a lot of stress. I’ve been using alcohol to temporarily reduce the stress and to help me get to sleep. A vicious cycle you’re probably all too familiar with. &lt;/p&gt;\\n\\n&lt;p&gt;Anyway, I feel like I’m fuzzier than normal. Even this morning, when I chose not to drink last night. My thoughts are hard to organize and I can tell it’s affecting the fluency of my speech when talking to others. Kind of scary. &lt;/p&gt;\\n\\n&lt;p&gt;I would like to hear your experiences with quitting drinking and mental clarity + verbal fluency. Did quitting help these areas? How much? And how long did it take? I feel like I’ve lost 10 IQ points. Can anyone relate?? Thank you.&lt;/p&gt;\\n&lt;/div&gt;&lt;!-- SC_ON --&gt;', 'likes': None, 'suggested_sort': None, 'banned_at_utc': None, 'view_count': None, 'archived': False, 'no_follow': False, 'is_crosspostable': False, 'pinned': False, 'over_18': False, 'all_awardings': [], 'awarders': [], 'media_only': False, 'can_gild': True, 'spoiler': False, 'locked': False, 'author_flair_text': None, 'treatment_tags': [], 'visited': False, 'removed_by': None, 'num_reports': None, 'distinguished': None, 'subreddit_id': 't5_2s7yr', 'author_is_blocked': False, 'mod_reason_by': None, 'removal_reason': None, 'link_flair_background_color': '', 'id': 'utsyhl', 'is_robot_indexable': True, 'report_reasons': None, 'author': 'NoIdeaWhatImDoing___', 'discussion_type': None, 'num_comments': 2, 'send_replies': True, 'whitelist_status': 'no_ads', 'contest_mode': False, 'mod_reports': [], 'author_patreon_flair': False, 'author_flair_text_color': None, 'permalink': '/r/stopdrinking/comments/utsyhl/mental_clarity_and_verbal_fluency/', 'parent_whitelist_status': 'no_ads', 'stickied': False, 'url': 'https://www.reddit.com/r/stopdrinking/comments/utsyhl/mental_clarity_and_verbal_fluency/', 'subreddit_subscribers': 360805, 'created_utc': 1653046826.0, 'num_crossposts': 0, 'media': None, 'is_video': False}}, {'kind': 't3', 'data': {'approved_at_utc': None, 'subreddit': 'stopdrinking', 'selftext': \"Husband went to bed before me last night so of course I took it as an opportunity to chug whatever I could get my hands on. Vaguely remember talking to myself in the mirror about how much I hate myself and should die while giggling. Lied and told him and my boss this morning that I have food poisoning but I'm really just sick from the alcohol. I'm already near -40 hours PTO so I'll probably get a warning.\\n\\nI'm so tired of this cycle. Waste a day being sick from overdoing it. Vow not to do it again. Convince myself within a few days that it's actually fine and I can drink in moderation. Escalate to a bender. Rinse and repeat. \\n\\nMy husband is a good man. He doesn't deserve this. One day he'll figure out just how bad it really is. I'm terrified of that day.\", 'author_fullname': 't2_2lkx3bse', 'saved': False, 'mod_reason_title': None, 'gilded': 0, 'clicked': False, 'title': 'Called off work because of a hangover', 'link_flair_richtext': [], 'subreddit_name_prefixed': 'r/stopdrinking', 'hidden': False, 'pwls': 0, 'link_flair_css_class': None, 'downs': 0, 'top_awarded_type': None, 'hide_score': False, 'name': 't3_uts7g1', 'quarantine': False, 'link_flair_text_color': 'dark', 'upvote_ratio': 1.0, 'author_flair_background_color': None, 'subreddit_type': 'public', 'ups': 49, 'total_awards_received': 0, 'media_embed': {}, 'author_flair_template_id': None, 'is_original_content': False, 'user_reports': [], 'secure_media': None, 'is_reddit_media_domain': False, 'is_meta': False, 'category': None, 'secure_media_embed': {}, 'link_flair_text': None, 'can_mod_post': False, 'score': 49, 'approved_by': None, 'is_created_from_ads_ui': False, 'author_premium': False, 'thumbnail': '', 'edited': False, 'author_flair_css_class': None, 'author_flair_richtext': [], 'gildings': {}, 'content_categories': None, 'is_self': True, 'mod_note': None, 'created': 1653045037.0, 'link_flair_type': 'text', 'wls': 0, 'removed_by_category': None, 'banned_by': None, 'author_flair_type': 'text', 'domain': 'self.stopdrinking', 'allow_live_comments': False, 'selftext_html': '&lt;!-- SC_OFF --&gt;&lt;div class=\"md\"&gt;&lt;p&gt;Husband went to bed before me last night so of course I took it as an opportunity to chug whatever I could get my hands on. Vaguely remember talking to myself in the mirror about how much I hate myself and should die while giggling. Lied and told him and my boss this morning that I have food poisoning but I&amp;#39;m really just sick from the alcohol. I&amp;#39;m already near -40 hours PTO so I&amp;#39;ll probably get a warning.&lt;/p&gt;\\n\\n&lt;p&gt;I&amp;#39;m so tired of this cycle. Waste a day being sick from overdoing it. Vow not to do it again. Convince myself within a few days that it&amp;#39;s actually fine and I can drink in moderation. Escalate to a bender. Rinse and repeat. &lt;/p&gt;\\n\\n&lt;p&gt;My husband is a good man. He doesn&amp;#39;t deserve this. One day he&amp;#39;ll figure out just how bad it really is. I&amp;#39;m terrified of that day.&lt;/p&gt;\\n&lt;/div&gt;&lt;!-- SC_ON --&gt;', 'likes': None, 'suggested_sort': None, 'banned_at_utc': None, 'view_count': None, 'archived': False, 'no_follow': False, 'is_crosspostable': False, 'pinned': False, 'over_18': False, 'all_awardings': [], 'awarders': [], 'media_only': False, 'can_gild': True, 'spoiler': False, 'locked': False, 'author_flair_text': None, 'treatment_tags': [], 'visited': False, 'removed_by': None, 'num_reports': None, 'distinguished': None, 'subreddit_id': 't5_2s7yr', 'author_is_blocked': False, 'mod_reason_by': None, 'removal_reason': None, 'link_flair_background_color': '', 'id': 'uts7g1', 'is_robot_indexable': True, 'report_reasons': None, 'author': 'aerstes', 'discussion_type': None, 'num_comments': 35, 'send_replies': True, 'whitelist_status': 'no_ads', 'contest_mode': False, 'mod_reports': [], 'author_patreon_flair': False, 'author_flair_text_color': None, 'permalink': '/r/stopdrinking/comments/uts7g1/called_off_work_because_of_a_hangover/', 'parent_whitelist_status': 'no_ads', 'stickied': False, 'url': 'https://www.reddit.com/r/stopdrinking/comments/uts7g1/called_off_work_because_of_a_hangover/', 'subreddit_subscribers': 360805, 'created_utc': 1653045037.0, 'num_crossposts': 0, 'media': None, 'is_video': False}}, {'kind': 't3', 'data': {'approved_at_utc': None, 'subreddit': 'stopdrinking', 'selftext': 'The bottle shop is closed so im safe for the night. Day 6 tomorrow. Im finally starting to get proper sleep. This is the longest I have gone without beer in at least 7 or 8 years. I usually have 15-25 a day. Drinking at 2am to get back to sleep.. before work.. during work.. before I get home.. then at home. It’s as bad as it gets.\\n\\nIm watching a movie with my pregnant girlfriend staying in on a Friday night right now. Much prefer this than coming home 10 beers deep at midnight. Got to stay strong for the weekend though. \\n\\nReading this subreddit helps so much.', 'author_fullname': 't2_e3t2naa4', 'saved': False, 'mod_reason_title': None, 'gilded': 0, 'clicked': False, 'title': 'Day 5 need to stay strong', 'link_flair_richtext': [], 'subreddit_name_prefixed': 'r/stopdrinking', 'hidden': False, 'pwls': 0, 'link_flair_css_class': None, 'downs': 0, 'top_awarded_type': None, 'hide_score': False, 'name': 't3_uts2v2', 'quarantine': False, 'link_flair_text_color': 'dark', 'upvote_ratio': 0.92, 'author_flair_background_color': None, 'subreddit_type': 'public', 'ups': 10, 'total_awards_received': 0, 'media_embed': {}, 'author_flair_template_id': None, 'is_original_content': False, 'user_reports': [], 'secure_media': None, 'is_reddit_media_domain': False, 'is_meta': False, 'category': None, 'secure_media_embed': {}, 'link_flair_text': None, 'can_mod_post': False, 'score': 10, 'approved_by': None, 'is_created_from_ads_ui': False, 'author_premium': False, 'thumbnail': '', 'edited': False, 'author_flair_css_class': None, 'author_flair_richtext': [], 'gildings': {}, 'content_categories': None, 'is_self': True, 'mod_note': None, 'created': 1653044632.0, 'link_flair_type': 'text', 'wls': 0, 'removed_by_category': None, 'banned_by': None, 'author_flair_type': 'text', 'domain': 'self.stopdrinking', 'allow_live_comments': False, 'selftext_html': '&lt;!-- SC_OFF --&gt;&lt;div class=\"md\"&gt;&lt;p&gt;The bottle shop is closed so im safe for the night. Day 6 tomorrow. Im finally starting to get proper sleep. This is the longest I have gone without beer in at least 7 or 8 years. I usually have 15-25 a day. Drinking at 2am to get back to sleep.. before work.. during work.. before I get home.. then at home. It’s as bad as it gets.&lt;/p&gt;\\n\\n&lt;p&gt;Im watching a movie with my pregnant girlfriend staying in on a Friday night right now. Much prefer this than coming home 10 beers deep at midnight. Got to stay strong for the weekend though. &lt;/p&gt;\\n\\n&lt;p&gt;Reading this subreddit helps so much.&lt;/p&gt;\\n&lt;/div&gt;&lt;!-- SC_ON --&gt;', 'likes': None, 'suggested_sort': None, 'banned_at_utc': None, 'view_count': None, 'archived': False, 'no_follow': False, 'is_crosspostable': False, 'pinned': False, 'over_18': False, 'all_awardings': [], 'awarders': [], 'media_only': False, 'can_gild': True, 'spoiler': False, 'locked': False, 'author_flair_text': None, 'treatment_tags': [], 'visited': False, 'removed_by': None, 'num_reports': None, 'distinguished': None, 'subreddit_id': 't5_2s7yr', 'author_is_blocked': False, 'mod_reason_by': None, 'removal_reason': None, 'link_flair_background_color': '', 'id': 'uts2v2', 'is_robot_indexable': True, 'report_reasons': None, 'author': 'Single_Pear7941', 'discussion_type': None, 'num_comments': 2, 'send_replies': True, 'whitelist_status': 'no_ads', 'contest_mode': False, 'mod_reports': [], 'author_patreon_flair': False, 'author_flair_text_color': None, 'permalink': '/r/stopdrinking/comments/uts2v2/day_5_need_to_stay_strong/', 'parent_whitelist_status': 'no_ads', 'stickied': False, 'url': 'https://www.reddit.com/r/stopdrinking/comments/uts2v2/day_5_need_to_stay_strong/', 'subreddit_subscribers': 360805, 'created_utc': 1653044632.0, 'num_crossposts': 0, 'media': None, 'is_video': False}}, {'kind': 't3', 'data': {'approved_at_utc': None, 'subreddit': 'stopdrinking', 'selftext': 'Along with bartending for years and my schedule being more of a swing shift ( I don’t close anymore) i have the worst time trying to get to bed. \\n I usually get off work and have a shift drink and it’s always over after that. \\nIt can be a fun night with friends or it could be a black out night that I end up paying for with guilt and anxiety about my actions for days. ( but I get to sleep pretty quickly when I lay down and I’m trashed🙃)\\nThe last two days I’ve collected my tips and gone straight to my bank across the street and deposit everything. \\nI wrecked my car ( drinking and drinking) so I have to wait for rides now. \\nToday; instead of waiting in the bar, \\nI went for a walk around town until my ride showed up. \\nI got home and made dinner for the second night in a row. \\nI use to make dinner every night. And even prep breakfasts for my household of 4. \\nBut I’ve been on a bender for months. So none of that has been happening. \\nI’m trying to make up for absent I’ve been, I’m grateful that my boyfriend and his kids still love me. But I’m ashamed of my actions over the past months. \\nOver the years yes I drank, daily.  \\nBut for the most part I was fine. These days it’s not the case; I’m not nice to my boyfriend. I’ve been coming home at 4 am and walking the kids up who are now TEENAGERS and have never seen me like this. I’m aggressive or argumentative about ANYTHING. \\nI’ve posted here the last 3 days and it’s really helped me stay accountable. You all are so nice and encouraging. I absolutely love reading everything you so post too, I don’t feel so alone. \\nMy uncle actually told me to join this group and he wasn’t lying when he said he found so much help here. \\nI go to my first AA meeting next week and I’m actually excited. \\nI’m excited to see what life is like sober, I am tired of one night out being able to completely destroy my life for weeks. And every time I get back on my feet I repeat the cycle, WELL; no more. \\nI’m ready this time.  For once I’m not worried of what I will miss by not drinking, usually just THINKING about taking a break would stress me out just thinking of whatever events I’d miss. \\nI hope I can maintain this mindset, I know it’s just the first few days but I’m proud of myself.', 'author_fullname': 't2_gu710oxs', 'saved': False, 'mod_reason_title': None, 'gilded': 0, 'clicked': False, 'title': 'Day 2; I’m up at 3 am. But I’m sober!', 'link_flair_richtext': [], 'subreddit_name_prefixed': 'r/stopdrinking', 'hidden': False, 'pwls': 0, 'link_flair_css_class': None, 'downs': 0, 'top_awarded_type': None, 'hide_score': False, 'name': 't3_utrwu1', 'quarantine': False, 'link_flair_text_color': 'dark', 'upvote_ratio': 1.0, 'author_flair_background_color': None, 'subreddit_type': 'public', 'ups': 8, 'total_awards_received': 0, 'media_embed': {}, 'author_flair_template_id': None, 'is_original_content': False, 'user_reports': [], 'secure_media': None, 'is_reddit_media_domain': False, 'is_meta': False, 'category': None, 'secure_media_embed': {}, 'link_flair_text': None, 'can_mod_post': False, 'score': 8, 'approved_by': None, 'is_created_from_ads_ui': False, 'author_premium': False, 'thumbnail': '', 'edited': False, 'author_flair_css_class': None, 'author_flair_richtext': [], 'gildings': {}, 'content_categories': None, 'is_self': True, 'mod_note': None, 'created': 1653044432.0, 'link_flair_type': 'text', 'wls': 0, 'removed_by_category': None, 'banned_by': None, 'author_flair_type': 'text', 'domain': 'self.stopdrinking', 'allow_live_comments': False, 'selftext_html': '&lt;!-- SC_OFF --&gt;&lt;div class=\"md\"&gt;&lt;p&gt;Along with bartending for years and my schedule being more of a swing shift ( I don’t close anymore) i have the worst time trying to get to bed. \\n I usually get off work and have a shift drink and it’s always over after that. \\nIt can be a fun night with friends or it could be a black out night that I end up paying for with guilt and anxiety about my actions for days. ( but I get to sleep pretty quickly when I lay down and I’m trashed🙃)\\nThe last two days I’ve collected my tips and gone straight to my bank across the street and deposit everything. \\nI wrecked my car ( drinking and drinking) so I have to wait for rides now. \\nToday; instead of waiting in the bar, \\nI went for a walk around town until my ride showed up. \\nI got home and made dinner for the second night in a row. \\nI use to make dinner every night. And even prep breakfasts for my household of 4. \\nBut I’ve been on a bender for months. So none of that has been happening. \\nI’m trying to make up for absent I’ve been, I’m grateful that my boyfriend and his kids still love me. But I’m ashamed of my actions over the past months. \\nOver the years yes I drank, daily.&lt;br/&gt;\\nBut for the most part I was fine. These days it’s not the case; I’m not nice to my boyfriend. I’ve been coming home at 4 am and walking the kids up who are now TEENAGERS and have never seen me like this. I’m aggressive or argumentative about ANYTHING. \\nI’ve posted here the last 3 days and it’s really helped me stay accountable. You all are so nice and encouraging. I absolutely love reading everything you so post too, I don’t feel so alone. \\nMy uncle actually told me to join this group and he wasn’t lying when he said he found so much help here. \\nI go to my first AA meeting next week and I’m actually excited. \\nI’m excited to see what life is like sober, I am tired of one night out being able to completely destroy my life for weeks. And every time I get back on my feet I repeat the cycle, WELL; no more. \\nI’m ready this time.  For once I’m not worried of what I will miss by not drinking, usually just THINKING about taking a break would stress me out just thinking of whatever events I’d miss. \\nI hope I can maintain this mindset, I know it’s just the first few days but I’m proud of myself.&lt;/p&gt;\\n&lt;/div&gt;&lt;!-- SC_ON --&gt;', 'likes': None, 'suggested_sort': None, 'banned_at_utc': None, 'view_count': None, 'archived': False, 'no_follow': False, 'is_crosspostable': False, 'pinned': False, 'over_18': False, 'all_awardings': [], 'awarders': [], 'media_only': False, 'can_gild': True, 'spoiler': False, 'locked': False, 'author_flair_text': None, 'treatment_tags': [], 'visited': False, 'removed_by': None, 'num_reports': None, 'distinguished': None, 'subreddit_id': 't5_2s7yr', 'author_is_blocked': False, 'mod_reason_by': None, 'removal_reason': None, 'link_flair_background_color': '', 'id': 'utrwu1', 'is_robot_indexable': True, 'report_reasons': None, 'author': 'SolidApprehensive223', 'discussion_type': None, 'num_comments': 2, 'send_replies': True, 'whitelist_status': 'no_ads', 'contest_mode': False, 'mod_reports': [], 'author_patreon_flair': False, 'author_flair_text_color': None, 'permalink': '/r/stopdrinking/comments/utrwu1/day_2_im_up_at_3_am_but_im_sober/', 'parent_whitelist_status': 'no_ads', 'stickied': False, 'url': 'https://www.reddit.com/r/stopdrinking/comments/utrwu1/day_2_im_up_at_3_am_but_im_sober/', 'subreddit_subscribers': 360805, 'created_utc': 1653044432.0, 'num_crossposts': 0, 'media': None, 'is_video': False}}, {'kind': 't3', 'data': {'approved_at_utc': None, 'subreddit': 'stopdrinking', 'selftext': 'I regularly used alcohol as a social lubricant to my anxiety and it really made me confident as well as euphoric. i also used it to shut my mind up from the racing thoughts anxiety gave me. I thought quitting drinking would reduce my anxiety but now that i’m sober, i am more aware of my thoughts and it gets to me sometimes. It kinda makes me want to crave a drink. but i heard from a close friend of mine that he replaced weed with drinking and his life has never been better. What do you guys think of this? Should i just stay sober or give weed a try?', 'author_fullname': 't2_kpo5jmz7', 'saved': False, 'mod_reason_title': None, 'gilded': 0, 'clicked': False, 'title': 'Did anyone ever replace alcohol with weed? if so what was your experience?', 'link_flair_richtext': [], 'subreddit_name_prefixed': 'r/stopdrinking', 'hidden': False, 'pwls': 0, 'link_flair_css_class': None, 'downs': 0, 'top_awarded_type': None, 'hide_score': False, 'name': 't3_utrkzp', 'quarantine': False, 'link_flair_text_color': 'dark', 'upvote_ratio': 0.92, 'author_flair_background_color': None, 'subreddit_type': 'public', 'ups': 10, 'total_awards_received': 0, 'media_embed': {}, 'author_flair_template_id': None, 'is_original_content': False, 'user_reports': [], 'secure_media': None, 'is_reddit_media_domain': False, 'is_meta': False, 'category': None, 'secure_media_embed': {}, 'link_flair_text': None, 'can_mod_post': False, 'score': 10, 'approved_by': None, 'is_created_from_ads_ui': False, 'author_premium': False, 'thumbnail': '', 'edited': False, 'author_flair_css_class': None, 'author_flair_richtext': [], 'gildings': {}, 'content_categories': None, 'is_self': True, 'mod_note': None, 'created': 1653044085.0, 'link_flair_type': 'text', 'wls': 0, 'removed_by_category': None, 'banned_by': None, 'author_flair_type': 'text', 'domain': 'self.stopdrinking', 'allow_live_comments': False, 'selftext_html': '&lt;!-- SC_OFF --&gt;&lt;div class=\"md\"&gt;&lt;p&gt;I regularly used alcohol as a social lubricant to my anxiety and it really made me confident as well as euphoric. i also used it to shut my mind up from the racing thoughts anxiety gave me. I thought quitting drinking would reduce my anxiety but now that i’m sober, i am more aware of my thoughts and it gets to me sometimes. It kinda makes me want to crave a drink. but i heard from a close friend of mine that he replaced weed with drinking and his life has never been better. What do you guys think of this? Should i just stay sober or give weed a try?&lt;/p&gt;\\n&lt;/div&gt;&lt;!-- SC_ON --&gt;', 'likes': None, 'suggested_sort': None, 'banned_at_utc': None, 'view_count': None, 'archived': False, 'no_follow': False, 'is_crosspostable': False, 'pinned': False, 'over_18': False, 'all_awardings': [], 'awarders': [], 'media_only': False, 'can_gild': True, 'spoiler': False, 'locked': False, 'author_flair_text': None, 'treatment_tags': [], 'visited': False, 'removed_by': None, 'num_reports': None, 'distinguished': None, 'subreddit_id': 't5_2s7yr', 'author_is_blocked': False, 'mod_reason_by': None, 'removal_reason': None, 'link_flair_background_color': '', 'id': 'utrkzp', 'is_robot_indexable': True, 'report_reasons': None, 'author': 'jinjabredman12', 'discussion_type': None, 'num_comments': 17, 'send_replies': True, 'whitelist_status': 'no_ads', 'contest_mode': False, 'mod_reports': [], 'author_patreon_flair': False, 'author_flair_text_color': None, 'permalink': '/r/stopdrinking/comments/utrkzp/did_anyone_ever_replace_alcohol_with_weed_if_so/', 'parent_whitelist_status': 'no_ads', 'stickied': False, 'url': 'https://www.reddit.com/r/stopdrinking/comments/utrkzp/did_anyone_ever_replace_alcohol_with_weed_if_so/', 'subreddit_subscribers': 360805, 'created_utc': 1653044085.0, 'num_crossposts': 0, 'media': None, 'is_video': False}}, {'kind': 't3', 'data': {'approved_at_utc': None, 'subreddit': 'stopdrinking', 'selftext': 'IWNDWYT 💕', 'author_fullname': 't2_l1j704am', 'saved': False, 'mod_reason_title': None, 'gilded': 0, 'clicked': False, 'title': 'Day 50, Y’all!', 'link_flair_richtext': [], 'subreddit_name_prefixed': 'r/stopdrinking', 'hidden': False, 'pwls': 0, 'link_flair_css_class': None, 'downs': 0, 'top_awarded_type': None, 'hide_score': False, 'name': 't3_utrk9h', 'quarantine': False, 'link_flair_text_color': 'dark', 'upvote_ratio': 1.0, 'author_flair_background_color': None, 'subreddit_type': 'public', 'ups': 137, 'total_awards_received': 0, 'media_embed': {}, 'author_flair_template_id': None, 'is_original_content': False, 'user_reports': [], 'secure_media': None, 'is_reddit_media_domain': False, 'is_meta': False, 'category': None, 'secure_media_embed': {}, 'link_flair_text': None, 'can_mod_post': False, 'score': 137, 'approved_by': None, 'is_created_from_ads_ui': False, 'author_premium': False, 'thumbnail': '', 'edited': False, 'author_flair_css_class': None, 'author_flair_richtext': [], 'gildings': {}, 'content_categories': None, 'is_self': True, 'mod_note': None, 'created': 1653044062.0, 'link_flair_type': 'text', 'wls': 0, 'removed_by_category': None, 'banned_by': None, 'author_flair_type': 'text', 'domain': 'self.stopdrinking', 'allow_live_comments': False, 'selftext_html': '&lt;!-- SC_OFF --&gt;&lt;div class=\"md\"&gt;&lt;p&gt;IWNDWYT 💕&lt;/p&gt;\\n&lt;/div&gt;&lt;!-- SC_ON --&gt;', 'likes': None, 'suggested_sort': None, 'banned_at_utc': None, 'view_count': None, 'archived': False, 'no_follow': False, 'is_crosspostable': False, 'pinned': False, 'over_18': False, 'all_awardings': [], 'awarders': [], 'media_only': False, 'can_gild': True, 'spoiler': False, 'locked': False, 'author_flair_text': None, 'treatment_tags': [], 'visited': False, 'removed_by': None, 'num_reports': None, 'distinguished': None, 'subreddit_id': 't5_2s7yr', 'author_is_blocked': False, 'mod_reason_by': None, 'removal_reason': None, 'link_flair_background_color': '', 'id': 'utrk9h', 'is_robot_indexable': True, 'report_reasons': None, 'author': 'PoetHot72', 'discussion_type': None, 'num_comments': 28, 'send_replies': True, 'whitelist_status': 'no_ads', 'contest_mode': False, 'mod_reports': [], 'author_patreon_flair': False, 'author_flair_text_color': None, 'permalink': '/r/stopdrinking/comments/utrk9h/day_50_yall/', 'parent_whitelist_status': 'no_ads', 'stickied': False, 'url': 'https://www.reddit.com/r/stopdrinking/comments/utrk9h/day_50_yall/', 'subreddit_subscribers': 360805, 'created_utc': 1653044062.0, 'num_crossposts': 0, 'media': None, 'is_video': False}}, {'kind': 't3', 'data': {'approved_at_utc': None, 'subreddit': 'stopdrinking', 'selftext': \"I've attempted to abstain from alcohol previously and havent managed more than a couple of months. I want today to be the start of my new life. Free from this horrible aspect of who I am. Alcohol (and drugs) are ruining my life and I want to change. I wanna be better and be happy. What's up with the sober community today?\", 'author_fullname': 't2_eiil9ckx', 'saved': False, 'mod_reason_title': None, 'gilded': 0, 'clicked': False, 'title': 'Day 1.', 'link_flair_richtext': [], 'subreddit_name_prefixed': 'r/stopdrinking', 'hidden': False, 'pwls': 0, 'link_flair_css_class': None, 'downs': 0, 'top_awarded_type': None, 'hide_score': False, 'name': 't3_utrc27', 'quarantine': False, 'link_flair_text_color': 'dark', 'upvote_ratio': 1.0, 'author_flair_background_color': None, 'subreddit_type': 'public', 'ups': 22, 'total_awards_received': 0, 'media_embed': {}, 'author_flair_template_id': None, 'is_original_content': False, 'user_reports': [], 'secure_media': None, 'is_reddit_media_domain': False, 'is_meta': False, 'category': None, 'secure_media_embed': {}, 'link_flair_text': None, 'can_mod_post': False, 'score': 22, 'approved_by': None, 'is_created_from_ads_ui': False, 'author_premium': False, 'thumbnail': '', 'edited': False, 'author_flair_css_class': None, 'author_flair_richtext': [], 'gildings': {}, 'content_categories': None, 'is_self': True, 'mod_note': None, 'created': 1653043239.0, 'link_flair_type': 'text', 'wls': 0, 'removed_by_category': None, 'banned_by': None, 'author_flair_type': 'text', 'domain': 'self.stopdrinking', 'allow_live_comments': False, 'selftext_html': '&lt;!-- SC_OFF --&gt;&lt;div class=\"md\"&gt;&lt;p&gt;I&amp;#39;ve attempted to abstain from alcohol previously and havent managed more than a couple of months. I want today to be the start of my new life. Free from this horrible aspect of who I am. Alcohol (and drugs) are ruining my life and I want to change. I wanna be better and be happy. What&amp;#39;s up with the sober community today?&lt;/p&gt;\\n&lt;/div&gt;&lt;!-- SC_ON --&gt;', 'likes': None, 'suggested_sort': None, 'banned_at_utc': None, 'view_count': None, 'archived': False, 'no_follow': False, 'is_crosspostable': False, 'pinned': False, 'over_18': False, 'all_awardings': [], 'awarders': [], 'media_only': False, 'can_gild': True, 'spoiler': False, 'locked': False, 'author_flair_text': None, 'treatment_tags': [], 'visited': False, 'removed_by': None, 'num_reports': None, 'distinguished': None, 'subreddit_id': 't5_2s7yr', 'author_is_blocked': False, 'mod_reason_by': None, 'removal_reason': None, 'link_flair_background_color': '', 'id': 'utrc27', 'is_robot_indexable': True, 'report_reasons': None, 'author': 'VTID997', 'discussion_type': None, 'num_comments': 12, 'send_replies': True, 'whitelist_status': 'no_ads', 'contest_mode': False, 'mod_reports': [], 'author_patreon_flair': False, 'author_flair_text_color': None, 'permalink': '/r/stopdrinking/comments/utrc27/day_1/', 'parent_whitelist_status': 'no_ads', 'stickied': False, 'url': 'https://www.reddit.com/r/stopdrinking/comments/utrc27/day_1/', 'subreddit_subscribers': 360805, 'created_utc': 1653043239.0, 'num_crossposts': 0, 'media': None, 'is_video': False}}, {'kind': 't3', 'data': {'approved_at_utc': None, 'subreddit': 'stopdrinking', 'selftext': \"Today is the first day of my third year of sobriety. \\n\\nI just want to let anyone out there struggling know that, no matter how hard the beginning, it gets a lot better. \\n\\nIt is possible to have the life you always wanted, just don't pick up that next drink one day at a time. And, don't forget to ask for help when you need it. \\n\\nIWNDWYT!\", 'author_fullname': 't2_245cr639', 'saved': False, 'mod_reason_title': None, 'gilded': 0, 'clicked': False, 'title': 'It is Possible', 'link_flair_richtext': [], 'subreddit_name_prefixed': 'r/stopdrinking', 'hidden': False, 'pwls': 0, 'link_flair_css_class': None, 'downs': 0, 'top_awarded_type': None, 'hide_score': False, 'name': 't3_utr2i6', 'quarantine': False, 'link_flair_text_color': 'dark', 'upvote_ratio': 1.0, 'author_flair_background_color': None, 'subreddit_type': 'public', 'ups': 114, 'total_awards_received': 0, 'media_embed': {}, 'author_flair_template_id': 'f7eec2ca-6c34-11e9-b4d8-0e7ea67a6ce4', 'is_original_content': False, 'user_reports': [], 'secure_media': None, 'is_reddit_media_domain': False, 'is_meta': False, 'category': None, 'secure_media_embed': {}, 'link_flair_text': None, 'can_mod_post': False, 'score': 114, 'approved_by': None, 'is_created_from_ads_ui': False, 'author_premium': False, 'thumbnail': '', 'edited': False, 'author_flair_css_class': 'year1', 'author_flair_richtext': [], 'gildings': {}, 'content_categories': None, 'is_self': True, 'mod_note': None, 'created': 1653042112.0, 'link_flair_type': 'text', 'wls': 0, 'removed_by_category': None, 'banned_by': None, 'author_flair_type': 'text', 'domain': 'self.stopdrinking', 'allow_live_comments': False, 'selftext_html': '&lt;!-- SC_OFF --&gt;&lt;div class=\"md\"&gt;&lt;p&gt;Today is the first day of my third year of sobriety. &lt;/p&gt;\\n\\n&lt;p&gt;I just want to let anyone out there struggling know that, no matter how hard the beginning, it gets a lot better. &lt;/p&gt;\\n\\n&lt;p&gt;It is possible to have the life you always wanted, just don&amp;#39;t pick up that next drink one day at a time. And, don&amp;#39;t forget to ask for help when you need it. &lt;/p&gt;\\n\\n&lt;p&gt;IWNDWYT!&lt;/p&gt;\\n&lt;/div&gt;&lt;!-- SC_ON --&gt;', 'likes': None, 'suggested_sort': None, 'banned_at_utc': None, 'view_count': None, 'archived': False, 'no_follow': False, 'is_crosspostable': False, 'pinned': False, 'over_18': False, 'all_awardings': [], 'awarders': [], 'media_only': False, 'can_gild': True, 'spoiler': False, 'locked': False, 'author_flair_text': '731 days', 'treatment_tags': [], 'visited': False, 'removed_by': None, 'num_reports': None, 'distinguished': None, 'subreddit_id': 't5_2s7yr', 'author_is_blocked': False, 'mod_reason_by': None, 'removal_reason': None, 'link_flair_background_color': '', 'id': 'utr2i6', 'is_robot_indexable': True, 'report_reasons': None, 'author': 'PorchCouchLawyer', 'discussion_type': None, 'num_comments': 17, 'send_replies': True, 'whitelist_status': 'no_ads', 'contest_mode': False, 'mod_reports': [], 'author_patreon_flair': False, 'author_flair_text_color': 'dark', 'permalink': '/r/stopdrinking/comments/utr2i6/it_is_possible/', 'parent_whitelist_status': 'no_ads', 'stickied': False, 'url': 'https://www.reddit.com/r/stopdrinking/comments/utr2i6/it_is_possible/', 'subreddit_subscribers': 360805, 'created_utc': 1653042112.0, 'num_crossposts': 0, 'media': None, 'is_video': False}}, {'kind': 't3', 'data': {'approved_at_utc': None, 'subreddit': 'stopdrinking', 'selftext': 'Getting hammered on both Friday and Saturday night? Well I’m in college, why wouldn’t I? Getting drunk on a Wednesday because I had a rough day in class? Why the hell not? I’m in college. Turning to the sweet burn every time I face some sort of stress or inconvenience? Well…errrr…college, ……right?\\n\\nOnly freshly 21 and I’ve known that I’ve had a problem with alcohol for years. I ALWAYS make excuses that I don’t drink nearly as much as other students, so it must be okay (yet I love to “forget” about my personal biological factors that make me more susceptible to negative effects of alcohol!) \\n\\nI’m tired of the hold that alcohol has on me. I’m tired of wishing for the evening or the weekend to come just so I have an excuse to get drunk. I want to be able to have a drink or two to celebrate a special occasion, not five because I had a mundane day in class or at work. \\n\\nCollege drinking culture is parasitic. It’s not talked about enough. How can I recover when it is so easy to make excuses for myself in this environment?', 'author_fullname': 't2_1ll5koei', 'saved': False, 'mod_reason_title': None, 'gilded': 0, 'clicked': False, 'title': 'Cutting down in college', 'link_flair_richtext': [], 'subreddit_name_prefixed': 'r/stopdrinking', 'hidden': False, 'pwls': 0, 'link_flair_css_class': None, 'downs': 0, 'top_awarded_type': None, 'hide_score': False, 'name': 't3_utr1uh', 'quarantine': False, 'link_flair_text_color': 'dark', 'upvote_ratio': 1.0, 'author_flair_background_color': None, 'subreddit_type': 'public', 'ups': 3, 'total_awards_received': 0, 'media_embed': {}, 'author_flair_template_id': None, 'is_original_content': False, 'user_reports': [], 'secure_media': None, 'is_reddit_media_domain': False, 'is_meta': False, 'category': None, 'secure_media_embed': {}, 'link_flair_text': None, 'can_mod_post': False, 'score': 3, 'approved_by': None, 'is_created_from_ads_ui': False, 'author_premium': False, 'thumbnail': '', 'edited': False, 'author_flair_css_class': None, 'author_flair_richtext': [], 'gildings': {}, 'content_categories': None, 'is_self': True, 'mod_note': None, 'created': 1653042033.0, 'link_flair_type': 'text', 'wls': 0, 'removed_by_category': None, 'banned_by': None, 'author_flair_type': 'text', 'domain': 'self.stopdrinking', 'allow_live_comments': False, 'selftext_html': '&lt;!-- SC_OFF --&gt;&lt;div class=\"md\"&gt;&lt;p&gt;Getting hammered on both Friday and Saturday night? Well I’m in college, why wouldn’t I? Getting drunk on a Wednesday because I had a rough day in class? Why the hell not? I’m in college. Turning to the sweet burn every time I face some sort of stress or inconvenience? Well…errrr…college, ……right?&lt;/p&gt;\\n\\n&lt;p&gt;Only freshly 21 and I’ve known that I’ve had a problem with alcohol for years. I ALWAYS make excuses that I don’t drink nearly as much as other students, so it must be okay (yet I love to “forget” about my personal biological factors that make me more susceptible to negative effects of alcohol!) &lt;/p&gt;\\n\\n&lt;p&gt;I’m tired of the hold that alcohol has on me. I’m tired of wishing for the evening or the weekend to come just so I have an excuse to get drunk. I want to be able to have a drink or two to celebrate a special occasion, not five because I had a mundane day in class or at work. &lt;/p&gt;\\n\\n&lt;p&gt;College drinking culture is parasitic. It’s not talked about enough. How can I recover when it is so easy to make excuses for myself in this environment?&lt;/p&gt;\\n&lt;/div&gt;&lt;!-- SC_ON --&gt;', 'likes': None, 'suggested_sort': None, 'banned_at_utc': None, 'view_count': None, 'archived': False, 'no_follow': False, 'is_crosspostable': False, 'pinned': False, 'over_18': False, 'all_awardings': [], 'awarders': [], 'media_only': False, 'can_gild': True, 'spoiler': False, 'locked': False, 'author_flair_text': None, 'treatment_tags': [], 'visited': False, 'removed_by': None, 'num_reports': None, 'distinguished': None, 'subreddit_id': 't5_2s7yr', 'author_is_blocked': False, 'mod_reason_by': None, 'removal_reason': None, 'link_flair_background_color': '', 'id': 'utr1uh', 'is_robot_indexable': True, 'report_reasons': None, 'author': 'gingeroblivion', 'discussion_type': None, 'num_comments': 5, 'send_replies': True, 'whitelist_status': 'no_ads', 'contest_mode': False, 'mod_reports': [], 'author_patreon_flair': False, 'author_flair_text_color': None, 'permalink': '/r/stopdrinking/comments/utr1uh/cutting_down_in_college/', 'parent_whitelist_status': 'no_ads', 'stickied': False, 'url': 'https://www.reddit.com/r/stopdrinking/comments/utr1uh/cutting_down_in_college/', 'subreddit_subscribers': 360805, 'created_utc': 1653042033.0, 'num_crossposts': 0, 'media': None, 'is_video': False}}, {'kind': 't3', 'data': {'approved_at_utc': None, 'subreddit': 'stopdrinking', 'selftext': \"Might be slightly rant-y, so I apologise.\\n\\nI'm kinda looking for help / suggestions and I don't really know where or how to ask. r/alcoholism has a rule #1 that says you can't post there whilst not sober, which doesn't really help me. And all of the posts on this subreddit seem to be about people doing really well. Which is amazing, for them, really, but it makes me feel like I'll get lost in the noise.\\n\\nSorry if this is not the right place for it. I tried looking at the wiki and it seemed like this was the closest place.\", 'author_fullname': 't2_ndwnlcui', 'saved': False, 'mod_reason_title': None, 'gilded': 0, 'clicked': False, 'title': 'Where to post?', 'link_flair_richtext': [], 'subreddit_name_prefixed': 'r/stopdrinking', 'hidden': False, 'pwls': 0, 'link_flair_css_class': None, 'downs': 0, 'top_awarded_type': None, 'hide_score': False, 'name': 't3_utpmax', 'quarantine': False, 'link_flair_text_color': 'dark', 'upvote_ratio': 0.67, 'author_flair_background_color': None, 'subreddit_type': 'public', 'ups': 1, 'total_awards_received': 0, 'media_embed': {}, 'author_flair_template_id': None, 'is_original_content': False, 'user_reports': [], 'secure_media': None, 'is_reddit_media_domain': False, 'is_meta': False, 'category': None, 'secure_media_embed': {}, 'link_flair_text': None, 'can_mod_post': False, 'score': 1, 'approved_by': None, 'is_created_from_ads_ui': False, 'author_premium': False, 'thumbnail': '', 'edited': False, 'author_flair_css_class': None, 'author_flair_richtext': [], 'gildings': {}, 'content_categories': None, 'is_self': True, 'mod_note': None, 'created': 1653038366.0, 'link_flair_type': 'text', 'wls': 0, 'removed_by_category': None, 'banned_by': None, 'author_flair_type': 'text', 'domain': 'self.stopdrinking', 'allow_live_comments': False, 'selftext_html': '&lt;!-- SC_OFF --&gt;&lt;div class=\"md\"&gt;&lt;p&gt;Might be slightly rant-y, so I apologise.&lt;/p&gt;\\n\\n&lt;p&gt;I&amp;#39;m kinda looking for help / suggestions and I don&amp;#39;t really know where or how to ask. &lt;a href=\"/r/alcoholism\"&gt;r/alcoholism&lt;/a&gt; has a rule #1 that says you can&amp;#39;t post there whilst not sober, which doesn&amp;#39;t really help me. And all of the posts on this subreddit seem to be about people doing really well. Which is amazing, for them, really, but it makes me feel like I&amp;#39;ll get lost in the noise.&lt;/p&gt;\\n\\n&lt;p&gt;Sorry if this is not the right place for it. I tried looking at the wiki and it seemed like this was the closest place.&lt;/p&gt;\\n&lt;/div&gt;&lt;!-- SC_ON --&gt;', 'likes': None, 'suggested_sort': None, 'banned_at_utc': None, 'view_count': None, 'archived': False, 'no_follow': True, 'is_crosspostable': False, 'pinned': False, 'over_18': False, 'all_awardings': [], 'awarders': [], 'media_only': False, 'can_gild': True, 'spoiler': False, 'locked': False, 'author_flair_text': None, 'treatment_tags': [], 'visited': False, 'removed_by': None, 'num_reports': None, 'distinguished': None, 'subreddit_id': 't5_2s7yr', 'author_is_blocked': False, 'mod_reason_by': None, 'removal_reason': None, 'link_flair_background_color': '', 'id': 'utpmax', 'is_robot_indexable': True, 'report_reasons': None, 'author': 'functioninghighmaybe', 'discussion_type': None, 'num_comments': 12, 'send_replies': True, 'whitelist_status': 'no_ads', 'contest_mode': False, 'mod_reports': [], 'author_patreon_flair': False, 'author_flair_text_color': None, 'permalink': '/r/stopdrinking/comments/utpmax/where_to_post/', 'parent_whitelist_status': 'no_ads', 'stickied': False, 'url': 'https://www.reddit.com/r/stopdrinking/comments/utpmax/where_to_post/', 'subreddit_subscribers': 360805, 'created_utc': 1653038366.0, 'num_crossposts': 0, 'media': None, 'is_video': False}}, {'kind': 't3', 'data': {'approved_at_utc': None, 'subreddit': 'stopdrinking', 'selftext': 'Tonight I can successfully and safely take my melatonin (which is recommended not to be taken while drinking) as I’m on day 2. \\n\\nIt really is the little things that add to to big things. Here’s to a good nights sleep! IWNDWYT', 'author_fullname': 't2_1zuu223z', 'saved': False, 'mod_reason_title': None, 'gilded': 0, 'clicked': False, 'title': 'it’s the Little wins', 'link_flair_richtext': [], 'subreddit_name_prefixed': 'r/stopdrinking', 'hidden': False, 'pwls': 0, 'link_flair_css_class': None, 'downs': 0, 'top_awarded_type': None, 'hide_score': False, 'name': 't3_utph0b', 'quarantine': False, 'link_flair_text_color': 'dark', 'upvote_ratio': 1.0, 'author_flair_background_color': None, 'subreddit_type': 'public', 'ups': 3, 'total_awards_received': 0, 'media_embed': {}, 'author_flair_template_id': None, 'is_original_content': False, 'user_reports': [], 'secure_media': None, 'is_reddit_media_domain': False, 'is_meta': False, 'category': None, 'secure_media_embed': {}, 'link_flair_text': None, 'can_mod_post': False, 'score': 3, 'approved_by': None, 'is_created_from_ads_ui': False, 'author_premium': False, 'thumbnail': '', 'edited': False, 'author_flair_css_class': None, 'author_flair_richtext': [], 'gildings': {}, 'content_categories': None, 'is_self': True, 'mod_note': None, 'created': 1653038075.0, 'link_flair_type': 'text', 'wls': 0, 'removed_by_category': None, 'banned_by': None, 'author_flair_type': 'text', 'domain': 'self.stopdrinking', 'allow_live_comments': False, 'selftext_html': '&lt;!-- SC_OFF --&gt;&lt;div class=\"md\"&gt;&lt;p&gt;Tonight I can successfully and safely take my melatonin (which is recommended not to be taken while drinking) as I’m on day 2. &lt;/p&gt;\\n\\n&lt;p&gt;It really is the little things that add to to big things. Here’s to a good nights sleep! IWNDWYT&lt;/p&gt;\\n&lt;/div&gt;&lt;!-- SC_ON --&gt;', 'likes': None, 'suggested_sort': None, 'banned_at_utc': None, 'view_count': None, 'archived': False, 'no_follow': False, 'is_crosspostable': False, 'pinned': False, 'over_18': False, 'all_awardings': [], 'awarders': [], 'media_only': False, 'can_gild': True, 'spoiler': False, 'locked': False, 'author_flair_text': None, 'treatment_tags': [], 'visited': False, 'removed_by': None, 'num_reports': None, 'distinguished': None, 'subreddit_id': 't5_2s7yr', 'author_is_blocked': False, 'mod_reason_by': None, 'removal_reason': None, 'link_flair_background_color': '', 'id': 'utph0b', 'is_robot_indexable': True, 'report_reasons': None, 'author': 'Fonterra26', 'discussion_type': None, 'num_comments': 1, 'send_replies': True, 'whitelist_status': 'no_ads', 'contest_mode': False, 'mod_reports': [], 'author_patreon_flair': False, 'author_flair_text_color': None, 'permalink': '/r/stopdrinking/comments/utph0b/its_the_little_wins/', 'parent_whitelist_status': 'no_ads', 'stickied': False, 'url': 'https://www.reddit.com/r/stopdrinking/comments/utph0b/its_the_little_wins/', 'subreddit_subscribers': 360805, 'created_utc': 1653038075.0, 'num_crossposts': 0, 'media': None, 'is_video': False}}, {'kind': 't3', 'data': {'approved_at_utc': None, 'subreddit': 'stopdrinking', 'selftext': 'I drink a lot. To me it’s fun. But it’s getting to the point where I am unhealthy. It started when I started my new job and I never really ever drank that heavily or doing the day. But I work at a bourbon bar where I got to try samples during the day. People can buy us drinks it and could get excessive. This is when it really started the addiction. \\n\\nOn my days off I drink once I find a solid excuse to drink and continue. I’ve lied to everyone I love about my alcohol intake and it’s hurting my relationships especially with my boyfriend going on the point where I’m hurting him a lot with my lies because he knows I’m drunk and I just keep lying, and he’s exhausted with me. \\n\\nI just need help with the temptation and how to say no to myself. It’s going to be so hard when I’m at work when it’s something I’m used to and I’m surrounded by it all day long. I get exhausted because I work 12 hour shifts and when I come home I just want to drink myself to sleep. How do I even start this?', 'author_fullname': 't2_7bg45ys2', 'saved': False, 'mod_reason_title': None, 'gilded': 0, 'clicked': False, 'title': 'I need help. Today I have decided to stop.', 'link_flair_richtext': [], 'subreddit_name_prefixed': 'r/stopdrinking', 'hidden': False, 'pwls': 0, 'link_flair_css_class': None, 'downs': 0, 'top_awarded_type': None, 'hide_score': False, 'name': 't3_utorny', 'quarantine': False, 'link_flair_text_color': 'dark', 'upvote_ratio': 1.0, 'author_flair_background_color': None, 'subreddit_type': 'public', 'ups': 2, 'total_awards_received': 0, 'media_embed': {}, 'author_flair_template_id': None, 'is_original_content': False, 'user_reports': [], 'secure_media': None, 'is_reddit_media_domain': False, 'is_meta': False, 'category': None, 'secure_media_embed': {}, 'link_flair_text': None, 'can_mod_post': False, 'score': 2, 'approved_by': None, 'is_created_from_ads_ui': False, 'author_premium': False, 'thumbnail': '', 'edited': False, 'author_flair_css_class': None, 'author_flair_richtext': [], 'gildings': {}, 'content_categories': None, 'is_self': True, 'mod_note': None, 'created': 1653035953.0, 'link_flair_type': 'text', 'wls': 0, 'removed_by_category': None, 'banned_by': None, 'author_flair_type': 'text', 'domain': 'self.stopdrinking', 'allow_live_comments': False, 'selftext_html': '&lt;!-- SC_OFF --&gt;&lt;div class=\"md\"&gt;&lt;p&gt;I drink a lot. To me it’s fun. But it’s getting to the point where I am unhealthy. It started when I started my new job and I never really ever drank that heavily or doing the day. But I work at a bourbon bar where I got to try samples during the day. People can buy us drinks it and could get excessive. This is when it really started the addiction. &lt;/p&gt;\\n\\n&lt;p&gt;On my days off I drink once I find a solid excuse to drink and continue. I’ve lied to everyone I love about my alcohol intake and it’s hurting my relationships especially with my boyfriend going on the point where I’m hurting him a lot with my lies because he knows I’m drunk and I just keep lying, and he’s exhausted with me. &lt;/p&gt;\\n\\n&lt;p&gt;I just need help with the temptation and how to say no to myself. It’s going to be so hard when I’m at work when it’s something I’m used to and I’m surrounded by it all day long. I get exhausted because I work 12 hour shifts and when I come home I just want to drink myself to sleep. How do I even start this?&lt;/p&gt;\\n&lt;/div&gt;&lt;!-- SC_ON --&gt;', 'likes': None, 'suggested_sort': None, 'banned_at_utc': None, 'view_count': None, 'archived': False, 'no_follow': False, 'is_crosspostable': False, 'pinned': False, 'over_18': False, 'all_awardings': [], 'awarders': [], 'media_only': False, 'can_gild': True, 'spoiler': False, 'locked': False, 'author_flair_text': None, 'treatment_tags': [], 'visited': False, 'removed_by': None, 'num_reports': None, 'distinguished': None, 'subreddit_id': 't5_2s7yr', 'author_is_blocked': False, 'mod_reason_by': None, 'removal_reason': None, 'link_flair_background_color': '', 'id': 'utorny', 'is_robot_indexable': True, 'report_reasons': None, 'author': 'samisnotonfireee', 'discussion_type': None, 'num_comments': 4, 'send_replies': True, 'whitelist_status': 'no_ads', 'contest_mode': False, 'mod_reports': [], 'author_patreon_flair': False, 'author_flair_text_color': None, 'permalink': '/r/stopdrinking/comments/utorny/i_need_help_today_i_have_decided_to_stop/', 'parent_whitelist_status': 'no_ads', 'stickied': False, 'url': 'https://www.reddit.com/r/stopdrinking/comments/utorny/i_need_help_today_i_have_decided_to_stop/', 'subreddit_subscribers': 360805, 'created_utc': 1653035953.0, 'num_crossposts': 0, 'media': None, 'is_video': False}}, {'kind': 't3', 'data': {'approved_at_utc': None, 'subreddit': 'stopdrinking', 'selftext': 'for years, i\\'ve always had these two sides of me. it feels like two completely different people. one wants to be sober, heal, have healthy coping mechanisms, do normal activities, wants to be calm, at peace, etc. it wants to be fair. the other side of me just does nor care. it wants to be impulsive. it wants to drink. it wants chaos. it doesn\\'t care how my loved ones feel. this side of me thinks i can talk and charm my way out of it.  it wants to do drugs. i didnt grow up in in a very stable home, you would think i would want peace. \\n\\nthe crazy thing is, i am completely aware that this part of me subconsciously seeks out chaos due to that literally being mostly all i know (til i met my bf). the \"good\" part of me craves stability, but the other side of me misses the rage. i know it is really all in my thinking. i guess no one really talks about how difficult it is to change your thinking in the process. being committed to it is so hard because i have to force myself to not act on all of my impulsive thoughts anymore. \\n\\nbeing self aware is getting irritating. i realize also that it\\'s just that \"bad\" part of me. anyways, it is so frustrating to have two parts of myself that don\\'t like the other one. the \"good\" in me is fed up with the \"bad\" part of me, because it wants to change. the \"bad part\" can\\'t stand the good part of me, because it wants to stay the same. the battle is getting old and i hope i can learn to integrate both parts of me.', 'author_fullname': 't2_d5bmld0k', 'saved': False, 'mod_reason_title': None, 'gilded': 0, 'clicked': False, 'title': 'feeling like there is two different sides of me that are at battle with one another', 'link_flair_richtext': [], 'subreddit_name_prefixed': 'r/stopdrinking', 'hidden': False, 'pwls': 0, 'link_flair_css_class': None, 'downs': 0, 'top_awarded_type': None, 'hide_score': False, 'name': 't3_utor7r', 'quarantine': False, 'link_flair_text_color': 'dark', 'upvote_ratio': 1.0, 'author_flair_background_color': '', 'subreddit_type': 'public', 'ups': 4, 'total_awards_received': 0, 'media_embed': {}, 'author_flair_template_id': None, 'is_original_content': False, 'user_reports': [], 'secure_media': None, 'is_reddit_media_domain': False, 'is_meta': False, 'category': None, 'secure_media_embed': {}, 'link_flair_text': None, 'can_mod_post': False, 'score': 4, 'approved_by': None, 'is_created_from_ads_ui': False, 'author_premium': False, 'thumbnail': '', 'edited': False, 'author_flair_css_class': 'month1', 'author_flair_richtext': [], 'gildings': {}, 'content_categories': None, 'is_self': True, 'mod_note': None, 'created': 1653035893.0, 'link_flair_type': 'text', 'wls': 0, 'removed_by_category': None, 'banned_by': None, 'author_flair_type': 'text', 'domain': 'self.stopdrinking', 'allow_live_comments': False, 'selftext_html': '&lt;!-- SC_OFF --&gt;&lt;div class=\"md\"&gt;&lt;p&gt;for years, i&amp;#39;ve always had these two sides of me. it feels like two completely different people. one wants to be sober, heal, have healthy coping mechanisms, do normal activities, wants to be calm, at peace, etc. it wants to be fair. the other side of me just does nor care. it wants to be impulsive. it wants to drink. it wants chaos. it doesn&amp;#39;t care how my loved ones feel. this side of me thinks i can talk and charm my way out of it.  it wants to do drugs. i didnt grow up in in a very stable home, you would think i would want peace. &lt;/p&gt;\\n\\n&lt;p&gt;the crazy thing is, i am completely aware that this part of me subconsciously seeks out chaos due to that literally being mostly all i know (til i met my bf). the &amp;quot;good&amp;quot; part of me craves stability, but the other side of me misses the rage. i know it is really all in my thinking. i guess no one really talks about how difficult it is to change your thinking in the process. being committed to it is so hard because i have to force myself to not act on all of my impulsive thoughts anymore. &lt;/p&gt;\\n\\n&lt;p&gt;being self aware is getting irritating. i realize also that it&amp;#39;s just that &amp;quot;bad&amp;quot; part of me. anyways, it is so frustrating to have two parts of myself that don&amp;#39;t like the other one. the &amp;quot;good&amp;quot; in me is fed up with the &amp;quot;bad&amp;quot; part of me, because it wants to change. the &amp;quot;bad part&amp;quot; can&amp;#39;t stand the good part of me, because it wants to stay the same. the battle is getting old and i hope i can learn to integrate both parts of me.&lt;/p&gt;\\n&lt;/div&gt;&lt;!-- SC_ON --&gt;', 'likes': None, 'suggested_sort': None, 'banned_at_utc': None, 'view_count': None, 'archived': False, 'no_follow': False, 'is_crosspostable': False, 'pinned': False, 'over_18': False, 'all_awardings': [], 'awarders': [], 'media_only': False, 'can_gild': True, 'spoiler': False, 'locked': False, 'author_flair_text': '34 days', 'treatment_tags': [], 'visited': False, 'removed_by': None, 'num_reports': None, 'distinguished': None, 'subreddit_id': 't5_2s7yr', 'author_is_blocked': False, 'mod_reason_by': None, 'removal_reason': None, 'link_flair_background_color': '', 'id': 'utor7r', 'is_robot_indexable': True, 'report_reasons': None, 'author': 'bubblesgirlie', 'discussion_type': None, 'num_comments': 2, 'send_replies': True, 'whitelist_status': 'no_ads', 'contest_mode': False, 'mod_reports': [], 'author_patreon_flair': False, 'author_flair_text_color': 'dark', 'permalink': '/r/stopdrinking/comments/utor7r/feeling_like_there_is_two_different_sides_of_me/', 'parent_whitelist_status': 'no_ads', 'stickied': False, 'url': 'https://www.reddit.com/r/stopdrinking/comments/utor7r/feeling_like_there_is_two_different_sides_of_me/', 'subreddit_subscribers': 360805, 'created_utc': 1653035893.0, 'num_crossposts': 0, 'media': None, 'is_video': False}}, {'kind': 't3', 'data': {'approved_at_utc': None, 'subreddit': 'stopdrinking', 'selftext': 'I’m tapping into my inner Charlie today and standing by my morals and staying sober with y’all.\\n\\nI refuse to be Augustus Gloop anymore.\\n\\nPlus I’m tired of my oompa loompa ass thoughts singing their nightmarish songs every time I fall into a pit of alcohol.\\n\\nIWNDWYT!\\n11 days', 'author_fullname': 't2_mx83xw3i', 'saved': False, 'mod_reason_title': None, 'gilded': 0, 'clicked': False, 'title': 'Willy Wonka', 'link_flair_richtext': [], 'subreddit_name_prefixed': 'r/stopdrinking', 'hidden': False, 'pwls': 0, 'link_flair_css_class': None, 'downs': 0, 'top_awarded_type': None, 'hide_score': False, 'name': 't3_utoqdy', 'quarantine': False, 'link_flair_text_color': 'dark', 'upvote_ratio': 1.0, 'author_flair_background_color': None, 'subreddit_type': 'public', 'ups': 3, 'total_awards_received': 0, 'media_embed': {}, 'author_flair_template_id': None, 'is_original_content': False, 'user_reports': [], 'secure_media': None, 'is_reddit_media_domain': False, 'is_meta': False, 'category': None, 'secure_media_embed': {}, 'link_flair_text': None, 'can_mod_post': False, 'score': 3, 'approved_by': None, 'is_created_from_ads_ui': False, 'author_premium': False, 'thumbnail': '', 'edited': False, 'author_flair_css_class': None, 'author_flair_richtext': [], 'gildings': {}, 'content_categories': None, 'is_self': True, 'mod_note': None, 'created': 1653035790.0, 'link_flair_type': 'text', 'wls': 0, 'removed_by_category': None, 'banned_by': None, 'author_flair_type': 'text', 'domain': 'self.stopdrinking', 'allow_live_comments': False, 'selftext_html': '&lt;!-- SC_OFF --&gt;&lt;div class=\"md\"&gt;&lt;p&gt;I’m tapping into my inner Charlie today and standing by my morals and staying sober with y’all.&lt;/p&gt;\\n\\n&lt;p&gt;I refuse to be Augustus Gloop anymore.&lt;/p&gt;\\n\\n&lt;p&gt;Plus I’m tired of my oompa loompa ass thoughts singing their nightmarish songs every time I fall into a pit of alcohol.&lt;/p&gt;\\n\\n&lt;p&gt;IWNDWYT!\\n11 days&lt;/p&gt;\\n&lt;/div&gt;&lt;!-- SC_ON --&gt;', 'likes': None, 'suggested_sort': None, 'banned_at_utc': None, 'view_count': None, 'archived': False, 'no_follow': False, 'is_crosspostable': False, 'pinned': False, 'over_18': False, 'all_awardings': [], 'awarders': [], 'media_only': False, 'can_gild': True, 'spoiler': False, 'locked': False, 'author_flair_text': None, 'treatment_tags': [], 'visited': False, 'removed_by': None, 'num_reports': None, 'distinguished': None, 'subreddit_id': 't5_2s7yr', 'author_is_blocked': False, 'mod_reason_by': None, 'removal_reason': None, 'link_flair_background_color': '', 'id': 'utoqdy', 'is_robot_indexable': True, 'report_reasons': None, 'author': 'ConsiderateQueen', 'discussion_type': None, 'num_comments': 4, 'send_replies': True, 'whitelist_status': 'no_ads', 'contest_mode': False, 'mod_reports': [], 'author_patreon_flair': False, 'author_flair_text_color': None, 'permalink': '/r/stopdrinking/comments/utoqdy/willy_wonka/', 'parent_whitelist_status': 'no_ads', 'stickied': False, 'url': 'https://www.reddit.com/r/stopdrinking/comments/utoqdy/willy_wonka/', 'subreddit_subscribers': 360805, 'created_utc': 1653035790.0, 'num_crossposts': 0, 'media': None, 'is_video': False}}, {'kind': 't3', 'data': {'approved_at_utc': None, 'subreddit': 'stopdrinking', 'selftext': \"And that horrible voice in my head has already tried to justify 'having a few' so I don't attract attention to myself by not drinking\\n\\nBut I'm going to say strong, if anyone asks I'll just say I'm on a health kick and wanting to take a break from the booze - hopefully that should satisfy them\", 'author_fullname': 't2_ej2836dw', 'saved': False, 'mod_reason_title': None, 'gilded': 0, 'clicked': False, 'title': 'need a bit of support today - work event', 'link_flair_richtext': [], 'subreddit_name_prefixed': 'r/stopdrinking', 'hidden': False, 'pwls': 0, 'link_flair_css_class': None, 'downs': 0, 'top_awarded_type': None, 'hide_score': False, 'name': 't3_utocox', 'quarantine': False, 'link_flair_text_color': 'dark', 'upvote_ratio': 0.83, 'author_flair_background_color': '', 'subreddit_type': 'public', 'ups': 4, 'total_awards_received': 0, 'media_embed': {}, 'author_flair_template_id': None, 'is_original_content': False, 'user_reports': [], 'secure_media': None, 'is_reddit_media_domain': False, 'is_meta': False, 'category': None, 'secure_media_embed': {}, 'link_flair_text': None, 'can_mod_post': False, 'score': 4, 'approved_by': None, 'is_created_from_ads_ui': False, 'author_premium': False, 'thumbnail': '', 'edited': False, 'author_flair_css_class': 'week3', 'author_flair_richtext': [], 'gildings': {}, 'content_categories': None, 'is_self': True, 'mod_note': None, 'created': 1653033958.0, 'link_flair_type': 'text', 'wls': 0, 'removed_by_category': None, 'banned_by': None, 'author_flair_type': 'text', 'domain': 'self.stopdrinking', 'allow_live_comments': False, 'selftext_html': '&lt;!-- SC_OFF --&gt;&lt;div class=\"md\"&gt;&lt;p&gt;And that horrible voice in my head has already tried to justify &amp;#39;having a few&amp;#39; so I don&amp;#39;t attract attention to myself by not drinking&lt;/p&gt;\\n\\n&lt;p&gt;But I&amp;#39;m going to say strong, if anyone asks I&amp;#39;ll just say I&amp;#39;m on a health kick and wanting to take a break from the booze - hopefully that should satisfy them&lt;/p&gt;\\n&lt;/div&gt;&lt;!-- SC_ON --&gt;', 'likes': None, 'suggested_sort': None, 'banned_at_utc': None, 'view_count': None, 'archived': False, 'no_follow': False, 'is_crosspostable': False, 'pinned': False, 'over_18': False, 'all_awardings': [], 'awarders': [], 'media_only': False, 'can_gild': True, 'spoiler': False, 'locked': False, 'author_flair_text': '26 days', 'treatment_tags': [], 'visited': False, 'removed_by': None, 'num_reports': None, 'distinguished': None, 'subreddit_id': 't5_2s7yr', 'author_is_blocked': False, 'mod_reason_by': None, 'removal_reason': None, 'link_flair_background_color': '', 'id': 'utocox', 'is_robot_indexable': True, 'report_reasons': None, 'author': 'Shun_Naka25', 'discussion_type': None, 'num_comments': 5, 'send_replies': True, 'whitelist_status': 'no_ads', 'contest_mode': False, 'mod_reports': [], 'author_patreon_flair': False, 'author_flair_text_color': 'dark', 'permalink': '/r/stopdrinking/comments/utocox/need_a_bit_of_support_today_work_event/', 'parent_whitelist_status': 'no_ads', 'stickied': False, 'url': 'https://www.reddit.com/r/stopdrinking/comments/utocox/need_a_bit_of_support_today_work_event/', 'subreddit_subscribers': 360805, 'created_utc': 1653033958.0, 'num_crossposts': 0, 'media': None, 'is_video': False}}, {'kind': 't3', 'data': {'approved_at_utc': None, 'subreddit': 'stopdrinking', 'selftext': 'i hit a month sober. but i\\'ve just gotten my period yesterday... my first sober one in years. i have literally cried and acted crazy (i did have to go to the ER due to a medical issue too). then today, i was in a pretty good mood. i saw my therapist. \\n\\nbut my 21st bday is coming up and i\\'m going on a trip with friends, my bf, aunt, etc. i was supposed to drink before, obviously. i will be the only one at my 21st birthday... not drinking. most of my friends said they would smoke more than drink (i still smoke weed here and there), to make me feel comfy, but i know they will drink some. and i genuinely want them to have fun. it\\'s less about them and more about the fact im angry i can\\'t drink on my 21st. \\n\\nit\\'s weird though because i\\'m going to mexico next week and don\\'t have an urge to drink for that. i tried to talk my bf into seeing if i could just try it for my bday bc i\\'ve had a long break. that was a no &amp; he was telling me i\\'m just looking for excuses to drink and i will continue to find them after. i haven\\'t even wanted to \"try again\" in the last month, until today.\\n\\nsomeone please tell me it eventually stops being so hard, that i\\'ll eventually accept that i can\\'t drink again. it\\'s not like it\\'s always hard but when it is it\\'s soooo fucking hard.', 'author_fullname': 't2_d5bmld0k', 'saved': False, 'mod_reason_title': None, 'gilded': 0, 'clicked': False, 'title': '33 days sober | rant / need advice', 'link_flair_richtext': [], 'subreddit_name_prefixed': 'r/stopdrinking', 'hidden': False, 'pwls': 0, 'link_flair_css_class': None, 'downs': 0, 'top_awarded_type': None, 'hide_score': False, 'name': 't3_uto8ym', 'quarantine': False, 'link_flair_text_color': 'dark', 'upvote_ratio': 1.0, 'author_flair_background_color': '', 'subreddit_type': 'public', 'ups': 3, 'total_awards_received': 1, 'media_embed': {}, 'author_flair_template_id': None, 'is_original_content': False, 'user_reports': [], 'secure_media': None, 'is_reddit_media_domain': False, 'is_meta': False, 'category': None, 'secure_media_embed': {}, 'link_flair_text': None, 'can_mod_post': False, 'score': 3, 'approved_by': None, 'is_created_from_ads_ui': False, 'author_premium': False, 'thumbnail': '', 'edited': False, 'author_flair_css_class': 'month1', 'author_flair_richtext': [], 'gildings': {'gid_1': 1}, 'content_categories': None, 'is_self': True, 'mod_note': None, 'created': 1653033502.0, 'link_flair_type': 'text', 'wls': 0, 'removed_by_category': None, 'banned_by': None, 'author_flair_type': 'text', 'domain': 'self.stopdrinking', 'allow_live_comments': False, 'selftext_html': '&lt;!-- SC_OFF --&gt;&lt;div class=\"md\"&gt;&lt;p&gt;i hit a month sober. but i&amp;#39;ve just gotten my period yesterday... my first sober one in years. i have literally cried and acted crazy (i did have to go to the ER due to a medical issue too). then today, i was in a pretty good mood. i saw my therapist. &lt;/p&gt;\\n\\n&lt;p&gt;but my 21st bday is coming up and i&amp;#39;m going on a trip with friends, my bf, aunt, etc. i was supposed to drink before, obviously. i will be the only one at my 21st birthday... not drinking. most of my friends said they would smoke more than drink (i still smoke weed here and there), to make me feel comfy, but i know they will drink some. and i genuinely want them to have fun. it&amp;#39;s less about them and more about the fact im angry i can&amp;#39;t drink on my 21st. &lt;/p&gt;\\n\\n&lt;p&gt;it&amp;#39;s weird though because i&amp;#39;m going to mexico next week and don&amp;#39;t have an urge to drink for that. i tried to talk my bf into seeing if i could just try it for my bday bc i&amp;#39;ve had a long break. that was a no &amp;amp; he was telling me i&amp;#39;m just looking for excuses to drink and i will continue to find them after. i haven&amp;#39;t even wanted to &amp;quot;try again&amp;quot; in the last month, until today.&lt;/p&gt;\\n\\n&lt;p&gt;someone please tell me it eventually stops being so hard, that i&amp;#39;ll eventually accept that i can&amp;#39;t drink again. it&amp;#39;s not like it&amp;#39;s always hard but when it is it&amp;#39;s soooo fucking hard.&lt;/p&gt;\\n&lt;/div&gt;&lt;!-- SC_ON --&gt;', 'likes': None, 'suggested_sort': None, 'banned_at_utc': None, 'view_count': None, 'archived': False, 'no_follow': False, 'is_crosspostable': False, 'pinned': False, 'over_18': False, 'all_awardings': [{'giver_coin_reward': None, 'subreddit_id': None, 'is_new': False, 'days_of_drip_extension': None, 'coin_price': 100, 'id': 'gid_1', 'penny_donate': None, 'award_sub_type': 'GLOBAL', 'coin_reward': 0, 'icon_url': 'https://www.redditstatic.com/gold/awards/icon/silver_512.png', 'days_of_premium': None, 'tiers_by_required_awardings': None, 'resized_icons': [{'url': 'https://www.redditstatic.com/gold/awards/icon/silver_16.png', 'width': 16, 'height': 16}, {'url': 'https://www.redditstatic.com/gold/awards/icon/silver_32.png', 'width': 32, 'height': 32}, {'url': 'https://www.redditstatic.com/gold/awards/icon/silver_48.png', 'width': 48, 'height': 48}, {'url': 'https://www.redditstatic.com/gold/awards/icon/silver_64.png', 'width': 64, 'height': 64}, {'url': 'https://www.redditstatic.com/gold/awards/icon/silver_128.png', 'width': 128, 'height': 128}], 'icon_width': 512, 'static_icon_width': 512, 'start_date': None, 'is_enabled': True, 'awardings_required_to_grant_benefits': None, 'description': \"Shows the Silver Award... and that's it.\", 'end_date': None, 'subreddit_coin_reward': 0, 'count': 1, 'static_icon_height': 512, 'name': 'Silver', 'resized_static_icons': [{'url': 'https://www.redditstatic.com/gold/awards/icon/silver_16.png', 'width': 16, 'height': 16}, {'url': 'https://www.redditstatic.com/gold/awards/icon/silver_32.png', 'width': 32, 'height': 32}, {'url': 'https://www.redditstatic.com/gold/awards/icon/silver_48.png', 'width': 48, 'height': 48}, {'url': 'https://www.redditstatic.com/gold/awards/icon/silver_64.png', 'width': 64, 'height': 64}, {'url': 'https://www.redditstatic.com/gold/awards/icon/silver_128.png', 'width': 128, 'height': 128}], 'icon_format': None, 'icon_height': 512, 'penny_price': None, 'award_type': 'global', 'static_icon_url': 'https://www.redditstatic.com/gold/awards/icon/silver_512.png'}], 'awarders': [], 'media_only': False, 'can_gild': True, 'spoiler': False, 'locked': False, 'author_flair_text': '34 days', 'treatment_tags': [], 'visited': False, 'removed_by': None, 'num_reports': None, 'distinguished': None, 'subreddit_id': 't5_2s7yr', 'author_is_blocked': False, 'mod_reason_by': None, 'removal_reason': None, 'link_flair_background_color': '', 'id': 'uto8ym', 'is_robot_indexable': True, 'report_reasons': None, 'author': 'bubblesgirlie', 'discussion_type': None, 'num_comments': 1, 'send_replies': True, 'whitelist_status': 'no_ads', 'contest_mode': False, 'mod_reports': [], 'author_patreon_flair': False, 'author_flair_text_color': 'dark', 'permalink': '/r/stopdrinking/comments/uto8ym/33_days_sober_rant_need_advice/', 'parent_whitelist_status': 'no_ads', 'stickied': False, 'url': 'https://www.reddit.com/r/stopdrinking/comments/uto8ym/33_days_sober_rant_need_advice/', 'subreddit_subscribers': 360805, 'created_utc': 1653033502.0, 'num_crossposts': 0, 'media': None, 'is_video': False}}, {'kind': 't3', 'data': {'approved_at_utc': None, 'subreddit': 'stopdrinking', 'selftext': \"Feel like a weak, disgusting human being. Seven months and six days sober. Drank last night for no reason other than I am on vacation and the bartender got my NA drink wrong. I chair my AA group one night of the week. I thought I had finally hit the point where I didn't have to fear relapse anymore. I'm so embarrassed and ashamed. Do I tell my sober friends? Do I pitch my coins? What obligations do I have here? I wish my story weren't one of relapse. Thanks for listening. Day one.\", 'author_fullname': 't2_nfsnmzx', 'saved': False, 'mod_reason_title': None, 'gilded': 0, 'clicked': False, 'title': 'Seven months down the drain after last night', 'link_flair_richtext': [], 'subreddit_name_prefixed': 'r/stopdrinking', 'hidden': False, 'pwls': 0, 'link_flair_css_class': None, 'downs': 0, 'top_awarded_type': None, 'hide_score': False, 'name': 't3_uto2mn', 'quarantine': False, 'link_flair_text_color': 'dark', 'upvote_ratio': 1.0, 'author_flair_background_color': None, 'subreddit_type': 'public', 'ups': 7, 'total_awards_received': 0, 'media_embed': {}, 'author_flair_template_id': None, 'is_original_content': False, 'user_reports': [], 'secure_media': None, 'is_reddit_media_domain': False, 'is_meta': False, 'category': None, 'secure_media_embed': {}, 'link_flair_text': None, 'can_mod_post': False, 'score': 7, 'approved_by': None, 'is_created_from_ads_ui': False, 'author_premium': False, 'thumbnail': '', 'edited': False, 'author_flair_css_class': None, 'author_flair_richtext': [], 'gildings': {}, 'content_categories': None, 'is_self': True, 'mod_note': None, 'created': 1653032635.0, 'link_flair_type': 'text', 'wls': 0, 'removed_by_category': None, 'banned_by': None, 'author_flair_type': 'text', 'domain': 'self.stopdrinking', 'allow_live_comments': False, 'selftext_html': '&lt;!-- SC_OFF --&gt;&lt;div class=\"md\"&gt;&lt;p&gt;Feel like a weak, disgusting human being. Seven months and six days sober. Drank last night for no reason other than I am on vacation and the bartender got my NA drink wrong. I chair my AA group one night of the week. I thought I had finally hit the point where I didn&amp;#39;t have to fear relapse anymore. I&amp;#39;m so embarrassed and ashamed. Do I tell my sober friends? Do I pitch my coins? What obligations do I have here? I wish my story weren&amp;#39;t one of relapse. Thanks for listening. Day one.&lt;/p&gt;\\n&lt;/div&gt;&lt;!-- SC_ON --&gt;', 'likes': None, 'suggested_sort': None, 'banned_at_utc': None, 'view_count': None, 'archived': False, 'no_follow': False, 'is_crosspostable': False, 'pinned': False, 'over_18': False, 'all_awardings': [], 'awarders': [], 'media_only': False, 'can_gild': True, 'spoiler': False, 'locked': False, 'author_flair_text': None, 'treatment_tags': [], 'visited': False, 'removed_by': None, 'num_reports': None, 'distinguished': None, 'subreddit_id': 't5_2s7yr', 'author_is_blocked': False, 'mod_reason_by': None, 'removal_reason': None, 'link_flair_background_color': '', 'id': 'uto2mn', 'is_robot_indexable': True, 'report_reasons': None, 'author': 'ckrans', 'discussion_type': None, 'num_comments': 12, 'send_replies': True, 'whitelist_status': 'no_ads', 'contest_mode': False, 'mod_reports': [], 'author_patreon_flair': False, 'author_flair_text_color': None, 'permalink': '/r/stopdrinking/comments/uto2mn/seven_months_down_the_drain_after_last_night/', 'parent_whitelist_status': 'no_ads', 'stickied': False, 'url': 'https://www.reddit.com/r/stopdrinking/comments/uto2mn/seven_months_down_the_drain_after_last_night/', 'subreddit_subscribers': 360805, 'created_utc': 1653032635.0, 'num_crossposts': 0, 'media': None, 'is_video': False}}, {'kind': 't3', 'data': {'approved_at_utc': None, 'subreddit': 'stopdrinking', 'selftext': 'And now I feel like shit at work ☹️ I’m not exactly a problem drinker but the hangovers are so bad now that even after 4 pints I feel absolutely terrible. Today is day 1 for me at least I’ll be able to sail through the weekend without being tempted.', 'author_fullname': 't2_kkrthdd0', 'saved': False, 'mod_reason_title': None, 'gilded': 0, 'clicked': False, 'title': 'Went out for a Curry last night and ended up having 4 pints…', 'link_flair_richtext': [], 'subreddit_name_prefixed': 'r/stopdrinking', 'hidden': False, 'pwls': 0, 'link_flair_css_class': None, 'downs': 0, 'top_awarded_type': None, 'hide_score': False, 'name': 't3_uto00n', 'quarantine': False, 'link_flair_text_color': 'dark', 'upvote_ratio': 1.0, 'author_flair_background_color': None, 'subreddit_type': 'public', 'ups': 5, 'total_awards_received': 0, 'media_embed': {}, 'author_flair_template_id': 'faf59352-6c36-11e9-bb53-0ea8f391a97e', 'is_original_content': False, 'user_reports': [], 'secure_media': None, 'is_reddit_media_domain': False, 'is_meta': False, 'category': None, 'secure_media_embed': {}, 'link_flair_text': None, 'can_mod_post': False, 'score': 5, 'approved_by': None, 'is_created_from_ads_ui': False, 'author_premium': False, 'thumbnail': '', 'edited': False, 'author_flair_css_class': 'under1', 'author_flair_richtext': [], 'gildings': {}, 'content_categories': None, 'is_self': True, 'mod_note': None, 'created': 1653032286.0, 'link_flair_type': 'text', 'wls': 0, 'removed_by_category': None, 'banned_by': None, 'author_flair_type': 'text', 'domain': 'self.stopdrinking', 'allow_live_comments': False, 'selftext_html': '&lt;!-- SC_OFF --&gt;&lt;div class=\"md\"&gt;&lt;p&gt;And now I feel like shit at work ☹️ I’m not exactly a problem drinker but the hangovers are so bad now that even after 4 pints I feel absolutely terrible. Today is day 1 for me at least I’ll be able to sail through the weekend without being tempted.&lt;/p&gt;\\n&lt;/div&gt;&lt;!-- SC_ON --&gt;', 'likes': None, 'suggested_sort': None, 'banned_at_utc': None, 'view_count': None, 'archived': False, 'no_follow': False, 'is_crosspostable': False, 'pinned': False, 'over_18': False, 'all_awardings': [], 'awarders': [], 'media_only': False, 'can_gild': True, 'spoiler': False, 'locked': False, 'author_flair_text': '1 day', 'treatment_tags': [], 'visited': False, 'removed_by': None, 'num_reports': None, 'distinguished': None, 'subreddit_id': 't5_2s7yr', 'author_is_blocked': False, 'mod_reason_by': None, 'removal_reason': None, 'link_flair_background_color': '', 'id': 'uto00n', 'is_robot_indexable': True, 'report_reasons': None, 'author': 'sausagewaffle69', 'discussion_type': None, 'num_comments': 1, 'send_replies': True, 'whitelist_status': 'no_ads', 'contest_mode': False, 'mod_reports': [], 'author_patreon_flair': False, 'author_flair_text_color': 'dark', 'permalink': '/r/stopdrinking/comments/uto00n/went_out_for_a_curry_last_night_and_ended_up/', 'parent_whitelist_status': 'no_ads', 'stickied': False, 'url': 'https://www.reddit.com/r/stopdrinking/comments/uto00n/went_out_for_a_curry_last_night_and_ended_up/', 'subreddit_subscribers': 360805, 'created_utc': 1653032286.0, 'num_crossposts': 0, 'media': None, 'is_video': False}}, {'kind': 't3', 'data': {'approved_at_utc': None, 'subreddit': 'stopdrinking', 'selftext': \"I think the most interesting part of this is the peace of mind thus far... it's not some short term detox, it's a 180 degree flip in lifestyle and somehow, knowing that I won't drink long term eases the mind to stop focusing, planning or considering a drink down the line... kind of like clocking in for work and not focusing on how much time you have left because the day just started. I will cherish these moments because I know that in a week or so, I will have strong resistance and cravings... but for now I am happy to have had a productive day and look forward to facing the boredom of lifestyle change.\\n\\nI will not drink with you or your mom's friends today (IWNDWYOYMFT).\", 'author_fullname': 't2_9g5y8ii', 'saved': False, 'mod_reason_title': None, 'gilded': 0, 'clicked': False, 'title': 'Day 2 - A calmness.', 'link_flair_richtext': [], 'subreddit_name_prefixed': 'r/stopdrinking', 'hidden': False, 'pwls': 0, 'link_flair_css_class': None, 'downs': 0, 'top_awarded_type': None, 'hide_score': False, 'name': 't3_utnv57', 'quarantine': False, 'link_flair_text_color': 'dark', 'upvote_ratio': 1.0, 'author_flair_background_color': None, 'subreddit_type': 'public', 'ups': 8, 'total_awards_received': 0, 'media_embed': {}, 'author_flair_template_id': None, 'is_original_content': False, 'user_reports': [], 'secure_media': None, 'is_reddit_media_domain': False, 'is_meta': False, 'category': None, 'secure_media_embed': {}, 'link_flair_text': None, 'can_mod_post': False, 'score': 8, 'approved_by': None, 'is_created_from_ads_ui': False, 'author_premium': False, 'thumbnail': '', 'edited': False, 'author_flair_css_class': None, 'author_flair_richtext': [], 'gildings': {}, 'content_categories': None, 'is_self': True, 'mod_note': None, 'created': 1653031656.0, 'link_flair_type': 'text', 'wls': 0, 'removed_by_category': None, 'banned_by': None, 'author_flair_type': 'text', 'domain': 'self.stopdrinking', 'allow_live_comments': False, 'selftext_html': '&lt;!-- SC_OFF --&gt;&lt;div class=\"md\"&gt;&lt;p&gt;I think the most interesting part of this is the peace of mind thus far... it&amp;#39;s not some short term detox, it&amp;#39;s a 180 degree flip in lifestyle and somehow, knowing that I won&amp;#39;t drink long term eases the mind to stop focusing, planning or considering a drink down the line... kind of like clocking in for work and not focusing on how much time you have left because the day just started. I will cherish these moments because I know that in a week or so, I will have strong resistance and cravings... but for now I am happy to have had a productive day and look forward to facing the boredom of lifestyle change.&lt;/p&gt;\\n\\n&lt;p&gt;I will not drink with you or your mom&amp;#39;s friends today (IWNDWYOYMFT).&lt;/p&gt;\\n&lt;/div&gt;&lt;!-- SC_ON --&gt;', 'likes': None, 'suggested_sort': None, 'banned_at_utc': None, 'view_count': None, 'archived': False, 'no_follow': False, 'is_crosspostable': False, 'pinned': False, 'over_18': False, 'all_awardings': [], 'awarders': [], 'media_only': False, 'can_gild': True, 'spoiler': False, 'locked': False, 'author_flair_text': None, 'treatment_tags': [], 'visited': False, 'removed_by': None, 'num_reports': None, 'distinguished': None, 'subreddit_id': 't5_2s7yr', 'author_is_blocked': False, 'mod_reason_by': None, 'removal_reason': None, 'link_flair_background_color': '', 'id': 'utnv57', 'is_robot_indexable': True, 'report_reasons': None, 'author': 'ImaginaryAmbition', 'discussion_type': None, 'num_comments': 1, 'send_replies': True, 'whitelist_status': 'no_ads', 'contest_mode': False, 'mod_reports': [], 'author_patreon_flair': False, 'author_flair_text_color': None, 'permalink': '/r/stopdrinking/comments/utnv57/day_2_a_calmness/', 'parent_whitelist_status': 'no_ads', 'stickied': False, 'url': 'https://www.reddit.com/r/stopdrinking/comments/utnv57/day_2_a_calmness/', 'subreddit_subscribers': 360805, 'created_utc': 1653031656.0, 'num_crossposts': 0, 'media': None, 'is_video': False}}, {'kind': 't3', 'data': {'approved_at_utc': None, 'subreddit': 'stopdrinking', 'selftext': 'I am ok but suddenly I get a sudden need of drinking and I do finish one beer in less than 30 seconds. The second one in a couple of minutes and then slow down. I have noticed that I cant drink anymore if I ate too much. The alcohol doesnt get me drunk and I dont even feel the urge anymore. \\n\\nI know it could start a different problem (dealing with obesity now) but it would be a smaller one. \\n\\nAny thoughts?', 'author_fullname': 't2_my91pdoq', 'saved': False, 'mod_reason_title': None, 'gilded': 0, 'clicked': False, 'title': 'Have any of you tried drinking (no alcohol) or eating LOTS when you get those urges to get drunk?', 'link_flair_richtext': [], 'subreddit_name_prefixed': 'r/stopdrinking', 'hidden': False, 'pwls': 0, 'link_flair_css_class': None, 'downs': 0, 'top_awarded_type': None, 'hide_score': False, 'name': 't3_utnubb', 'quarantine': False, 'link_flair_text_color': 'dark', 'upvote_ratio': 1.0, 'author_flair_background_color': None, 'subreddit_type': 'public', 'ups': 12, 'total_awards_received': 0, 'media_embed': {}, 'author_flair_template_id': None, 'is_original_content': False, 'user_reports': [], 'secure_media': None, 'is_reddit_media_domain': False, 'is_meta': False, 'category': None, 'secure_media_embed': {}, 'link_flair_text': None, 'can_mod_post': False, 'score': 12, 'approved_by': None, 'is_created_from_ads_ui': False, 'author_premium': False, 'thumbnail': '', 'edited': False, 'author_flair_css_class': None, 'author_flair_richtext': [], 'gildings': {}, 'content_categories': None, 'is_self': True, 'mod_note': None, 'created': 1653031545.0, 'link_flair_type': 'text', 'wls': 0, 'removed_by_category': None, 'banned_by': None, 'author_flair_type': 'text', 'domain': 'self.stopdrinking', 'allow_live_comments': False, 'selftext_html': '&lt;!-- SC_OFF --&gt;&lt;div class=\"md\"&gt;&lt;p&gt;I am ok but suddenly I get a sudden need of drinking and I do finish one beer in less than 30 seconds. The second one in a couple of minutes and then slow down. I have noticed that I cant drink anymore if I ate too much. The alcohol doesnt get me drunk and I dont even feel the urge anymore. &lt;/p&gt;\\n\\n&lt;p&gt;I know it could start a different problem (dealing with obesity now) but it would be a smaller one. &lt;/p&gt;\\n\\n&lt;p&gt;Any thoughts?&lt;/p&gt;\\n&lt;/div&gt;&lt;!-- SC_ON --&gt;', 'likes': None, 'suggested_sort': None, 'banned_at_utc': None, 'view_count': None, 'archived': False, 'no_follow': False, 'is_crosspostable': False, 'pinned': False, 'over_18': False, 'all_awardings': [], 'awarders': [], 'media_only': False, 'can_gild': True, 'spoiler': False, 'locked': False, 'author_flair_text': None, 'treatment_tags': [], 'visited': False, 'removed_by': None, 'num_reports': None, 'distinguished': None, 'subreddit_id': 't5_2s7yr', 'author_is_blocked': False, 'mod_reason_by': None, 'removal_reason': None, 'link_flair_background_color': '', 'id': 'utnubb', 'is_robot_indexable': True, 'report_reasons': None, 'author': 'trazoM_nevohteeB', 'discussion_type': None, 'num_comments': 7, 'send_replies': True, 'whitelist_status': 'no_ads', 'contest_mode': False, 'mod_reports': [], 'author_patreon_flair': False, 'author_flair_text_color': None, 'permalink': '/r/stopdrinking/comments/utnubb/have_any_of_you_tried_drinking_no_alcohol_or/', 'parent_whitelist_status': 'no_ads', 'stickied': False, 'url': 'https://www.reddit.com/r/stopdrinking/comments/utnubb/have_any_of_you_tried_drinking_no_alcohol_or/', 'subreddit_subscribers': 360805, 'created_utc': 1653031545.0, 'num_crossposts': 0, 'media': None, 'is_video': False}}, {'kind': 't3', 'data': {'approved_at_utc': None, 'subreddit': 'stopdrinking', 'selftext': \"Each day, I'm thankful for my sobriety. It feels like a miracle now I've made it 2+ years.   \\n\\n\\nFor the most part I don't really crave alcohol anymore. Though, from time to time I'm reminded that I was, and will always be addicted. One of those times was tonight. My First wedding, and  major social event since the beginning of COVID. It was hard to be around so many people drinking, and generally over-indulging.  I ran through many scenarios in my head about how I could sneak a drink(s) without my partner knowing. In my head, it felt like I could vividly taste the beer, wine, champaign, etc. simply from looking at it all around me. It was overwhelming. And, the only thing I could think about for parts of the evening. My sobriety was tested. A lot. However, I didn't end up drinking. And I am very thankful for that!  \\n\\n\\nHow do other r/stopdrinking veterans handle these sorts of situations?  \\n\\n\\nIWNDWYT\", 'author_fullname': 't2_ukb2a', 'saved': False, 'mod_reason_title': None, 'gilded': 0, 'clicked': False, 'title': 'Weddings are tough!', 'link_flair_richtext': [], 'subreddit_name_prefixed': 'r/stopdrinking', 'hidden': False, 'pwls': 0, 'link_flair_css_class': None, 'downs': 0, 'top_awarded_type': None, 'hide_score': False, 'name': 't3_utnso3', 'quarantine': False, 'link_flair_text_color': 'dark', 'upvote_ratio': 1.0, 'author_flair_background_color': None, 'subreddit_type': 'public', 'ups': 6, 'total_awards_received': 0, 'media_embed': {}, 'author_flair_template_id': 'f7eec2ca-6c34-11e9-b4d8-0e7ea67a6ce4', 'is_original_content': False, 'user_reports': [], 'secure_media': None, 'is_reddit_media_domain': False, 'is_meta': False, 'category': None, 'secure_media_embed': {}, 'link_flair_text': None, 'can_mod_post': False, 'score': 6, 'approved_by': None, 'is_created_from_ads_ui': False, 'author_premium': False, 'thumbnail': '', 'edited': False, 'author_flair_css_class': 'year1', 'author_flair_richtext': [], 'gildings': {}, 'content_categories': None, 'is_self': True, 'mod_note': None, 'created': 1653031334.0, 'link_flair_type': 'text', 'wls': 0, 'removed_by_category': None, 'banned_by': None, 'author_flair_type': 'text', 'domain': 'self.stopdrinking', 'allow_live_comments': False, 'selftext_html': '&lt;!-- SC_OFF --&gt;&lt;div class=\"md\"&gt;&lt;p&gt;Each day, I&amp;#39;m thankful for my sobriety. It feels like a miracle now I&amp;#39;ve made it 2+ years.   &lt;/p&gt;\\n\\n&lt;p&gt;For the most part I don&amp;#39;t really crave alcohol anymore. Though, from time to time I&amp;#39;m reminded that I was, and will always be addicted. One of those times was tonight. My First wedding, and  major social event since the beginning of COVID. It was hard to be around so many people drinking, and generally over-indulging.  I ran through many scenarios in my head about how I could sneak a drink(s) without my partner knowing. In my head, it felt like I could vividly taste the beer, wine, champaign, etc. simply from looking at it all around me. It was overwhelming. And, the only thing I could think about for parts of the evening. My sobriety was tested. A lot. However, I didn&amp;#39;t end up drinking. And I am very thankful for that!  &lt;/p&gt;\\n\\n&lt;p&gt;How do other &lt;a href=\"/r/stopdrinking\"&gt;r/stopdrinking&lt;/a&gt; veterans handle these sorts of situations?  &lt;/p&gt;\\n\\n&lt;p&gt;IWNDWYT&lt;/p&gt;\\n&lt;/div&gt;&lt;!-- SC_ON --&gt;', 'likes': None, 'suggested_sort': None, 'banned_at_utc': None, 'view_count': None, 'archived': False, 'no_follow': False, 'is_crosspostable': False, 'pinned': False, 'over_18': False, 'all_awardings': [], 'awarders': [], 'media_only': False, 'can_gild': True, 'spoiler': False, 'locked': False, 'author_flair_text': '801 days', 'treatment_tags': [], 'visited': False, 'removed_by': None, 'num_reports': None, 'distinguished': None, 'subreddit_id': 't5_2s7yr', 'author_is_blocked': False, 'mod_reason_by': None, 'removal_reason': None, 'link_flair_background_color': '', 'id': 'utnso3', 'is_robot_indexable': True, 'report_reasons': None, 'author': 'flight_path', 'discussion_type': None, 'num_comments': 2, 'send_replies': True, 'whitelist_status': 'no_ads', 'contest_mode': False, 'mod_reports': [], 'author_patreon_flair': False, 'author_flair_text_color': 'dark', 'permalink': '/r/stopdrinking/comments/utnso3/weddings_are_tough/', 'parent_whitelist_status': 'no_ads', 'stickied': False, 'url': 'https://www.reddit.com/r/stopdrinking/comments/utnso3/weddings_are_tough/', 'subreddit_subscribers': 360805, 'created_utc': 1653031334.0, 'num_crossposts': 0, 'media': None, 'is_video': False}}, {'kind': 't3', 'data': {'approved_at_utc': None, 'subreddit': 'stopdrinking', 'selftext': 'Neighbors are throwing a kids birthday party and will be lots of booze.  I told the kids they could go, but I will stay home and work out. \\n\\nTemptation is strong. Iwndwyt', 'author_fullname': 't2_br3zz', 'saved': False, 'mod_reason_title': None, 'gilded': 0, 'clicked': False, 'title': \"Friday night, and there's a party..\", 'link_flair_richtext': [], 'subreddit_name_prefixed': 'r/stopdrinking', 'hidden': False, 'pwls': 0, 'link_flair_css_class': None, 'downs': 0, 'top_awarded_type': None, 'hide_score': False, 'name': 't3_utnciu', 'quarantine': False, 'link_flair_text_color': 'dark', 'upvote_ratio': 1.0, 'author_flair_background_color': None, 'subreddit_type': 'public', 'ups': 7, 'total_awards_received': 0, 'media_embed': {}, 'author_flair_template_id': 'faf59352-6c36-11e9-bb53-0ea8f391a97e', 'is_original_content': False, 'user_reports': [], 'secure_media': None, 'is_reddit_media_domain': False, 'is_meta': False, 'category': None, 'secure_media_embed': {}, 'link_flair_text': None, 'can_mod_post': False, 'score': 7, 'approved_by': None, 'is_created_from_ads_ui': False, 'author_premium': False, 'thumbnail': '', 'edited': False, 'author_flair_css_class': 'under1', 'author_flair_richtext': [], 'gildings': {}, 'content_categories': None, 'is_self': True, 'mod_note': None, 'created': 1653029310.0, 'link_flair_type': 'text', 'wls': 0, 'removed_by_category': None, 'banned_by': None, 'author_flair_type': 'text', 'domain': 'self.stopdrinking', 'allow_live_comments': False, 'selftext_html': '&lt;!-- SC_OFF --&gt;&lt;div class=\"md\"&gt;&lt;p&gt;Neighbors are throwing a kids birthday party and will be lots of booze.  I told the kids they could go, but I will stay home and work out. &lt;/p&gt;\\n\\n&lt;p&gt;Temptation is strong. Iwndwyt&lt;/p&gt;\\n&lt;/div&gt;&lt;!-- SC_ON --&gt;', 'likes': None, 'suggested_sort': None, 'banned_at_utc': None, 'view_count': None, 'archived': False, 'no_follow': False, 'is_crosspostable': False, 'pinned': False, 'over_18': False, 'all_awardings': [], 'awarders': [], 'media_only': False, 'can_gild': True, 'spoiler': False, 'locked': False, 'author_flair_text': '4 days', 'treatment_tags': [], 'visited': False, 'removed_by': None, 'num_reports': None, 'distinguished': None, 'subreddit_id': 't5_2s7yr', 'author_is_blocked': False, 'mod_reason_by': None, 'removal_reason': None, 'link_flair_background_color': '', 'id': 'utnciu', 'is_robot_indexable': True, 'report_reasons': None, 'author': 'jest6r', 'discussion_type': None, 'num_comments': 4, 'send_replies': True, 'whitelist_status': 'no_ads', 'contest_mode': False, 'mod_reports': [], 'author_patreon_flair': False, 'author_flair_text_color': 'dark', 'permalink': '/r/stopdrinking/comments/utnciu/friday_night_and_theres_a_party/', 'parent_whitelist_status': 'no_ads', 'stickied': False, 'url': 'https://www.reddit.com/r/stopdrinking/comments/utnciu/friday_night_and_theres_a_party/', 'subreddit_subscribers': 360805, 'created_utc': 1653029310.0, 'num_crossposts': 0, 'media': None, 'is_video': False}}, {'kind': 't3', 'data': {'approved_at_utc': None, 'subreddit': 'stopdrinking', 'selftext': 'To increase my chances tremendously for living a healthy life.\\n\\nTo not be in pain and nausea during the best part of my days (mornings).\\n\\nTo be able to enjoy and learn better my hobby (chess)\\n\\nTo save good amount of extra money.\\n\\nTo be satisfied with my work and not escaping from responsabilities.\\n\\nToday is another day one, I am an alcoholic, and I am in the process of recovering.', 'author_fullname': 't2_j4bys13d', 'saved': False, 'mod_reason_title': None, 'gilded': 0, 'clicked': False, 'title': 'Why do I want to be sober?', 'link_flair_richtext': [], 'subreddit_name_prefixed': 'r/stopdrinking', 'hidden': False, 'pwls': 0, 'link_flair_css_class': None, 'downs': 0, 'top_awarded_type': None, 'hide_score': False, 'name': 't3_utn8n1', 'quarantine': False, 'link_flair_text_color': 'dark', 'upvote_ratio': 1.0, 'author_flair_background_color': None, 'subreddit_type': 'public', 'ups': 27, 'total_awards_received': 0, 'media_embed': {}, 'author_flair_template_id': None, 'is_original_content': False, 'user_reports': [], 'secure_media': None, 'is_reddit_media_domain': False, 'is_meta': False, 'category': None, 'secure_media_embed': {}, 'link_flair_text': None, 'can_mod_post': False, 'score': 27, 'approved_by': None, 'is_created_from_ads_ui': False, 'author_premium': False, 'thumbnail': '', 'edited': False, 'author_flair_css_class': None, 'author_flair_richtext': [], 'gildings': {}, 'content_categories': None, 'is_self': True, 'mod_note': None, 'created': 1653028817.0, 'link_flair_type': 'text', 'wls': 0, 'removed_by_category': None, 'banned_by': None, 'author_flair_type': 'text', 'domain': 'self.stopdrinking', 'allow_live_comments': False, 'selftext_html': '&lt;!-- SC_OFF --&gt;&lt;div class=\"md\"&gt;&lt;p&gt;To increase my chances tremendously for living a healthy life.&lt;/p&gt;\\n\\n&lt;p&gt;To not be in pain and nausea during the best part of my days (mornings).&lt;/p&gt;\\n\\n&lt;p&gt;To be able to enjoy and learn better my hobby (chess)&lt;/p&gt;\\n\\n&lt;p&gt;To save good amount of extra money.&lt;/p&gt;\\n\\n&lt;p&gt;To be satisfied with my work and not escaping from responsabilities.&lt;/p&gt;\\n\\n&lt;p&gt;Today is another day one, I am an alcoholic, and I am in the process of recovering.&lt;/p&gt;\\n&lt;/div&gt;&lt;!-- SC_ON --&gt;', 'likes': None, 'suggested_sort': None, 'banned_at_utc': None, 'view_count': None, 'archived': False, 'no_follow': False, 'is_crosspostable': False, 'pinned': False, 'over_18': False, 'all_awardings': [], 'awarders': [], 'media_only': False, 'can_gild': True, 'spoiler': False, 'locked': False, 'author_flair_text': None, 'treatment_tags': [], 'visited': False, 'removed_by': None, 'num_reports': None, 'distinguished': None, 'subreddit_id': 't5_2s7yr', 'author_is_blocked': False, 'mod_reason_by': None, 'removal_reason': None, 'link_flair_background_color': '', 'id': 'utn8n1', 'is_robot_indexable': True, 'report_reasons': None, 'author': 'trumanshow14', 'discussion_type': None, 'num_comments': 5, 'send_replies': True, 'whitelist_status': 'no_ads', 'contest_mode': False, 'mod_reports': [], 'author_patreon_flair': False, 'author_flair_text_color': None, 'permalink': '/r/stopdrinking/comments/utn8n1/why_do_i_want_to_be_sober/', 'parent_whitelist_status': 'no_ads', 'stickied': False, 'url': 'https://www.reddit.com/r/stopdrinking/comments/utn8n1/why_do_i_want_to_be_sober/', 'subreddit_subscribers': 360805, 'created_utc': 1653028817.0, 'num_crossposts': 0, 'media': None, 'is_video': False}}, {'kind': 't3', 'data': {'approved_at_utc': None, 'subreddit': 'stopdrinking', 'selftext': \"I got my nice yesterday as I sit here just completed day 70. On day 60 I felt depressed and had to go grocery shopping. And I thought about eff it. Whatever. This world is a crap hole anyways. Staring at my lease renewal for my apartment thats an extra 400 dollars more than last year. And last year it went up 300. Soooo I was like nobody gives a damn what's wine going to do to me today?  Eff it. When I want something I'm good at getting it too. I feel like I owe myself whatever I want when I want it. And when I get the eff its... I can't even talk myself out of it logically. \\n\\n I've enjoyed these last two days super greatful sober and I almost threw it away over a bout of the eff its. I waited two hours to go grocery shopping that day as to not cave and buy something. I'm so greatful somewhere inside deep down I knew I didn't wanna drink. I didn't wanna open up that bottle of worms that I would feed into days, weeks, months on end. I'm glad I'm still not buying booze so I can pay my damn rent. I'm glad I am not filled with anxiety and getting more depressed and getting drunk with all the eff its I feel. Throwing in the towel that day God knows where I'd be today. Fuck the eff its. And Fuck alcohol.\", 'author_fullname': 't2_jte5bgv7', 'saved': False, 'mod_reason_title': None, 'gilded': 0, 'clicked': False, 'title': 'almost threw in the towel', 'link_flair_richtext': [], 'subreddit_name_prefixed': 'r/stopdrinking', 'hidden': False, 'pwls': 0, 'link_flair_css_class': None, 'downs': 0, 'top_awarded_type': None, 'hide_score': False, 'name': 't3_utn79b', 'quarantine': False, 'link_flair_text_color': 'dark', 'upvote_ratio': 1.0, 'author_flair_background_color': None, 'subreddit_type': 'public', 'ups': 8, 'total_awards_received': 0, 'media_embed': {}, 'author_flair_template_id': None, 'is_original_content': False, 'user_reports': [], 'secure_media': None, 'is_reddit_media_domain': False, 'is_meta': False, 'category': None, 'secure_media_embed': {}, 'link_flair_text': None, 'can_mod_post': False, 'score': 8, 'approved_by': None, 'is_created_from_ads_ui': False, 'author_premium': False, 'thumbnail': '', 'edited': False, 'author_flair_css_class': None, 'author_flair_richtext': [], 'gildings': {}, 'content_categories': None, 'is_self': True, 'mod_note': None, 'created': 1653028645.0, 'link_flair_type': 'text', 'wls': 0, 'removed_by_category': None, 'banned_by': None, 'author_flair_type': 'text', 'domain': 'self.stopdrinking', 'allow_live_comments': False, 'selftext_html': '&lt;!-- SC_OFF --&gt;&lt;div class=\"md\"&gt;&lt;p&gt;I got my nice yesterday as I sit here just completed day 70. On day 60 I felt depressed and had to go grocery shopping. And I thought about eff it. Whatever. This world is a crap hole anyways. Staring at my lease renewal for my apartment thats an extra 400 dollars more than last year. And last year it went up 300. Soooo I was like nobody gives a damn what&amp;#39;s wine going to do to me today?  Eff it. When I want something I&amp;#39;m good at getting it too. I feel like I owe myself whatever I want when I want it. And when I get the eff its... I can&amp;#39;t even talk myself out of it logically. &lt;/p&gt;\\n\\n&lt;p&gt;I&amp;#39;ve enjoyed these last two days super greatful sober and I almost threw it away over a bout of the eff its. I waited two hours to go grocery shopping that day as to not cave and buy something. I&amp;#39;m so greatful somewhere inside deep down I knew I didn&amp;#39;t wanna drink. I didn&amp;#39;t wanna open up that bottle of worms that I would feed into days, weeks, months on end. I&amp;#39;m glad I&amp;#39;m still not buying booze so I can pay my damn rent. I&amp;#39;m glad I am not filled with anxiety and getting more depressed and getting drunk with all the eff its I feel. Throwing in the towel that day God knows where I&amp;#39;d be today. Fuck the eff its. And Fuck alcohol.&lt;/p&gt;\\n&lt;/div&gt;&lt;!-- SC_ON --&gt;', 'likes': None, 'suggested_sort': None, 'banned_at_utc': None, 'view_count': None, 'archived': False, 'no_follow': False, 'is_crosspostable': False, 'pinned': False, 'over_18': False, 'all_awardings': [], 'awarders': [], 'media_only': False, 'can_gild': True, 'spoiler': False, 'locked': False, 'author_flair_text': None, 'treatment_tags': [], 'visited': False, 'removed_by': None, 'num_reports': None, 'distinguished': None, 'subreddit_id': 't5_2s7yr', 'author_is_blocked': False, 'mod_reason_by': None, 'removal_reason': None, 'link_flair_background_color': '', 'id': 'utn79b', 'is_robot_indexable': True, 'report_reasons': None, 'author': 'JudeeNistu', 'discussion_type': None, 'num_comments': 4, 'send_replies': True, 'whitelist_status': 'no_ads', 'contest_mode': False, 'mod_reports': [], 'author_patreon_flair': False, 'author_flair_text_color': None, 'permalink': '/r/stopdrinking/comments/utn79b/almost_threw_in_the_towel/', 'parent_whitelist_status': 'no_ads', 'stickied': False, 'url': 'https://www.reddit.com/r/stopdrinking/comments/utn79b/almost_threw_in_the_towel/', 'subreddit_subscribers': 360805, 'created_utc': 1653028645.0, 'num_crossposts': 0, 'media': None, 'is_video': False}}, {'kind': 't3', 'data': {'approved_at_utc': None, 'subreddit': 'stopdrinking', 'selftext': 'Im only 22 years old but alcohol is taking control over me. I had gone 21 days last month sober and it’s like my life was finally progressing forward.\\n\\nIt’s getting unmanageable now. I’ve been heavily drinking since I was 18 along with other drug abuse. But drinking is the one that makes everything and everyone in my life suffer. \\n\\nI had to call of work today because I drank from 6pm to 6am last night/morning and I am suffering one of the worst hangovers I’ve had. I can’t keep living like this. Gonna take a melatonin and try again tomorrow.', 'author_fullname': 't2_c7bcal0t', 'saved': False, 'mod_reason_title': None, 'gilded': 0, 'clicked': False, 'title': 'Blew a week sober', 'link_flair_richtext': [], 'subreddit_name_prefixed': 'r/stopdrinking', 'hidden': False, 'pwls': 0, 'link_flair_css_class': None, 'downs': 0, 'top_awarded_type': None, 'hide_score': False, 'name': 't3_utn31l', 'quarantine': False, 'link_flair_text_color': 'dark', 'upvote_ratio': 1.0, 'author_flair_background_color': None, 'subreddit_type': 'public', 'ups': 4, 'total_awards_received': 0, 'media_embed': {}, 'author_flair_template_id': None, 'is_original_content': False, 'user_reports': [], 'secure_media': None, 'is_reddit_media_domain': False, 'is_meta': False, 'category': None, 'secure_media_embed': {}, 'link_flair_text': None, 'can_mod_post': False, 'score': 4, 'approved_by': None, 'is_created_from_ads_ui': False, 'author_premium': False, 'thumbnail': '', 'edited': False, 'author_flair_css_class': None, 'author_flair_richtext': [], 'gildings': {}, 'content_categories': None, 'is_self': True, 'mod_note': None, 'created': 1653028129.0, 'link_flair_type': 'text', 'wls': 0, 'removed_by_category': None, 'banned_by': None, 'author_flair_type': 'text', 'domain': 'self.stopdrinking', 'allow_live_comments': False, 'selftext_html': '&lt;!-- SC_OFF --&gt;&lt;div class=\"md\"&gt;&lt;p&gt;Im only 22 years old but alcohol is taking control over me. I had gone 21 days last month sober and it’s like my life was finally progressing forward.&lt;/p&gt;\\n\\n&lt;p&gt;It’s getting unmanageable now. I’ve been heavily drinking since I was 18 along with other drug abuse. But drinking is the one that makes everything and everyone in my life suffer. &lt;/p&gt;\\n\\n&lt;p&gt;I had to call of work today because I drank from 6pm to 6am last night/morning and I am suffering one of the worst hangovers I’ve had. I can’t keep living like this. Gonna take a melatonin and try again tomorrow.&lt;/p&gt;\\n&lt;/div&gt;&lt;!-- SC_ON --&gt;', 'likes': None, 'suggested_sort': None, 'banned_at_utc': None, 'view_count': None, 'archived': False, 'no_follow': False, 'is_crosspostable': False, 'pinned': False, 'over_18': False, 'all_awardings': [], 'awarders': [], 'media_only': False, 'can_gild': True, 'spoiler': False, 'locked': False, 'author_flair_text': None, 'treatment_tags': [], 'visited': False, 'removed_by': None, 'num_reports': None, 'distinguished': None, 'subreddit_id': 't5_2s7yr', 'author_is_blocked': False, 'mod_reason_by': None, 'removal_reason': None, 'link_flair_background_color': '', 'id': 'utn31l', 'is_robot_indexable': True, 'report_reasons': None, 'author': 'Enough_Scratch5579', 'discussion_type': None, 'num_comments': 9, 'send_replies': True, 'whitelist_status': 'no_ads', 'contest_mode': False, 'mod_reports': [], 'author_patreon_flair': False, 'author_flair_text_color': None, 'permalink': '/r/stopdrinking/comments/utn31l/blew_a_week_sober/', 'parent_whitelist_status': 'no_ads', 'stickied': False, 'url': 'https://www.reddit.com/r/stopdrinking/comments/utn31l/blew_a_week_sober/', 'subreddit_subscribers': 360805, 'created_utc': 1653028129.0, 'num_crossposts': 0, 'media': None, 'is_video': False}}, {'kind': 't3', 'data': {'approved_at_utc': None, 'subreddit': 'stopdrinking', 'selftext': 'I’m 30 years old and I’ve been drinking since I was 18.  I’m getting married in a month and I’m terrified of bringing my alcoholism into this union.\\n\\nMy fiancé is an amazing woman and she deserves the world.  I don’t want to hold her back or myself with this disease.  \\n\\nI recently lost my job due to performance issues which may have been alcohol related such as coming into work hung over…never drunk at work or drinking at work.\\n\\nIf anyone else has been in a similar situation what have they done to reevaluate their life and get things back on track?', 'author_fullname': 't2_54xjaiae', 'saved': False, 'mod_reason_title': None, 'gilded': 0, 'clicked': False, 'title': 'I need a plan', 'link_flair_richtext': [], 'subreddit_name_prefixed': 'r/stopdrinking', 'hidden': False, 'pwls': 0, 'link_flair_css_class': None, 'downs': 0, 'top_awarded_type': None, 'hide_score': False, 'name': 't3_utmo1z', 'quarantine': False, 'link_flair_text_color': 'dark', 'upvote_ratio': 1.0, 'author_flair_background_color': None, 'subreddit_type': 'public', 'ups': 2, 'total_awards_received': 0, 'media_embed': {}, 'author_flair_template_id': None, 'is_original_content': False, 'user_reports': [], 'secure_media': None, 'is_reddit_media_domain': False, 'is_meta': False, 'category': None, 'secure_media_embed': {}, 'link_flair_text': None, 'can_mod_post': False, 'score': 2, 'approved_by': None, 'is_created_from_ads_ui': False, 'author_premium': False, 'thumbnail': '', 'author_cakeday': True, 'edited': False, 'author_flair_css_class': None, 'author_flair_richtext': [], 'gildings': {}, 'content_categories': None, 'is_self': True, 'mod_note': None, 'created': 1653026359.0, 'link_flair_type': 'text', 'wls': 0, 'removed_by_category': None, 'banned_by': None, 'author_flair_type': 'text', 'domain': 'self.stopdrinking', 'allow_live_comments': False, 'selftext_html': '&lt;!-- SC_OFF --&gt;&lt;div class=\"md\"&gt;&lt;p&gt;I’m 30 years old and I’ve been drinking since I was 18.  I’m getting married in a month and I’m terrified of bringing my alcoholism into this union.&lt;/p&gt;\\n\\n&lt;p&gt;My fiancé is an amazing woman and she deserves the world.  I don’t want to hold her back or myself with this disease.  &lt;/p&gt;\\n\\n&lt;p&gt;I recently lost my job due to performance issues which may have been alcohol related such as coming into work hung over…never drunk at work or drinking at work.&lt;/p&gt;\\n\\n&lt;p&gt;If anyone else has been in a similar situation what have they done to reevaluate their life and get things back on track?&lt;/p&gt;\\n&lt;/div&gt;&lt;!-- SC_ON --&gt;', 'likes': None, 'suggested_sort': None, 'banned_at_utc': None, 'view_count': None, 'archived': False, 'no_follow': False, 'is_crosspostable': False, 'pinned': False, 'over_18': False, 'all_awardings': [], 'awarders': [], 'media_only': False, 'can_gild': True, 'spoiler': False, 'locked': False, 'author_flair_text': None, 'treatment_tags': [], 'visited': False, 'removed_by': None, 'num_reports': None, 'distinguished': None, 'subreddit_id': 't5_2s7yr', 'author_is_blocked': False, 'mod_reason_by': None, 'removal_reason': None, 'link_flair_background_color': '', 'id': 'utmo1z', 'is_robot_indexable': True, 'report_reasons': None, 'author': 'Call_Out2020', 'discussion_type': None, 'num_comments': 3, 'send_replies': True, 'whitelist_status': 'no_ads', 'contest_mode': False, 'mod_reports': [], 'author_patreon_flair': False, 'author_flair_text_color': None, 'permalink': '/r/stopdrinking/comments/utmo1z/i_need_a_plan/', 'parent_whitelist_status': 'no_ads', 'stickied': False, 'url': 'https://www.reddit.com/r/stopdrinking/comments/utmo1z/i_need_a_plan/', 'subreddit_subscribers': 360805, 'created_utc': 1653026359.0, 'num_crossposts': 0, 'media': None, 'is_video': False}}, {'kind': 't3', 'data': {'approved_at_utc': None, 'subreddit': 'stopdrinking', 'selftext': \"It was real physically rough but I'll be 24 hours sober in about an hour. your community was great with the support. When I was in my hour of need. I also have the support of all my friends, coworkers, and family. 👍\\n\\nHopefully I'll be a long time member of this community.\", 'author_fullname': 't2_4dpbt', 'saved': False, 'mod_reason_title': None, 'gilded': 0, 'clicked': False, 'title': \"Just wanted to say thanks folks 🙏 y'all are great\", 'link_flair_richtext': [], 'subreddit_name_prefixed': 'r/stopdrinking', 'hidden': False, 'pwls': 0, 'link_flair_css_class': None, 'downs': 0, 'top_awarded_type': None, 'hide_score': False, 'name': 't3_utmmfb', 'quarantine': False, 'link_flair_text_color': 'dark', 'upvote_ratio': 0.95, 'author_flair_background_color': None, 'subreddit_type': 'public', 'ups': 15, 'total_awards_received': 0, 'media_embed': {}, 'author_flair_template_id': None, 'is_original_content': False, 'user_reports': [], 'secure_media': None, 'is_reddit_media_domain': False, 'is_meta': False, 'category': None, 'secure_media_embed': {}, 'link_flair_text': None, 'can_mod_post': False, 'score': 15, 'approved_by': None, 'is_created_from_ads_ui': False, 'author_premium': False, 'thumbnail': '', 'edited': False, 'author_flair_css_class': None, 'author_flair_richtext': [], 'gildings': {}, 'content_categories': None, 'is_self': True, 'mod_note': None, 'created': 1653026161.0, 'link_flair_type': 'text', 'wls': 0, 'removed_by_category': None, 'banned_by': None, 'author_flair_type': 'text', 'domain': 'self.stopdrinking', 'allow_live_comments': False, 'selftext_html': '&lt;!-- SC_OFF --&gt;&lt;div class=\"md\"&gt;&lt;p&gt;It was real physically rough but I&amp;#39;ll be 24 hours sober in about an hour. your community was great with the support. When I was in my hour of need. I also have the support of all my friends, coworkers, and family. 👍&lt;/p&gt;\\n\\n&lt;p&gt;Hopefully I&amp;#39;ll be a long time member of this community.&lt;/p&gt;\\n&lt;/div&gt;&lt;!-- SC_ON --&gt;', 'likes': None, 'suggested_sort': None, 'banned_at_utc': None, 'view_count': None, 'archived': False, 'no_follow': False, 'is_crosspostable': False, 'pinned': False, 'over_18': False, 'all_awardings': [], 'awarders': [], 'media_only': False, 'can_gild': True, 'spoiler': False, 'locked': False, 'author_flair_text': None, 'treatment_tags': [], 'visited': False, 'removed_by': None, 'num_reports': None, 'distinguished': None, 'subreddit_id': 't5_2s7yr', 'author_is_blocked': False, 'mod_reason_by': None, 'removal_reason': None, 'link_flair_background_color': '', 'id': 'utmmfb', 'is_robot_indexable': True, 'report_reasons': None, 'author': 'beedly', 'discussion_type': None, 'num_comments': 4, 'send_replies': True, 'whitelist_status': 'no_ads', 'contest_mode': False, 'mod_reports': [], 'author_patreon_flair': False, 'author_flair_text_color': None, 'permalink': '/r/stopdrinking/comments/utmmfb/just_wanted_to_say_thanks_folks_yall_are_great/', 'parent_whitelist_status': 'no_ads', 'stickied': False, 'url': 'https://www.reddit.com/r/stopdrinking/comments/utmmfb/just_wanted_to_say_thanks_folks_yall_are_great/', 'subreddit_subscribers': 360805, 'created_utc': 1653026161.0, 'num_crossposts': 0, 'media': None, 'is_video': False}}, {'kind': 't3', 'data': {'approved_at_utc': None, 'subreddit': 'stopdrinking', 'selftext': 'I never considered myself a heavy drinker. I drank once a week every week for a good while. At the age of 23, the stress of my job and life in general became too much and I started drinking more and more to cope. \\n\\nI would stick to mikes and Smirnoff, convincing myself that it was a better option than hard liquor. I started with the small cans, two or three a day. Before I knew it I was drinking the bigger cans, at least 4 of them every single day for a couple of years. I couldn’t stop. I knew it wasn’t ok, but I knew a lot of people who would drink hard liquor, they were fine, and I was young, what could go wrong. \\n\\nThen At the age of 26, i decided to stop. I had quit my toxic job, started a new one, made new friends, who were “normal” healthy drinkers, in other words, they would rarely drink. I decided to stop. I tapered off slowly for a month, afraid of withdrawals. I was determined, I was ready to be “normal” i was ready to stop abusing my body. \\n\\nTwo weeks after my last drink, I noticed I wasn’t able to keep food down, my urine was dark, I couldn’t sleep, I had pain on my right side. Again, I convinced myself I was fine, I was only 26, what could be wrong that won’t go away on its own??\\n\\nThen I met up with my family for my nieces birthday. My mom was the first person to see me. We had a strained relationship at this point. She ran up to me quickly, worry on her face and said “omg, are you ok??? Omg what’s wrong with you?!?” Already annoyed by having seen her I replied with “wtf are you talking about” and she says “you’re yellow” \\n\\nI was taken to the ER by my mom and sister. I kept telling myself that I would be fine, they’d prescribe me something, and I’d be sent home. I wouldn’t be allowed home for over a week.\\n\\nI was taken in, with a heart rate of 120, am estimated MELD score of 35, things were looking bad. My first thought after being told my liver was failing was “oh shit, I’m going to die”. I had blood taken 2-3 times a day, ultrasounds, ct scans, everyday there was something new. I was depressed, and I thought to myself, I don’t want  to do this anymore, I’m tired, I’m lonely, I’m done. \\n\\nI couldn’t believe when I was given the ok to be sent home. On the drive, I started out the window at everything I was convinced I’d never ever see again. I felt like I was dreaming. Back at my parents home, I stood there in their spare room, with a big bag of medication in my thin arms (I had lost a lot of weight in such a short time) looking at my things that had been placed in there, and it wasn’t until my elderly dog walked over to great that everything hit me, and I broke down crying. \\n\\nI suffered from extreme depression, anxiety, and ptsd. I had never been so miserable, and I felt like there was no point to anything anymore. I was living and going thro the motions for the sake of my family.\\n\\nMy first appointment with a hepatologist , he had told me that we would know in the next two months if I’ll get Better, or  worse. Thankfully, I slowly started to make a recovery. I was referred to a transplant program, to begin the process to receive a New liver. Thankfully my health improved enough that I’m no longer in a rush to need it. \\n\\nThe next couple of years I slowly recovered. Straight out of the hospital, I was just tipping the scales at 90lbs, and I managed to get my weight up. My MELD score dropped to 16, and I finally started to feel like a real person again. \\n\\nDrinking isn’t worth it, and if you’re struggling, please please know that your life can only get better, don’t let yourself go through what I went through. It’s been three years, and I still breakdown crying randomly. Don’t let this happen to you.', 'author_fullname': 't2_8py5ewpo', 'saved': False, 'mod_reason_title': None, 'gilded': 0, 'clicked': False, 'title': 'It’s been 3 years since I stopped drinking. 3 years ago it almost killed me.', 'link_flair_richtext': [], 'subreddit_name_prefixed': 'r/stopdrinking', 'hidden': False, 'pwls': 0, 'link_flair_css_class': None, 'downs': 0, 'top_awarded_type': None, 'hide_score': False, 'name': 't3_utlpl1', 'quarantine': False, 'link_flair_text_color': 'dark', 'upvote_ratio': 1.0, 'author_flair_background_color': None, 'subreddit_type': 'public', 'ups': 52, 'total_awards_received': 1, 'media_embed': {}, 'author_flair_template_id': None, 'is_original_content': False, 'user_reports': [], 'secure_media': None, 'is_reddit_media_domain': False, 'is_meta': False, 'category': None, 'secure_media_embed': {}, 'link_flair_text': None, 'can_mod_post': False, 'score': 52, 'approved_by': None, 'is_created_from_ads_ui': False, 'author_premium': False, 'thumbnail': '', 'edited': False, 'author_flair_css_class': None, 'author_flair_richtext': [], 'gildings': {'gid_1': 1}, 'content_categories': None, 'is_self': True, 'mod_note': None, 'created': 1653022421.0, 'link_flair_type': 'text', 'wls': 0, 'removed_by_category': None, 'banned_by': None, 'author_flair_type': 'text', 'domain': 'self.stopdrinking', 'allow_live_comments': False, 'selftext_html': '&lt;!-- SC_OFF --&gt;&lt;div class=\"md\"&gt;&lt;p&gt;I never considered myself a heavy drinker. I drank once a week every week for a good while. At the age of 23, the stress of my job and life in general became too much and I started drinking more and more to cope. &lt;/p&gt;\\n\\n&lt;p&gt;I would stick to mikes and Smirnoff, convincing myself that it was a better option than hard liquor. I started with the small cans, two or three a day. Before I knew it I was drinking the bigger cans, at least 4 of them every single day for a couple of years. I couldn’t stop. I knew it wasn’t ok, but I knew a lot of people who would drink hard liquor, they were fine, and I was young, what could go wrong. &lt;/p&gt;\\n\\n&lt;p&gt;Then At the age of 26, i decided to stop. I had quit my toxic job, started a new one, made new friends, who were “normal” healthy drinkers, in other words, they would rarely drink. I decided to stop. I tapered off slowly for a month, afraid of withdrawals. I was determined, I was ready to be “normal” i was ready to stop abusing my body. &lt;/p&gt;\\n\\n&lt;p&gt;Two weeks after my last drink, I noticed I wasn’t able to keep food down, my urine was dark, I couldn’t sleep, I had pain on my right side. Again, I convinced myself I was fine, I was only 26, what could be wrong that won’t go away on its own??&lt;/p&gt;\\n\\n&lt;p&gt;Then I met up with my family for my nieces birthday. My mom was the first person to see me. We had a strained relationship at this point. She ran up to me quickly, worry on her face and said “omg, are you ok??? Omg what’s wrong with you?!?” Already annoyed by having seen her I replied with “wtf are you talking about” and she says “you’re yellow” &lt;/p&gt;\\n\\n&lt;p&gt;I was taken to the ER by my mom and sister. I kept telling myself that I would be fine, they’d prescribe me something, and I’d be sent home. I wouldn’t be allowed home for over a week.&lt;/p&gt;\\n\\n&lt;p&gt;I was taken in, with a heart rate of 120, am estimated MELD score of 35, things were looking bad. My first thought after being told my liver was failing was “oh shit, I’m going to die”. I had blood taken 2-3 times a day, ultrasounds, ct scans, everyday there was something new. I was depressed, and I thought to myself, I don’t want  to do this anymore, I’m tired, I’m lonely, I’m done. &lt;/p&gt;\\n\\n&lt;p&gt;I couldn’t believe when I was given the ok to be sent home. On the drive, I started out the window at everything I was convinced I’d never ever see again. I felt like I was dreaming. Back at my parents home, I stood there in their spare room, with a big bag of medication in my thin arms (I had lost a lot of weight in such a short time) looking at my things that had been placed in there, and it wasn’t until my elderly dog walked over to great that everything hit me, and I broke down crying. &lt;/p&gt;\\n\\n&lt;p&gt;I suffered from extreme depression, anxiety, and ptsd. I had never been so miserable, and I felt like there was no point to anything anymore. I was living and going thro the motions for the sake of my family.&lt;/p&gt;\\n\\n&lt;p&gt;My first appointment with a hepatologist , he had told me that we would know in the next two months if I’ll get Better, or  worse. Thankfully, I slowly started to make a recovery. I was referred to a transplant program, to begin the process to receive a New liver. Thankfully my health improved enough that I’m no longer in a rush to need it. &lt;/p&gt;\\n\\n&lt;p&gt;The next couple of years I slowly recovered. Straight out of the hospital, I was just tipping the scales at 90lbs, and I managed to get my weight up. My MELD score dropped to 16, and I finally started to feel like a real person again. &lt;/p&gt;\\n\\n&lt;p&gt;Drinking isn’t worth it, and if you’re struggling, please please know that your life can only get better, don’t let yourself go through what I went through. It’s been three years, and I still breakdown crying randomly. Don’t let this happen to you.&lt;/p&gt;\\n&lt;/div&gt;&lt;!-- SC_ON --&gt;', 'likes': None, 'suggested_sort': None, 'banned_at_utc': None, 'view_count': None, 'archived': False, 'no_follow': False, 'is_crosspostable': False, 'pinned': False, 'over_18': False, 'all_awardings': [{'giver_coin_reward': None, 'subreddit_id': None, 'is_new': False, 'days_of_drip_extension': None, 'coin_price': 100, 'id': 'gid_1', 'penny_donate': None, 'award_sub_type': 'GLOBAL', 'coin_reward': 0, 'icon_url': 'https://www.redditstatic.com/gold/awards/icon/silver_512.png', 'days_of_premium': None, 'tiers_by_required_awardings': None, 'resized_icons': [{'url': 'https://www.redditstatic.com/gold/awards/icon/silver_16.png', 'width': 16, 'height': 16}, {'url': 'https://www.redditstatic.com/gold/awards/icon/silver_32.png', 'width': 32, 'height': 32}, {'url': 'https://www.redditstatic.com/gold/awards/icon/silver_48.png', 'width': 48, 'height': 48}, {'url': 'https://www.redditstatic.com/gold/awards/icon/silver_64.png', 'width': 64, 'height': 64}, {'url': 'https://www.redditstatic.com/gold/awards/icon/silver_128.png', 'width': 128, 'height': 128}], 'icon_width': 512, 'static_icon_width': 512, 'start_date': None, 'is_enabled': True, 'awardings_required_to_grant_benefits': None, 'description': \"Shows the Silver Award... and that's it.\", 'end_date': None, 'subreddit_coin_reward': 0, 'count': 1, 'static_icon_height': 512, 'name': 'Silver', 'resized_static_icons': [{'url': 'https://www.redditstatic.com/gold/awards/icon/silver_16.png', 'width': 16, 'height': 16}, {'url': 'https://www.redditstatic.com/gold/awards/icon/silver_32.png', 'width': 32, 'height': 32}, {'url': 'https://www.redditstatic.com/gold/awards/icon/silver_48.png', 'width': 48, 'height': 48}, {'url': 'https://www.redditstatic.com/gold/awards/icon/silver_64.png', 'width': 64, 'height': 64}, {'url': 'https://www.redditstatic.com/gold/awards/icon/silver_128.png', 'width': 128, 'height': 128}], 'icon_format': None, 'icon_height': 512, 'penny_price': None, 'award_type': 'global', 'static_icon_url': 'https://www.redditstatic.com/gold/awards/icon/silver_512.png'}], 'awarders': [], 'media_only': False, 'can_gild': True, 'spoiler': False, 'locked': False, 'author_flair_text': None, 'treatment_tags': [], 'visited': False, 'removed_by': None, 'num_reports': None, 'distinguished': None, 'subreddit_id': 't5_2s7yr', 'author_is_blocked': False, 'mod_reason_by': None, 'removal_reason': None, 'link_flair_background_color': '', 'id': 'utlpl1', 'is_robot_indexable': True, 'report_reasons': None, 'author': 'SupermarketMoney7322', 'discussion_type': None, 'num_comments': 7, 'send_replies': True, 'whitelist_status': 'no_ads', 'contest_mode': False, 'mod_reports': [], 'author_patreon_flair': False, 'author_flair_text_color': None, 'permalink': '/r/stopdrinking/comments/utlpl1/its_been_3_years_since_i_stopped_drinking_3_years/', 'parent_whitelist_status': 'no_ads', 'stickied': False, 'url': 'https://www.reddit.com/r/stopdrinking/comments/utlpl1/its_been_3_years_since_i_stopped_drinking_3_years/', 'subreddit_subscribers': 360805, 'created_utc': 1653022421.0, 'num_crossposts': 0, 'media': None, 'is_video': False}}, {'kind': 't3', 'data': {'approved_at_utc': None, 'subreddit': 'stopdrinking', 'selftext': 'Why the fuck won’t i just die\\nI crave the burn, i’ll always yearn\\nFour more whiskies, i can’t lie\\nStill, i toss and turn\\nAll night, then day, then night again.\\n“Bourbon is my oldest friend”\\nI tell myself when i feel weak,\\n“Giving up is for the meek,”\\nWhich means i’m damned\\nIf i do, i won’t, i will, i know. \\nI hate words and i hate me\\nPrecociously prudent periphery\\nFalsehoods, fictions, fantasies\\nAll my old convictions. \\nCommitments, confessions, \\nCourageously cathartic concessions,\\nColorfully clever candor, \\nCajoling, consoling, controlling\\nAll contrivances too. \\nIm done spinning tales for you. \\nWeaving thruths through wisps of 100 proofs who cares i’m done, rhyming is fucking stupid and i quit. \\n\\nI wish i could commit to this. Not verbally or by trying over and over with sporadic lukewarm successes for years. I flipped a fuckin switch to start. Wheres the off button. No thank you, temptation, i’ve had enough misery. I hate that i know theres this cheat out there. I know the standard price. I know how to afford it. For some reason im willing to feel like shit for days just to briefly sort of escape. Outrageous. \\n\\nDont eat cheesebread if thats all youre gonna eat that day. You will get acid reflux and it will compel you to write shitty fake poetry online.', 'author_fullname': 't2_ak2rcyr0', 'saved': False, 'mod_reason_title': None, 'gilded': 0, 'clicked': False, 'title': 'A juicy breath, a shallow sigh', 'link_flair_richtext': [], 'subreddit_name_prefixed': 'r/stopdrinking', 'hidden': False, 'pwls': 0, 'link_flair_css_class': None, 'downs': 0, 'top_awarded_type': None, 'hide_score': False, 'name': 't3_utljr5', 'quarantine': False, 'link_flair_text_color': 'dark', 'upvote_ratio': 1.0, 'author_flair_background_color': None, 'subreddit_type': 'public', 'ups': 14, 'total_awards_received': 0, 'media_embed': {}, 'author_flair_template_id': None, 'is_original_content': False, 'user_reports': [], 'secure_media': None, 'is_reddit_media_domain': False, 'is_meta': False, 'category': None, 'secure_media_embed': {}, 'link_flair_text': None, 'can_mod_post': False, 'score': 14, 'approved_by': None, 'is_created_from_ads_ui': False, 'author_premium': False, 'thumbnail': '', 'edited': False, 'author_flair_css_class': None, 'author_flair_richtext': [], 'gildings': {}, 'content_categories': None, 'is_self': True, 'mod_note': None, 'created': 1653021775.0, 'link_flair_type': 'text', 'wls': 0, 'removed_by_category': None, 'banned_by': None, 'author_flair_type': 'text', 'domain': 'self.stopdrinking', 'allow_live_comments': False, 'selftext_html': '&lt;!-- SC_OFF --&gt;&lt;div class=\"md\"&gt;&lt;p&gt;Why the fuck won’t i just die\\nI crave the burn, i’ll always yearn\\nFour more whiskies, i can’t lie\\nStill, i toss and turn\\nAll night, then day, then night again.\\n“Bourbon is my oldest friend”\\nI tell myself when i feel weak,\\n“Giving up is for the meek,”\\nWhich means i’m damned\\nIf i do, i won’t, i will, i know. \\nI hate words and i hate me\\nPrecociously prudent periphery\\nFalsehoods, fictions, fantasies\\nAll my old convictions. \\nCommitments, confessions, \\nCourageously cathartic concessions,\\nColorfully clever candor, \\nCajoling, consoling, controlling\\nAll contrivances too. \\nIm done spinning tales for you. \\nWeaving thruths through wisps of 100 proofs who cares i’m done, rhyming is fucking stupid and i quit. &lt;/p&gt;\\n\\n&lt;p&gt;I wish i could commit to this. Not verbally or by trying over and over with sporadic lukewarm successes for years. I flipped a fuckin switch to start. Wheres the off button. No thank you, temptation, i’ve had enough misery. I hate that i know theres this cheat out there. I know the standard price. I know how to afford it. For some reason im willing to feel like shit for days just to briefly sort of escape. Outrageous. &lt;/p&gt;\\n\\n&lt;p&gt;Dont eat cheesebread if thats all youre gonna eat that day. You will get acid reflux and it will compel you to write shitty fake poetry online.&lt;/p&gt;\\n&lt;/div&gt;&lt;!-- SC_ON --&gt;', 'likes': None, 'suggested_sort': None, 'banned_at_utc': None, 'view_count': None, 'archived': False, 'no_follow': False, 'is_crosspostable': False, 'pinned': False, 'over_18': False, 'all_awardings': [], 'awarders': [], 'media_only': False, 'can_gild': True, 'spoiler': False, 'locked': False, 'author_flair_text': None, 'treatment_tags': [], 'visited': False, 'removed_by': None, 'num_reports': None, 'distinguished': None, 'subreddit_id': 't5_2s7yr', 'author_is_blocked': False, 'mod_reason_by': None, 'removal_reason': None, 'link_flair_background_color': '', 'id': 'utljr5', 'is_robot_indexable': True, 'report_reasons': None, 'author': 'invertebreh', 'discussion_type': None, 'num_comments': 4, 'send_replies': True, 'whitelist_status': 'no_ads', 'contest_mode': False, 'mod_reports': [], 'author_patreon_flair': False, 'author_flair_text_color': None, 'permalink': '/r/stopdrinking/comments/utljr5/a_juicy_breath_a_shallow_sigh/', 'parent_whitelist_status': 'no_ads', 'stickied': False, 'url': 'https://www.reddit.com/r/stopdrinking/comments/utljr5/a_juicy_breath_a_shallow_sigh/', 'subreddit_subscribers': 360805, 'created_utc': 1653021775.0, 'num_crossposts': 0, 'media': None, 'is_video': False}}, {'kind': 't3', 'data': {'approved_at_utc': None, 'subreddit': 'stopdrinking', 'selftext': 'Had a rough night last night too but I got a little sleep. I took really good care of myself today, cleaned and hydrated like crazy, so now the only symptoms I have are the sweating and some heartburn.\\n\\nBut when I close my eyes my brain just goes haywire. I don’t know when or if it’ll end. It’s so awful. I feel fine when my eyes are open. It’s just such an awful feeling. I took melatonin, I guess I could try CBD. That might be my best bet.\\n\\nMan I can’t wait to be sober again.', 'author_fullname': 't2_ik64c', 'saved': False, 'mod_reason_title': None, 'gilded': 0, 'clicked': False, 'title': 'I absolutely cannot sleep', 'link_flair_richtext': [], 'subreddit_name_prefixed': 'r/stopdrinking', 'hidden': False, 'pwls': 0, 'link_flair_css_class': None, 'downs': 0, 'top_awarded_type': None, 'hide_score': False, 'name': 't3_utldc2', 'quarantine': False, 'link_flair_text_color': 'dark', 'upvote_ratio': 0.8, 'author_flair_background_color': None, 'subreddit_type': 'public', 'ups': 6, 'total_awards_received': 0, 'media_embed': {}, 'author_flair_template_id': None, 'is_original_content': False, 'user_reports': [], 'secure_media': None, 'is_reddit_media_domain': False, 'is_meta': False, 'category': None, 'secure_media_embed': {}, 'link_flair_text': None, 'can_mod_post': False, 'score': 6, 'approved_by': None, 'is_created_from_ads_ui': False, 'author_premium': False, 'thumbnail': '', 'edited': False, 'author_flair_css_class': None, 'author_flair_richtext': [], 'gildings': {}, 'content_categories': None, 'is_self': True, 'mod_note': None, 'created': 1653021081.0, 'link_flair_type': 'text', 'wls': 0, 'removed_by_category': None, 'banned_by': None, 'author_flair_type': 'text', 'domain': 'self.stopdrinking', 'allow_live_comments': False, 'selftext_html': '&lt;!-- SC_OFF --&gt;&lt;div class=\"md\"&gt;&lt;p&gt;Had a rough night last night too but I got a little sleep. I took really good care of myself today, cleaned and hydrated like crazy, so now the only symptoms I have are the sweating and some heartburn.&lt;/p&gt;\\n\\n&lt;p&gt;But when I close my eyes my brain just goes haywire. I don’t know when or if it’ll end. It’s so awful. I feel fine when my eyes are open. It’s just such an awful feeling. I took melatonin, I guess I could try CBD. That might be my best bet.&lt;/p&gt;\\n\\n&lt;p&gt;Man I can’t wait to be sober again.&lt;/p&gt;\\n&lt;/div&gt;&lt;!-- SC_ON --&gt;', 'likes': None, 'suggested_sort': None, 'banned_at_utc': None, 'view_count': None, 'archived': False, 'no_follow': False, 'is_crosspostable': False, 'pinned': False, 'over_18': False, 'all_awardings': [], 'awarders': [], 'media_only': False, 'can_gild': True, 'spoiler': False, 'locked': False, 'author_flair_text': None, 'treatment_tags': [], 'visited': False, 'removed_by': None, 'num_reports': None, 'distinguished': None, 'subreddit_id': 't5_2s7yr', 'author_is_blocked': False, 'mod_reason_by': None, 'removal_reason': None, 'link_flair_background_color': '', 'id': 'utldc2', 'is_robot_indexable': True, 'report_reasons': None, 'author': 'professorbroke', 'discussion_type': None, 'num_comments': 9, 'send_replies': True, 'whitelist_status': 'no_ads', 'contest_mode': False, 'mod_reports': [], 'author_patreon_flair': False, 'author_flair_text_color': None, 'permalink': '/r/stopdrinking/comments/utldc2/i_absolutely_cannot_sleep/', 'parent_whitelist_status': 'no_ads', 'stickied': False, 'url': 'https://www.reddit.com/r/stopdrinking/comments/utldc2/i_absolutely_cannot_sleep/', 'subreddit_subscribers': 360805, 'created_utc': 1653021081.0, 'num_crossposts': 0, 'media': None, 'is_video': False}}, {'kind': 't3', 'data': {'approved_at_utc': None, 'subreddit': 'stopdrinking', 'selftext': \"I've been a heavy drinker since I was almost 19. I'm 46 now. During the 2 year COVID lockdown I became a daily drinker. 2 Bottles of wine a night would sometimes not be enough. My relationship with my GF has been in decline because of it, as she hates it when I'm drunk. I'm gonna lose our lovely home we've made and be by myself in a foreign country once again. Not looking forward to it. I have to stop drinking and take control of my life.\", 'author_fullname': 't2_13ywbu', 'saved': False, 'mod_reason_title': None, 'gilded': 0, 'clicked': False, 'title': 'Yesterday my GF of 7 years broke up with me, because of my drinking.', 'link_flair_richtext': [], 'subreddit_name_prefixed': 'r/stopdrinking', 'hidden': False, 'pwls': 0, 'link_flair_css_class': None, 'downs': 0, 'top_awarded_type': None, 'hide_score': False, 'name': 't3_utlam4', 'quarantine': False, 'link_flair_text_color': 'dark', 'upvote_ratio': 0.9, 'author_flair_background_color': None, 'subreddit_type': 'public', 'ups': 7, 'total_awards_received': 0, 'media_embed': {}, 'author_flair_template_id': None, 'is_original_content': False, 'user_reports': [], 'secure_media': None, 'is_reddit_media_domain': False, 'is_meta': False, 'category': None, 'secure_media_embed': {}, 'link_flair_text': None, 'can_mod_post': False, 'score': 7, 'approved_by': None, 'is_created_from_ads_ui': False, 'author_premium': False, 'thumbnail': '', 'edited': False, 'author_flair_css_class': None, 'author_flair_richtext': [], 'gildings': {}, 'content_categories': None, 'is_self': True, 'mod_note': None, 'created': 1653020801.0, 'link_flair_type': 'text', 'wls': 0, 'removed_by_category': None, 'banned_by': None, 'author_flair_type': 'text', 'domain': 'self.stopdrinking', 'allow_live_comments': False, 'selftext_html': '&lt;!-- SC_OFF --&gt;&lt;div class=\"md\"&gt;&lt;p&gt;I&amp;#39;ve been a heavy drinker since I was almost 19. I&amp;#39;m 46 now. During the 2 year COVID lockdown I became a daily drinker. 2 Bottles of wine a night would sometimes not be enough. My relationship with my GF has been in decline because of it, as she hates it when I&amp;#39;m drunk. I&amp;#39;m gonna lose our lovely home we&amp;#39;ve made and be by myself in a foreign country once again. Not looking forward to it. I have to stop drinking and take control of my life.&lt;/p&gt;\\n&lt;/div&gt;&lt;!-- SC_ON --&gt;', 'likes': None, 'suggested_sort': None, 'banned_at_utc': None, 'view_count': None, 'archived': False, 'no_follow': False, 'is_crosspostable': False, 'pinned': False, 'over_18': False, 'all_awardings': [], 'awarders': [], 'media_only': False, 'can_gild': True, 'spoiler': False, 'locked': False, 'author_flair_text': None, 'treatment_tags': [], 'visited': False, 'removed_by': None, 'num_reports': None, 'distinguished': None, 'subreddit_id': 't5_2s7yr', 'author_is_blocked': False, 'mod_reason_by': None, 'removal_reason': None, 'link_flair_background_color': '', 'id': 'utlam4', 'is_robot_indexable': True, 'report_reasons': None, 'author': 'daimondgeezer', 'discussion_type': None, 'num_comments': 3, 'send_replies': True, 'whitelist_status': 'no_ads', 'contest_mode': False, 'mod_reports': [], 'author_patreon_flair': False, 'author_flair_text_color': None, 'permalink': '/r/stopdrinking/comments/utlam4/yesterday_my_gf_of_7_years_broke_up_with_me/', 'parent_whitelist_status': 'no_ads', 'stickied': False, 'url': 'https://www.reddit.com/r/stopdrinking/comments/utlam4/yesterday_my_gf_of_7_years_broke_up_with_me/', 'subreddit_subscribers': 360805, 'created_utc': 1653020801.0, 'num_crossposts': 0, 'media': None, 'is_video': False}}, {'kind': 't3', 'data': {'approved_at_utc': None, 'subreddit': 'stopdrinking', 'selftext': \"I did it! Day 10 and my first dinner out, with the person I used to never see without drinking being involved. She was drinking champagne (used to be a favorite of mine), but I really wasn't even tempted. I had already made up my mind that I wasn't drinking, and watching her slowly slip away was eye opening for me. That's what I used to do on a daily basis. So glad I'm going to bed sober!\", 'author_fullname': 't2_8sx2orar', 'saved': False, 'mod_reason_title': None, 'gilded': 0, 'clicked': False, 'title': 'First Dinner Out', 'link_flair_richtext': [], 'subreddit_name_prefixed': 'r/stopdrinking', 'hidden': False, 'pwls': 0, 'link_flair_css_class': None, 'downs': 0, 'top_awarded_type': None, 'hide_score': False, 'name': 't3_utl47l', 'quarantine': False, 'link_flair_text_color': 'dark', 'upvote_ratio': 0.95, 'author_flair_background_color': None, 'subreddit_type': 'public', 'ups': 16, 'total_awards_received': 0, 'media_embed': {}, 'author_flair_template_id': None, 'is_original_content': False, 'user_reports': [], 'secure_media': None, 'is_reddit_media_domain': False, 'is_meta': False, 'category': None, 'secure_media_embed': {}, 'link_flair_text': None, 'can_mod_post': False, 'score': 16, 'approved_by': None, 'is_created_from_ads_ui': False, 'author_premium': False, 'thumbnail': '', 'edited': False, 'author_flair_css_class': None, 'author_flair_richtext': [], 'gildings': {}, 'content_categories': None, 'is_self': True, 'mod_note': None, 'created': 1653020100.0, 'link_flair_type': 'text', 'wls': 0, 'removed_by_category': None, 'banned_by': None, 'author_flair_type': 'text', 'domain': 'self.stopdrinking', 'allow_live_comments': False, 'selftext_html': '&lt;!-- SC_OFF --&gt;&lt;div class=\"md\"&gt;&lt;p&gt;I did it! Day 10 and my first dinner out, with the person I used to never see without drinking being involved. She was drinking champagne (used to be a favorite of mine), but I really wasn&amp;#39;t even tempted. I had already made up my mind that I wasn&amp;#39;t drinking, and watching her slowly slip away was eye opening for me. That&amp;#39;s what I used to do on a daily basis. So glad I&amp;#39;m going to bed sober!&lt;/p&gt;\\n&lt;/div&gt;&lt;!-- SC_ON --&gt;', 'likes': None, 'suggested_sort': None, 'banned_at_utc': None, 'view_count': None, 'archived': False, 'no_follow': False, 'is_crosspostable': False, 'pinned': False, 'over_18': False, 'all_awardings': [], 'awarders': [], 'media_only': False, 'can_gild': True, 'spoiler': False, 'locked': False, 'author_flair_text': None, 'treatment_tags': [], 'visited': False, 'removed_by': None, 'num_reports': None, 'distinguished': None, 'subreddit_id': 't5_2s7yr', 'author_is_blocked': False, 'mod_reason_by': None, 'removal_reason': None, 'link_flair_background_color': '', 'id': 'utl47l', 'is_robot_indexable': True, 'report_reasons': None, 'author': 'StayCurious2132', 'discussion_type': None, 'num_comments': 2, 'send_replies': True, 'whitelist_status': 'no_ads', 'contest_mode': False, 'mod_reports': [], 'author_patreon_flair': False, 'author_flair_text_color': None, 'permalink': '/r/stopdrinking/comments/utl47l/first_dinner_out/', 'parent_whitelist_status': 'no_ads', 'stickied': False, 'url': 'https://www.reddit.com/r/stopdrinking/comments/utl47l/first_dinner_out/', 'subreddit_subscribers': 360805, 'created_utc': 1653020100.0, 'num_crossposts': 0, 'media': None, 'is_video': False}}], 'before': None}}\n"
          ]
        }
      ]
    },
    {
      "cell_type": "code",
      "source": [
        "df = pd.DataFrame()\n",
        "\n",
        "for post in res.json()['data']['children']:\n",
        "  df = df.append({\n",
        "      'subreddit': post['data']['subreddit'],\n",
        "      'title': post['data']['title'],\n",
        "      'selftext': post['data']['selftext'],\n",
        "      'upvote_ratio': post['data']['upvote_ratio'],\n",
        "      'ups': post['data']['ups'],\n",
        "      'downs': post['data']['downs'],\n",
        "      'score': post['data']['score']\n",
        "  }, ignore_index=True )"
      ],
      "metadata": {
        "id": "SRCR8yf-w2FH"
      },
      "execution_count": null,
      "outputs": []
    },
    {
      "cell_type": "code",
      "source": [
        "df.head()"
      ],
      "metadata": {
        "colab": {
          "base_uri": "https://localhost:8080/",
          "height": 206
        },
        "id": "8RE6wTEqw4pw",
        "outputId": "a2b272b7-d7b0-41ed-ab2a-30180f65eb94"
      },
      "execution_count": null,
      "outputs": [
        {
          "output_type": "execute_result",
          "data": {
            "text/plain": [
              "      subreddit                                              title  \\\n",
              "0  stopdrinking                      Kin: my alcohol “replacement”   \n",
              "1  stopdrinking           6 days sober and I need some suggestions   \n",
              "2  stopdrinking                                 Dating again sober   \n",
              "3  stopdrinking  Partner is out of town - really wanted to drin...   \n",
              "4  stopdrinking            10 Days into my 30 Day sober challenge.   \n",
              "\n",
              "                                            selftext  upvote_ratio  ups  \\\n",
              "0  I’m sure many people here have explored alcoho...           1.0  3.0   \n",
              "1  That title makes zero sense, but essentially I...           1.0  2.0   \n",
              "2  Tomorrow will be two months sober and I will b...           1.0  2.0   \n",
              "3  My partner is out of the country for a work tr...           1.0  3.0   \n",
              "4  Been drinking around 10-12 drinks a night for ...           1.0  3.0   \n",
              "\n",
              "   downs  score  \n",
              "0    0.0    3.0  \n",
              "1    0.0    2.0  \n",
              "2    0.0    2.0  \n",
              "3    0.0    3.0  \n",
              "4    0.0    3.0  "
            ],
            "text/html": [
              "\n",
              "  <div id=\"df-ee63a72d-d227-4812-924e-0a7ab1750087\">\n",
              "    <div class=\"colab-df-container\">\n",
              "      <div>\n",
              "<style scoped>\n",
              "    .dataframe tbody tr th:only-of-type {\n",
              "        vertical-align: middle;\n",
              "    }\n",
              "\n",
              "    .dataframe tbody tr th {\n",
              "        vertical-align: top;\n",
              "    }\n",
              "\n",
              "    .dataframe thead th {\n",
              "        text-align: right;\n",
              "    }\n",
              "</style>\n",
              "<table border=\"1\" class=\"dataframe\">\n",
              "  <thead>\n",
              "    <tr style=\"text-align: right;\">\n",
              "      <th></th>\n",
              "      <th>subreddit</th>\n",
              "      <th>title</th>\n",
              "      <th>selftext</th>\n",
              "      <th>upvote_ratio</th>\n",
              "      <th>ups</th>\n",
              "      <th>downs</th>\n",
              "      <th>score</th>\n",
              "    </tr>\n",
              "  </thead>\n",
              "  <tbody>\n",
              "    <tr>\n",
              "      <th>0</th>\n",
              "      <td>stopdrinking</td>\n",
              "      <td>Kin: my alcohol “replacement”</td>\n",
              "      <td>I’m sure many people here have explored alcoho...</td>\n",
              "      <td>1.0</td>\n",
              "      <td>3.0</td>\n",
              "      <td>0.0</td>\n",
              "      <td>3.0</td>\n",
              "    </tr>\n",
              "    <tr>\n",
              "      <th>1</th>\n",
              "      <td>stopdrinking</td>\n",
              "      <td>6 days sober and I need some suggestions</td>\n",
              "      <td>That title makes zero sense, but essentially I...</td>\n",
              "      <td>1.0</td>\n",
              "      <td>2.0</td>\n",
              "      <td>0.0</td>\n",
              "      <td>2.0</td>\n",
              "    </tr>\n",
              "    <tr>\n",
              "      <th>2</th>\n",
              "      <td>stopdrinking</td>\n",
              "      <td>Dating again sober</td>\n",
              "      <td>Tomorrow will be two months sober and I will b...</td>\n",
              "      <td>1.0</td>\n",
              "      <td>2.0</td>\n",
              "      <td>0.0</td>\n",
              "      <td>2.0</td>\n",
              "    </tr>\n",
              "    <tr>\n",
              "      <th>3</th>\n",
              "      <td>stopdrinking</td>\n",
              "      <td>Partner is out of town - really wanted to drin...</td>\n",
              "      <td>My partner is out of the country for a work tr...</td>\n",
              "      <td>1.0</td>\n",
              "      <td>3.0</td>\n",
              "      <td>0.0</td>\n",
              "      <td>3.0</td>\n",
              "    </tr>\n",
              "    <tr>\n",
              "      <th>4</th>\n",
              "      <td>stopdrinking</td>\n",
              "      <td>10 Days into my 30 Day sober challenge.</td>\n",
              "      <td>Been drinking around 10-12 drinks a night for ...</td>\n",
              "      <td>1.0</td>\n",
              "      <td>3.0</td>\n",
              "      <td>0.0</td>\n",
              "      <td>3.0</td>\n",
              "    </tr>\n",
              "  </tbody>\n",
              "</table>\n",
              "</div>\n",
              "      <button class=\"colab-df-convert\" onclick=\"convertToInteractive('df-ee63a72d-d227-4812-924e-0a7ab1750087')\"\n",
              "              title=\"Convert this dataframe to an interactive table.\"\n",
              "              style=\"display:none;\">\n",
              "        \n",
              "  <svg xmlns=\"http://www.w3.org/2000/svg\" height=\"24px\"viewBox=\"0 0 24 24\"\n",
              "       width=\"24px\">\n",
              "    <path d=\"M0 0h24v24H0V0z\" fill=\"none\"/>\n",
              "    <path d=\"M18.56 5.44l.94 2.06.94-2.06 2.06-.94-2.06-.94-.94-2.06-.94 2.06-2.06.94zm-11 1L8.5 8.5l.94-2.06 2.06-.94-2.06-.94L8.5 2.5l-.94 2.06-2.06.94zm10 10l.94 2.06.94-2.06 2.06-.94-2.06-.94-.94-2.06-.94 2.06-2.06.94z\"/><path d=\"M17.41 7.96l-1.37-1.37c-.4-.4-.92-.59-1.43-.59-.52 0-1.04.2-1.43.59L10.3 9.45l-7.72 7.72c-.78.78-.78 2.05 0 2.83L4 21.41c.39.39.9.59 1.41.59.51 0 1.02-.2 1.41-.59l7.78-7.78 2.81-2.81c.8-.78.8-2.07 0-2.86zM5.41 20L4 18.59l7.72-7.72 1.47 1.35L5.41 20z\"/>\n",
              "  </svg>\n",
              "      </button>\n",
              "      \n",
              "  <style>\n",
              "    .colab-df-container {\n",
              "      display:flex;\n",
              "      flex-wrap:wrap;\n",
              "      gap: 12px;\n",
              "    }\n",
              "\n",
              "    .colab-df-convert {\n",
              "      background-color: #E8F0FE;\n",
              "      border: none;\n",
              "      border-radius: 50%;\n",
              "      cursor: pointer;\n",
              "      display: none;\n",
              "      fill: #1967D2;\n",
              "      height: 32px;\n",
              "      padding: 0 0 0 0;\n",
              "      width: 32px;\n",
              "    }\n",
              "\n",
              "    .colab-df-convert:hover {\n",
              "      background-color: #E2EBFA;\n",
              "      box-shadow: 0px 1px 2px rgba(60, 64, 67, 0.3), 0px 1px 3px 1px rgba(60, 64, 67, 0.15);\n",
              "      fill: #174EA6;\n",
              "    }\n",
              "\n",
              "    [theme=dark] .colab-df-convert {\n",
              "      background-color: #3B4455;\n",
              "      fill: #D2E3FC;\n",
              "    }\n",
              "\n",
              "    [theme=dark] .colab-df-convert:hover {\n",
              "      background-color: #434B5C;\n",
              "      box-shadow: 0px 1px 3px 1px rgba(0, 0, 0, 0.15);\n",
              "      filter: drop-shadow(0px 1px 2px rgba(0, 0, 0, 0.3));\n",
              "      fill: #FFFFFF;\n",
              "    }\n",
              "  </style>\n",
              "\n",
              "      <script>\n",
              "        const buttonEl =\n",
              "          document.querySelector('#df-ee63a72d-d227-4812-924e-0a7ab1750087 button.colab-df-convert');\n",
              "        buttonEl.style.display =\n",
              "          google.colab.kernel.accessAllowed ? 'block' : 'none';\n",
              "\n",
              "        async function convertToInteractive(key) {\n",
              "          const element = document.querySelector('#df-ee63a72d-d227-4812-924e-0a7ab1750087');\n",
              "          const dataTable =\n",
              "            await google.colab.kernel.invokeFunction('convertToInteractive',\n",
              "                                                     [key], {});\n",
              "          if (!dataTable) return;\n",
              "\n",
              "          const docLinkHtml = 'Like what you see? Visit the ' +\n",
              "            '<a target=\"_blank\" href=https://colab.research.google.com/notebooks/data_table.ipynb>data table notebook</a>'\n",
              "            + ' to learn more about interactive tables.';\n",
              "          element.innerHTML = '';\n",
              "          dataTable['output_type'] = 'display_data';\n",
              "          await google.colab.output.renderOutput(dataTable, element);\n",
              "          const docLink = document.createElement('div');\n",
              "          docLink.innerHTML = docLinkHtml;\n",
              "          element.appendChild(docLink);\n",
              "        }\n",
              "      </script>\n",
              "    </div>\n",
              "  </div>\n",
              "  "
            ]
          },
          "metadata": {},
          "execution_count": 8
        }
      ]
    },
    {
      "cell_type": "code",
      "source": [
        "raw_text1 = res.json()['data']['children'][2]['data']['selftext']\n",
        "\n",
        "print( raw_text1 )"
      ],
      "metadata": {
        "colab": {
          "base_uri": "https://localhost:8080/"
        },
        "id": "QaBPsmjaxkho",
        "outputId": "762f24e0-2d89-4529-f45a-aa6ded778e8d"
      },
      "execution_count": null,
      "outputs": [
        {
          "output_type": "stream",
          "name": "stdout",
          "text": [
            "Tomorrow will be two months sober and I will be going on my second date.  The first date she asked me if I drink and I said “no” without getting into to much detail about why I don’t.  She was very respectful about me being sober and she has no complaints of being with someone sober.  She is the first date I have been on sober and it was easy; I acted myself, smiled and laughed and we hit it off good.  IWNDWYT\n"
          ]
        }
      ]
    },
    {
      "cell_type": "markdown",
      "source": [
        "# Named Entity Recognition"
      ],
      "metadata": {
        "id": "lJzoxdfkxEmM"
      }
    },
    {
      "cell_type": "markdown",
      "source": [
        "### 1. spaCy"
      ],
      "metadata": {
        "id": "7qDxy8PJxQCJ"
      }
    },
    {
      "cell_type": "code",
      "source": [
        "import spacy\n",
        "from spacy import displacy\n",
        "import spacy.cli\n",
        "\n",
        "spacy.cli.download(\"en_core_web_lg\")\n",
        "\n",
        "NER = spacy.load( \"en_core_web_lg\" )"
      ],
      "metadata": {
        "colab": {
          "base_uri": "https://localhost:8080/"
        },
        "id": "GMeH8cGbw6aB",
        "outputId": "ed33fc6c-703e-4b82-d875-7b0cb8f8953e"
      },
      "execution_count": null,
      "outputs": [
        {
          "output_type": "stream",
          "name": "stdout",
          "text": [
            "\u001b[38;5;2m✔ Download and installation successful\u001b[0m\n",
            "You can now load the package via spacy.load('en_core_web_lg')\n"
          ]
        }
      ]
    },
    {
      "cell_type": "code",
      "source": [
        "# [ \"Germany\", \"'s\", \"representative\", \"to\", \"the\", \"European\", \"Union\", \"'s\", \"veterinary\", \"committee\", \"Werner\", \"Zwingmann\", \"said\", \"on\", \"Wednesday\", \"consumers\", \"should\", \"buy\", \"sheepmeat\", \"from\", \"countries\", \"other\", \"than\", \"Britain\", \"until\", \"the\", \"scientific\", \"advice\", \"was\", \"clearer\", \".\" ]\n",
        "\n",
        "raw_text1 = \"Germany's representative to the EUropean Union's veterinary committee, Werner Zwingmann, said on Wednesday consumers should buy sheep meat from countries other than Britain until the scientific advice was clearer. Two days later, on Tuesday, another company from Korea named Samsung also decided to destroy stuff.\"\n",
        "text1 = NER( raw_text1 )"
      ],
      "metadata": {
        "id": "9jQkNR8J3NLM"
      },
      "execution_count": null,
      "outputs": []
    },
    {
      "cell_type": "code",
      "source": [
        "for word in text1.ents:\n",
        "  print( word.text, word.label_ )"
      ],
      "metadata": {
        "colab": {
          "base_uri": "https://localhost:8080/"
        },
        "id": "bpGY18XnLJJK",
        "outputId": "07f79546-2949-44c1-df34-abbe02e06e25"
      },
      "execution_count": null,
      "outputs": [
        {
          "output_type": "stream",
          "name": "stdout",
          "text": [
            "Germany GPE\n",
            "the EUropean Union's ORG\n",
            "Werner Zwingmann PERSON\n",
            "Wednesday DATE\n",
            "Britain GPE\n",
            "Two days later DATE\n",
            "Tuesday DATE\n",
            "Korea GPE\n",
            "Samsung ORG\n"
          ]
        }
      ]
    },
    {
      "cell_type": "code",
      "source": [
        "displacy.render( text1, style=\"ent\", jupyter=True )"
      ],
      "metadata": {
        "colab": {
          "base_uri": "https://localhost:8080/"
        },
        "id": "AQN6-B7iLNwX",
        "outputId": "1f0967d3-9a6c-40da-ff63-1e388e6943c6"
      },
      "execution_count": null,
      "outputs": [
        {
          "output_type": "display_data",
          "data": {
            "text/plain": [
              "<IPython.core.display.HTML object>"
            ],
            "text/html": [
              "<span class=\"tex2jax_ignore\"><div class=\"entities\" style=\"line-height: 2.5; direction: ltr\">\n",
              "<mark class=\"entity\" style=\"background: #feca74; padding: 0.45em 0.6em; margin: 0 0.25em; line-height: 1; border-radius: 0.35em;\">\n",
              "    Germany\n",
              "    <span style=\"font-size: 0.8em; font-weight: bold; line-height: 1; border-radius: 0.35em; vertical-align: middle; margin-left: 0.5rem\">GPE</span>\n",
              "</mark>\n",
              "'s representative to \n",
              "<mark class=\"entity\" style=\"background: #7aecec; padding: 0.45em 0.6em; margin: 0 0.25em; line-height: 1; border-radius: 0.35em;\">\n",
              "    the EUropean Union's\n",
              "    <span style=\"font-size: 0.8em; font-weight: bold; line-height: 1; border-radius: 0.35em; vertical-align: middle; margin-left: 0.5rem\">ORG</span>\n",
              "</mark>\n",
              " veterinary committee, \n",
              "<mark class=\"entity\" style=\"background: #aa9cfc; padding: 0.45em 0.6em; margin: 0 0.25em; line-height: 1; border-radius: 0.35em;\">\n",
              "    Werner Zwingmann\n",
              "    <span style=\"font-size: 0.8em; font-weight: bold; line-height: 1; border-radius: 0.35em; vertical-align: middle; margin-left: 0.5rem\">PERSON</span>\n",
              "</mark>\n",
              ", said on \n",
              "<mark class=\"entity\" style=\"background: #bfe1d9; padding: 0.45em 0.6em; margin: 0 0.25em; line-height: 1; border-radius: 0.35em;\">\n",
              "    Wednesday\n",
              "    <span style=\"font-size: 0.8em; font-weight: bold; line-height: 1; border-radius: 0.35em; vertical-align: middle; margin-left: 0.5rem\">DATE</span>\n",
              "</mark>\n",
              " consumers should buy sheep meat from countries other than \n",
              "<mark class=\"entity\" style=\"background: #feca74; padding: 0.45em 0.6em; margin: 0 0.25em; line-height: 1; border-radius: 0.35em;\">\n",
              "    Britain\n",
              "    <span style=\"font-size: 0.8em; font-weight: bold; line-height: 1; border-radius: 0.35em; vertical-align: middle; margin-left: 0.5rem\">GPE</span>\n",
              "</mark>\n",
              " until the scientific advice was clearer. \n",
              "<mark class=\"entity\" style=\"background: #bfe1d9; padding: 0.45em 0.6em; margin: 0 0.25em; line-height: 1; border-radius: 0.35em;\">\n",
              "    Two days later\n",
              "    <span style=\"font-size: 0.8em; font-weight: bold; line-height: 1; border-radius: 0.35em; vertical-align: middle; margin-left: 0.5rem\">DATE</span>\n",
              "</mark>\n",
              ", on \n",
              "<mark class=\"entity\" style=\"background: #bfe1d9; padding: 0.45em 0.6em; margin: 0 0.25em; line-height: 1; border-radius: 0.35em;\">\n",
              "    Tuesday\n",
              "    <span style=\"font-size: 0.8em; font-weight: bold; line-height: 1; border-radius: 0.35em; vertical-align: middle; margin-left: 0.5rem\">DATE</span>\n",
              "</mark>\n",
              ", another company from \n",
              "<mark class=\"entity\" style=\"background: #feca74; padding: 0.45em 0.6em; margin: 0 0.25em; line-height: 1; border-radius: 0.35em;\">\n",
              "    Korea\n",
              "    <span style=\"font-size: 0.8em; font-weight: bold; line-height: 1; border-radius: 0.35em; vertical-align: middle; margin-left: 0.5rem\">GPE</span>\n",
              "</mark>\n",
              " named \n",
              "<mark class=\"entity\" style=\"background: #7aecec; padding: 0.45em 0.6em; margin: 0 0.25em; line-height: 1; border-radius: 0.35em;\">\n",
              "    Samsung\n",
              "    <span style=\"font-size: 0.8em; font-weight: bold; line-height: 1; border-radius: 0.35em; vertical-align: middle; margin-left: 0.5rem\">ORG</span>\n",
              "</mark>\n",
              " also decided to destroy stuff.</div></span>"
            ]
          },
          "metadata": {}
        }
      ]
    },
    {
      "cell_type": "code",
      "source": [
        "text1 = NER( raw_text1 )\n",
        "\n",
        "for word in text1.ents:\n",
        "  print( word.text, word.label_ )"
      ],
      "metadata": {
        "colab": {
          "base_uri": "https://localhost:8080/"
        },
        "id": "IdeTCD1yxfK5",
        "outputId": "3ae0774e-e66a-43f8-f076-0acce2540cc3"
      },
      "execution_count": null,
      "outputs": [
        {
          "output_type": "stream",
          "name": "stdout",
          "text": [
            "Tomorrow DATE\n",
            "two months DATE\n",
            "second ORDINAL\n",
            "first ORDINAL\n",
            "first ORDINAL\n",
            "IWNDWYT ORG\n"
          ]
        }
      ]
    },
    {
      "cell_type": "code",
      "source": [
        "displacy.render( text1, style=\"ent\", jupyter=True )"
      ],
      "metadata": {
        "colab": {
          "base_uri": "https://localhost:8080/",
          "height": 122
        },
        "id": "6a7z6YKfyNuQ",
        "outputId": "dab1c7d4-2d53-4254-f385-107ac36df4c0"
      },
      "execution_count": null,
      "outputs": [
        {
          "output_type": "display_data",
          "data": {
            "text/plain": [
              "<IPython.core.display.HTML object>"
            ],
            "text/html": [
              "<span class=\"tex2jax_ignore\"><div class=\"entities\" style=\"line-height: 2.5; direction: ltr\">\n",
              "<mark class=\"entity\" style=\"background: #bfe1d9; padding: 0.45em 0.6em; margin: 0 0.25em; line-height: 1; border-radius: 0.35em;\">\n",
              "    Tomorrow\n",
              "    <span style=\"font-size: 0.8em; font-weight: bold; line-height: 1; border-radius: 0.35em; text-transform: uppercase; vertical-align: middle; margin-left: 0.5rem\">DATE</span>\n",
              "</mark>\n",
              " will be \n",
              "<mark class=\"entity\" style=\"background: #bfe1d9; padding: 0.45em 0.6em; margin: 0 0.25em; line-height: 1; border-radius: 0.35em;\">\n",
              "    two months\n",
              "    <span style=\"font-size: 0.8em; font-weight: bold; line-height: 1; border-radius: 0.35em; text-transform: uppercase; vertical-align: middle; margin-left: 0.5rem\">DATE</span>\n",
              "</mark>\n",
              " sober and I will be going on my \n",
              "<mark class=\"entity\" style=\"background: #e4e7d2; padding: 0.45em 0.6em; margin: 0 0.25em; line-height: 1; border-radius: 0.35em;\">\n",
              "    second\n",
              "    <span style=\"font-size: 0.8em; font-weight: bold; line-height: 1; border-radius: 0.35em; text-transform: uppercase; vertical-align: middle; margin-left: 0.5rem\">ORDINAL</span>\n",
              "</mark>\n",
              " date.  The \n",
              "<mark class=\"entity\" style=\"background: #e4e7d2; padding: 0.45em 0.6em; margin: 0 0.25em; line-height: 1; border-radius: 0.35em;\">\n",
              "    first\n",
              "    <span style=\"font-size: 0.8em; font-weight: bold; line-height: 1; border-radius: 0.35em; text-transform: uppercase; vertical-align: middle; margin-left: 0.5rem\">ORDINAL</span>\n",
              "</mark>\n",
              " date she asked me if I drink and I said “no” without getting into to much detail about why I don’t.  She was very respectful about me being sober and she has no complaints of being with someone sober.  She is the \n",
              "<mark class=\"entity\" style=\"background: #e4e7d2; padding: 0.45em 0.6em; margin: 0 0.25em; line-height: 1; border-radius: 0.35em;\">\n",
              "    first\n",
              "    <span style=\"font-size: 0.8em; font-weight: bold; line-height: 1; border-radius: 0.35em; text-transform: uppercase; vertical-align: middle; margin-left: 0.5rem\">ORDINAL</span>\n",
              "</mark>\n",
              " date I have been on sober and it was easy; I acted myself, smiled and laughed and we hit it off good.  \n",
              "<mark class=\"entity\" style=\"background: #7aecec; padding: 0.45em 0.6em; margin: 0 0.25em; line-height: 1; border-radius: 0.35em;\">\n",
              "    IWNDWYT\n",
              "    <span style=\"font-size: 0.8em; font-weight: bold; line-height: 1; border-radius: 0.35em; text-transform: uppercase; vertical-align: middle; margin-left: 0.5rem\">ORG</span>\n",
              "</mark>\n",
              "</div></span>"
            ]
          },
          "metadata": {}
        }
      ]
    },
    {
      "cell_type": "markdown",
      "source": [
        "### 2. GATE (Annie)"
      ],
      "metadata": {
        "id": "1UJ0rb7YyVGF"
      }
    },
    {
      "cell_type": "code",
      "source": [
        "import string\n",
        "\n",
        "url_new = \"https://cloud-api.gate.ac.uk/process/annie-named-entity-recognizer\"\n",
        "\n",
        "special_characters = string.punctuation + \"’\" + \"“\" + \"”\" + \"❤️\"\n",
        "\n",
        "annie_text1 = ''.join( i for i in raw_text1 if i not in special_characters )\n",
        "\n",
        "print( annie_text1 )\n",
        "\n",
        "headers = {'Content-Type': 'text/plain'}\n",
        "response = requests.post( url_new, data=annie_text1, headers=headers ).json()\n",
        "\n",
        "import json\n",
        "print( json.dumps( response, indent=2 ) )"
      ],
      "metadata": {
        "colab": {
          "base_uri": "https://localhost:8080/"
        },
        "id": "yvvv-Hw2yQAH",
        "outputId": "1a6dca22-3ea1-44ed-af7a-b94085dfae10"
      },
      "execution_count": null,
      "outputs": [
        {
          "output_type": "stream",
          "name": "stdout",
          "text": [
            "Tomorrow will be two months sober and I will be going on my second date  The first date she asked me if I drink and I said no without getting into to much detail about why I dont  She was very respectful about me being sober and she has no complaints of being with someone sober  She is the first date I have been on sober and it was easy I acted myself smiled and laughed and we hit it off good  IWNDWYT\n",
            "{\n",
            "  \"text\": \"Tomorrow will be two months sober and I will be going on my second date  The first date she asked me if I drink and I said no without getting into to much detail about why I dont  She was very respectful about me being sober and she has no complaints of being with someone sober  She is the first date I have been on sober and it was easy I acted myself smiled and laughed and we hit it off good  IWNDWYT\",\n",
            "  \"entities\": {}\n",
            "}\n"
          ]
        }
      ]
    },
    {
      "cell_type": "markdown",
      "source": [
        "### 3. NLTK"
      ],
      "metadata": {
        "id": "uW0o8fRczAEx"
      }
    },
    {
      "cell_type": "code",
      "source": [
        "import nltk\n",
        "nltk.download( 'punkt' )\n",
        "nltk.download( 'averaged_perceptron_tagger' )\n",
        "nltk.download( 'maxent_ne_chunker' )\n",
        "nltk.download( 'words' )\n",
        "{( ' '.join( c[0] for c in chunk ), chunk.label() ) for chunk in nltk.ne_chunk( nltk.pos_tag( nltk.word_tokenize( raw_text1 ) ) ) if hasattr( chunk, 'label' )}"
      ],
      "metadata": {
        "colab": {
          "base_uri": "https://localhost:8080/"
        },
        "id": "RZB5uAYHyorG",
        "outputId": "1a9a3609-343e-4f1a-a62e-3bbbdb20049f"
      },
      "execution_count": null,
      "outputs": [
        {
          "output_type": "stream",
          "name": "stdout",
          "text": [
            "[nltk_data] Downloading package punkt to /root/nltk_data...\n",
            "[nltk_data]   Unzipping tokenizers/punkt.zip.\n",
            "[nltk_data] Downloading package averaged_perceptron_tagger to\n",
            "[nltk_data]     /root/nltk_data...\n",
            "[nltk_data]   Unzipping taggers/averaged_perceptron_tagger.zip.\n",
            "[nltk_data] Downloading package maxent_ne_chunker to\n",
            "[nltk_data]     /root/nltk_data...\n",
            "[nltk_data]   Unzipping chunkers/maxent_ne_chunker.zip.\n",
            "[nltk_data] Downloading package words to /root/nltk_data...\n",
            "[nltk_data]   Unzipping corpora/words.zip.\n"
          ]
        },
        {
          "output_type": "execute_result",
          "data": {
            "text/plain": [
              "{('IWNDWYT', 'ORGANIZATION'), ('Tomorrow', 'GPE')}"
            ]
          },
          "metadata": {},
          "execution_count": 14
        }
      ]
    },
    {
      "cell_type": "markdown",
      "source": [
        "### 4. Stanford NER"
      ],
      "metadata": {
        "id": "__VSSV_Ozaul"
      }
    },
    {
      "cell_type": "code",
      "source": [
        "!pip3 install nltk==3.2.4\n",
        "!wget http://nlp.stanford.edu/software/stanford-ner-2015-04-20.zip\n",
        "!unzip stanford-ner-2015-04-20.zip\n",
        "\n",
        "from nltk.tag.stanford import StanfordNERTagger\n",
        "\n",
        "jar = \"stanford-ner-2015-04-20/stanford-ner-3.5.2.jar\"\n",
        "model = \"stanford-ner-2015-04-20/classifiers/\" \n",
        "\n",
        "st_3class = StanfordNERTagger( model + \"english.all.3class.distsim.crf.ser.gz\", jar, encoding='utf8' ) \n",
        "st_4class = StanfordNERTagger( model + \"english.conll.4class.distsim.crf.ser.gz\", jar, encoding='utf8' ) \n",
        "st_7class = StanfordNERTagger( model + \"english.muc.7class.distsim.crf.ser.gz\", jar, encoding='utf8' )"
      ],
      "metadata": {
        "colab": {
          "base_uri": "https://localhost:8080/",
          "height": 1000
        },
        "id": "-RauuZDszPne",
        "outputId": "d31b1a36-c21a-437e-ce1a-0b61feecaa43"
      },
      "execution_count": null,
      "outputs": [
        {
          "output_type": "stream",
          "name": "stdout",
          "text": [
            "Collecting nltk==3.2.4\n",
            "  Downloading nltk-3.2.4.tar.gz (1.2 MB)\n",
            "\u001b[K     |████████████████████████████████| 1.2 MB 5.2 MB/s \n",
            "\u001b[?25hRequirement already satisfied: six in /usr/local/lib/python3.7/dist-packages (from nltk==3.2.4) (1.15.0)\n",
            "Building wheels for collected packages: nltk\n",
            "  Building wheel for nltk (setup.py) ... \u001b[?25l\u001b[?25hdone\n",
            "  Created wheel for nltk: filename=nltk-3.2.4-py3-none-any.whl size=1367723 sha256=21df0fa4fc443f3ff7414859d368cf72bb152eba97bdced3d3de0a421d4fb6f2\n",
            "  Stored in directory: /root/.cache/pip/wheels/90/5e/9e/4cb46185f2a16c60e6fc524372ba7fef89ce3347734c8798b6\n",
            "Successfully built nltk\n",
            "Installing collected packages: nltk\n",
            "  Attempting uninstall: nltk\n",
            "    Found existing installation: nltk 3.2.5\n",
            "    Uninstalling nltk-3.2.5:\n",
            "      Successfully uninstalled nltk-3.2.5\n",
            "Successfully installed nltk-3.2.4\n"
          ]
        },
        {
          "output_type": "display_data",
          "data": {
            "application/vnd.colab-display-data+json": {
              "pip_warning": {
                "packages": [
                  "nltk"
                ]
              }
            }
          },
          "metadata": {}
        },
        {
          "output_type": "stream",
          "name": "stdout",
          "text": [
            "--2022-05-20 18:50:38--  http://nlp.stanford.edu/software/stanford-ner-2015-04-20.zip\n",
            "Resolving nlp.stanford.edu (nlp.stanford.edu)... 171.64.67.140\n",
            "Connecting to nlp.stanford.edu (nlp.stanford.edu)|171.64.67.140|:80... connected.\n",
            "HTTP request sent, awaiting response... 302 Found\n",
            "Location: https://nlp.stanford.edu/software/stanford-ner-2015-04-20.zip [following]\n",
            "--2022-05-20 18:50:38--  https://nlp.stanford.edu/software/stanford-ner-2015-04-20.zip\n",
            "Connecting to nlp.stanford.edu (nlp.stanford.edu)|171.64.67.140|:443... connected.\n",
            "HTTP request sent, awaiting response... 302 FOUND\n",
            "Location: https://downloads.cs.stanford.edu/nlp/software/stanford-ner-2015-04-20.zip [following]\n",
            "--2022-05-20 18:50:38--  https://downloads.cs.stanford.edu/nlp/software/stanford-ner-2015-04-20.zip\n",
            "Resolving downloads.cs.stanford.edu (downloads.cs.stanford.edu)... 171.64.64.22\n",
            "Connecting to downloads.cs.stanford.edu (downloads.cs.stanford.edu)|171.64.64.22|:443... connected.\n",
            "HTTP request sent, awaiting response... 200 OK\n",
            "Length: 176961718 (169M) [application/zip]\n",
            "Saving to: ‘stanford-ner-2015-04-20.zip’\n",
            "\n",
            "stanford-ner-2015-0 100%[===================>] 168.76M  5.10MB/s    in 29s     \n",
            "\n",
            "2022-05-20 18:51:08 (5.76 MB/s) - ‘stanford-ner-2015-04-20.zip’ saved [176961718/176961718]\n",
            "\n",
            "Archive:  stanford-ner-2015-04-20.zip\n",
            "   creating: stanford-ner-2015-04-20/\n",
            "  inflating: stanford-ner-2015-04-20/README.txt  \n",
            "  inflating: stanford-ner-2015-04-20/ner-gui.bat  \n",
            "  inflating: stanford-ner-2015-04-20/build.xml  \n",
            "  inflating: stanford-ner-2015-04-20/stanford-ner-3.5.2.jar  \n",
            "  inflating: stanford-ner-2015-04-20/stanford-ner.jar  \n",
            "  inflating: stanford-ner-2015-04-20/sample-conll-file.txt  \n",
            "  inflating: stanford-ner-2015-04-20/sample.ner.txt  \n",
            "   creating: stanford-ner-2015-04-20/lib/\n",
            "  inflating: stanford-ner-2015-04-20/lib/jollyday-0.4.7.jar  \n",
            "  inflating: stanford-ner-2015-04-20/lib/joda-time.jar  \n",
            "  inflating: stanford-ner-2015-04-20/lib/stanford-ner-resources.jar  \n",
            "  inflating: stanford-ner-2015-04-20/ner-gui.command  \n",
            "  inflating: stanford-ner-2015-04-20/ner.sh  \n",
            "  inflating: stanford-ner-2015-04-20/NERDemo.java  \n",
            "  inflating: stanford-ner-2015-04-20/ner.bat  \n",
            "  inflating: stanford-ner-2015-04-20/stanford-ner-3.5.2-javadoc.jar  \n",
            "   creating: stanford-ner-2015-04-20/classifiers/\n",
            "  inflating: stanford-ner-2015-04-20/classifiers/english.conll.4class.distsim.prop  \n",
            "  inflating: stanford-ner-2015-04-20/classifiers/example.serialized.ncc.ncc.ser.gz  \n",
            "  inflating: stanford-ner-2015-04-20/classifiers/english.muc.7class.distsim.crf.ser.gz  \n",
            "  inflating: stanford-ner-2015-04-20/classifiers/english.conll.4class.distsim.crf.ser.gz  \n",
            "  inflating: stanford-ner-2015-04-20/classifiers/english.muc.7class.distsim.prop  \n",
            "  inflating: stanford-ner-2015-04-20/classifiers/english.all.3class.distsim.prop  \n",
            "  inflating: stanford-ner-2015-04-20/classifiers/example.serialized.ncc.prop  \n",
            "  inflating: stanford-ner-2015-04-20/classifiers/english.all.3class.distsim.crf.ser.gz  \n",
            "  inflating: stanford-ner-2015-04-20/stanford-ner-3.5.2-sources.jar  \n",
            "  inflating: stanford-ner-2015-04-20/sample.txt  \n",
            "  inflating: stanford-ner-2015-04-20/sample-w-time.txt  \n",
            "  inflating: stanford-ner-2015-04-20/ner-gui.sh  \n",
            "  inflating: stanford-ner-2015-04-20/LICENSE.txt  \n"
          ]
        },
        {
          "output_type": "stream",
          "name": "stderr",
          "text": [
            "/usr/local/lib/python3.7/dist-packages/nltk/tag/stanford.py:183: DeprecationWarning: \n",
            "The StanfordTokenizer will be deprecated in version 3.2.5.\n",
            "Please use \u001b[91mnltk.tag.corenlp.CoreNLPPOSTagger\u001b[0m or \u001b[91mnltk.tag.corenlp.CoreNLPNERTagger\u001b[0m instead.\n",
            "  '-tokenizerFactory',\n",
            "/usr/local/lib/python3.7/dist-packages/nltk/tag/stanford.py:183: DeprecationWarning: \n",
            "The StanfordTokenizer will be deprecated in version 3.2.5.\n",
            "Please use \u001b[91mnltk.tag.corenlp.CoreNLPPOSTagger\u001b[0m or \u001b[91mnltk.tag.corenlp.CoreNLPNERTagger\u001b[0m instead.\n",
            "  '-tokenizerFactory',\n",
            "/usr/local/lib/python3.7/dist-packages/nltk/tag/stanford.py:183: DeprecationWarning: \n",
            "The StanfordTokenizer will be deprecated in version 3.2.5.\n",
            "Please use \u001b[91mnltk.tag.corenlp.CoreNLPPOSTagger\u001b[0m or \u001b[91mnltk.tag.corenlp.CoreNLPNERTagger\u001b[0m instead.\n",
            "  '-tokenizerFactory',\n"
          ]
        }
      ]
    },
    {
      "cell_type": "code",
      "source": [
        "st_3class.tag( raw_text1.split() )\n",
        "# st_4class.tag( raw_text1.split() )\n",
        "# st_7class.tag( raw_text1.split() )"
      ],
      "metadata": {
        "colab": {
          "base_uri": "https://localhost:8080/"
        },
        "id": "OQut7tkJzo5P",
        "outputId": "a9b98a0b-552d-4815-ead8-0d5289b0bb33"
      },
      "execution_count": null,
      "outputs": [
        {
          "output_type": "execute_result",
          "data": {
            "text/plain": [
              "[('Tomorrow', 'O'),\n",
              " ('will', 'O'),\n",
              " ('be', 'O'),\n",
              " ('two', 'O'),\n",
              " ('months', 'O'),\n",
              " ('sober', 'O'),\n",
              " ('and', 'O'),\n",
              " ('I', 'O'),\n",
              " ('will', 'O'),\n",
              " ('be', 'O'),\n",
              " ('going', 'O'),\n",
              " ('on', 'O'),\n",
              " ('my', 'O'),\n",
              " ('second', 'O'),\n",
              " ('date.', 'O'),\n",
              " ('The', 'O'),\n",
              " ('first', 'O'),\n",
              " ('date', 'O'),\n",
              " ('she', 'O'),\n",
              " ('asked', 'O'),\n",
              " ('me', 'O'),\n",
              " ('if', 'O'),\n",
              " ('I', 'O'),\n",
              " ('drink', 'O'),\n",
              " ('and', 'O'),\n",
              " ('I', 'O'),\n",
              " ('said', 'O'),\n",
              " ('“no”', 'O'),\n",
              " ('without', 'O'),\n",
              " ('getting', 'O'),\n",
              " ('into', 'O'),\n",
              " ('to', 'O'),\n",
              " ('much', 'O'),\n",
              " ('detail', 'O'),\n",
              " ('about', 'O'),\n",
              " ('why', 'O'),\n",
              " ('I', 'O'),\n",
              " ('don’t.', 'O'),\n",
              " ('She', 'O'),\n",
              " ('was', 'O'),\n",
              " ('very', 'O'),\n",
              " ('respectful', 'O'),\n",
              " ('about', 'O'),\n",
              " ('me', 'O'),\n",
              " ('being', 'O'),\n",
              " ('sober', 'O'),\n",
              " ('and', 'O'),\n",
              " ('she', 'O'),\n",
              " ('has', 'O'),\n",
              " ('no', 'O'),\n",
              " ('complaints', 'O'),\n",
              " ('of', 'O'),\n",
              " ('being', 'O'),\n",
              " ('with', 'O'),\n",
              " ('someone', 'O'),\n",
              " ('sober.', 'O'),\n",
              " ('She', 'O'),\n",
              " ('is', 'O'),\n",
              " ('the', 'O'),\n",
              " ('first', 'O'),\n",
              " ('date', 'O'),\n",
              " ('I', 'O'),\n",
              " ('have', 'O'),\n",
              " ('been', 'O'),\n",
              " ('on', 'O'),\n",
              " ('sober', 'O'),\n",
              " ('and', 'O'),\n",
              " ('it', 'O'),\n",
              " ('was', 'O'),\n",
              " ('easy;', 'O'),\n",
              " ('I', 'O'),\n",
              " ('acted', 'O'),\n",
              " ('myself,', 'O'),\n",
              " ('smiled', 'O'),\n",
              " ('and', 'O'),\n",
              " ('laughed', 'O'),\n",
              " ('and', 'O'),\n",
              " ('we', 'O'),\n",
              " ('hit', 'O'),\n",
              " ('it', 'O'),\n",
              " ('off', 'O'),\n",
              " ('good.', 'O'),\n",
              " ('IWNDWYT', 'O')]"
            ]
          },
          "metadata": {},
          "execution_count": 18
        }
      ]
    },
    {
      "cell_type": "markdown",
      "source": [
        "### 5. Polyglot"
      ],
      "metadata": {
        "id": "L-LzqkUi0VZM"
      }
    },
    {
      "cell_type": "code",
      "source": [
        "!pip3 install -U git+https://github.com/aboSamoor/polyglot.git@master\n",
        "!polyglot download embeddings2.en ner2.en\n",
        "\n",
        "from polyglot.text import Text"
      ],
      "metadata": {
        "colab": {
          "base_uri": "https://localhost:8080/",
          "height": 989
        },
        "id": "Si35hNZL0ABZ",
        "outputId": "9274d29e-5dab-4724-9a19-652b986e137d"
      },
      "execution_count": null,
      "outputs": [
        {
          "output_type": "stream",
          "name": "stdout",
          "text": [
            "Collecting git+https://github.com/aboSamoor/polyglot.git@master\n",
            "  Cloning https://github.com/aboSamoor/polyglot.git (to revision master) to /tmp/pip-req-build-qx1pjmvb\n",
            "  Running command git clone -q https://github.com/aboSamoor/polyglot.git /tmp/pip-req-build-qx1pjmvb\n",
            "Requirement already satisfied: six>=1.7.3 in /usr/local/lib/python3.7/dist-packages (from polyglot==16.7.4) (1.15.0)\n",
            "Requirement already satisfied: wheel>=0.23.0 in /usr/local/lib/python3.7/dist-packages (from polyglot==16.7.4) (0.37.1)\n",
            "Collecting pycld2>=0.3\n",
            "  Downloading pycld2-0.41.tar.gz (41.4 MB)\n",
            "\u001b[K     |████████████████████████████████| 41.4 MB 1.3 MB/s \n",
            "\u001b[?25hCollecting morfessor>=2.0.2a1\n",
            "  Downloading Morfessor-2.0.6-py3-none-any.whl (35 kB)\n",
            "Collecting PyICU>=1.8\n",
            "  Downloading PyICU-2.9.tar.gz (305 kB)\n",
            "\u001b[K     |████████████████████████████████| 305 kB 56.5 MB/s \n",
            "\u001b[?25h  Installing build dependencies ... \u001b[?25l\u001b[?25hdone\n",
            "  Getting requirements to build wheel ... \u001b[?25l\u001b[?25hdone\n",
            "    Preparing wheel metadata ... \u001b[?25l\u001b[?25hdone\n",
            "Collecting futures>=2.1.6\n",
            "  Downloading futures-3.0.5.tar.gz (25 kB)\n",
            "\u001b[33mWARNING: Discarding https://files.pythonhosted.org/packages/55/db/97c1ca37edab586a1ae03d6892b6633d8eaa23b23ac40c7e5bbc55423c78/futures-3.0.5.tar.gz#sha256=0542525145d5afc984c88f914a0c85c77527f65946617edb5274f72406f981df (from https://pypi.org/simple/futures/). Command errored out with exit status 1: python setup.py egg_info Check the logs for full command output.\u001b[0m\n",
            "  Downloading futures-3.0.4.tar.gz (25 kB)\n",
            "\u001b[33mWARNING: Discarding https://files.pythonhosted.org/packages/8d/73/b5fff618482bc06c9711e7cdc0d5d7eb1904d35898f48f2d7f9696b08bef/futures-3.0.4.tar.gz#sha256=19485d83f7bd2151c0aeaf88fbba3ee50dadfb222ffc3b66a344ef4952b782a3 (from https://pypi.org/simple/futures/). Command errored out with exit status 1: python setup.py egg_info Check the logs for full command output.\u001b[0m\n",
            "  Downloading futures-3.0.3.tar.gz (24 kB)\n",
            "\u001b[33mWARNING: Discarding https://files.pythonhosted.org/packages/4c/dc/f9473006d4c9c52d4a4e977173fbcbfb1a8ef3a57e32e885edf994fd4a45/futures-3.0.3.tar.gz#sha256=2fe2342bb4fe8b8e217f0d21b5921cbe5408bf966d9f92025e707e881b198bed (from https://pypi.org/simple/futures/). Command errored out with exit status 1: python setup.py egg_info Check the logs for full command output.\u001b[0m\n",
            "  Downloading futures-3.0.2.tar.gz (24 kB)\n",
            "\u001b[33mWARNING: Discarding https://files.pythonhosted.org/packages/f8/e7/fc0fcbeb9193ba2d4de00b065e7fd5aecd0679e93ce95a07322b2b1434f4/futures-3.0.2.tar.gz#sha256=dc3fc91508e49e0fd2f8625f0132d16e49c80f882e7e1d565c56b0d5dfbae257 (from https://pypi.org/simple/futures/). Command errored out with exit status 1: python setup.py egg_info Check the logs for full command output.\u001b[0m\n",
            "  Downloading futures-3.0.1.tar.gz (24 kB)\n",
            "\u001b[33mWARNING: Discarding https://files.pythonhosted.org/packages/b2/2c/6b6a57379e47031c6f52e625e0e2b8f6702a8d1f61b6e0daee391e82c187/futures-3.0.1.tar.gz#sha256=f78f2ef458639d72a625cf9c7643cf5442bb222ac11c12bcc445c6ad1cd862e2 (from https://pypi.org/simple/futures/). Command errored out with exit status 1: python setup.py egg_info Check the logs for full command output.\u001b[0m\n",
            "  Downloading futures-3.0.0.tar.gz (24 kB)\n",
            "\u001b[33mWARNING: Discarding https://files.pythonhosted.org/packages/ea/c9/35287369718fc05059e7a9d0d73c53745fe981010b4185b3858e7d46eff1/futures-3.0.0.tar.gz#sha256=d9cd7bb09aa01f0e4940af64c31fbd7045098b7b4354420d7838ea39e8b86ee3 (from https://pypi.org/simple/futures/). Command errored out with exit status 1: python setup.py egg_info Check the logs for full command output.\u001b[0m\n",
            "  Downloading futures-2.2.0-py2.py3-none-any.whl (16 kB)\n",
            "Requirement already satisfied: numpy>=1.6.1 in /usr/local/lib/python3.7/dist-packages (from polyglot==16.7.4) (1.21.6)\n",
            "Building wheels for collected packages: polyglot, pycld2, PyICU\n",
            "  Building wheel for polyglot (setup.py) ... \u001b[?25l\u001b[?25hdone\n",
            "  Created wheel for polyglot: filename=polyglot-16.7.4-py2.py3-none-any.whl size=70670 sha256=d61f0ea28c8c37610cddec86d0f9d9760d91fc183068b812ec10ad06c40cc380\n",
            "  Stored in directory: /tmp/pip-ephem-wheel-cache-rak94_q9/wheels/6d/b6/83/526ac20beb2e8b06c33aea6ac5edf6a07d3de55011bcc35ee8\n",
            "  Building wheel for pycld2 (setup.py) ... \u001b[?25l\u001b[?25hdone\n",
            "  Created wheel for pycld2: filename=pycld2-0.41-cp37-cp37m-linux_x86_64.whl size=9834169 sha256=8039e9470af58a79fd9d549839382e4ac95ac38bd858f427f1ef356f2a315366\n",
            "  Stored in directory: /root/.cache/pip/wheels/ed/e4/58/ed2e9f43c07d617cc81fe7aff0fc6e42b16c9cf6afe960b614\n",
            "  Building wheel for PyICU (PEP 517) ... \u001b[?25l\u001b[?25hdone\n",
            "  Created wheel for PyICU: filename=PyICU-2.9-cp37-cp37m-linux_x86_64.whl size=1375680 sha256=3c53b217f1f9b129a69617e75cedf841134ca40b7a30a3eed6ed0f7e24e6cb43\n",
            "  Stored in directory: /root/.cache/pip/wheels/28/88/93/6c1b06361e4cbd4e7f793fb456729f69798f9aa3fc2a791cd7\n",
            "Successfully built polyglot pycld2 PyICU\n",
            "Installing collected packages: PyICU, pycld2, morfessor, futures, polyglot\n",
            "Successfully installed PyICU-2.9 futures-2.2.0 morfessor-2.0.6 polyglot-16.7.4 pycld2-0.41\n"
          ]
        },
        {
          "output_type": "display_data",
          "data": {
            "application/vnd.colab-display-data+json": {
              "pip_warning": {
                "packages": [
                  "concurrent"
                ]
              }
            }
          },
          "metadata": {}
        },
        {
          "output_type": "stream",
          "name": "stdout",
          "text": [
            "[polyglot_data] Downloading package embeddings2.en to\n",
            "[polyglot_data]     /root/polyglot_data...\n",
            "[polyglot_data] Downloading package ner2.en to /root/polyglot_data...\n"
          ]
        }
      ]
    },
    {
      "cell_type": "code",
      "source": [
        "Text(raw_text1).entities"
      ],
      "metadata": {
        "colab": {
          "base_uri": "https://localhost:8080/"
        },
        "id": "CfJC0Vx-0beH",
        "outputId": "65b67ea2-7166-4879-ed78-ea456b212c3a"
      },
      "execution_count": null,
      "outputs": [
        {
          "output_type": "execute_result",
          "data": {
            "text/plain": [
              "[I-PER(['IWNDWYT'])]"
            ]
          },
          "metadata": {},
          "execution_count": 20
        }
      ]
    },
    {
      "cell_type": "markdown",
      "source": [
        "### 6. Flair"
      ],
      "metadata": {
        "id": "tOGDmZi21P5x"
      }
    },
    {
      "cell_type": "code",
      "source": [
        "!pip3 install flair\n",
        "!pip3 install sacremoses\n",
        "\n",
        "from flair.models import SequenceTagger\n",
        "\n",
        "model = SequenceTagger.load('ner-ontonotes-fast') #.load('ner')\n",
        "\n",
        "from flair.data import Sentence"
      ],
      "metadata": {
        "colab": {
          "base_uri": "https://localhost:8080/",
          "height": 1000,
          "referenced_widgets": [
            "1af89151a1c248e3bf2e3cdf1607ad73",
            "64446431b4b149a69151a4f29cc84798",
            "d2d5df47ac8d4c7a9417d5e302e01ca2",
            "4e8bb9305c234e22b508b0e2f2314c1f",
            "cd0dce6a6b4448dcad60d0d03762c225",
            "90d2ca6b2ff14312ad36067bbd59c56b",
            "89188d95200243499558a87b927a80d6",
            "14cb8f42bb024c799cb9a4b8d9b01657",
            "19f4858f7f95457588ac21a646e5e9a2",
            "df684fc2e6dc47058297a1868894839b",
            "ae515ad5ed09479bb93b1a939b9f38f5"
          ]
        },
        "id": "zIVZb6jr08D2",
        "outputId": "723ce9e8-67a9-4ac5-a355-0f0ba8363f4c"
      },
      "execution_count": null,
      "outputs": [
        {
          "output_type": "stream",
          "name": "stdout",
          "text": [
            "Collecting flair\n",
            "  Downloading flair-0.11.3-py3-none-any.whl (401 kB)\n",
            "\u001b[K     |████████████████████████████████| 401 kB 5.0 MB/s \n",
            "\u001b[?25hCollecting konoha<5.0.0,>=4.0.0\n",
            "  Downloading konoha-4.6.5-py3-none-any.whl (20 kB)\n",
            "Collecting huggingface-hub\n",
            "  Downloading huggingface_hub-0.6.0-py3-none-any.whl (84 kB)\n",
            "\u001b[K     |████████████████████████████████| 84 kB 1.9 MB/s \n",
            "\u001b[?25hRequirement already satisfied: lxml in /usr/local/lib/python3.7/dist-packages (from flair) (4.2.6)\n",
            "Requirement already satisfied: tabulate in /usr/local/lib/python3.7/dist-packages (from flair) (0.8.9)\n",
            "Requirement already satisfied: gdown==4.4.0 in /usr/local/lib/python3.7/dist-packages (from flair) (4.4.0)\n",
            "Requirement already satisfied: torch!=1.8,>=1.5.0 in /usr/local/lib/python3.7/dist-packages (from flair) (1.11.0+cu113)\n",
            "Requirement already satisfied: regex in /usr/local/lib/python3.7/dist-packages (from flair) (2019.12.20)\n",
            "Collecting mpld3==0.3\n",
            "  Downloading mpld3-0.3.tar.gz (788 kB)\n",
            "\u001b[K     |████████████████████████████████| 788 kB 33.1 MB/s \n",
            "\u001b[?25hRequirement already satisfied: tqdm>=4.26.0 in /usr/local/lib/python3.7/dist-packages (from flair) (4.64.0)\n",
            "Collecting sentencepiece==0.1.95\n",
            "  Downloading sentencepiece-0.1.95-cp37-cp37m-manylinux2014_x86_64.whl (1.2 MB)\n",
            "\u001b[K     |████████████████████████████████| 1.2 MB 31.5 MB/s \n",
            "\u001b[?25hCollecting wikipedia-api\n",
            "  Downloading Wikipedia-API-0.5.4.tar.gz (18 kB)\n",
            "Collecting hyperopt>=0.2.7\n",
            "  Downloading hyperopt-0.2.7-py2.py3-none-any.whl (1.6 MB)\n",
            "\u001b[K     |████████████████████████████████| 1.6 MB 43.1 MB/s \n",
            "\u001b[?25hCollecting sqlitedict>=1.6.0\n",
            "  Downloading sqlitedict-2.0.0.tar.gz (46 kB)\n",
            "\u001b[K     |████████████████████████████████| 46 kB 3.2 MB/s \n",
            "\u001b[?25hRequirement already satisfied: matplotlib>=2.2.3 in /usr/local/lib/python3.7/dist-packages (from flair) (3.2.2)\n",
            "Collecting ftfy\n",
            "  Downloading ftfy-6.1.1-py3-none-any.whl (53 kB)\n",
            "\u001b[K     |████████████████████████████████| 53 kB 1.6 MB/s \n",
            "\u001b[?25hCollecting bpemb>=0.3.2\n",
            "  Downloading bpemb-0.3.3-py3-none-any.whl (19 kB)\n",
            "Collecting transformers>=4.0.0\n",
            "  Downloading transformers-4.19.2-py3-none-any.whl (4.2 MB)\n",
            "\u001b[K     |████████████████████████████████| 4.2 MB 40.9 MB/s \n",
            "\u001b[?25hCollecting deprecated>=1.2.4\n",
            "  Downloading Deprecated-1.2.13-py2.py3-none-any.whl (9.6 kB)\n",
            "Collecting janome\n",
            "  Downloading Janome-0.4.2-py2.py3-none-any.whl (19.7 MB)\n",
            "\u001b[K     |████████████████████████████████| 19.7 MB 53.4 MB/s \n",
            "\u001b[?25hRequirement already satisfied: gensim>=3.4.0 in /usr/local/lib/python3.7/dist-packages (from flair) (3.6.0)\n",
            "Collecting pptree\n",
            "  Downloading pptree-3.1.tar.gz (3.0 kB)\n",
            "Collecting segtok>=1.5.7\n",
            "  Downloading segtok-1.5.11-py3-none-any.whl (24 kB)\n",
            "Requirement already satisfied: python-dateutil>=2.6.1 in /usr/local/lib/python3.7/dist-packages (from flair) (2.8.2)\n",
            "Collecting langdetect\n",
            "  Downloading langdetect-1.0.9.tar.gz (981 kB)\n",
            "\u001b[K     |████████████████████████████████| 981 kB 57.2 MB/s \n",
            "\u001b[?25hRequirement already satisfied: more-itertools in /usr/local/lib/python3.7/dist-packages (from flair) (8.13.0)\n",
            "Requirement already satisfied: scikit-learn>=0.21.3 in /usr/local/lib/python3.7/dist-packages (from flair) (1.0.2)\n",
            "Collecting conllu>=4.0\n",
            "  Downloading conllu-4.4.2-py2.py3-none-any.whl (15 kB)\n",
            "Requirement already satisfied: requests[socks] in /usr/local/lib/python3.7/dist-packages (from gdown==4.4.0->flair) (2.23.0)\n",
            "Requirement already satisfied: six in /usr/local/lib/python3.7/dist-packages (from gdown==4.4.0->flair) (1.15.0)\n",
            "Requirement already satisfied: beautifulsoup4 in /usr/local/lib/python3.7/dist-packages (from gdown==4.4.0->flair) (4.6.3)\n",
            "Requirement already satisfied: filelock in /usr/local/lib/python3.7/dist-packages (from gdown==4.4.0->flair) (3.7.0)\n",
            "Requirement already satisfied: numpy in /usr/local/lib/python3.7/dist-packages (from bpemb>=0.3.2->flair) (1.21.6)\n",
            "Requirement already satisfied: wrapt<2,>=1.10 in /usr/local/lib/python3.7/dist-packages (from deprecated>=1.2.4->flair) (1.14.1)\n",
            "Requirement already satisfied: smart-open>=1.2.1 in /usr/local/lib/python3.7/dist-packages (from gensim>=3.4.0->flair) (6.0.0)\n",
            "Requirement already satisfied: scipy>=0.18.1 in /usr/local/lib/python3.7/dist-packages (from gensim>=3.4.0->flair) (1.4.1)\n",
            "Requirement already satisfied: future in /usr/local/lib/python3.7/dist-packages (from hyperopt>=0.2.7->flair) (0.16.0)\n",
            "Requirement already satisfied: cloudpickle in /usr/local/lib/python3.7/dist-packages (from hyperopt>=0.2.7->flair) (1.3.0)\n",
            "Requirement already satisfied: networkx>=2.2 in /usr/local/lib/python3.7/dist-packages (from hyperopt>=0.2.7->flair) (2.6.3)\n",
            "Collecting py4j\n",
            "  Downloading py4j-0.10.9.5-py2.py3-none-any.whl (199 kB)\n",
            "\u001b[K     |████████████████████████████████| 199 kB 47.1 MB/s \n",
            "\u001b[?25hCollecting requests\n",
            "  Downloading requests-2.27.1-py2.py3-none-any.whl (63 kB)\n",
            "\u001b[K     |████████████████████████████████| 63 kB 1.6 MB/s \n",
            "\u001b[?25hCollecting overrides<4.0.0,>=3.0.0\n",
            "  Downloading overrides-3.1.0.tar.gz (11 kB)\n",
            "Collecting importlib-metadata<4.0.0,>=3.7.0\n",
            "  Downloading importlib_metadata-3.10.1-py3-none-any.whl (14 kB)\n",
            "Requirement already satisfied: zipp>=0.5 in /usr/local/lib/python3.7/dist-packages (from importlib-metadata<4.0.0,>=3.7.0->konoha<5.0.0,>=4.0.0->flair) (3.8.0)\n",
            "Requirement already satisfied: typing-extensions>=3.6.4 in /usr/local/lib/python3.7/dist-packages (from importlib-metadata<4.0.0,>=3.7.0->konoha<5.0.0,>=4.0.0->flair) (4.2.0)\n",
            "Requirement already satisfied: cycler>=0.10 in /usr/local/lib/python3.7/dist-packages (from matplotlib>=2.2.3->flair) (0.11.0)\n",
            "Requirement already satisfied: kiwisolver>=1.0.1 in /usr/local/lib/python3.7/dist-packages (from matplotlib>=2.2.3->flair) (1.4.2)\n",
            "Requirement already satisfied: pyparsing!=2.0.4,!=2.1.2,!=2.1.6,>=2.0.1 in /usr/local/lib/python3.7/dist-packages (from matplotlib>=2.2.3->flair) (3.0.9)\n",
            "Requirement already satisfied: certifi>=2017.4.17 in /usr/local/lib/python3.7/dist-packages (from requests->bpemb>=0.3.2->flair) (2021.10.8)\n",
            "Requirement already satisfied: charset-normalizer~=2.0.0 in /usr/local/lib/python3.7/dist-packages (from requests->bpemb>=0.3.2->flair) (2.0.12)\n",
            "Requirement already satisfied: idna<4,>=2.5 in /usr/local/lib/python3.7/dist-packages (from requests->bpemb>=0.3.2->flair) (2.10)\n",
            "Requirement already satisfied: urllib3<1.27,>=1.21.1 in /usr/local/lib/python3.7/dist-packages (from requests->bpemb>=0.3.2->flair) (1.24.3)\n",
            "Requirement already satisfied: threadpoolctl>=2.0.0 in /usr/local/lib/python3.7/dist-packages (from scikit-learn>=0.21.3->flair) (3.1.0)\n",
            "Requirement already satisfied: joblib>=0.11 in /usr/local/lib/python3.7/dist-packages (from scikit-learn>=0.21.3->flair) (1.1.0)\n",
            "Requirement already satisfied: packaging>=20.0 in /usr/local/lib/python3.7/dist-packages (from transformers>=4.0.0->flair) (21.3)\n",
            "Collecting tokenizers!=0.11.3,<0.13,>=0.11.1\n",
            "  Downloading tokenizers-0.12.1-cp37-cp37m-manylinux_2_12_x86_64.manylinux2010_x86_64.whl (6.6 MB)\n",
            "\u001b[K     |████████████████████████████████| 6.6 MB 42.8 MB/s \n",
            "\u001b[?25hCollecting pyyaml>=5.1\n",
            "  Downloading PyYAML-6.0-cp37-cp37m-manylinux_2_5_x86_64.manylinux1_x86_64.manylinux_2_12_x86_64.manylinux2010_x86_64.whl (596 kB)\n",
            "\u001b[K     |████████████████████████████████| 596 kB 37.7 MB/s \n",
            "\u001b[?25hRequirement already satisfied: wcwidth>=0.2.5 in /usr/local/lib/python3.7/dist-packages (from ftfy->flair) (0.2.5)\n",
            "Requirement already satisfied: PySocks!=1.5.7,>=1.5.6 in /usr/local/lib/python3.7/dist-packages (from requests->bpemb>=0.3.2->flair) (1.7.1)\n",
            "Building wheels for collected packages: mpld3, overrides, sqlitedict, langdetect, pptree, wikipedia-api\n",
            "  Building wheel for mpld3 (setup.py) ... \u001b[?25l\u001b[?25hdone\n",
            "  Created wheel for mpld3: filename=mpld3-0.3-py3-none-any.whl size=116702 sha256=0b35d53fb1d892e9e8a4feacdff463c3e045e450b034a8e6f7f34ca4fd845dc3\n",
            "  Stored in directory: /root/.cache/pip/wheels/26/70/6a/1c79e59951a41b4045497da187b2724f5659ca64033cf4548e\n",
            "  Building wheel for overrides (setup.py) ... \u001b[?25l\u001b[?25hdone\n",
            "  Created wheel for overrides: filename=overrides-3.1.0-py3-none-any.whl size=10187 sha256=0bdca84c5af9e485b9a0a521c383c0fa6ea9aa06ba9caf0cea7be6df8a5eabd4\n",
            "  Stored in directory: /root/.cache/pip/wheels/3a/0d/38/01a9bc6e20dcfaf0a6a7b552d03137558ba1c38aea47644682\n",
            "  Building wheel for sqlitedict (setup.py) ... \u001b[?25l\u001b[?25hdone\n",
            "  Created wheel for sqlitedict: filename=sqlitedict-2.0.0-py3-none-any.whl size=15736 sha256=42313e9366d2db36ed7bfc5e9d8b28c433f61553433c18a40bccdb2ba599c3a3\n",
            "  Stored in directory: /root/.cache/pip/wheels/96/dd/2e/0ed4a25cb73fc30c7ea8d10b50acb7226175736067e40a7ea3\n",
            "  Building wheel for langdetect (setup.py) ... \u001b[?25l\u001b[?25hdone\n",
            "  Created wheel for langdetect: filename=langdetect-1.0.9-py3-none-any.whl size=993242 sha256=c2f15e560471b6867556800ab6382a7c159faad5ee8dcf3da66db3f5ca478fb3\n",
            "  Stored in directory: /root/.cache/pip/wheels/c5/96/8a/f90c59ed25d75e50a8c10a1b1c2d4c402e4dacfa87f3aff36a\n",
            "  Building wheel for pptree (setup.py) ... \u001b[?25l\u001b[?25hdone\n",
            "  Created wheel for pptree: filename=pptree-3.1-py3-none-any.whl size=4629 sha256=1fec751c02c6c585721f873da8bd970f11946655ae77fff731e0ca8795004c6d\n",
            "  Stored in directory: /root/.cache/pip/wheels/9e/e8/7d/a9c3c19b4722608a0d8b05a38c36bc3f230c43becd2a46794b\n",
            "  Building wheel for wikipedia-api (setup.py) ... \u001b[?25l\u001b[?25hdone\n",
            "  Created wheel for wikipedia-api: filename=Wikipedia_API-0.5.4-py3-none-any.whl size=13477 sha256=eee2776e135cc9e112f87169e5f4f875c22cdb449873a0db1e4ce9bea46c7c81\n",
            "  Stored in directory: /root/.cache/pip/wheels/d3/24/56/58ba93cf78be162451144e7a9889603f437976ef1ae7013d04\n",
            "Successfully built mpld3 overrides sqlitedict langdetect pptree wikipedia-api\n",
            "Installing collected packages: requests, pyyaml, importlib-metadata, tokenizers, sentencepiece, py4j, overrides, huggingface-hub, wikipedia-api, transformers, sqlitedict, segtok, pptree, mpld3, langdetect, konoha, janome, hyperopt, ftfy, deprecated, conllu, bpemb, flair\n",
            "  Attempting uninstall: requests\n",
            "    Found existing installation: requests 2.23.0\n",
            "    Uninstalling requests-2.23.0:\n",
            "      Successfully uninstalled requests-2.23.0\n",
            "  Attempting uninstall: pyyaml\n",
            "    Found existing installation: PyYAML 3.13\n",
            "    Uninstalling PyYAML-3.13:\n",
            "      Successfully uninstalled PyYAML-3.13\n",
            "  Attempting uninstall: importlib-metadata\n",
            "    Found existing installation: importlib-metadata 4.11.3\n",
            "    Uninstalling importlib-metadata-4.11.3:\n",
            "      Successfully uninstalled importlib-metadata-4.11.3\n",
            "  Attempting uninstall: hyperopt\n",
            "    Found existing installation: hyperopt 0.1.2\n",
            "    Uninstalling hyperopt-0.1.2:\n",
            "      Successfully uninstalled hyperopt-0.1.2\n",
            "\u001b[31mERROR: pip's dependency resolver does not currently take into account all the packages that are installed. This behaviour is the source of the following dependency conflicts.\n",
            "markdown 3.3.7 requires importlib-metadata>=4.4; python_version < \"3.10\", but you have importlib-metadata 3.10.1 which is incompatible.\n",
            "google-colab 1.0.0 requires requests~=2.23.0, but you have requests 2.27.1 which is incompatible.\n",
            "datascience 0.10.6 requires folium==0.2.1, but you have folium 0.8.3 which is incompatible.\u001b[0m\n",
            "Successfully installed bpemb-0.3.3 conllu-4.4.2 deprecated-1.2.13 flair-0.11.3 ftfy-6.1.1 huggingface-hub-0.6.0 hyperopt-0.2.7 importlib-metadata-3.10.1 janome-0.4.2 konoha-4.6.5 langdetect-1.0.9 mpld3-0.3 overrides-3.1.0 pptree-3.1 py4j-0.10.9.5 pyyaml-6.0 requests-2.27.1 segtok-1.5.11 sentencepiece-0.1.95 sqlitedict-2.0.0 tokenizers-0.12.1 transformers-4.19.2 wikipedia-api-0.5.4\n"
          ]
        },
        {
          "output_type": "display_data",
          "data": {
            "application/vnd.colab-display-data+json": {
              "pip_warning": {
                "packages": [
                  "importlib_metadata",
                  "requests"
                ]
              }
            }
          },
          "metadata": {}
        },
        {
          "output_type": "stream",
          "name": "stdout",
          "text": [
            "Collecting sacremoses\n",
            "  Downloading sacremoses-0.0.53.tar.gz (880 kB)\n",
            "\u001b[?25l\r\u001b[K     |▍                               | 10 kB 14.0 MB/s eta 0:00:01\r\u001b[K     |▊                               | 20 kB 16.5 MB/s eta 0:00:01\r\u001b[K     |█▏                              | 30 kB 13.9 MB/s eta 0:00:01\r\u001b[K     |█▌                              | 40 kB 10.8 MB/s eta 0:00:01\r\u001b[K     |█▉                              | 51 kB 4.4 MB/s eta 0:00:01\r\u001b[K     |██▎                             | 61 kB 5.1 MB/s eta 0:00:01\r\u001b[K     |██▋                             | 71 kB 5.6 MB/s eta 0:00:01\r\u001b[K     |███                             | 81 kB 4.5 MB/s eta 0:00:01\r\u001b[K     |███▍                            | 92 kB 4.9 MB/s eta 0:00:01\r\u001b[K     |███▊                            | 102 kB 5.4 MB/s eta 0:00:01\r\u001b[K     |████                            | 112 kB 5.4 MB/s eta 0:00:01\r\u001b[K     |████▌                           | 122 kB 5.4 MB/s eta 0:00:01\r\u001b[K     |████▉                           | 133 kB 5.4 MB/s eta 0:00:01\r\u001b[K     |█████▏                          | 143 kB 5.4 MB/s eta 0:00:01\r\u001b[K     |█████▋                          | 153 kB 5.4 MB/s eta 0:00:01\r\u001b[K     |██████                          | 163 kB 5.4 MB/s eta 0:00:01\r\u001b[K     |██████▎                         | 174 kB 5.4 MB/s eta 0:00:01\r\u001b[K     |██████▊                         | 184 kB 5.4 MB/s eta 0:00:01\r\u001b[K     |███████                         | 194 kB 5.4 MB/s eta 0:00:01\r\u001b[K     |███████▍                        | 204 kB 5.4 MB/s eta 0:00:01\r\u001b[K     |███████▉                        | 215 kB 5.4 MB/s eta 0:00:01\r\u001b[K     |████████▏                       | 225 kB 5.4 MB/s eta 0:00:01\r\u001b[K     |████████▋                       | 235 kB 5.4 MB/s eta 0:00:01\r\u001b[K     |█████████                       | 245 kB 5.4 MB/s eta 0:00:01\r\u001b[K     |█████████▎                      | 256 kB 5.4 MB/s eta 0:00:01\r\u001b[K     |█████████▊                      | 266 kB 5.4 MB/s eta 0:00:01\r\u001b[K     |██████████                      | 276 kB 5.4 MB/s eta 0:00:01\r\u001b[K     |██████████▍                     | 286 kB 5.4 MB/s eta 0:00:01\r\u001b[K     |██████████▉                     | 296 kB 5.4 MB/s eta 0:00:01\r\u001b[K     |███████████▏                    | 307 kB 5.4 MB/s eta 0:00:01\r\u001b[K     |███████████▌                    | 317 kB 5.4 MB/s eta 0:00:01\r\u001b[K     |████████████                    | 327 kB 5.4 MB/s eta 0:00:01\r\u001b[K     |████████████▎                   | 337 kB 5.4 MB/s eta 0:00:01\r\u001b[K     |████████████▋                   | 348 kB 5.4 MB/s eta 0:00:01\r\u001b[K     |█████████████                   | 358 kB 5.4 MB/s eta 0:00:01\r\u001b[K     |█████████████▍                  | 368 kB 5.4 MB/s eta 0:00:01\r\u001b[K     |█████████████▊                  | 378 kB 5.4 MB/s eta 0:00:01\r\u001b[K     |██████████████▏                 | 389 kB 5.4 MB/s eta 0:00:01\r\u001b[K     |██████████████▌                 | 399 kB 5.4 MB/s eta 0:00:01\r\u001b[K     |██████████████▉                 | 409 kB 5.4 MB/s eta 0:00:01\r\u001b[K     |███████████████▎                | 419 kB 5.4 MB/s eta 0:00:01\r\u001b[K     |███████████████▋                | 430 kB 5.4 MB/s eta 0:00:01\r\u001b[K     |████████████████                | 440 kB 5.4 MB/s eta 0:00:01\r\u001b[K     |████████████████▍               | 450 kB 5.4 MB/s eta 0:00:01\r\u001b[K     |████████████████▊               | 460 kB 5.4 MB/s eta 0:00:01\r\u001b[K     |█████████████████▏              | 471 kB 5.4 MB/s eta 0:00:01\r\u001b[K     |█████████████████▌              | 481 kB 5.4 MB/s eta 0:00:01\r\u001b[K     |█████████████████▉              | 491 kB 5.4 MB/s eta 0:00:01\r\u001b[K     |██████████████████▎             | 501 kB 5.4 MB/s eta 0:00:01\r\u001b[K     |██████████████████▋             | 512 kB 5.4 MB/s eta 0:00:01\r\u001b[K     |███████████████████             | 522 kB 5.4 MB/s eta 0:00:01\r\u001b[K     |███████████████████▍            | 532 kB 5.4 MB/s eta 0:00:01\r\u001b[K     |███████████████████▊            | 542 kB 5.4 MB/s eta 0:00:01\r\u001b[K     |████████████████████            | 552 kB 5.4 MB/s eta 0:00:01\r\u001b[K     |████████████████████▌           | 563 kB 5.4 MB/s eta 0:00:01\r\u001b[K     |████████████████████▉           | 573 kB 5.4 MB/s eta 0:00:01\r\u001b[K     |█████████████████████▏          | 583 kB 5.4 MB/s eta 0:00:01\r\u001b[K     |█████████████████████▋          | 593 kB 5.4 MB/s eta 0:00:01\r\u001b[K     |██████████████████████          | 604 kB 5.4 MB/s eta 0:00:01\r\u001b[K     |██████████████████████▎         | 614 kB 5.4 MB/s eta 0:00:01\r\u001b[K     |██████████████████████▊         | 624 kB 5.4 MB/s eta 0:00:01\r\u001b[K     |███████████████████████         | 634 kB 5.4 MB/s eta 0:00:01\r\u001b[K     |███████████████████████▍        | 645 kB 5.4 MB/s eta 0:00:01\r\u001b[K     |███████████████████████▉        | 655 kB 5.4 MB/s eta 0:00:01\r\u001b[K     |████████████████████████▏       | 665 kB 5.4 MB/s eta 0:00:01\r\u001b[K     |████████████████████████▋       | 675 kB 5.4 MB/s eta 0:00:01\r\u001b[K     |█████████████████████████       | 686 kB 5.4 MB/s eta 0:00:01\r\u001b[K     |█████████████████████████▎      | 696 kB 5.4 MB/s eta 0:00:01\r\u001b[K     |█████████████████████████▊      | 706 kB 5.4 MB/s eta 0:00:01\r\u001b[K     |██████████████████████████      | 716 kB 5.4 MB/s eta 0:00:01\r\u001b[K     |██████████████████████████▍     | 727 kB 5.4 MB/s eta 0:00:01\r\u001b[K     |██████████████████████████▉     | 737 kB 5.4 MB/s eta 0:00:01\r\u001b[K     |███████████████████████████▏    | 747 kB 5.4 MB/s eta 0:00:01\r\u001b[K     |███████████████████████████▌    | 757 kB 5.4 MB/s eta 0:00:01\r\u001b[K     |████████████████████████████    | 768 kB 5.4 MB/s eta 0:00:01\r\u001b[K     |████████████████████████████▎   | 778 kB 5.4 MB/s eta 0:00:01\r\u001b[K     |████████████████████████████▋   | 788 kB 5.4 MB/s eta 0:00:01\r\u001b[K     |█████████████████████████████   | 798 kB 5.4 MB/s eta 0:00:01\r\u001b[K     |█████████████████████████████▍  | 808 kB 5.4 MB/s eta 0:00:01\r\u001b[K     |█████████████████████████████▊  | 819 kB 5.4 MB/s eta 0:00:01\r\u001b[K     |██████████████████████████████▏ | 829 kB 5.4 MB/s eta 0:00:01\r\u001b[K     |██████████████████████████████▌ | 839 kB 5.4 MB/s eta 0:00:01\r\u001b[K     |██████████████████████████████▉ | 849 kB 5.4 MB/s eta 0:00:01\r\u001b[K     |███████████████████████████████▎| 860 kB 5.4 MB/s eta 0:00:01\r\u001b[K     |███████████████████████████████▋| 870 kB 5.4 MB/s eta 0:00:01\r\u001b[K     |████████████████████████████████| 880 kB 5.4 MB/s \n",
            "\u001b[?25hRequirement already satisfied: regex in /usr/local/lib/python3.7/dist-packages (from sacremoses) (2019.12.20)\n",
            "Requirement already satisfied: six in /usr/local/lib/python3.7/dist-packages (from sacremoses) (1.15.0)\n",
            "Requirement already satisfied: click in /usr/local/lib/python3.7/dist-packages (from sacremoses) (7.1.2)\n",
            "Requirement already satisfied: joblib in /usr/local/lib/python3.7/dist-packages (from sacremoses) (1.1.0)\n",
            "Requirement already satisfied: tqdm in /usr/local/lib/python3.7/dist-packages (from sacremoses) (4.64.0)\n",
            "Building wheels for collected packages: sacremoses\n",
            "  Building wheel for sacremoses (setup.py) ... \u001b[?25l\u001b[?25hdone\n",
            "  Created wheel for sacremoses: filename=sacremoses-0.0.53-py3-none-any.whl size=895260 sha256=536f10a5523488be7640be1c9f3bad60a2a059140c9a4373ffe3a232aaac1e65\n",
            "  Stored in directory: /root/.cache/pip/wheels/87/39/dd/a83eeef36d0bf98e7a4d1933a4ad2d660295a40613079bafc9\n",
            "Successfully built sacremoses\n",
            "Installing collected packages: sacremoses\n",
            "Successfully installed sacremoses-0.0.53\n"
          ]
        },
        {
          "output_type": "display_data",
          "data": {
            "text/plain": [
              "Downloading:   0%|          | 0.00/1.33G [00:00<?, ?B/s]"
            ],
            "application/vnd.jupyter.widget-view+json": {
              "version_major": 2,
              "version_minor": 0,
              "model_id": "1af89151a1c248e3bf2e3cdf1607ad73"
            }
          },
          "metadata": {}
        },
        {
          "output_type": "stream",
          "name": "stdout",
          "text": [
            "2022-05-20 18:59:46,156 loading file /root/.flair/models/ner-english-ontonotes-fast/0d55dd3b912da9cf26e003035a0c269a0e9ab222f0be1e48a3bbba3a58c0fed0.c9907cd5fde3ce84b71a4172e7ca03841cd81ab71d13eb68aa08b259f57c00b6\n",
            "2022-05-20 18:59:59,439 SequenceTagger predicts: Dictionary with 76 tags: <unk>, O, B-CARDINAL, E-CARDINAL, S-PERSON, S-CARDINAL, S-PRODUCT, B-PRODUCT, I-PRODUCT, E-PRODUCT, B-WORK_OF_ART, I-WORK_OF_ART, E-WORK_OF_ART, B-PERSON, E-PERSON, S-GPE, B-DATE, I-DATE, E-DATE, S-ORDINAL, S-LANGUAGE, I-PERSON, S-EVENT, S-DATE, B-QUANTITY, E-QUANTITY, S-TIME, B-TIME, I-TIME, E-TIME, B-GPE, E-GPE, S-ORG, I-GPE, S-NORP, B-FAC, I-FAC, E-FAC, B-NORP, E-NORP, S-PERCENT, B-ORG, E-ORG, B-LANGUAGE, E-LANGUAGE, I-CARDINAL, I-ORG, S-WORK_OF_ART, I-QUANTITY, B-MONEY\n"
          ]
        }
      ]
    },
    {
      "cell_type": "code",
      "source": [
        "s = Sentence(raw_text1)\n",
        "model.predict(s)\n",
        "s.to_dict(tag_type='ner')"
      ],
      "metadata": {
        "colab": {
          "base_uri": "https://localhost:8080/"
        },
        "id": "2EXe_mzd1WWy",
        "outputId": "48ff761e-e32e-4568-c924-28cb9ebcceeb"
      },
      "execution_count": null,
      "outputs": [
        {
          "output_type": "execute_result",
          "data": {
            "text/plain": [
              "{'ner': [{'confidence': 0.9578028917312622, 'value': 'DATE'},\n",
              "  {'confidence': 0.9192259609699249, 'value': 'DATE'},\n",
              "  {'confidence': 0.9988188147544861, 'value': 'ORDINAL'},\n",
              "  {'confidence': 0.9984812140464783, 'value': 'ORDINAL'},\n",
              "  {'confidence': 0.9679218530654907, 'value': 'ORDINAL'},\n",
              "  {'confidence': 0.7743558883666992, 'value': 'PERSON'}],\n",
              " 'text': 'Tomorrow will be two months sober and I will be going on my second date.  The first date she asked me if I drink and I said “no” without getting into to much detail about why I don’t.  She was very respectful about me being sober and she has no complaints of being with someone sober.  She is the first date I have been on sober and it was easy; I acted myself, smiled and laughed and we hit it off good.  IWNDWYT'}"
            ]
          },
          "metadata": {},
          "execution_count": 22
        }
      ]
    },
    {
      "cell_type": "markdown",
      "source": [
        "### 7. AllenNLP"
      ],
      "metadata": {
        "id": "xXc8X6Zl8r-e"
      }
    },
    {
      "cell_type": "code",
      "source": [
        "!pip3 install allennlp\n",
        "!pip3 install --upgrade google-cloud-storage\n",
        "\n",
        "from allennlp.predictors import Predictor"
      ],
      "metadata": {
        "colab": {
          "base_uri": "https://localhost:8080/",
          "height": 1000
        },
        "id": "8_8LiSYd2bfh",
        "outputId": "c118c377-0f57-4d1e-ec88-a7aca1108d92"
      },
      "execution_count": null,
      "outputs": [
        {
          "output_type": "stream",
          "name": "stdout",
          "text": [
            "Requirement already satisfied: allennlp in /usr/local/lib/python3.7/dist-packages (2.9.3)\n",
            "Requirement already satisfied: wandb<0.13.0,>=0.10.0 in /usr/local/lib/python3.7/dist-packages (from allennlp) (0.12.16)\n",
            "Requirement already satisfied: typer>=0.4.1 in /usr/local/lib/python3.7/dist-packages (from allennlp) (0.4.1)\n",
            "Requirement already satisfied: numpy in /usr/local/lib/python3.7/dist-packages (from allennlp) (1.21.6)\n",
            "Requirement already satisfied: fairscale==0.4.6 in /usr/local/lib/python3.7/dist-packages (from allennlp) (0.4.6)\n",
            "Requirement already satisfied: nltk in /usr/local/lib/python3.7/dist-packages (from allennlp) (3.2.4)\n",
            "Requirement already satisfied: jsonnet>=0.10.0 in /usr/local/lib/python3.7/dist-packages (from allennlp) (0.18.0)\n",
            "Requirement already satisfied: transformers<4.19,>=4.1 in /usr/local/lib/python3.7/dist-packages (from allennlp) (4.18.0)\n",
            "Requirement already satisfied: dill in /usr/local/lib/python3.7/dist-packages (from allennlp) (0.3.4)\n",
            "Requirement already satisfied: pytest in /usr/local/lib/python3.7/dist-packages (from allennlp) (3.6.4)\n",
            "Requirement already satisfied: sentencepiece in /usr/local/lib/python3.7/dist-packages (from allennlp) (0.1.95)\n",
            "Requirement already satisfied: scikit-learn in /usr/local/lib/python3.7/dist-packages (from allennlp) (1.0.2)\n",
            "Requirement already satisfied: huggingface-hub>=0.0.16 in /usr/local/lib/python3.7/dist-packages (from allennlp) (0.5.1)\n",
            "Requirement already satisfied: scipy in /usr/local/lib/python3.7/dist-packages (from allennlp) (1.4.1)\n",
            "Requirement already satisfied: tqdm>=4.62 in /usr/local/lib/python3.7/dist-packages (from allennlp) (4.64.0)\n",
            "Requirement already satisfied: tensorboardX>=1.2 in /usr/local/lib/python3.7/dist-packages (from allennlp) (2.5)\n",
            "Requirement already satisfied: spacy<3.3,>=2.1.0 in /usr/local/lib/python3.7/dist-packages (from allennlp) (2.2.4)\n",
            "Requirement already satisfied: termcolor==1.1.0 in /usr/local/lib/python3.7/dist-packages (from allennlp) (1.1.0)\n",
            "Requirement already satisfied: more-itertools in /usr/local/lib/python3.7/dist-packages (from allennlp) (8.13.0)\n",
            "Requirement already satisfied: h5py in /usr/local/lib/python3.7/dist-packages (from allennlp) (3.1.0)\n",
            "Requirement already satisfied: requests>=2.18 in /usr/local/lib/python3.7/dist-packages (from allennlp) (2.27.1)\n",
            "Requirement already satisfied: torchvision<0.13.0,>=0.8.1 in /usr/local/lib/python3.7/dist-packages (from allennlp) (0.12.0+cu113)\n",
            "Requirement already satisfied: filelock<3.7,>=3.3 in /usr/local/lib/python3.7/dist-packages (from allennlp) (3.6.0)\n",
            "Requirement already satisfied: torch<1.12.0,>=1.6.0 in /usr/local/lib/python3.7/dist-packages (from allennlp) (1.11.0+cu113)\n",
            "Requirement already satisfied: base58 in /usr/local/lib/python3.7/dist-packages (from allennlp) (2.1.1)\n",
            "Requirement already satisfied: cached-path<1.2.0,>=1.0.2 in /usr/local/lib/python3.7/dist-packages (from allennlp) (1.1.2)\n",
            "Requirement already satisfied: lmdb in /usr/local/lib/python3.7/dist-packages (from allennlp) (0.99)\n",
            "Requirement already satisfied: google-cloud-storage<3.0,>=1.0 in /usr/local/lib/python3.7/dist-packages (from cached-path<1.2.0,>=1.0.2->allennlp) (2.3.0)\n",
            "Requirement already satisfied: boto3<2.0,>=1.0 in /usr/local/lib/python3.7/dist-packages (from cached-path<1.2.0,>=1.0.2->allennlp) (1.23.5)\n",
            "Requirement already satisfied: jmespath<2.0.0,>=0.7.1 in /usr/local/lib/python3.7/dist-packages (from boto3<2.0,>=1.0->cached-path<1.2.0,>=1.0.2->allennlp) (1.0.0)\n",
            "Requirement already satisfied: botocore<1.27.0,>=1.26.5 in /usr/local/lib/python3.7/dist-packages (from boto3<2.0,>=1.0->cached-path<1.2.0,>=1.0.2->allennlp) (1.26.5)\n",
            "Requirement already satisfied: s3transfer<0.6.0,>=0.5.0 in /usr/local/lib/python3.7/dist-packages (from boto3<2.0,>=1.0->cached-path<1.2.0,>=1.0.2->allennlp) (0.5.2)\n",
            "Requirement already satisfied: urllib3<1.27,>=1.25.4 in /usr/local/lib/python3.7/dist-packages (from botocore<1.27.0,>=1.26.5->boto3<2.0,>=1.0->cached-path<1.2.0,>=1.0.2->allennlp) (1.26.9)\n",
            "Requirement already satisfied: python-dateutil<3.0.0,>=2.1 in /usr/local/lib/python3.7/dist-packages (from botocore<1.27.0,>=1.26.5->boto3<2.0,>=1.0->cached-path<1.2.0,>=1.0.2->allennlp) (2.8.2)\n",
            "Requirement already satisfied: google-resumable-media>=2.3.2 in /usr/local/lib/python3.7/dist-packages (from google-cloud-storage<3.0,>=1.0->cached-path<1.2.0,>=1.0.2->allennlp) (2.3.3)\n",
            "Requirement already satisfied: google-api-core!=2.0.*,!=2.1.*,!=2.2.*,!=2.3.0,<3.0.0dev,>=1.31.5 in /usr/local/lib/python3.7/dist-packages (from google-cloud-storage<3.0,>=1.0->cached-path<1.2.0,>=1.0.2->allennlp) (1.31.5)\n",
            "Requirement already satisfied: google-auth<3.0dev,>=1.25.0 in /usr/local/lib/python3.7/dist-packages (from google-cloud-storage<3.0,>=1.0->cached-path<1.2.0,>=1.0.2->allennlp) (1.35.0)\n",
            "Requirement already satisfied: protobuf in /usr/local/lib/python3.7/dist-packages (from google-cloud-storage<3.0,>=1.0->cached-path<1.2.0,>=1.0.2->allennlp) (3.17.3)\n",
            "Requirement already satisfied: google-cloud-core<3.0dev,>=2.3.0 in /usr/local/lib/python3.7/dist-packages (from google-cloud-storage<3.0,>=1.0->cached-path<1.2.0,>=1.0.2->allennlp) (2.3.0)\n",
            "Requirement already satisfied: setuptools>=40.3.0 in /usr/local/lib/python3.7/dist-packages (from google-api-core!=2.0.*,!=2.1.*,!=2.2.*,!=2.3.0,<3.0.0dev,>=1.31.5->google-cloud-storage<3.0,>=1.0->cached-path<1.2.0,>=1.0.2->allennlp) (57.4.0)\n",
            "Requirement already satisfied: packaging>=14.3 in /usr/local/lib/python3.7/dist-packages (from google-api-core!=2.0.*,!=2.1.*,!=2.2.*,!=2.3.0,<3.0.0dev,>=1.31.5->google-cloud-storage<3.0,>=1.0->cached-path<1.2.0,>=1.0.2->allennlp) (21.3)\n",
            "Requirement already satisfied: pytz in /usr/local/lib/python3.7/dist-packages (from google-api-core!=2.0.*,!=2.1.*,!=2.2.*,!=2.3.0,<3.0.0dev,>=1.31.5->google-cloud-storage<3.0,>=1.0->cached-path<1.2.0,>=1.0.2->allennlp) (2022.1)\n",
            "Requirement already satisfied: six>=1.13.0 in /usr/local/lib/python3.7/dist-packages (from google-api-core!=2.0.*,!=2.1.*,!=2.2.*,!=2.3.0,<3.0.0dev,>=1.31.5->google-cloud-storage<3.0,>=1.0->cached-path<1.2.0,>=1.0.2->allennlp) (1.15.0)\n",
            "Requirement already satisfied: googleapis-common-protos<2.0dev,>=1.6.0 in /usr/local/lib/python3.7/dist-packages (from google-api-core!=2.0.*,!=2.1.*,!=2.2.*,!=2.3.0,<3.0.0dev,>=1.31.5->google-cloud-storage<3.0,>=1.0->cached-path<1.2.0,>=1.0.2->allennlp) (1.56.1)\n",
            "Requirement already satisfied: rsa<5,>=3.1.4 in /usr/local/lib/python3.7/dist-packages (from google-auth<3.0dev,>=1.25.0->google-cloud-storage<3.0,>=1.0->cached-path<1.2.0,>=1.0.2->allennlp) (4.8)\n",
            "Requirement already satisfied: pyasn1-modules>=0.2.1 in /usr/local/lib/python3.7/dist-packages (from google-auth<3.0dev,>=1.25.0->google-cloud-storage<3.0,>=1.0->cached-path<1.2.0,>=1.0.2->allennlp) (0.2.8)\n",
            "Requirement already satisfied: cachetools<5.0,>=2.0.0 in /usr/local/lib/python3.7/dist-packages (from google-auth<3.0dev,>=1.25.0->google-cloud-storage<3.0,>=1.0->cached-path<1.2.0,>=1.0.2->allennlp) (4.2.4)\n",
            "Requirement already satisfied: google-crc32c<2.0dev,>=1.0 in /usr/local/lib/python3.7/dist-packages (from google-resumable-media>=2.3.2->google-cloud-storage<3.0,>=1.0->cached-path<1.2.0,>=1.0.2->allennlp) (1.3.0)\n",
            "Requirement already satisfied: typing-extensions>=3.7.4.3 in /usr/local/lib/python3.7/dist-packages (from huggingface-hub>=0.0.16->allennlp) (4.2.0)\n",
            "Requirement already satisfied: pyyaml in /usr/local/lib/python3.7/dist-packages (from huggingface-hub>=0.0.16->allennlp) (6.0)\n",
            "Requirement already satisfied: importlib-metadata in /usr/local/lib/python3.7/dist-packages (from huggingface-hub>=0.0.16->allennlp) (3.10.1)\n",
            "Requirement already satisfied: pyparsing!=3.0.5,>=2.0.2 in /usr/local/lib/python3.7/dist-packages (from packaging>=14.3->google-api-core!=2.0.*,!=2.1.*,!=2.2.*,!=2.3.0,<3.0.0dev,>=1.31.5->google-cloud-storage<3.0,>=1.0->cached-path<1.2.0,>=1.0.2->allennlp) (3.0.9)\n",
            "Requirement already satisfied: pyasn1<0.5.0,>=0.4.6 in /usr/local/lib/python3.7/dist-packages (from pyasn1-modules>=0.2.1->google-auth<3.0dev,>=1.25.0->google-cloud-storage<3.0,>=1.0->cached-path<1.2.0,>=1.0.2->allennlp) (0.4.8)\n",
            "Requirement already satisfied: charset-normalizer~=2.0.0 in /usr/local/lib/python3.7/dist-packages (from requests>=2.18->allennlp) (2.0.12)\n",
            "Requirement already satisfied: idna<4,>=2.5 in /usr/local/lib/python3.7/dist-packages (from requests>=2.18->allennlp) (2.10)\n",
            "Requirement already satisfied: certifi>=2017.4.17 in /usr/local/lib/python3.7/dist-packages (from requests>=2.18->allennlp) (2021.10.8)\n",
            "Requirement already satisfied: preshed<3.1.0,>=3.0.2 in /usr/local/lib/python3.7/dist-packages (from spacy<3.3,>=2.1.0->allennlp) (3.0.6)\n",
            "Requirement already satisfied: thinc==7.4.0 in /usr/local/lib/python3.7/dist-packages (from spacy<3.3,>=2.1.0->allennlp) (7.4.0)\n",
            "Requirement already satisfied: plac<1.2.0,>=0.9.6 in /usr/local/lib/python3.7/dist-packages (from spacy<3.3,>=2.1.0->allennlp) (1.1.3)\n",
            "Requirement already satisfied: wasabi<1.1.0,>=0.4.0 in /usr/local/lib/python3.7/dist-packages (from spacy<3.3,>=2.1.0->allennlp) (0.9.1)\n",
            "Requirement already satisfied: srsly<1.1.0,>=1.0.2 in /usr/local/lib/python3.7/dist-packages (from spacy<3.3,>=2.1.0->allennlp) (1.0.5)\n",
            "Requirement already satisfied: catalogue<1.1.0,>=0.0.7 in /usr/local/lib/python3.7/dist-packages (from spacy<3.3,>=2.1.0->allennlp) (1.0.0)\n",
            "Requirement already satisfied: blis<0.5.0,>=0.4.0 in /usr/local/lib/python3.7/dist-packages (from spacy<3.3,>=2.1.0->allennlp) (0.4.1)\n",
            "Requirement already satisfied: cymem<2.1.0,>=2.0.2 in /usr/local/lib/python3.7/dist-packages (from spacy<3.3,>=2.1.0->allennlp) (2.0.6)\n",
            "Requirement already satisfied: murmurhash<1.1.0,>=0.28.0 in /usr/local/lib/python3.7/dist-packages (from spacy<3.3,>=2.1.0->allennlp) (1.0.7)\n",
            "Requirement already satisfied: zipp>=0.5 in /usr/local/lib/python3.7/dist-packages (from importlib-metadata->huggingface-hub>=0.0.16->allennlp) (3.8.0)\n",
            "Requirement already satisfied: pillow!=8.3.*,>=5.3.0 in /usr/local/lib/python3.7/dist-packages (from torchvision<0.13.0,>=0.8.1->allennlp) (7.1.2)\n",
            "Requirement already satisfied: regex!=2019.12.17 in /usr/local/lib/python3.7/dist-packages (from transformers<4.19,>=4.1->allennlp) (2019.12.20)\n",
            "Requirement already satisfied: sacremoses in /usr/local/lib/python3.7/dist-packages (from transformers<4.19,>=4.1->allennlp) (0.0.53)\n",
            "Requirement already satisfied: tokenizers!=0.11.3,<0.13,>=0.11.1 in /usr/local/lib/python3.7/dist-packages (from transformers<4.19,>=4.1->allennlp) (0.12.1)\n",
            "Requirement already satisfied: click<9.0.0,>=7.1.1 in /usr/local/lib/python3.7/dist-packages (from typer>=0.4.1->allennlp) (7.1.2)\n",
            "Requirement already satisfied: sentry-sdk>=1.0.0 in /usr/local/lib/python3.7/dist-packages (from wandb<0.13.0,>=0.10.0->allennlp) (1.5.12)\n",
            "Requirement already satisfied: psutil>=5.0.0 in /usr/local/lib/python3.7/dist-packages (from wandb<0.13.0,>=0.10.0->allennlp) (5.4.8)\n",
            "Requirement already satisfied: promise<3,>=2.0 in /usr/local/lib/python3.7/dist-packages (from wandb<0.13.0,>=0.10.0->allennlp) (2.3)\n",
            "Requirement already satisfied: shortuuid>=0.5.0 in /usr/local/lib/python3.7/dist-packages (from wandb<0.13.0,>=0.10.0->allennlp) (1.0.9)\n",
            "Requirement already satisfied: pathtools in /usr/local/lib/python3.7/dist-packages (from wandb<0.13.0,>=0.10.0->allennlp) (0.1.2)\n",
            "Requirement already satisfied: docker-pycreds>=0.4.0 in /usr/local/lib/python3.7/dist-packages (from wandb<0.13.0,>=0.10.0->allennlp) (0.4.0)\n",
            "Requirement already satisfied: GitPython>=1.0.0 in /usr/local/lib/python3.7/dist-packages (from wandb<0.13.0,>=0.10.0->allennlp) (3.1.27)\n",
            "Requirement already satisfied: setproctitle in /usr/local/lib/python3.7/dist-packages (from wandb<0.13.0,>=0.10.0->allennlp) (1.2.3)\n",
            "Requirement already satisfied: gitdb<5,>=4.0.1 in /usr/local/lib/python3.7/dist-packages (from GitPython>=1.0.0->wandb<0.13.0,>=0.10.0->allennlp) (4.0.9)\n",
            "Requirement already satisfied: smmap<6,>=3.0.1 in /usr/local/lib/python3.7/dist-packages (from gitdb<5,>=4.0.1->GitPython>=1.0.0->wandb<0.13.0,>=0.10.0->allennlp) (5.0.0)\n",
            "Requirement already satisfied: cached-property in /usr/local/lib/python3.7/dist-packages (from h5py->allennlp) (1.5.2)\n",
            "Requirement already satisfied: atomicwrites>=1.0 in /usr/local/lib/python3.7/dist-packages (from pytest->allennlp) (1.4.0)\n",
            "Requirement already satisfied: pluggy<0.8,>=0.5 in /usr/local/lib/python3.7/dist-packages (from pytest->allennlp) (0.7.1)\n",
            "Requirement already satisfied: py>=1.5.0 in /usr/local/lib/python3.7/dist-packages (from pytest->allennlp) (1.11.0)\n",
            "Requirement already satisfied: attrs>=17.4.0 in /usr/local/lib/python3.7/dist-packages (from pytest->allennlp) (21.4.0)\n",
            "Requirement already satisfied: joblib in /usr/local/lib/python3.7/dist-packages (from sacremoses->transformers<4.19,>=4.1->allennlp) (1.1.0)\n",
            "Requirement already satisfied: threadpoolctl>=2.0.0 in /usr/local/lib/python3.7/dist-packages (from scikit-learn->allennlp) (3.1.0)\n",
            "Requirement already satisfied: google-cloud-storage in /usr/local/lib/python3.7/dist-packages (2.3.0)\n",
            "Requirement already satisfied: google-resumable-media>=2.3.2 in /usr/local/lib/python3.7/dist-packages (from google-cloud-storage) (2.3.3)\n",
            "Requirement already satisfied: google-api-core!=2.0.*,!=2.1.*,!=2.2.*,!=2.3.0,<3.0.0dev,>=1.31.5 in /usr/local/lib/python3.7/dist-packages (from google-cloud-storage) (1.31.5)\n",
            "Requirement already satisfied: google-cloud-core<3.0dev,>=2.3.0 in /usr/local/lib/python3.7/dist-packages (from google-cloud-storage) (2.3.0)\n",
            "Requirement already satisfied: google-auth<3.0dev,>=1.25.0 in /usr/local/lib/python3.7/dist-packages (from google-cloud-storage) (1.35.0)\n",
            "Requirement already satisfied: protobuf in /usr/local/lib/python3.7/dist-packages (from google-cloud-storage) (3.17.3)\n",
            "Requirement already satisfied: requests<3.0.0dev,>=2.18.0 in /usr/local/lib/python3.7/dist-packages (from google-cloud-storage) (2.27.1)\n",
            "Requirement already satisfied: googleapis-common-protos<2.0dev,>=1.6.0 in /usr/local/lib/python3.7/dist-packages (from google-api-core!=2.0.*,!=2.1.*,!=2.2.*,!=2.3.0,<3.0.0dev,>=1.31.5->google-cloud-storage) (1.56.1)\n",
            "Requirement already satisfied: setuptools>=40.3.0 in /usr/local/lib/python3.7/dist-packages (from google-api-core!=2.0.*,!=2.1.*,!=2.2.*,!=2.3.0,<3.0.0dev,>=1.31.5->google-cloud-storage) (57.4.0)\n",
            "Requirement already satisfied: six>=1.13.0 in /usr/local/lib/python3.7/dist-packages (from google-api-core!=2.0.*,!=2.1.*,!=2.2.*,!=2.3.0,<3.0.0dev,>=1.31.5->google-cloud-storage) (1.15.0)\n",
            "Requirement already satisfied: pytz in /usr/local/lib/python3.7/dist-packages (from google-api-core!=2.0.*,!=2.1.*,!=2.2.*,!=2.3.0,<3.0.0dev,>=1.31.5->google-cloud-storage) (2022.1)\n",
            "Requirement already satisfied: packaging>=14.3 in /usr/local/lib/python3.7/dist-packages (from google-api-core!=2.0.*,!=2.1.*,!=2.2.*,!=2.3.0,<3.0.0dev,>=1.31.5->google-cloud-storage) (21.3)\n",
            "Requirement already satisfied: cachetools<5.0,>=2.0.0 in /usr/local/lib/python3.7/dist-packages (from google-auth<3.0dev,>=1.25.0->google-cloud-storage) (4.2.4)\n",
            "Requirement already satisfied: rsa<5,>=3.1.4 in /usr/local/lib/python3.7/dist-packages (from google-auth<3.0dev,>=1.25.0->google-cloud-storage) (4.8)\n",
            "Requirement already satisfied: pyasn1-modules>=0.2.1 in /usr/local/lib/python3.7/dist-packages (from google-auth<3.0dev,>=1.25.0->google-cloud-storage) (0.2.8)\n",
            "Requirement already satisfied: google-crc32c<2.0dev,>=1.0 in /usr/local/lib/python3.7/dist-packages (from google-resumable-media>=2.3.2->google-cloud-storage) (1.3.0)\n",
            "Requirement already satisfied: pyparsing!=3.0.5,>=2.0.2 in /usr/local/lib/python3.7/dist-packages (from packaging>=14.3->google-api-core!=2.0.*,!=2.1.*,!=2.2.*,!=2.3.0,<3.0.0dev,>=1.31.5->google-cloud-storage) (3.0.9)\n",
            "Requirement already satisfied: pyasn1<0.5.0,>=0.4.6 in /usr/local/lib/python3.7/dist-packages (from pyasn1-modules>=0.2.1->google-auth<3.0dev,>=1.25.0->google-cloud-storage) (0.4.8)\n",
            "Requirement already satisfied: certifi>=2017.4.17 in /usr/local/lib/python3.7/dist-packages (from requests<3.0.0dev,>=2.18.0->google-cloud-storage) (2021.10.8)\n",
            "Requirement already satisfied: idna<4,>=2.5 in /usr/local/lib/python3.7/dist-packages (from requests<3.0.0dev,>=2.18.0->google-cloud-storage) (2.10)\n",
            "Requirement already satisfied: charset-normalizer~=2.0.0 in /usr/local/lib/python3.7/dist-packages (from requests<3.0.0dev,>=2.18.0->google-cloud-storage) (2.0.12)\n",
            "Requirement already satisfied: urllib3<1.27,>=1.21.1 in /usr/local/lib/python3.7/dist-packages (from requests<3.0.0dev,>=2.18.0->google-cloud-storage) (1.26.9)\n"
          ]
        },
        {
          "output_type": "error",
          "ename": "ImportError",
          "evalue": "ignored",
          "traceback": [
            "\u001b[0;31m---------------------------------------------------------------------------\u001b[0m",
            "\u001b[0;31mImportError\u001b[0m                               Traceback (most recent call last)",
            "\u001b[0;32m<ipython-input-26-3e1c386ffd8d>\u001b[0m in \u001b[0;36m<module>\u001b[0;34m()\u001b[0m\n\u001b[1;32m      2\u001b[0m \u001b[0mget_ipython\u001b[0m\u001b[0;34m(\u001b[0m\u001b[0;34m)\u001b[0m\u001b[0;34m.\u001b[0m\u001b[0msystem\u001b[0m\u001b[0;34m(\u001b[0m\u001b[0;34m'pip3 install --upgrade google-cloud-storage'\u001b[0m\u001b[0;34m)\u001b[0m\u001b[0;34m\u001b[0m\u001b[0;34m\u001b[0m\u001b[0m\n\u001b[1;32m      3\u001b[0m \u001b[0;34m\u001b[0m\u001b[0m\n\u001b[0;32m----> 4\u001b[0;31m \u001b[0;32mfrom\u001b[0m \u001b[0mallennlp\u001b[0m\u001b[0;34m.\u001b[0m\u001b[0mpredictors\u001b[0m \u001b[0;32mimport\u001b[0m \u001b[0mPredictor\u001b[0m\u001b[0;34m\u001b[0m\u001b[0;34m\u001b[0m\u001b[0m\n\u001b[0m",
            "\u001b[0;32m/usr/local/lib/python3.7/dist-packages/allennlp/predictors/__init__.py\u001b[0m in \u001b[0;36m<module>\u001b[0;34m()\u001b[0m\n\u001b[1;32m      7\u001b[0m \u001b[0ma\u001b[0m\u001b[0;31m \u001b[0m\u001b[0;31m`\u001b[0m\u001b[0mPredictor\u001b[0m\u001b[0;31m`\u001b[0m \u001b[0mthat\u001b[0m \u001b[0mwraps\u001b[0m \u001b[0mit\u001b[0m\u001b[0;34m.\u001b[0m\u001b[0;34m\u001b[0m\u001b[0;34m\u001b[0m\u001b[0m\n\u001b[1;32m      8\u001b[0m \"\"\"\n\u001b[0;32m----> 9\u001b[0;31m \u001b[0;32mfrom\u001b[0m \u001b[0mallennlp\u001b[0m\u001b[0;34m.\u001b[0m\u001b[0mpredictors\u001b[0m\u001b[0;34m.\u001b[0m\u001b[0mpredictor\u001b[0m \u001b[0;32mimport\u001b[0m \u001b[0mPredictor\u001b[0m\u001b[0;34m\u001b[0m\u001b[0;34m\u001b[0m\u001b[0m\n\u001b[0m\u001b[1;32m     10\u001b[0m \u001b[0;32mfrom\u001b[0m \u001b[0mallennlp\u001b[0m\u001b[0;34m.\u001b[0m\u001b[0mpredictors\u001b[0m\u001b[0;34m.\u001b[0m\u001b[0msentence_tagger\u001b[0m \u001b[0;32mimport\u001b[0m \u001b[0mSentenceTaggerPredictor\u001b[0m\u001b[0;34m\u001b[0m\u001b[0;34m\u001b[0m\u001b[0m\n\u001b[1;32m     11\u001b[0m \u001b[0;32mfrom\u001b[0m \u001b[0mallennlp\u001b[0m\u001b[0;34m.\u001b[0m\u001b[0mpredictors\u001b[0m\u001b[0;34m.\u001b[0m\u001b[0mtext_classifier\u001b[0m \u001b[0;32mimport\u001b[0m \u001b[0mTextClassifierPredictor\u001b[0m\u001b[0;34m\u001b[0m\u001b[0;34m\u001b[0m\u001b[0m\n",
            "\u001b[0;32m/usr/local/lib/python3.7/dist-packages/allennlp/predictors/predictor.py\u001b[0m in \u001b[0;36m<module>\u001b[0;34m()\u001b[0m\n\u001b[1;32m     12\u001b[0m \u001b[0;32mfrom\u001b[0m \u001b[0mtorch\u001b[0m \u001b[0;32mimport\u001b[0m \u001b[0mbackends\u001b[0m\u001b[0;34m\u001b[0m\u001b[0;34m\u001b[0m\u001b[0m\n\u001b[1;32m     13\u001b[0m \u001b[0;34m\u001b[0m\u001b[0m\n\u001b[0;32m---> 14\u001b[0;31m \u001b[0;32mfrom\u001b[0m \u001b[0mallennlp\u001b[0m\u001b[0;34m.\u001b[0m\u001b[0mcommon\u001b[0m \u001b[0;32mimport\u001b[0m \u001b[0mRegistrable\u001b[0m\u001b[0;34m,\u001b[0m \u001b[0mplugins\u001b[0m\u001b[0;34m\u001b[0m\u001b[0;34m\u001b[0m\u001b[0m\n\u001b[0m\u001b[1;32m     15\u001b[0m \u001b[0;32mfrom\u001b[0m \u001b[0mallennlp\u001b[0m\u001b[0;34m.\u001b[0m\u001b[0mcommon\u001b[0m\u001b[0;34m.\u001b[0m\u001b[0mutil\u001b[0m \u001b[0;32mimport\u001b[0m \u001b[0mJsonDict\u001b[0m\u001b[0;34m,\u001b[0m \u001b[0msanitize\u001b[0m\u001b[0;34m\u001b[0m\u001b[0;34m\u001b[0m\u001b[0m\n\u001b[1;32m     16\u001b[0m \u001b[0;32mfrom\u001b[0m \u001b[0mallennlp\u001b[0m\u001b[0;34m.\u001b[0m\u001b[0mdata\u001b[0m \u001b[0;32mimport\u001b[0m \u001b[0mDatasetReader\u001b[0m\u001b[0;34m,\u001b[0m \u001b[0mInstance\u001b[0m\u001b[0;34m\u001b[0m\u001b[0;34m\u001b[0m\u001b[0m\n",
            "\u001b[0;32m/usr/local/lib/python3.7/dist-packages/allennlp/common/__init__.py\u001b[0m in \u001b[0;36m<module>\u001b[0;34m()\u001b[0m\n\u001b[0;32m----> 1\u001b[0;31m \u001b[0;32mfrom\u001b[0m \u001b[0mallennlp\u001b[0m\u001b[0;34m.\u001b[0m\u001b[0mcommon\u001b[0m\u001b[0;34m.\u001b[0m\u001b[0mfrom_params\u001b[0m \u001b[0;32mimport\u001b[0m \u001b[0mFromParams\u001b[0m\u001b[0;34m\u001b[0m\u001b[0;34m\u001b[0m\u001b[0m\n\u001b[0m\u001b[1;32m      2\u001b[0m \u001b[0;32mfrom\u001b[0m \u001b[0mallennlp\u001b[0m\u001b[0;34m.\u001b[0m\u001b[0mcommon\u001b[0m\u001b[0;34m.\u001b[0m\u001b[0mlazy\u001b[0m \u001b[0;32mimport\u001b[0m \u001b[0mLazy\u001b[0m\u001b[0;34m\u001b[0m\u001b[0;34m\u001b[0m\u001b[0m\n\u001b[1;32m      3\u001b[0m \u001b[0;32mfrom\u001b[0m \u001b[0mallennlp\u001b[0m\u001b[0;34m.\u001b[0m\u001b[0mcommon\u001b[0m\u001b[0;34m.\u001b[0m\u001b[0mparams\u001b[0m \u001b[0;32mimport\u001b[0m \u001b[0mParams\u001b[0m\u001b[0;34m\u001b[0m\u001b[0;34m\u001b[0m\u001b[0m\n\u001b[1;32m      4\u001b[0m \u001b[0;32mfrom\u001b[0m \u001b[0mallennlp\u001b[0m\u001b[0;34m.\u001b[0m\u001b[0mcommon\u001b[0m\u001b[0;34m.\u001b[0m\u001b[0mregistrable\u001b[0m \u001b[0;32mimport\u001b[0m \u001b[0mRegistrable\u001b[0m\u001b[0;34m\u001b[0m\u001b[0;34m\u001b[0m\u001b[0m\n\u001b[1;32m      5\u001b[0m \u001b[0;32mfrom\u001b[0m \u001b[0mallennlp\u001b[0m\u001b[0;34m.\u001b[0m\u001b[0mcommon\u001b[0m\u001b[0;34m.\u001b[0m\u001b[0mtqdm\u001b[0m \u001b[0;32mimport\u001b[0m \u001b[0mTqdm\u001b[0m\u001b[0;34m\u001b[0m\u001b[0;34m\u001b[0m\u001b[0m\n",
            "\u001b[0;32m/usr/local/lib/python3.7/dist-packages/allennlp/common/from_params.py\u001b[0m in \u001b[0;36m<module>\u001b[0;34m()\u001b[0m\n\u001b[1;32m     21\u001b[0m \u001b[0;34m\u001b[0m\u001b[0m\n\u001b[1;32m     22\u001b[0m \u001b[0;32mfrom\u001b[0m \u001b[0mallennlp\u001b[0m\u001b[0;34m.\u001b[0m\u001b[0mcommon\u001b[0m\u001b[0;34m.\u001b[0m\u001b[0mchecks\u001b[0m \u001b[0;32mimport\u001b[0m \u001b[0mConfigurationError\u001b[0m\u001b[0;34m\u001b[0m\u001b[0;34m\u001b[0m\u001b[0m\n\u001b[0;32m---> 23\u001b[0;31m \u001b[0;32mfrom\u001b[0m \u001b[0mallennlp\u001b[0m\u001b[0;34m.\u001b[0m\u001b[0mcommon\u001b[0m\u001b[0;34m.\u001b[0m\u001b[0mlazy\u001b[0m \u001b[0;32mimport\u001b[0m \u001b[0mLazy\u001b[0m\u001b[0;34m\u001b[0m\u001b[0;34m\u001b[0m\u001b[0m\n\u001b[0m\u001b[1;32m     24\u001b[0m \u001b[0;32mfrom\u001b[0m \u001b[0mallennlp\u001b[0m\u001b[0;34m.\u001b[0m\u001b[0mcommon\u001b[0m\u001b[0;34m.\u001b[0m\u001b[0mparams\u001b[0m \u001b[0;32mimport\u001b[0m \u001b[0mParams\u001b[0m\u001b[0;34m\u001b[0m\u001b[0;34m\u001b[0m\u001b[0m\n\u001b[1;32m     25\u001b[0m \u001b[0;34m\u001b[0m\u001b[0m\n",
            "\u001b[0;32m/usr/local/lib/python3.7/dist-packages/allennlp/common/lazy.py\u001b[0m in \u001b[0;36m<module>\u001b[0;34m()\u001b[0m\n\u001b[1;32m      3\u001b[0m \u001b[0;32mfrom\u001b[0m \u001b[0mtyping\u001b[0m \u001b[0;32mimport\u001b[0m \u001b[0mCallable\u001b[0m\u001b[0;34m,\u001b[0m \u001b[0mGeneric\u001b[0m\u001b[0;34m,\u001b[0m \u001b[0mTypeVar\u001b[0m\u001b[0;34m,\u001b[0m \u001b[0mType\u001b[0m\u001b[0;34m,\u001b[0m \u001b[0mUnion\u001b[0m\u001b[0;34m,\u001b[0m \u001b[0mOptional\u001b[0m\u001b[0;34m,\u001b[0m \u001b[0mDict\u001b[0m\u001b[0;34m,\u001b[0m \u001b[0mAny\u001b[0m\u001b[0;34m\u001b[0m\u001b[0;34m\u001b[0m\u001b[0m\n\u001b[1;32m      4\u001b[0m \u001b[0;34m\u001b[0m\u001b[0m\n\u001b[0;32m----> 5\u001b[0;31m \u001b[0;32mfrom\u001b[0m \u001b[0mallennlp\u001b[0m\u001b[0;34m.\u001b[0m\u001b[0mcommon\u001b[0m\u001b[0;34m.\u001b[0m\u001b[0mparams\u001b[0m \u001b[0;32mimport\u001b[0m \u001b[0mParams\u001b[0m\u001b[0;34m\u001b[0m\u001b[0;34m\u001b[0m\u001b[0m\n\u001b[0m\u001b[1;32m      6\u001b[0m \u001b[0;34m\u001b[0m\u001b[0m\n\u001b[1;32m      7\u001b[0m \u001b[0;34m\u001b[0m\u001b[0m\n",
            "\u001b[0;32m/usr/local/lib/python3.7/dist-packages/allennlp/common/params.py\u001b[0m in \u001b[0;36m<module>\u001b[0;34m()\u001b[0m\n\u001b[1;32m     31\u001b[0m \u001b[0;34m\u001b[0m\u001b[0m\n\u001b[1;32m     32\u001b[0m \u001b[0;32mfrom\u001b[0m \u001b[0mallennlp\u001b[0m\u001b[0;34m.\u001b[0m\u001b[0mcommon\u001b[0m\u001b[0;34m.\u001b[0m\u001b[0mchecks\u001b[0m \u001b[0;32mimport\u001b[0m \u001b[0mConfigurationError\u001b[0m\u001b[0;34m\u001b[0m\u001b[0;34m\u001b[0m\u001b[0m\n\u001b[0;32m---> 33\u001b[0;31m \u001b[0;32mfrom\u001b[0m \u001b[0mallennlp\u001b[0m\u001b[0;34m.\u001b[0m\u001b[0mcommon\u001b[0m\u001b[0;34m.\u001b[0m\u001b[0mfile_utils\u001b[0m \u001b[0;32mimport\u001b[0m \u001b[0mcached_path\u001b[0m\u001b[0;34m\u001b[0m\u001b[0;34m\u001b[0m\u001b[0m\n\u001b[0m\u001b[1;32m     34\u001b[0m \u001b[0;34m\u001b[0m\u001b[0m\n\u001b[1;32m     35\u001b[0m \u001b[0mlogger\u001b[0m \u001b[0;34m=\u001b[0m \u001b[0mlogging\u001b[0m\u001b[0;34m.\u001b[0m\u001b[0mgetLogger\u001b[0m\u001b[0;34m(\u001b[0m\u001b[0m__name__\u001b[0m\u001b[0;34m)\u001b[0m\u001b[0;34m\u001b[0m\u001b[0;34m\u001b[0m\u001b[0m\n",
            "\u001b[0;32m/usr/local/lib/python3.7/dist-packages/allennlp/common/file_utils.py\u001b[0m in \u001b[0;36m<module>\u001b[0;34m()\u001b[0m\n\u001b[1;32m     37\u001b[0m \u001b[0;32mimport\u001b[0m \u001b[0mwarnings\u001b[0m\u001b[0;34m\u001b[0m\u001b[0;34m\u001b[0m\u001b[0m\n\u001b[1;32m     38\u001b[0m \u001b[0;34m\u001b[0m\u001b[0m\n\u001b[0;32m---> 39\u001b[0;31m \u001b[0;32mimport\u001b[0m \u001b[0mcached_path\u001b[0m \u001b[0;32mas\u001b[0m \u001b[0m_cached_path\u001b[0m\u001b[0;34m\u001b[0m\u001b[0;34m\u001b[0m\u001b[0m\n\u001b[0m\u001b[1;32m     40\u001b[0m from cached_path import (  # noqa: F401\n\u001b[1;32m     41\u001b[0m     \u001b[0mresource_to_filename\u001b[0m \u001b[0;32mas\u001b[0m \u001b[0m_resource_to_filename\u001b[0m\u001b[0;34m,\u001b[0m\u001b[0;34m\u001b[0m\u001b[0;34m\u001b[0m\u001b[0m\n",
            "\u001b[0;32m/usr/local/lib/python3.7/dist-packages/cached_path/__init__.py\u001b[0m in \u001b[0;36m<module>\u001b[0;34m()\u001b[0m\n\u001b[1;32m     11\u001b[0m \"\"\"\n\u001b[1;32m     12\u001b[0m \u001b[0;34m\u001b[0m\u001b[0m\n\u001b[0;32m---> 13\u001b[0;31m \u001b[0;32mfrom\u001b[0m \u001b[0;34m.\u001b[0m\u001b[0m_cached_path\u001b[0m \u001b[0;32mimport\u001b[0m \u001b[0mcached_path\u001b[0m\u001b[0;34m\u001b[0m\u001b[0;34m\u001b[0m\u001b[0m\n\u001b[0m\u001b[1;32m     14\u001b[0m \u001b[0;32mfrom\u001b[0m \u001b[0;34m.\u001b[0m\u001b[0mcommon\u001b[0m \u001b[0;32mimport\u001b[0m \u001b[0mfile_friendly_logging\u001b[0m\u001b[0;34m,\u001b[0m \u001b[0mget_cache_dir\u001b[0m\u001b[0;34m,\u001b[0m \u001b[0mset_cache_dir\u001b[0m\u001b[0;34m\u001b[0m\u001b[0;34m\u001b[0m\u001b[0m\n\u001b[1;32m     15\u001b[0m \u001b[0;32mfrom\u001b[0m \u001b[0;34m.\u001b[0m\u001b[0mschemes\u001b[0m \u001b[0;32mimport\u001b[0m \u001b[0mSchemeClient\u001b[0m\u001b[0;34m,\u001b[0m \u001b[0madd_scheme_client\u001b[0m\u001b[0;34m\u001b[0m\u001b[0;34m\u001b[0m\u001b[0m\n",
            "\u001b[0;32m/usr/local/lib/python3.7/dist-packages/cached_path/_cached_path.py\u001b[0m in \u001b[0;36m<module>\u001b[0;34m()\u001b[0m\n\u001b[1;32m     13\u001b[0m \u001b[0;32mfrom\u001b[0m \u001b[0;34m.\u001b[0m\u001b[0mfile_lock\u001b[0m \u001b[0;32mimport\u001b[0m \u001b[0mFileLock\u001b[0m\u001b[0;34m\u001b[0m\u001b[0;34m\u001b[0m\u001b[0m\n\u001b[1;32m     14\u001b[0m \u001b[0;32mfrom\u001b[0m \u001b[0;34m.\u001b[0m\u001b[0mmeta\u001b[0m \u001b[0;32mimport\u001b[0m \u001b[0mMeta\u001b[0m\u001b[0;34m\u001b[0m\u001b[0;34m\u001b[0m\u001b[0m\n\u001b[0;32m---> 15\u001b[0;31m \u001b[0;32mfrom\u001b[0m \u001b[0;34m.\u001b[0m\u001b[0mschemes\u001b[0m \u001b[0;32mimport\u001b[0m \u001b[0mget_scheme_client\u001b[0m\u001b[0;34m,\u001b[0m \u001b[0mget_supported_schemes\u001b[0m\u001b[0;34m,\u001b[0m \u001b[0mhf_get_from_cache\u001b[0m\u001b[0;34m\u001b[0m\u001b[0;34m\u001b[0m\u001b[0m\n\u001b[0m\u001b[1;32m     16\u001b[0m from .util import (\n\u001b[1;32m     17\u001b[0m     \u001b[0m_lock_file_path\u001b[0m\u001b[0;34m,\u001b[0m\u001b[0;34m\u001b[0m\u001b[0;34m\u001b[0m\u001b[0m\n",
            "\u001b[0;32m/usr/local/lib/python3.7/dist-packages/cached_path/schemes/__init__.py\u001b[0m in \u001b[0;36m<module>\u001b[0;34m()\u001b[0m\n\u001b[1;32m      4\u001b[0m \u001b[0;32mfrom\u001b[0m \u001b[0mcached_path\u001b[0m\u001b[0;34m.\u001b[0m\u001b[0mschemes\u001b[0m\u001b[0;34m.\u001b[0m\u001b[0mhf\u001b[0m \u001b[0;32mimport\u001b[0m \u001b[0mhf_get_from_cache\u001b[0m\u001b[0;34m\u001b[0m\u001b[0;34m\u001b[0m\u001b[0m\n\u001b[1;32m      5\u001b[0m \u001b[0;32mfrom\u001b[0m \u001b[0mcached_path\u001b[0m\u001b[0;34m.\u001b[0m\u001b[0mschemes\u001b[0m\u001b[0;34m.\u001b[0m\u001b[0mhttp\u001b[0m \u001b[0;32mimport\u001b[0m \u001b[0mHttpClient\u001b[0m\u001b[0;34m\u001b[0m\u001b[0;34m\u001b[0m\u001b[0m\n\u001b[0;32m----> 6\u001b[0;31m \u001b[0;32mfrom\u001b[0m \u001b[0mcached_path\u001b[0m\u001b[0;34m.\u001b[0m\u001b[0mschemes\u001b[0m\u001b[0;34m.\u001b[0m\u001b[0ms3\u001b[0m \u001b[0;32mimport\u001b[0m \u001b[0mS3Client\u001b[0m\u001b[0;34m\u001b[0m\u001b[0;34m\u001b[0m\u001b[0m\n\u001b[0m\u001b[1;32m      7\u001b[0m \u001b[0;32mfrom\u001b[0m \u001b[0mcached_path\u001b[0m\u001b[0;34m.\u001b[0m\u001b[0mschemes\u001b[0m\u001b[0;34m.\u001b[0m\u001b[0mscheme_client\u001b[0m \u001b[0;32mimport\u001b[0m \u001b[0mSchemeClient\u001b[0m\u001b[0;34m\u001b[0m\u001b[0;34m\u001b[0m\u001b[0m\n\u001b[1;32m      8\u001b[0m \u001b[0;34m\u001b[0m\u001b[0m\n",
            "\u001b[0;32m/usr/local/lib/python3.7/dist-packages/cached_path/schemes/s3.py\u001b[0m in \u001b[0;36m<module>\u001b[0;34m()\u001b[0m\n\u001b[1;32m      5\u001b[0m \u001b[0;32mfrom\u001b[0m \u001b[0mtyping\u001b[0m \u001b[0;32mimport\u001b[0m \u001b[0mIO\u001b[0m\u001b[0;34m,\u001b[0m \u001b[0mOptional\u001b[0m\u001b[0;34m,\u001b[0m \u001b[0mTuple\u001b[0m\u001b[0;34m\u001b[0m\u001b[0;34m\u001b[0m\u001b[0m\n\u001b[1;32m      6\u001b[0m \u001b[0;34m\u001b[0m\u001b[0m\n\u001b[0;32m----> 7\u001b[0;31m \u001b[0;32mimport\u001b[0m \u001b[0mboto3\u001b[0m\u001b[0;34m\u001b[0m\u001b[0;34m\u001b[0m\u001b[0m\n\u001b[0m\u001b[1;32m      8\u001b[0m \u001b[0;32mimport\u001b[0m \u001b[0mbotocore\u001b[0m\u001b[0;34m\u001b[0m\u001b[0;34m\u001b[0m\u001b[0m\n\u001b[1;32m      9\u001b[0m \u001b[0;34m\u001b[0m\u001b[0m\n",
            "\u001b[0;32m/usr/local/lib/python3.7/dist-packages/boto3/__init__.py\u001b[0m in \u001b[0;36m<module>\u001b[0;34m()\u001b[0m\n\u001b[1;32m     15\u001b[0m \u001b[0;34m\u001b[0m\u001b[0m\n\u001b[1;32m     16\u001b[0m \u001b[0;32mfrom\u001b[0m \u001b[0mboto3\u001b[0m\u001b[0;34m.\u001b[0m\u001b[0mcompat\u001b[0m \u001b[0;32mimport\u001b[0m \u001b[0m_warn_deprecated_python\u001b[0m\u001b[0;34m\u001b[0m\u001b[0;34m\u001b[0m\u001b[0m\n\u001b[0;32m---> 17\u001b[0;31m \u001b[0;32mfrom\u001b[0m \u001b[0mboto3\u001b[0m\u001b[0;34m.\u001b[0m\u001b[0msession\u001b[0m \u001b[0;32mimport\u001b[0m \u001b[0mSession\u001b[0m\u001b[0;34m\u001b[0m\u001b[0;34m\u001b[0m\u001b[0m\n\u001b[0m\u001b[1;32m     18\u001b[0m \u001b[0;34m\u001b[0m\u001b[0m\n\u001b[1;32m     19\u001b[0m \u001b[0m__author__\u001b[0m \u001b[0;34m=\u001b[0m \u001b[0;34m'Amazon Web Services'\u001b[0m\u001b[0;34m\u001b[0m\u001b[0;34m\u001b[0m\u001b[0m\n",
            "\u001b[0;32m/usr/local/lib/python3.7/dist-packages/boto3/session.py\u001b[0m in \u001b[0;36m<module>\u001b[0;34m()\u001b[0m\n\u001b[1;32m     15\u001b[0m \u001b[0;32mimport\u001b[0m \u001b[0mos\u001b[0m\u001b[0;34m\u001b[0m\u001b[0;34m\u001b[0m\u001b[0m\n\u001b[1;32m     16\u001b[0m \u001b[0;34m\u001b[0m\u001b[0m\n\u001b[0;32m---> 17\u001b[0;31m \u001b[0;32mimport\u001b[0m \u001b[0mbotocore\u001b[0m\u001b[0;34m.\u001b[0m\u001b[0msession\u001b[0m\u001b[0;34m\u001b[0m\u001b[0;34m\u001b[0m\u001b[0m\n\u001b[0m\u001b[1;32m     18\u001b[0m \u001b[0;32mfrom\u001b[0m \u001b[0mbotocore\u001b[0m\u001b[0;34m.\u001b[0m\u001b[0mclient\u001b[0m \u001b[0;32mimport\u001b[0m \u001b[0mConfig\u001b[0m\u001b[0;34m\u001b[0m\u001b[0;34m\u001b[0m\u001b[0m\n\u001b[1;32m     19\u001b[0m \u001b[0;32mfrom\u001b[0m \u001b[0mbotocore\u001b[0m\u001b[0;34m.\u001b[0m\u001b[0mexceptions\u001b[0m \u001b[0;32mimport\u001b[0m \u001b[0mDataNotFoundError\u001b[0m\u001b[0;34m,\u001b[0m \u001b[0mUnknownServiceError\u001b[0m\u001b[0;34m\u001b[0m\u001b[0;34m\u001b[0m\u001b[0m\n",
            "\u001b[0;32m/usr/local/lib/python3.7/dist-packages/botocore/session.py\u001b[0m in \u001b[0;36m<module>\u001b[0;34m()\u001b[0m\n\u001b[1;32m     24\u001b[0m \u001b[0;32mimport\u001b[0m \u001b[0mwarnings\u001b[0m\u001b[0;34m\u001b[0m\u001b[0;34m\u001b[0m\u001b[0m\n\u001b[1;32m     25\u001b[0m \u001b[0;34m\u001b[0m\u001b[0m\n\u001b[0;32m---> 26\u001b[0;31m \u001b[0;32mimport\u001b[0m \u001b[0mbotocore\u001b[0m\u001b[0;34m.\u001b[0m\u001b[0mclient\u001b[0m\u001b[0;34m\u001b[0m\u001b[0;34m\u001b[0m\u001b[0m\n\u001b[0m\u001b[1;32m     27\u001b[0m \u001b[0;32mimport\u001b[0m \u001b[0mbotocore\u001b[0m\u001b[0;34m.\u001b[0m\u001b[0mconfigloader\u001b[0m\u001b[0;34m\u001b[0m\u001b[0;34m\u001b[0m\u001b[0m\n\u001b[1;32m     28\u001b[0m \u001b[0;32mimport\u001b[0m \u001b[0mbotocore\u001b[0m\u001b[0;34m.\u001b[0m\u001b[0mcredentials\u001b[0m\u001b[0;34m\u001b[0m\u001b[0;34m\u001b[0m\u001b[0m\n",
            "\u001b[0;32m/usr/local/lib/python3.7/dist-packages/botocore/client.py\u001b[0m in \u001b[0;36m<module>\u001b[0;34m()\u001b[0m\n\u001b[1;32m     13\u001b[0m \u001b[0;32mimport\u001b[0m \u001b[0mlogging\u001b[0m\u001b[0;34m\u001b[0m\u001b[0;34m\u001b[0m\u001b[0m\n\u001b[1;32m     14\u001b[0m \u001b[0;34m\u001b[0m\u001b[0m\n\u001b[0;32m---> 15\u001b[0;31m \u001b[0;32mfrom\u001b[0m \u001b[0mbotocore\u001b[0m \u001b[0;32mimport\u001b[0m \u001b[0mwaiter\u001b[0m\u001b[0;34m,\u001b[0m \u001b[0mxform_name\u001b[0m\u001b[0;34m\u001b[0m\u001b[0;34m\u001b[0m\u001b[0m\n\u001b[0m\u001b[1;32m     16\u001b[0m \u001b[0;32mfrom\u001b[0m \u001b[0mbotocore\u001b[0m\u001b[0;34m.\u001b[0m\u001b[0margs\u001b[0m \u001b[0;32mimport\u001b[0m \u001b[0mClientArgsCreator\u001b[0m\u001b[0;34m\u001b[0m\u001b[0;34m\u001b[0m\u001b[0m\n\u001b[1;32m     17\u001b[0m \u001b[0;32mfrom\u001b[0m \u001b[0mbotocore\u001b[0m\u001b[0;34m.\u001b[0m\u001b[0mauth\u001b[0m \u001b[0;32mimport\u001b[0m \u001b[0mAUTH_TYPE_MAPS\u001b[0m\u001b[0;34m\u001b[0m\u001b[0;34m\u001b[0m\u001b[0m\n",
            "\u001b[0;32m/usr/local/lib/python3.7/dist-packages/botocore/waiter.py\u001b[0m in \u001b[0;36m<module>\u001b[0;34m()\u001b[0m\n\u001b[1;32m     16\u001b[0m \u001b[0;32mimport\u001b[0m \u001b[0mjmespath\u001b[0m\u001b[0;34m\u001b[0m\u001b[0;34m\u001b[0m\u001b[0m\n\u001b[1;32m     17\u001b[0m \u001b[0;34m\u001b[0m\u001b[0m\n\u001b[0;32m---> 18\u001b[0;31m \u001b[0;32mfrom\u001b[0m \u001b[0mbotocore\u001b[0m\u001b[0;34m.\u001b[0m\u001b[0mdocs\u001b[0m\u001b[0;34m.\u001b[0m\u001b[0mdocstring\u001b[0m \u001b[0;32mimport\u001b[0m \u001b[0mWaiterDocstring\u001b[0m\u001b[0;34m\u001b[0m\u001b[0;34m\u001b[0m\u001b[0m\n\u001b[0m\u001b[1;32m     19\u001b[0m \u001b[0;32mfrom\u001b[0m \u001b[0mbotocore\u001b[0m\u001b[0;34m.\u001b[0m\u001b[0mutils\u001b[0m \u001b[0;32mimport\u001b[0m \u001b[0mget_service_module_name\u001b[0m\u001b[0;34m\u001b[0m\u001b[0;34m\u001b[0m\u001b[0m\n\u001b[1;32m     20\u001b[0m \u001b[0;34m\u001b[0m\u001b[0m\n",
            "\u001b[0;32m/usr/local/lib/python3.7/dist-packages/botocore/docs/__init__.py\u001b[0m in \u001b[0;36m<module>\u001b[0;34m()\u001b[0m\n\u001b[1;32m     13\u001b[0m \u001b[0;32mimport\u001b[0m \u001b[0mos\u001b[0m\u001b[0;34m\u001b[0m\u001b[0;34m\u001b[0m\u001b[0m\n\u001b[1;32m     14\u001b[0m \u001b[0;34m\u001b[0m\u001b[0m\n\u001b[0;32m---> 15\u001b[0;31m \u001b[0;32mfrom\u001b[0m \u001b[0mbotocore\u001b[0m\u001b[0;34m.\u001b[0m\u001b[0mdocs\u001b[0m\u001b[0;34m.\u001b[0m\u001b[0mservice\u001b[0m \u001b[0;32mimport\u001b[0m \u001b[0mServiceDocumenter\u001b[0m\u001b[0;34m\u001b[0m\u001b[0;34m\u001b[0m\u001b[0m\n\u001b[0m\u001b[1;32m     16\u001b[0m \u001b[0;34m\u001b[0m\u001b[0m\n\u001b[1;32m     17\u001b[0m \u001b[0;34m\u001b[0m\u001b[0m\n",
            "\u001b[0;32m/usr/local/lib/python3.7/dist-packages/botocore/docs/service.py\u001b[0m in \u001b[0;36m<module>\u001b[0;34m()\u001b[0m\n\u001b[1;32m     12\u001b[0m \u001b[0;31m# language governing permissions and limitations under the License.\u001b[0m\u001b[0;34m\u001b[0m\u001b[0;34m\u001b[0m\u001b[0;34m\u001b[0m\u001b[0m\n\u001b[1;32m     13\u001b[0m \u001b[0;32mfrom\u001b[0m \u001b[0mbotocore\u001b[0m\u001b[0;34m.\u001b[0m\u001b[0mdocs\u001b[0m\u001b[0;34m.\u001b[0m\u001b[0mbcdoc\u001b[0m\u001b[0;34m.\u001b[0m\u001b[0mrestdoc\u001b[0m \u001b[0;32mimport\u001b[0m \u001b[0mDocumentStructure\u001b[0m\u001b[0;34m\u001b[0m\u001b[0;34m\u001b[0m\u001b[0m\n\u001b[0;32m---> 14\u001b[0;31m \u001b[0;32mfrom\u001b[0m \u001b[0mbotocore\u001b[0m\u001b[0;34m.\u001b[0m\u001b[0mdocs\u001b[0m\u001b[0;34m.\u001b[0m\u001b[0mclient\u001b[0m \u001b[0;32mimport\u001b[0m \u001b[0mClientDocumenter\u001b[0m\u001b[0;34m,\u001b[0m \u001b[0mClientExceptionsDocumenter\u001b[0m\u001b[0;34m\u001b[0m\u001b[0;34m\u001b[0m\u001b[0m\n\u001b[0m\u001b[1;32m     15\u001b[0m \u001b[0;32mfrom\u001b[0m \u001b[0mbotocore\u001b[0m\u001b[0;34m.\u001b[0m\u001b[0mdocs\u001b[0m\u001b[0;34m.\u001b[0m\u001b[0mpaginator\u001b[0m \u001b[0;32mimport\u001b[0m \u001b[0mPaginatorDocumenter\u001b[0m\u001b[0;34m\u001b[0m\u001b[0;34m\u001b[0m\u001b[0m\n\u001b[1;32m     16\u001b[0m \u001b[0;32mfrom\u001b[0m \u001b[0mbotocore\u001b[0m\u001b[0;34m.\u001b[0m\u001b[0mdocs\u001b[0m\u001b[0;34m.\u001b[0m\u001b[0mwaiter\u001b[0m \u001b[0;32mimport\u001b[0m \u001b[0mWaiterDocumenter\u001b[0m\u001b[0;34m\u001b[0m\u001b[0;34m\u001b[0m\u001b[0m\n",
            "\u001b[0;32m/usr/local/lib/python3.7/dist-packages/botocore/docs/client.py\u001b[0m in \u001b[0;36m<module>\u001b[0;34m()\u001b[0m\n\u001b[1;32m     12\u001b[0m \u001b[0;31m# language governing permissions and limitations under the License.\u001b[0m\u001b[0;34m\u001b[0m\u001b[0;34m\u001b[0m\u001b[0;34m\u001b[0m\u001b[0m\n\u001b[1;32m     13\u001b[0m \u001b[0;32mfrom\u001b[0m \u001b[0mbotocore\u001b[0m\u001b[0;34m.\u001b[0m\u001b[0mcompat\u001b[0m \u001b[0;32mimport\u001b[0m \u001b[0mOrderedDict\u001b[0m\u001b[0;34m\u001b[0m\u001b[0;34m\u001b[0m\u001b[0m\n\u001b[0;32m---> 14\u001b[0;31m \u001b[0;32mfrom\u001b[0m \u001b[0mbotocore\u001b[0m\u001b[0;34m.\u001b[0m\u001b[0mdocs\u001b[0m\u001b[0;34m.\u001b[0m\u001b[0mexample\u001b[0m \u001b[0;32mimport\u001b[0m \u001b[0mResponseExampleDocumenter\u001b[0m\u001b[0;34m\u001b[0m\u001b[0;34m\u001b[0m\u001b[0m\n\u001b[0m\u001b[1;32m     15\u001b[0m from botocore.docs.method import (\n\u001b[1;32m     16\u001b[0m     \u001b[0mdocument_custom_method\u001b[0m\u001b[0;34m,\u001b[0m\u001b[0;34m\u001b[0m\u001b[0;34m\u001b[0m\u001b[0m\n",
            "\u001b[0;32m/usr/local/lib/python3.7/dist-packages/botocore/docs/example.py\u001b[0m in \u001b[0;36m<module>\u001b[0;34m()\u001b[0m\n\u001b[1;32m     11\u001b[0m \u001b[0;31m# ANY KIND, either express or implied. See the License for the specific\u001b[0m\u001b[0;34m\u001b[0m\u001b[0;34m\u001b[0m\u001b[0;34m\u001b[0m\u001b[0m\n\u001b[1;32m     12\u001b[0m \u001b[0;31m# language governing permissions and limitations under the License.\u001b[0m\u001b[0;34m\u001b[0m\u001b[0;34m\u001b[0m\u001b[0;34m\u001b[0m\u001b[0m\n\u001b[0;32m---> 13\u001b[0;31m \u001b[0;32mfrom\u001b[0m \u001b[0mbotocore\u001b[0m\u001b[0;34m.\u001b[0m\u001b[0mdocs\u001b[0m\u001b[0;34m.\u001b[0m\u001b[0mshape\u001b[0m \u001b[0;32mimport\u001b[0m \u001b[0mShapeDocumenter\u001b[0m\u001b[0;34m\u001b[0m\u001b[0;34m\u001b[0m\u001b[0m\n\u001b[0m\u001b[1;32m     14\u001b[0m \u001b[0;32mfrom\u001b[0m \u001b[0mbotocore\u001b[0m\u001b[0;34m.\u001b[0m\u001b[0mdocs\u001b[0m\u001b[0;34m.\u001b[0m\u001b[0mutils\u001b[0m \u001b[0;32mimport\u001b[0m \u001b[0mpy_default\u001b[0m\u001b[0;34m\u001b[0m\u001b[0;34m\u001b[0m\u001b[0m\n\u001b[1;32m     15\u001b[0m \u001b[0;34m\u001b[0m\u001b[0m\n",
            "\u001b[0;32m/usr/local/lib/python3.7/dist-packages/botocore/docs/shape.py\u001b[0m in \u001b[0;36m<module>\u001b[0;34m()\u001b[0m\n\u001b[1;32m     17\u001b[0m \u001b[0;31m# inherited from a Documenter class with the appropriate methods\u001b[0m\u001b[0;34m\u001b[0m\u001b[0;34m\u001b[0m\u001b[0;34m\u001b[0m\u001b[0m\n\u001b[1;32m     18\u001b[0m \u001b[0;31m# and attributes.\u001b[0m\u001b[0;34m\u001b[0m\u001b[0;34m\u001b[0m\u001b[0;34m\u001b[0m\u001b[0m\n\u001b[0;32m---> 19\u001b[0;31m \u001b[0;32mfrom\u001b[0m \u001b[0mbotocore\u001b[0m\u001b[0;34m.\u001b[0m\u001b[0mutils\u001b[0m \u001b[0;32mimport\u001b[0m \u001b[0mis_json_value_header\u001b[0m\u001b[0;34m\u001b[0m\u001b[0;34m\u001b[0m\u001b[0m\n\u001b[0m\u001b[1;32m     20\u001b[0m \u001b[0;34m\u001b[0m\u001b[0m\n\u001b[1;32m     21\u001b[0m \u001b[0;34m\u001b[0m\u001b[0m\n",
            "\u001b[0;32m/usr/local/lib/python3.7/dist-packages/botocore/utils.py\u001b[0m in \u001b[0;36m<module>\u001b[0;34m()\u001b[0m\n\u001b[1;32m     32\u001b[0m \u001b[0;32mimport\u001b[0m \u001b[0mbotocore\u001b[0m\u001b[0;34m\u001b[0m\u001b[0;34m\u001b[0m\u001b[0m\n\u001b[1;32m     33\u001b[0m \u001b[0;32mimport\u001b[0m \u001b[0mbotocore\u001b[0m\u001b[0;34m.\u001b[0m\u001b[0mawsrequest\u001b[0m\u001b[0;34m\u001b[0m\u001b[0;34m\u001b[0m\u001b[0m\n\u001b[0;32m---> 34\u001b[0;31m \u001b[0;32mimport\u001b[0m \u001b[0mbotocore\u001b[0m\u001b[0;34m.\u001b[0m\u001b[0mhttpsession\u001b[0m\u001b[0;34m\u001b[0m\u001b[0;34m\u001b[0m\u001b[0m\n\u001b[0m\u001b[1;32m     35\u001b[0m \u001b[0;34m\u001b[0m\u001b[0m\n\u001b[1;32m     36\u001b[0m \u001b[0;31m# IP Regexes retained for backwards compatibility\u001b[0m\u001b[0;34m\u001b[0m\u001b[0;34m\u001b[0m\u001b[0;34m\u001b[0m\u001b[0m\n",
            "\u001b[0;32m/usr/local/lib/python3.7/dist-packages/botocore/httpsession.py\u001b[0m in \u001b[0;36m<module>\u001b[0;34m()\u001b[0m\n\u001b[1;32m     19\u001b[0m \u001b[0;32mfrom\u001b[0m \u001b[0murllib3\u001b[0m\u001b[0;34m.\u001b[0m\u001b[0mexceptions\u001b[0m \u001b[0;32mimport\u001b[0m \u001b[0mSSLError\u001b[0m \u001b[0;32mas\u001b[0m \u001b[0mURLLib3SSLError\u001b[0m\u001b[0;34m\u001b[0m\u001b[0;34m\u001b[0m\u001b[0m\n\u001b[1;32m     20\u001b[0m \u001b[0;32mfrom\u001b[0m \u001b[0murllib3\u001b[0m\u001b[0;34m.\u001b[0m\u001b[0mutil\u001b[0m\u001b[0;34m.\u001b[0m\u001b[0mretry\u001b[0m \u001b[0;32mimport\u001b[0m \u001b[0mRetry\u001b[0m\u001b[0;34m\u001b[0m\u001b[0;34m\u001b[0m\u001b[0m\n\u001b[0;32m---> 21\u001b[0;31m from urllib3.util.ssl_ import (\n\u001b[0m\u001b[1;32m     22\u001b[0m     \u001b[0mDEFAULT_CIPHERS\u001b[0m\u001b[0;34m,\u001b[0m\u001b[0;34m\u001b[0m\u001b[0;34m\u001b[0m\u001b[0m\n\u001b[1;32m     23\u001b[0m     \u001b[0mOP_NO_COMPRESSION\u001b[0m\u001b[0;34m,\u001b[0m\u001b[0;34m\u001b[0m\u001b[0;34m\u001b[0m\u001b[0m\n",
            "\u001b[0;31mImportError\u001b[0m: cannot import name 'PROTOCOL_TLS' from 'urllib3.util.ssl_' (/usr/local/lib/python3.7/dist-packages/urllib3/util/ssl_.py)",
            "",
            "\u001b[0;31m---------------------------------------------------------------------------\u001b[0;32m\nNOTE: If your import is failing due to a missing package, you can\nmanually install dependencies using either !pip or !apt.\n\nTo view examples of installing some common dependencies, click the\n\"Open Examples\" button below.\n\u001b[0;31m---------------------------------------------------------------------------\u001b[0m\n"
          ],
          "errorDetails": {
            "actions": [
              {
                "action": "open_url",
                "actionText": "Open Examples",
                "url": "/notebooks/snippets/importing_libraries.ipynb"
              }
            ]
          }
        }
      ]
    },
    {
      "cell_type": "code",
      "source": [
        "al = Predictor.from_path(\"https://s3-us-west-2.amazonaws.com/allennlp/models/ner-model-2020.02.10.tar.gz\")\n",
        "al.predict(sentence=raw_text1)"
      ],
      "metadata": {
        "colab": {
          "base_uri": "https://localhost:8080/",
          "height": 190
        },
        "id": "9R35nllb831m",
        "outputId": "59b2aa1a-f0c5-4353-dad2-499f78282041"
      },
      "execution_count": null,
      "outputs": [
        {
          "output_type": "error",
          "ename": "NameError",
          "evalue": "ignored",
          "traceback": [
            "\u001b[0;31m---------------------------------------------------------------------------\u001b[0m",
            "\u001b[0;31mNameError\u001b[0m                                 Traceback (most recent call last)",
            "\u001b[0;32m<ipython-input-25-6652caa3b9c3>\u001b[0m in \u001b[0;36m<module>\u001b[0;34m()\u001b[0m\n\u001b[0;32m----> 1\u001b[0;31m \u001b[0mal\u001b[0m \u001b[0;34m=\u001b[0m \u001b[0mPredictor\u001b[0m\u001b[0;34m.\u001b[0m\u001b[0mfrom_path\u001b[0m\u001b[0;34m(\u001b[0m\u001b[0;34m\"https://s3-us-west-2.amazonaws.com/allennlp/models/ner-model-2020.02.10.tar.gz\"\u001b[0m\u001b[0;34m)\u001b[0m\u001b[0;34m\u001b[0m\u001b[0;34m\u001b[0m\u001b[0m\n\u001b[0m\u001b[1;32m      2\u001b[0m \u001b[0mal\u001b[0m\u001b[0;34m.\u001b[0m\u001b[0mpredict\u001b[0m\u001b[0;34m(\u001b[0m\u001b[0msentence\u001b[0m\u001b[0;34m=\u001b[0m\u001b[0mraw_text1\u001b[0m\u001b[0;34m)\u001b[0m\u001b[0;34m\u001b[0m\u001b[0;34m\u001b[0m\u001b[0m\n",
            "\u001b[0;31mNameError\u001b[0m: name 'Predictor' is not defined"
          ]
        }
      ]
    },
    {
      "cell_type": "markdown",
      "source": [
        "### 8. BERT Base NER"
      ],
      "metadata": {
        "id": "IldI_-sO-v75"
      }
    },
    {
      "cell_type": "code",
      "source": [
        "!pip install datasets\n",
        "!pip install tokenizers\n",
        "!pip install transformers"
      ],
      "metadata": {
        "colab": {
          "base_uri": "https://localhost:8080/"
        },
        "id": "W_zx_Xlb9nXx",
        "outputId": "e9e242e8-4d00-4740-a99a-56055cf8a39f"
      },
      "execution_count": null,
      "outputs": [
        {
          "output_type": "stream",
          "name": "stdout",
          "text": [
            "Collecting datasets\n",
            "  Downloading datasets-2.2.2-py3-none-any.whl (346 kB)\n",
            "\u001b[K     |████████████████████████████████| 346 kB 5.1 MB/s \n",
            "\u001b[?25hCollecting aiohttp\n",
            "  Downloading aiohttp-3.8.1-cp37-cp37m-manylinux_2_5_x86_64.manylinux1_x86_64.manylinux_2_12_x86_64.manylinux2010_x86_64.whl (1.1 MB)\n",
            "\u001b[K     |████████████████████████████████| 1.1 MB 45.8 MB/s \n",
            "\u001b[?25hRequirement already satisfied: importlib-metadata in /usr/local/lib/python3.7/dist-packages (from datasets) (3.10.1)\n",
            "Collecting xxhash\n",
            "  Downloading xxhash-3.0.0-cp37-cp37m-manylinux_2_17_x86_64.manylinux2014_x86_64.whl (212 kB)\n",
            "\u001b[K     |████████████████████████████████| 212 kB 41.0 MB/s \n",
            "\u001b[?25hRequirement already satisfied: multiprocess in /usr/local/lib/python3.7/dist-packages (from datasets) (0.70.12.2)\n",
            "Requirement already satisfied: huggingface-hub<1.0.0,>=0.1.0 in /usr/local/lib/python3.7/dist-packages (from datasets) (0.5.1)\n",
            "Requirement already satisfied: numpy>=1.17 in /usr/local/lib/python3.7/dist-packages (from datasets) (1.21.6)\n",
            "Requirement already satisfied: tqdm>=4.62.1 in /usr/local/lib/python3.7/dist-packages (from datasets) (4.64.0)\n",
            "Requirement already satisfied: packaging in /usr/local/lib/python3.7/dist-packages (from datasets) (21.3)\n",
            "Collecting responses<0.19\n",
            "  Downloading responses-0.18.0-py3-none-any.whl (38 kB)\n",
            "Requirement already satisfied: pyarrow>=6.0.0 in /usr/local/lib/python3.7/dist-packages (from datasets) (6.0.1)\n",
            "Requirement already satisfied: requests>=2.19.0 in /usr/local/lib/python3.7/dist-packages (from datasets) (2.27.1)\n",
            "Collecting fsspec[http]>=2021.05.0\n",
            "  Downloading fsspec-2022.5.0-py3-none-any.whl (140 kB)\n",
            "\u001b[K     |████████████████████████████████| 140 kB 51.3 MB/s \n",
            "\u001b[?25hRequirement already satisfied: dill<0.3.5 in /usr/local/lib/python3.7/dist-packages (from datasets) (0.3.4)\n",
            "Requirement already satisfied: pandas in /usr/local/lib/python3.7/dist-packages (from datasets) (1.3.5)\n",
            "Requirement already satisfied: typing-extensions>=3.7.4.3 in /usr/local/lib/python3.7/dist-packages (from huggingface-hub<1.0.0,>=0.1.0->datasets) (4.2.0)\n",
            "Requirement already satisfied: pyyaml in /usr/local/lib/python3.7/dist-packages (from huggingface-hub<1.0.0,>=0.1.0->datasets) (6.0)\n",
            "Requirement already satisfied: filelock in /usr/local/lib/python3.7/dist-packages (from huggingface-hub<1.0.0,>=0.1.0->datasets) (3.6.0)\n",
            "Requirement already satisfied: pyparsing!=3.0.5,>=2.0.2 in /usr/local/lib/python3.7/dist-packages (from packaging->datasets) (3.0.9)\n",
            "Requirement already satisfied: charset-normalizer~=2.0.0 in /usr/local/lib/python3.7/dist-packages (from requests>=2.19.0->datasets) (2.0.12)\n",
            "Requirement already satisfied: idna<4,>=2.5 in /usr/local/lib/python3.7/dist-packages (from requests>=2.19.0->datasets) (2.10)\n",
            "Requirement already satisfied: certifi>=2017.4.17 in /usr/local/lib/python3.7/dist-packages (from requests>=2.19.0->datasets) (2021.10.8)\n",
            "Requirement already satisfied: urllib3<1.27,>=1.21.1 in /usr/local/lib/python3.7/dist-packages (from requests>=2.19.0->datasets) (1.26.9)\n",
            "Requirement already satisfied: attrs>=17.3.0 in /usr/local/lib/python3.7/dist-packages (from aiohttp->datasets) (21.4.0)\n",
            "Collecting async-timeout<5.0,>=4.0.0a3\n",
            "  Downloading async_timeout-4.0.2-py3-none-any.whl (5.8 kB)\n",
            "Collecting aiosignal>=1.1.2\n",
            "  Downloading aiosignal-1.2.0-py3-none-any.whl (8.2 kB)\n",
            "Collecting yarl<2.0,>=1.0\n",
            "  Downloading yarl-1.7.2-cp37-cp37m-manylinux_2_5_x86_64.manylinux1_x86_64.manylinux_2_12_x86_64.manylinux2010_x86_64.whl (271 kB)\n",
            "\u001b[K     |████████████████████████████████| 271 kB 48.9 MB/s \n",
            "\u001b[?25hCollecting asynctest==0.13.0\n",
            "  Downloading asynctest-0.13.0-py3-none-any.whl (26 kB)\n",
            "Collecting multidict<7.0,>=4.5\n",
            "  Downloading multidict-6.0.2-cp37-cp37m-manylinux_2_17_x86_64.manylinux2014_x86_64.whl (94 kB)\n",
            "\u001b[K     |████████████████████████████████| 94 kB 3.1 MB/s \n",
            "\u001b[?25hCollecting frozenlist>=1.1.1\n",
            "  Downloading frozenlist-1.3.0-cp37-cp37m-manylinux_2_5_x86_64.manylinux1_x86_64.manylinux_2_17_x86_64.manylinux2014_x86_64.whl (144 kB)\n",
            "\u001b[K     |████████████████████████████████| 144 kB 49.2 MB/s \n",
            "\u001b[?25hRequirement already satisfied: zipp>=0.5 in /usr/local/lib/python3.7/dist-packages (from importlib-metadata->datasets) (3.8.0)\n",
            "Requirement already satisfied: pytz>=2017.3 in /usr/local/lib/python3.7/dist-packages (from pandas->datasets) (2022.1)\n",
            "Requirement already satisfied: python-dateutil>=2.7.3 in /usr/local/lib/python3.7/dist-packages (from pandas->datasets) (2.8.2)\n",
            "Requirement already satisfied: six>=1.5 in /usr/local/lib/python3.7/dist-packages (from python-dateutil>=2.7.3->pandas->datasets) (1.15.0)\n",
            "Installing collected packages: multidict, frozenlist, yarl, asynctest, async-timeout, aiosignal, fsspec, aiohttp, xxhash, responses, datasets\n",
            "Successfully installed aiohttp-3.8.1 aiosignal-1.2.0 async-timeout-4.0.2 asynctest-0.13.0 datasets-2.2.2 frozenlist-1.3.0 fsspec-2022.5.0 multidict-6.0.2 responses-0.18.0 xxhash-3.0.0 yarl-1.7.2\n",
            "Requirement already satisfied: tokenizers in /usr/local/lib/python3.7/dist-packages (0.12.1)\n",
            "Requirement already satisfied: transformers in /usr/local/lib/python3.7/dist-packages (4.18.0)\n",
            "Requirement already satisfied: filelock in /usr/local/lib/python3.7/dist-packages (from transformers) (3.6.0)\n",
            "Requirement already satisfied: sacremoses in /usr/local/lib/python3.7/dist-packages (from transformers) (0.0.53)\n",
            "Requirement already satisfied: tqdm>=4.27 in /usr/local/lib/python3.7/dist-packages (from transformers) (4.64.0)\n",
            "Requirement already satisfied: numpy>=1.17 in /usr/local/lib/python3.7/dist-packages (from transformers) (1.21.6)\n",
            "Requirement already satisfied: pyyaml>=5.1 in /usr/local/lib/python3.7/dist-packages (from transformers) (6.0)\n",
            "Requirement already satisfied: huggingface-hub<1.0,>=0.1.0 in /usr/local/lib/python3.7/dist-packages (from transformers) (0.5.1)\n",
            "Requirement already satisfied: tokenizers!=0.11.3,<0.13,>=0.11.1 in /usr/local/lib/python3.7/dist-packages (from transformers) (0.12.1)\n",
            "Requirement already satisfied: packaging>=20.0 in /usr/local/lib/python3.7/dist-packages (from transformers) (21.3)\n",
            "Requirement already satisfied: importlib-metadata in /usr/local/lib/python3.7/dist-packages (from transformers) (3.10.1)\n",
            "Requirement already satisfied: requests in /usr/local/lib/python3.7/dist-packages (from transformers) (2.27.1)\n",
            "Requirement already satisfied: regex!=2019.12.17 in /usr/local/lib/python3.7/dist-packages (from transformers) (2019.12.20)\n",
            "Requirement already satisfied: typing-extensions>=3.7.4.3 in /usr/local/lib/python3.7/dist-packages (from huggingface-hub<1.0,>=0.1.0->transformers) (4.2.0)\n",
            "Requirement already satisfied: pyparsing!=3.0.5,>=2.0.2 in /usr/local/lib/python3.7/dist-packages (from packaging>=20.0->transformers) (3.0.9)\n",
            "Requirement already satisfied: zipp>=0.5 in /usr/local/lib/python3.7/dist-packages (from importlib-metadata->transformers) (3.8.0)\n",
            "Requirement already satisfied: urllib3<1.27,>=1.21.1 in /usr/local/lib/python3.7/dist-packages (from requests->transformers) (1.26.9)\n",
            "Requirement already satisfied: idna<4,>=2.5 in /usr/local/lib/python3.7/dist-packages (from requests->transformers) (2.10)\n",
            "Requirement already satisfied: charset-normalizer~=2.0.0 in /usr/local/lib/python3.7/dist-packages (from requests->transformers) (2.0.12)\n",
            "Requirement already satisfied: certifi>=2017.4.17 in /usr/local/lib/python3.7/dist-packages (from requests->transformers) (2021.10.8)\n",
            "Requirement already satisfied: joblib in /usr/local/lib/python3.7/dist-packages (from sacremoses->transformers) (1.1.0)\n",
            "Requirement already satisfied: six in /usr/local/lib/python3.7/dist-packages (from sacremoses->transformers) (1.15.0)\n",
            "Requirement already satisfied: click in /usr/local/lib/python3.7/dist-packages (from sacremoses->transformers) (7.1.2)\n"
          ]
        }
      ]
    },
    {
      "cell_type": "code",
      "source": [
        "from transformers import AutoTokenizer, AutoModelForTokenClassification\n",
        "from transformers import pipeline\n",
        "\n",
        "tokenizer = AutoTokenizer.from_pretrained(\"dslim/bert-base-NER\")\n",
        "model = AutoModelForTokenClassification.from_pretrained(\"dslim/bert-base-NER\")\n",
        "\n",
        "nlp = pipeline(\"ner\", model=model, tokenizer=tokenizer)"
      ],
      "metadata": {
        "colab": {
          "base_uri": "https://localhost:8080/",
          "height": 209,
          "referenced_widgets": [
            "d2601b29de73415280bbf6d943441f2f",
            "12419c15cd974763ab3dc87e5f8353cb",
            "496910e10d18483db9e4b612271ee179",
            "6b64f052c01f474aa267f7f0a072c209",
            "0a3cb5483d854268a8e82959784435fe",
            "6dcde1ba680247918bef0cc026ac4001",
            "4db938acc8444260a3456e34cdc187f8",
            "b48dd3a69dc3468199333525b0276278",
            "8162b11362004c90804fecf9c4f2fc84",
            "5a76d9c9df2944998cf2d38922553a7b",
            "d0afde2d873940e38f8a3cdf0d898838",
            "4980fc7cece34eef9dbdee9ffa91671b",
            "47ab38e015974644a17cdd16ffd5f0ad",
            "c7116c662a3748a2b7c90ab77dbb1c91",
            "ce79bb6761874518b6255118f48e09c0",
            "6ea203dc62364eb99e54bb57035edf1e",
            "af4481684a63414c9693940305557db3",
            "1ed0cd940505409b986b68bb1051930f",
            "c54d300e629f4b7db8d846194f0545d7",
            "5cc5c216dc2946b2999e6770e02be142",
            "6ac0eb41d0b24a4cbbd2d867fc0fad6e",
            "02664cb0ea744991aad2a7ae5c85b7a6",
            "ad85fb8b37e044fbb153d08fb99a85c7",
            "cef40722d53743afaf4f606cc7fcfe5a",
            "d5fe0bcac36a438f8ae3f930b29190bf",
            "967fe531c40948bba78d7d0b2f7045af",
            "9f60f4de889248e9bbace4dcba44325f",
            "68f243d1fd244d80b47e3dca6a0e39d3",
            "f4cce5df31c64f4ab9f05015b2e91aed",
            "04c45a53ebbb4011b3bade1273e4072b",
            "e26f58e074cc459089f21508fed463c7",
            "b40b1dc02a3a43c1b66172308cb4154c",
            "cb51f686087d4f729958d36fe8ad793a",
            "29fc982ab0704224b1662ff66f74729e",
            "da75d986cefd42cd84fdd69054bfedf9",
            "db069e686528463893ebfca580a84c0b",
            "98f3a5d825bb484ba7b410e032972997",
            "8f63a72d78454641b8186ca20625ab39",
            "a09648e843444d43b4d62dd75b4dbe97",
            "2e3d03cf40994860adf7bb653adfe2a9",
            "6d407f214e9b4cd0be5508a47424502b",
            "7fdf2d3dc4c74b38b448d78e20e6edf9",
            "13ec17bd294f4724a690adeb88907294",
            "75220729c0f743f2baca772363668a4e",
            "7ff0ac3cd63d459f8a8656b6e9653fed",
            "c273aa2ac0d3436d968bf7d3489f6b84",
            "5b3c638f7cb94f7d8be3b9b0174b60e3",
            "315e32f2949044d8b9543fa67a90d1df",
            "048d0367c9eb4b8d920f842c2c0f034c",
            "9a3c02fa0809478788fbc600065892b6",
            "cea44bfe88c54662bafb2522fcfcc808",
            "61ef605191914b1dadedde99db181e3a",
            "c35801a2f52643adb27505bbc09aa33c",
            "96651665894043e483712cab39e720a8",
            "40c1d0d6f20c4d1d85257aced90c63ca",
            "6801ebb42c604ffa9c8f602648050b49",
            "a5c1eef11d9e4b059f2eac7fc6578e44",
            "5badefbf599349818055cbbea0f1e3c5",
            "beebdb0ac7b74f7ebc24293b1e142161",
            "b5d5fd01a1a64a53abb516c444f46c04",
            "d363acaa0d5a41cd91d7bbb2fec2902c",
            "1a1c7ff0590142e7a9f381da7de73373",
            "48c0d4b18ef74d0a96f6078d8657fe2a",
            "15ae04fb9bb84fc4b66641002908b3e5",
            "db081425124d4707adc054e21053d194",
            "e91f416106ca4fe3b6874041614f49c8"
          ]
        },
        "id": "IxzDoRCc-zdr",
        "outputId": "62ca2132-b585-4bee-9147-012a467dc2a7"
      },
      "execution_count": null,
      "outputs": [
        {
          "output_type": "display_data",
          "data": {
            "text/plain": [
              "Downloading:   0%|          | 0.00/59.0 [00:00<?, ?B/s]"
            ],
            "application/vnd.jupyter.widget-view+json": {
              "version_major": 2,
              "version_minor": 0,
              "model_id": "d2601b29de73415280bbf6d943441f2f"
            }
          },
          "metadata": {}
        },
        {
          "output_type": "display_data",
          "data": {
            "text/plain": [
              "Downloading:   0%|          | 0.00/829 [00:00<?, ?B/s]"
            ],
            "application/vnd.jupyter.widget-view+json": {
              "version_major": 2,
              "version_minor": 0,
              "model_id": "4980fc7cece34eef9dbdee9ffa91671b"
            }
          },
          "metadata": {}
        },
        {
          "output_type": "display_data",
          "data": {
            "text/plain": [
              "Downloading:   0%|          | 0.00/208k [00:00<?, ?B/s]"
            ],
            "application/vnd.jupyter.widget-view+json": {
              "version_major": 2,
              "version_minor": 0,
              "model_id": "ad85fb8b37e044fbb153d08fb99a85c7"
            }
          },
          "metadata": {}
        },
        {
          "output_type": "display_data",
          "data": {
            "text/plain": [
              "Downloading:   0%|          | 0.00/2.00 [00:00<?, ?B/s]"
            ],
            "application/vnd.jupyter.widget-view+json": {
              "version_major": 2,
              "version_minor": 0,
              "model_id": "29fc982ab0704224b1662ff66f74729e"
            }
          },
          "metadata": {}
        },
        {
          "output_type": "display_data",
          "data": {
            "text/plain": [
              "Downloading:   0%|          | 0.00/112 [00:00<?, ?B/s]"
            ],
            "application/vnd.jupyter.widget-view+json": {
              "version_major": 2,
              "version_minor": 0,
              "model_id": "7ff0ac3cd63d459f8a8656b6e9653fed"
            }
          },
          "metadata": {}
        },
        {
          "output_type": "display_data",
          "data": {
            "text/plain": [
              "Downloading:   0%|          | 0.00/413M [00:00<?, ?B/s]"
            ],
            "application/vnd.jupyter.widget-view+json": {
              "version_major": 2,
              "version_minor": 0,
              "model_id": "6801ebb42c604ffa9c8f602648050b49"
            }
          },
          "metadata": {}
        }
      ]
    },
    {
      "cell_type": "code",
      "source": [
        "ner_results = nlp( raw_text1 )\n",
        "print(ner_results)"
      ],
      "metadata": {
        "colab": {
          "base_uri": "https://localhost:8080/"
        },
        "id": "iNiAf60_-9Vh",
        "outputId": "0ccc2a54-b026-4699-9b6b-6984069404e2"
      },
      "execution_count": null,
      "outputs": [
        {
          "output_type": "stream",
          "name": "stdout",
          "text": [
            "[]\n"
          ]
        }
      ]
    },
    {
      "cell_type": "code",
      "source": [],
      "metadata": {
        "id": "An4j3LDq_GhE"
      },
      "execution_count": null,
      "outputs": []
    }
  ]
}